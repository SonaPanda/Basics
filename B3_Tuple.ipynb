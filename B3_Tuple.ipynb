{
  "nbformat": 4,
  "nbformat_minor": 0,
  "metadata": {
    "colab": {
      "name": "B3-Tuple.ipynb",
      "provenance": [],
      "collapsed_sections": []
    },
    "kernelspec": {
      "name": "python3",
      "display_name": "Python 3"
    }
  },
  "cells": [
    {
      "cell_type": "code",
      "metadata": {
        "id": "TpJtm4m7MbOa"
      },
      "source": [
        "Tuples are used to store multiple items in a single variable.\r\n",
        "\r\n",
        "Tuple is one of 4 built-in data types in Python used to store collections of data, the other 3 are List, Set, and Dictionary, all with different qualities and usage.\r\n",
        "\r\n",
        "A tuple is a collection which is ordered and unchangeable.\r\n",
        "\r\n",
        "Tuples are written with round brackets."
      ],
      "execution_count": null,
      "outputs": []
    },
    {
      "cell_type": "code",
      "metadata": {
        "colab": {
          "base_uri": "https://localhost:8080/"
        },
        "id": "GjBaw_osM1gu",
        "outputId": "a42bde6e-64a4-4d57-d176-e48400c6c9f5"
      },
      "source": [
        "#Create a Tuple:\r\n",
        "\r\n",
        "thistuple = (\"apple\", \"banana\", \"cherry\")\r\n",
        "print(thistuple)"
      ],
      "execution_count": 1,
      "outputs": [
        {
          "output_type": "stream",
          "text": [
            "('apple', 'banana', 'cherry')\n"
          ],
          "name": "stdout"
        }
      ]
    },
    {
      "cell_type": "code",
      "metadata": {
        "id": "cH-EE7rsM_tF"
      },
      "source": [
        "Tuple Items\r\n",
        "Tuple items are ordered, unchangeable, and allow duplicate values.\r\n",
        "\r\n",
        "Tuple items are indexed, the first item has index [0], the second item has index [1] etc"
      ],
      "execution_count": null,
      "outputs": []
    },
    {
      "cell_type": "code",
      "metadata": {
        "id": "XSfPpdpFNUok"
      },
      "source": [
        "Ordered\r\n",
        "When we say that tuples are ordered, it means that the items have a defined order, and that order will not change."
      ],
      "execution_count": null,
      "outputs": []
    },
    {
      "cell_type": "code",
      "metadata": {
        "id": "b59CUTdrNYXk"
      },
      "source": [
        "Unchangeable\r\n",
        "Tuples are unchangeable, meaning that we cannot change, add or remove items after the tuple has been created."
      ],
      "execution_count": null,
      "outputs": []
    },
    {
      "cell_type": "code",
      "metadata": {
        "id": "9G4lrBZ1Nf1H"
      },
      "source": [
        "Allow Duplicates\r\n",
        "Since tuple are indexed, tuples can have items with the same value"
      ],
      "execution_count": null,
      "outputs": []
    },
    {
      "cell_type": "code",
      "metadata": {
        "colab": {
          "base_uri": "https://localhost:8080/"
        },
        "id": "axB0THE_NgdH",
        "outputId": "79eab92b-e36d-4d72-e97a-9aef2e69b300"
      },
      "source": [
        "#Tuples allow duplicate values:\r\n",
        "\r\n",
        "thistuple = (\"apple\", \"banana\", \"cherry\", \"apple\", \"cherry\")\r\n",
        "print(thistuple)"
      ],
      "execution_count": 2,
      "outputs": [
        {
          "output_type": "stream",
          "text": [
            "('apple', 'banana', 'cherry', 'apple', 'cherry')\n"
          ],
          "name": "stdout"
        }
      ]
    },
    {
      "cell_type": "code",
      "metadata": {
        "colab": {
          "base_uri": "https://localhost:8080/"
        },
        "id": "iURgqwDNNlpT",
        "outputId": "5ee4d2b7-94b7-4546-e6e2-2d8b06260592"
      },
      "source": [
        "#Tuple Length\r\n",
        "#To determine how many items a tuple has, use the len() function\r\n",
        "\r\n",
        "#Print the number of items in the tuple:\r\n",
        "\r\n",
        "thistuple = (\"apple\", \"banana\", \"cherry\")\r\n",
        "print(len(thistuple))"
      ],
      "execution_count": 3,
      "outputs": [
        {
          "output_type": "stream",
          "text": [
            "3\n"
          ],
          "name": "stdout"
        }
      ]
    },
    {
      "cell_type": "code",
      "metadata": {
        "colab": {
          "base_uri": "https://localhost:8080/"
        },
        "id": "0QBOH0GzN7V3",
        "outputId": "1398080e-c85d-4e7f-8a26-c3683a20caa6"
      },
      "source": [
        "#Create Tuple With One Item\r\n",
        "#To create a tuple with only one item, you have to add a comma after the item, otherwise Python will not recognize it as a tuple.\r\n",
        "#One item tuple, remember the commma:\r\n",
        "\r\n",
        "thistuple = (\"apple\",)\r\n",
        "print(type(thistuple))\r\n",
        "\r\n",
        "#NOT a tuple\r\n",
        "thistuple = (\"apple\")\r\n",
        "print(type(thistuple))"
      ],
      "execution_count": 4,
      "outputs": [
        {
          "output_type": "stream",
          "text": [
            "<class 'tuple'>\n",
            "<class 'str'>\n"
          ],
          "name": "stdout"
        }
      ]
    },
    {
      "cell_type": "code",
      "metadata": {
        "colab": {
          "base_uri": "https://localhost:8080/"
        },
        "id": "K7QCj5j2OD0W",
        "outputId": "2b8ede68-8cee-4bca-bb83-66c5400d4620"
      },
      "source": [
        "#Tuple Items - Data Types\r\n",
        "#Tuple items can be of any data type:\r\n",
        "#String, int and boolean data types:\r\n",
        "#A tuple can contain different data types\r\n",
        "tuple1 = (\"apple\", \"banana\", \"cherry\")\r\n",
        "tuple2 = (1, 5, 7, 9, 3)\r\n",
        "tuple3 = (True, False, False)\r\n",
        "\r\n",
        "print(tuple1)\r\n",
        "print(tuple2)\r\n",
        "print(tuple3)"
      ],
      "execution_count": 5,
      "outputs": [
        {
          "output_type": "stream",
          "text": [
            "('apple', 'banana', 'cherry')\n",
            "(1, 5, 7, 9, 3)\n",
            "(True, False, False)\n"
          ],
          "name": "stdout"
        }
      ]
    },
    {
      "cell_type": "code",
      "metadata": {
        "colab": {
          "base_uri": "https://localhost:8080/"
        },
        "id": "JOOXDqFUOT6J",
        "outputId": "80ccab5a-b601-4e7b-bd61-d286ced90b24"
      },
      "source": [
        "#A tuple with strings, integers and boolean values:\r\n",
        "\r\n",
        "tuple1 = (\"abc\", 34, True, 40, \"male\")\r\n",
        "print(tuple1)"
      ],
      "execution_count": 6,
      "outputs": [
        {
          "output_type": "stream",
          "text": [
            "('abc', 34, True, 40, 'male')\n"
          ],
          "name": "stdout"
        }
      ]
    },
    {
      "cell_type": "code",
      "metadata": {
        "colab": {
          "base_uri": "https://localhost:8080/"
        },
        "id": "pm7I1dS3OaoE",
        "outputId": "cf588839-8b4b-4620-82bc-7cfdc7384876"
      },
      "source": [
        "#type()\r\n",
        "#From Python's perspective, tuples are defined as objects with the data type 'tuple':\r\n",
        "mytuple = (\"apple\", \"banana\", \"cherry\")\r\n",
        "print(type(mytuple))"
      ],
      "execution_count": 7,
      "outputs": [
        {
          "output_type": "stream",
          "text": [
            "<class 'tuple'>\n"
          ],
          "name": "stdout"
        }
      ]
    },
    {
      "cell_type": "code",
      "metadata": {
        "colab": {
          "base_uri": "https://localhost:8080/"
        },
        "id": "sSuHOTHQOnZO",
        "outputId": "e4410a8b-7d3b-4836-90d5-bbfdf10eca15"
      },
      "source": [
        "#The tuple() Constructor\r\n",
        "#It is also possible to use the tuple() constructor to make a tuple.\r\n",
        "#Using the tuple() method to make a tuple:\r\n",
        "\r\n",
        "thistuple = tuple((\"apple\", \"banana\", \"cherry\")) # note the double round-brackets\r\n",
        "print(thistuple)"
      ],
      "execution_count": 8,
      "outputs": [
        {
          "output_type": "stream",
          "text": [
            "('apple', 'banana', 'cherry')\n"
          ],
          "name": "stdout"
        }
      ]
    },
    {
      "cell_type": "code",
      "metadata": {
        "colab": {
          "base_uri": "https://localhost:8080/"
        },
        "id": "EPi_ONtcPDr9",
        "outputId": "9c1276f8-2fa4-45d8-ce58-e81c29ea92b1"
      },
      "source": [
        "#Access Tuple Items\r\n",
        "#Access Tuple Items\r\n",
        "#You can access tuple items by referring to the index number, inside square brackets\r\n",
        "\r\n",
        "#Print the second item in the tuple:\r\n",
        "\r\n",
        "thistuple = (\"apple\", \"banana\", \"cherry\")#The first item has index 0.\r\n",
        "print(thistuple[1])"
      ],
      "execution_count": 9,
      "outputs": [
        {
          "output_type": "stream",
          "text": [
            "banana\n"
          ],
          "name": "stdout"
        }
      ]
    },
    {
      "cell_type": "code",
      "metadata": {
        "colab": {
          "base_uri": "https://localhost:8080/"
        },
        "id": "5Q_cFI8ePP_e",
        "outputId": "9e2224ed-3eb9-4f15-99af-7d4dfb004c53"
      },
      "source": [
        "#Negative Indexing\r\n",
        "#Negative indexing means start from the end.\r\n",
        "\r\n",
        "#-1 refers to the last item, -2 refers to the second last item etc.\r\n",
        "\r\n",
        "#Print the last item of the tuple:\r\n",
        "\r\n",
        "thistuple = (\"apple\", \"banana\", \"cherry\")\r\n",
        "print(thistuple[-1])"
      ],
      "execution_count": 10,
      "outputs": [
        {
          "output_type": "stream",
          "text": [
            "cherry\n"
          ],
          "name": "stdout"
        }
      ]
    },
    {
      "cell_type": "code",
      "metadata": {
        "colab": {
          "base_uri": "https://localhost:8080/"
        },
        "id": "uGIhdwm4PQgj",
        "outputId": "044f573d-2311-4b1d-8705-9918b5bf4848"
      },
      "source": [
        "#Range of Indexes\r\n",
        "#You can specify a range of indexes by specifying where to start and where to end the range.\r\n",
        "\r\n",
        "#When specifying a range, the return value will be a new tuple with the specified items.\r\n",
        "\r\n",
        "#Return the third, fourth, and fifth item:\r\n",
        "\r\n",
        "thistuple = (\"apple\", \"banana\", \"cherry\", \"orange\", \"kiwi\", \"melon\", \"mango\")#The search will start at index 2 (included) and end at index 5 (not included)\r\n",
        "print(thistuple[2:5])#Remember that the first item has index 0."
      ],
      "execution_count": 11,
      "outputs": [
        {
          "output_type": "stream",
          "text": [
            "('cherry', 'orange', 'kiwi')\n"
          ],
          "name": "stdout"
        }
      ]
    },
    {
      "cell_type": "code",
      "metadata": {
        "colab": {
          "base_uri": "https://localhost:8080/"
        },
        "id": "tYB623t9PQp9",
        "outputId": "c0e43c10-98de-4348-86eb-ccf525011d20"
      },
      "source": [
        "#This example returns the items from the beginning to, but NOT included, \"kiwi\":\r\n",
        "\r\n",
        "thistuple = (\"apple\", \"banana\", \"cherry\", \"orange\", \"kiwi\", \"melon\", \"mango\")\r\n",
        "print(thistuple[:4])"
      ],
      "execution_count": 12,
      "outputs": [
        {
          "output_type": "stream",
          "text": [
            "('apple', 'banana', 'cherry', 'orange')\n"
          ],
          "name": "stdout"
        }
      ]
    },
    {
      "cell_type": "code",
      "metadata": {
        "colab": {
          "base_uri": "https://localhost:8080/"
        },
        "id": "0qiV2NCZPQx2",
        "outputId": "515f9511-efb1-451c-eb33-bfc06094fe46"
      },
      "source": [
        "#This example returns the items from \"cherry\" and to the end:\r\n",
        "\r\n",
        "thistuple = (\"apple\", \"banana\", \"cherry\", \"orange\", \"kiwi\", \"melon\", \"mango\")\r\n",
        "print(thistuple[2:])"
      ],
      "execution_count": 13,
      "outputs": [
        {
          "output_type": "stream",
          "text": [
            "('cherry', 'orange', 'kiwi', 'melon', 'mango')\n"
          ],
          "name": "stdout"
        }
      ]
    },
    {
      "cell_type": "code",
      "metadata": {
        "colab": {
          "base_uri": "https://localhost:8080/"
        },
        "id": "OgtNWs12PQ6X",
        "outputId": "1f4f0b2b-a5e4-4b51-cb29-ee7c42ade0dd"
      },
      "source": [
        "#Range of Negative Indexes\r\n",
        "#Specify negative indexes if you want to start the search from the end of the tuple\r\n",
        "#This example returns the items from index -4 (included) to index -1 (excluded)\r\n",
        "\r\n",
        "thistuple = (\"apple\", \"banana\", \"cherry\", \"orange\", \"kiwi\", \"melon\", \"mango\")\r\n",
        "print(thistuple[-4:-1])"
      ],
      "execution_count": 14,
      "outputs": [
        {
          "output_type": "stream",
          "text": [
            "('orange', 'kiwi', 'melon')\n"
          ],
          "name": "stdout"
        }
      ]
    },
    {
      "cell_type": "code",
      "metadata": {
        "colab": {
          "base_uri": "https://localhost:8080/"
        },
        "id": "qhWBITkzecNT",
        "outputId": "9a49b54a-7a80-4695-bad6-9908837d2b8f"
      },
      "source": [
        "#Check if Item Exists\r\n",
        "#To determine if a specified item is present in a tuple use the in keyword\r\n",
        "#Check if \"apple\" is present in the tuple:\r\n",
        "\r\n",
        "thistuple = (\"apple\", \"banana\", \"cherry\")\r\n",
        "if \"apple\" in thistuple:\r\n",
        "  print(\"Yes, 'apple' is in the fruits tuple\")"
      ],
      "execution_count": 15,
      "outputs": [
        {
          "output_type": "stream",
          "text": [
            "Yes, 'apple' is in the fruits tuple\n"
          ],
          "name": "stdout"
        }
      ]
    },
    {
      "cell_type": "code",
      "metadata": {
        "id": "Q7NWRTG9etks"
      },
      "source": [
        "#Update Tuples\r\n",
        "#Tuples are unchangeable, meaing that you cannot change, add, or remove items once the tuple is created.\r\n",
        "#Change Tuple Values\r\n",
        "#Once a tuple is created, you cannot change its values. Tuples are unchangeable, or immutable as it also is called.\r\n",
        "\r\n",
        "#But there is a workaround. You can convert the tuple into a list, change the list, and convert the list back into a tuple."
      ],
      "execution_count": null,
      "outputs": []
    },
    {
      "cell_type": "code",
      "metadata": {
        "colab": {
          "base_uri": "https://localhost:8080/"
        },
        "id": "DLdyGTtEfSuU",
        "outputId": "21f85d4e-50ef-4289-e305-74a191d81f90"
      },
      "source": [
        "#Convert the tuple into a list to be able to change it:\r\n",
        "\r\n",
        "x = (\"apple\", \"banana\", \"cherry\")\r\n",
        "y = list(x)\r\n",
        "y[1] = \"kiwi\"\r\n",
        "x = tuple(y)\r\n",
        "\r\n",
        "print(x)"
      ],
      "execution_count": 16,
      "outputs": [
        {
          "output_type": "stream",
          "text": [
            "('apple', 'kiwi', 'cherry')\n"
          ],
          "name": "stdout"
        }
      ]
    },
    {
      "cell_type": "code",
      "metadata": {
        "colab": {
          "base_uri": "https://localhost:8080/",
          "height": 214
        },
        "id": "gknQwpoqfXbl",
        "outputId": "a42e5d9d-a054-47f2-fde2-7752a4670a84"
      },
      "source": [
        "#Add Items\r\n",
        "#Once a tuple is created, you cannot add items to it.\r\n",
        "thistuple = (\"apple\", \"banana\", \"cherry\")\r\n",
        "thistuple.append(\"orange\") # This will raise an error\r\n",
        "print(thistuple)"
      ],
      "execution_count": 17,
      "outputs": [
        {
          "output_type": "error",
          "ename": "AttributeError",
          "evalue": "ignored",
          "traceback": [
            "\u001b[0;31m---------------------------------------------------------------------------\u001b[0m",
            "\u001b[0;31mAttributeError\u001b[0m                            Traceback (most recent call last)",
            "\u001b[0;32m<ipython-input-17-2d61f15af877>\u001b[0m in \u001b[0;36m<module>\u001b[0;34m()\u001b[0m\n\u001b[1;32m      2\u001b[0m \u001b[0;31m#Once a tuple is created, you cannot add items to it.\u001b[0m\u001b[0;34m\u001b[0m\u001b[0;34m\u001b[0m\u001b[0;34m\u001b[0m\u001b[0m\n\u001b[1;32m      3\u001b[0m \u001b[0mthistuple\u001b[0m \u001b[0;34m=\u001b[0m \u001b[0;34m(\u001b[0m\u001b[0;34m\"apple\"\u001b[0m\u001b[0;34m,\u001b[0m \u001b[0;34m\"banana\"\u001b[0m\u001b[0;34m,\u001b[0m \u001b[0;34m\"cherry\"\u001b[0m\u001b[0;34m)\u001b[0m\u001b[0;34m\u001b[0m\u001b[0;34m\u001b[0m\u001b[0m\n\u001b[0;32m----> 4\u001b[0;31m \u001b[0mthistuple\u001b[0m\u001b[0;34m.\u001b[0m\u001b[0mappend\u001b[0m\u001b[0;34m(\u001b[0m\u001b[0;34m\"orange\"\u001b[0m\u001b[0;34m)\u001b[0m \u001b[0;31m# This will raise an error\u001b[0m\u001b[0;34m\u001b[0m\u001b[0;34m\u001b[0m\u001b[0m\n\u001b[0m\u001b[1;32m      5\u001b[0m \u001b[0mprint\u001b[0m\u001b[0;34m(\u001b[0m\u001b[0mthistuple\u001b[0m\u001b[0;34m)\u001b[0m\u001b[0;34m\u001b[0m\u001b[0;34m\u001b[0m\u001b[0m\n",
            "\u001b[0;31mAttributeError\u001b[0m: 'tuple' object has no attribute 'append'"
          ]
        }
      ]
    },
    {
      "cell_type": "code",
      "metadata": {
        "colab": {
          "base_uri": "https://localhost:8080/"
        },
        "id": "oHUnB6tbfZrg",
        "outputId": "62cfe738-6b19-4af3-c51d-abb882ad7a75"
      },
      "source": [
        "#Just like the workaround for changing a tuple, you can convert it into a list, add your item(s), and convert it back into a tuple.\r\n",
        "#Convert the tuple into a list, add \"orange\", and convert it back into a tuple:\r\n",
        "\r\n",
        "thistuple = (\"apple\", \"banana\", \"cherry\")\r\n",
        "y = list(thistuple)\r\n",
        "y.append(\"orange\")\r\n",
        "thistuple = tuple(y)\r\n",
        "print(thistuple)"
      ],
      "execution_count": 19,
      "outputs": [
        {
          "output_type": "stream",
          "text": [
            "('apple', 'banana', 'cherry', 'orange')\n"
          ],
          "name": "stdout"
        }
      ]
    },
    {
      "cell_type": "code",
      "metadata": {
        "colab": {
          "base_uri": "https://localhost:8080/"
        },
        "id": "cErGS5Nqf1Z2",
        "outputId": "fe89aafb-4029-4dbd-ca19-d2cc1fe400c8"
      },
      "source": [
        "#Remove Items\r\n",
        "#You cannot remove items in a tuple.\r\n",
        "#Tuples are unchangeable, so you cannot remove items from it, but you can use the same workaround as we used for changing and adding tuple items\r\n",
        "\r\n",
        "#Convert the tuple into a list, remove \"apple\", and convert it back into a tuple:\r\n",
        "\r\n",
        "thistuple = (\"apple\", \"banana\", \"cherry\")\r\n",
        "y = list(thistuple)\r\n",
        "y.remove(\"apple\")\r\n",
        "thistuple = tuple(y)\r\n",
        "print(thistuple)"
      ],
      "execution_count": 21,
      "outputs": [
        {
          "output_type": "stream",
          "text": [
            "('banana', 'cherry')\n"
          ],
          "name": "stdout"
        }
      ]
    },
    {
      "cell_type": "code",
      "metadata": {
        "colab": {
          "base_uri": "https://localhost:8080/",
          "height": 197
        },
        "id": "ZyYzBIWhgMdp",
        "outputId": "4c2eb725-1329-43f9-ef70-ec0cb71985b5"
      },
      "source": [
        "#The del keyword can delete the tuple completely:\r\n",
        "\r\n",
        "thistuple = (\"apple\", \"banana\", \"cherry\")\r\n",
        "del thistuple\r\n",
        "print(thistuple) #this will raise an error because the tuple no longer exists"
      ],
      "execution_count": 22,
      "outputs": [
        {
          "output_type": "error",
          "ename": "NameError",
          "evalue": "ignored",
          "traceback": [
            "\u001b[0;31m---------------------------------------------------------------------------\u001b[0m",
            "\u001b[0;31mNameError\u001b[0m                                 Traceback (most recent call last)",
            "\u001b[0;32m<ipython-input-22-4a76f52a784f>\u001b[0m in \u001b[0;36m<module>\u001b[0;34m()\u001b[0m\n\u001b[1;32m      3\u001b[0m \u001b[0mthistuple\u001b[0m \u001b[0;34m=\u001b[0m \u001b[0;34m(\u001b[0m\u001b[0;34m\"apple\"\u001b[0m\u001b[0;34m,\u001b[0m \u001b[0;34m\"banana\"\u001b[0m\u001b[0;34m,\u001b[0m \u001b[0;34m\"cherry\"\u001b[0m\u001b[0;34m)\u001b[0m\u001b[0;34m\u001b[0m\u001b[0;34m\u001b[0m\u001b[0m\n\u001b[1;32m      4\u001b[0m \u001b[0;32mdel\u001b[0m \u001b[0mthistuple\u001b[0m\u001b[0;34m\u001b[0m\u001b[0;34m\u001b[0m\u001b[0m\n\u001b[0;32m----> 5\u001b[0;31m \u001b[0mprint\u001b[0m\u001b[0;34m(\u001b[0m\u001b[0mthistuple\u001b[0m\u001b[0;34m)\u001b[0m \u001b[0;31m#this will raise an error because the tuple no longer exists\u001b[0m\u001b[0;34m\u001b[0m\u001b[0;34m\u001b[0m\u001b[0m\n\u001b[0m",
            "\u001b[0;31mNameError\u001b[0m: name 'thistuple' is not defined"
          ]
        }
      ]
    },
    {
      "cell_type": "code",
      "metadata": {
        "colab": {
          "base_uri": "https://localhost:8080/"
        },
        "id": "xsnmXjoegVD8",
        "outputId": "f6c3129c-de76-4e34-9973-16a99de28d2f"
      },
      "source": [
        "#Unpack Tuples\r\n",
        "#Unpacking a Tuple\r\n",
        "#When we create a tuple, we normally assign values to it. This is called \"packing\" a tuple\r\n",
        "\r\n",
        "#Packing a tuple:\r\n",
        "\r\n",
        "fruits = (\"apple\", \"banana\", \"cherry\")\r\n",
        "print(fruits)"
      ],
      "execution_count": 23,
      "outputs": [
        {
          "output_type": "stream",
          "text": [
            "('apple', 'banana', 'cherry')\n"
          ],
          "name": "stdout"
        }
      ]
    },
    {
      "cell_type": "code",
      "metadata": {
        "colab": {
          "base_uri": "https://localhost:8080/"
        },
        "id": "QXwD79KxgVQj",
        "outputId": "15d94a0f-26e8-4dbc-9211-0f0b4008ffd7"
      },
      "source": [
        "#Unpacking a tuple:\r\n",
        "\r\n",
        "fruits = (\"apple\", \"banana\", \"cherry\")\r\n",
        "\r\n",
        "(green, yellow, red) = fruits\r\n",
        "\r\n",
        "print(green)\r\n",
        "print(yellow)\r\n",
        "print(red)\r\n",
        "#The number of variables must match the number of values in the tuple, if not, you must use an asterix to collect the remaining values as a list."
      ],
      "execution_count": 24,
      "outputs": [
        {
          "output_type": "stream",
          "text": [
            "apple\n",
            "banana\n",
            "cherry\n"
          ],
          "name": "stdout"
        }
      ]
    },
    {
      "cell_type": "code",
      "metadata": {
        "colab": {
          "base_uri": "https://localhost:8080/"
        },
        "id": "S7ER4aoJgVZ5",
        "outputId": "06d9b20a-6ab1-4379-a424-cc4719bd99a7"
      },
      "source": [
        "#Using Asterix*\r\n",
        "#If the number of variables is less than the number of values, you can add an * to the variable name and the values will be assigned to the variable as a list\r\n",
        "#Assign the rest of the values as a list called \"red\":\r\n",
        "\r\n",
        "fruits = (\"apple\", \"banana\", \"cherry\", \"strawberry\", \"raspberry\")\r\n",
        "\r\n",
        "(green, yellow, *red) = fruits\r\n",
        "\r\n",
        "print(green)\r\n",
        "print(yellow)\r\n",
        "print(red)"
      ],
      "execution_count": 25,
      "outputs": [
        {
          "output_type": "stream",
          "text": [
            "apple\n",
            "banana\n",
            "['cherry', 'strawberry', 'raspberry']\n"
          ],
          "name": "stdout"
        }
      ]
    },
    {
      "cell_type": "code",
      "metadata": {
        "colab": {
          "base_uri": "https://localhost:8080/"
        },
        "id": "kJI4O-5BgViB",
        "outputId": "00350ffd-776f-4957-c06c-30175810a0b1"
      },
      "source": [
        "#If the asterix is added to another variable name than the last, Python will assign values to the variable until the number of values left matches the number of variables left\r\n",
        "#Add a list of values the \"tropic\" variable:\r\n",
        "\r\n",
        "fruits = (\"apple\", \"mango\", \"papaya\", \"pineapple\", \"cherry\")\r\n",
        "\r\n",
        "(green, *tropic, red) = fruits\r\n",
        "\r\n",
        "print(green)\r\n",
        "print(tropic)\r\n",
        "print(red)"
      ],
      "execution_count": 26,
      "outputs": [
        {
          "output_type": "stream",
          "text": [
            "apple\n",
            "['mango', 'papaya', 'pineapple']\n",
            "cherry\n"
          ],
          "name": "stdout"
        }
      ]
    },
    {
      "cell_type": "code",
      "metadata": {
        "colab": {
          "base_uri": "https://localhost:8080/"
        },
        "id": "Q0zrdSWPgVs6",
        "outputId": "19d73fc1-4584-48d2-bf18-4151a7957cab"
      },
      "source": [
        "#Loop Tuples\r\n",
        "#Loop Through a Tuple\r\n",
        "#You can loop through the tuple items by using a for loop.\r\n",
        "\r\n",
        "#Iterate through the items and print the values:\r\n",
        "\r\n",
        "thistuple = (\"apple\", \"banana\", \"cherry\")\r\n",
        "for x in thistuple:\r\n",
        "  print(x)"
      ],
      "execution_count": 27,
      "outputs": [
        {
          "output_type": "stream",
          "text": [
            "apple\n",
            "banana\n",
            "cherry\n"
          ],
          "name": "stdout"
        }
      ]
    },
    {
      "cell_type": "code",
      "metadata": {
        "colab": {
          "base_uri": "https://localhost:8080/"
        },
        "id": "tEsMXv26gVzX",
        "outputId": "ee91b5ae-a606-4dba-aee2-c4f469288ce3"
      },
      "source": [
        "#Loop Through the Index Numbers\r\n",
        "#You can also loop through the tuple items by referring to their index number.\r\n",
        "\r\n",
        "#Use the range() and len() functions to create a suitable iterable\r\n",
        "#Print all items by referring to their index number:\r\n",
        "\r\n",
        "thistuple = (\"apple\", \"banana\", \"cherry\")\r\n",
        "for i in range(len(thistuple)):\r\n",
        "  print(thistuple[i])"
      ],
      "execution_count": 28,
      "outputs": [
        {
          "output_type": "stream",
          "text": [
            "apple\n",
            "banana\n",
            "cherry\n"
          ],
          "name": "stdout"
        }
      ]
    },
    {
      "cell_type": "code",
      "metadata": {
        "id": "eco8uqdVjK86"
      },
      "source": [
        "Using a While Loop\r\n",
        "You can loop through the list items by using a while loop.\r\n",
        "\r\n",
        "Use the len() function to determine the length of the tuple, then start at 0 and loop your way through the tuple items by refering to their indexes.\r\n",
        "\r\n",
        "Remember to increase the index by 1 after each iteration."
      ],
      "execution_count": null,
      "outputs": []
    },
    {
      "cell_type": "code",
      "metadata": {
        "colab": {
          "base_uri": "https://localhost:8080/"
        },
        "id": "RXYXW2wrjMQu",
        "outputId": "47630a6c-2966-4ded-b00e-252c68f4530d"
      },
      "source": [
        "#Print all items, using a while loop to go through all the index numbers:\r\n",
        "\r\n",
        "thistuple = (\"apple\", \"banana\", \"cherry\")\r\n",
        "i = 0\r\n",
        "while i < len(thistuple):\r\n",
        "  print(thistuple[i])\r\n",
        "  i = i + 1"
      ],
      "execution_count": 29,
      "outputs": [
        {
          "output_type": "stream",
          "text": [
            "apple\n",
            "banana\n",
            "cherry\n"
          ],
          "name": "stdout"
        }
      ]
    },
    {
      "cell_type": "code",
      "metadata": {
        "colab": {
          "base_uri": "https://localhost:8080/"
        },
        "id": "27WzLm3ljTZ8",
        "outputId": "a7cdd954-190f-4bfc-b90e-8e45602b1bc1"
      },
      "source": [
        "#Join Tuples\r\n",
        "#Join Two Tuples\r\n",
        "#To join two or more tuples you can use the + operator\r\n",
        "\r\n",
        "#Join two tuples:\r\n",
        "\r\n",
        "tuple1 = (\"a\", \"b\" , \"c\")\r\n",
        "tuple2 = (1, 2, 3)\r\n",
        "\r\n",
        "tuple3 = tuple1 + tuple2\r\n",
        "print(tuple3)"
      ],
      "execution_count": 30,
      "outputs": [
        {
          "output_type": "stream",
          "text": [
            "('a', 'b', 'c', 1, 2, 3)\n"
          ],
          "name": "stdout"
        }
      ]
    },
    {
      "cell_type": "code",
      "metadata": {
        "colab": {
          "base_uri": "https://localhost:8080/"
        },
        "id": "AZgUdvyDjc83",
        "outputId": "6ff495bb-1920-488e-a980-c1eb9d8e9aac"
      },
      "source": [
        "#Multiply Tuples\r\n",
        "#If you want to multiply the content of a tuple a given number of times, you can use the * operator\r\n",
        "#Multiply the fruits tuple by 2:\r\n",
        "\r\n",
        "fruits = (\"apple\", \"banana\", \"cherry\")\r\n",
        "mytuple = fruits * 2\r\n",
        "\r\n",
        "print(mytuple)"
      ],
      "execution_count": 31,
      "outputs": [
        {
          "output_type": "stream",
          "text": [
            "('apple', 'banana', 'cherry', 'apple', 'banana', 'cherry')\n"
          ],
          "name": "stdout"
        }
      ]
    },
    {
      "cell_type": "code",
      "metadata": {
        "colab": {
          "base_uri": "https://localhost:8080/"
        },
        "id": "_FI6jkOwoC8_",
        "outputId": "cdd525b0-e3b1-4134-d46c-d3dcd44efe85"
      },
      "source": [
        "#count() Method\r\n",
        "#Return the number of times the value 5 appears in the tuple:\r\n",
        "\r\n",
        "thistuple = (1, 3, 7, 8, 7, 5, 4, 6, 8, 5)\r\n",
        "\r\n",
        "x = thistuple.count(5)\r\n",
        "\r\n",
        "print(x)"
      ],
      "execution_count": 32,
      "outputs": [
        {
          "output_type": "stream",
          "text": [
            "2\n"
          ],
          "name": "stdout"
        }
      ]
    },
    {
      "cell_type": "code",
      "metadata": {
        "colab": {
          "base_uri": "https://localhost:8080/"
        },
        "id": "PO4_ihmhok9r",
        "outputId": "4fe5ae16-d5f1-4f77-c1f4-916b81047b24"
      },
      "source": [
        "# index() Method\r\n",
        "#Search for the first occurrence of the value 8, and return its position:\r\n",
        "\r\n",
        "thistuple = (1, 3, 7, 8, 7, 5, 4, 6, 8, 5)\r\n",
        "\r\n",
        "x = thistuple.index(8)\r\n",
        "\r\n",
        "print(x)"
      ],
      "execution_count": 34,
      "outputs": [
        {
          "output_type": "stream",
          "text": [
            "3\n"
          ],
          "name": "stdout"
        }
      ]
    }
  ]
}