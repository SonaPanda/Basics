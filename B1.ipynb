{
  "nbformat": 4,
  "nbformat_minor": 0,
  "metadata": {
    "colab": {
      "name": "B1.ipynb",
      "provenance": [],
      "collapsed_sections": []
    },
    "kernelspec": {
      "name": "python3",
      "display_name": "Python 3"
    }
  },
  "cells": [
    {
      "cell_type": "code",
      "metadata": {
        "id": "40pHLI6_xkyi",
        "colab": {
          "base_uri": "https://localhost:8080/"
        },
        "outputId": "df597629-af0c-4bcb-f5e8-ad09267e272e"
      },
      "source": [
        "!python -V"
      ],
      "execution_count": null,
      "outputs": [
        {
          "output_type": "stream",
          "text": [
            "Python 3.6.9\n"
          ],
          "name": "stdout"
        }
      ]
    },
    {
      "cell_type": "markdown",
      "metadata": {
        "id": "s1VZDxLnp3Qs"
      },
      "source": [
        "**Execute Python Syntax**"
      ]
    },
    {
      "cell_type": "code",
      "metadata": {
        "colab": {
          "base_uri": "https://localhost:8080/"
        },
        "id": "gYqGoHngo7_i",
        "outputId": "945a01d4-2288-4f73-d118-fcfeaa6c1439"
      },
      "source": [
        "#Python syntax can be executed by writing directly in the Command Line\r\n",
        "print(\"Hello, World!\")"
      ],
      "execution_count": null,
      "outputs": [
        {
          "output_type": "stream",
          "text": [
            "Hello, World!\n"
          ],
          "name": "stdout"
        }
      ]
    },
    {
      "cell_type": "markdown",
      "metadata": {
        "id": "AsTWDc-zqIGw"
      },
      "source": [
        "**Python Indentation**"
      ]
    },
    {
      "cell_type": "code",
      "metadata": {
        "colab": {
          "base_uri": "https://localhost:8080/"
        },
        "id": "Pr0FY1UyqJKd",
        "outputId": "64973c9b-a060-4905-9eec-7c3cdaae2d37"
      },
      "source": [
        "#Indentation refers to the spaces at the beginning of a code line.\r\n",
        "#Where in other programming languages the indentation in code is for readability only, the indentation in Python is very important.\r\n",
        "#Python uses indentation to indicate a block of code.\r\n",
        "if(5>2):\r\n",
        "  print('Five is greater than two!')"
      ],
      "execution_count": null,
      "outputs": [
        {
          "output_type": "stream",
          "text": [
            "Five is greater than two!\n"
          ],
          "name": "stdout"
        }
      ]
    },
    {
      "cell_type": "markdown",
      "metadata": {
        "id": "7mff8qeiqhWT"
      },
      "source": [
        "**Python Variables**"
      ]
    },
    {
      "cell_type": "code",
      "metadata": {
        "colab": {
          "base_uri": "https://localhost:8080/"
        },
        "id": "9KBsr-wlqiUL",
        "outputId": "a27eccd0-e51a-4783-d3f4-019583adad7d"
      },
      "source": [
        "# variables are created when you assign a value to it\r\n",
        "x = 5\r\n",
        "y = \"Hello, World!\"\r\n",
        "print(x)\r\n",
        "print(y)"
      ],
      "execution_count": null,
      "outputs": [
        {
          "output_type": "stream",
          "text": [
            "5\n",
            "Hello, World!\n"
          ],
          "name": "stdout"
        }
      ]
    },
    {
      "cell_type": "markdown",
      "metadata": {
        "id": "YIRcFGxZrHsN"
      },
      "source": [
        "**Comments**"
      ]
    },
    {
      "cell_type": "code",
      "metadata": {
        "colab": {
          "base_uri": "https://localhost:8080/"
        },
        "id": "EnclN5uwrGlw",
        "outputId": "cc88f28b-95f2-40c7-afd9-cc451da4bf02"
      },
      "source": [
        "#Python has commenting capability for the purpose of in-code documentation.\r\n",
        "#Comments start with a #, and Python will render the rest of the line as a comment:\r\n",
        "#This is a comment.\r\n",
        "print(\"Hello, World!\")\r\n",
        "\r\n",
        "#Comments can be used to explain Python code.Comments can be used to make the code more readable.Comments can be used to prevent execution when testing code."
      ],
      "execution_count": null,
      "outputs": [
        {
          "output_type": "stream",
          "text": [
            "Hello, World!\n"
          ],
          "name": "stdout"
        }
      ]
    },
    {
      "cell_type": "markdown",
      "metadata": {
        "id": "0MI3lawwsmCl"
      },
      "source": [
        "**Variables**"
      ]
    },
    {
      "cell_type": "code",
      "metadata": {
        "colab": {
          "base_uri": "https://localhost:8080/"
        },
        "id": "SEE5R4QusnlD",
        "outputId": "8da7935b-f42e-4a5c-9eea-d5a2bd92260d"
      },
      "source": [
        "#Variables are containers for storing data values.\r\n",
        "#Creating Variables\r\n",
        "#Python has no command for declaring a variable.A variable is created the moment you first assign a value to it.\r\n",
        "x = 5\r\n",
        "y = \"John\"\r\n",
        "print(x)\r\n",
        "print(y)"
      ],
      "execution_count": null,
      "outputs": [
        {
          "output_type": "stream",
          "text": [
            "5\n",
            "John\n"
          ],
          "name": "stdout"
        }
      ]
    },
    {
      "cell_type": "markdown",
      "metadata": {
        "id": "zc_YRlFhttBV"
      },
      "source": [
        "**Casting**"
      ]
    },
    {
      "cell_type": "code",
      "metadata": {
        "colab": {
          "base_uri": "https://localhost:8080/"
        },
        "id": "m1WcqtCVtuB6",
        "outputId": "a071382b-f038-42da-d0f9-b26efddf69c1"
      },
      "source": [
        "#If you want to specify the data type of a variable, this can be done with casting.\r\n",
        "x = str(3)\r\n",
        "y = int(3)\r\n",
        "z = float(3)\r\n",
        "\r\n",
        "print(x)\r\n",
        "print(y)\r\n",
        "print(z)"
      ],
      "execution_count": null,
      "outputs": [
        {
          "output_type": "stream",
          "text": [
            "3\n",
            "3\n",
            "3.0\n"
          ],
          "name": "stdout"
        }
      ]
    },
    {
      "cell_type": "markdown",
      "metadata": {
        "id": "zDIUAUIKt9kW"
      },
      "source": [
        "**Get the Type**"
      ]
    },
    {
      "cell_type": "code",
      "metadata": {
        "colab": {
          "base_uri": "https://localhost:8080/"
        },
        "id": "Jw2HHXApt-uv",
        "outputId": "d939c41a-d24d-4158-c3c9-9d2de9224633"
      },
      "source": [
        "#get the data type of a variable with the type() function\r\n",
        "x = 5\r\n",
        "y = \"John\"\r\n",
        "print(type(x))\r\n",
        "print(type(y))"
      ],
      "execution_count": null,
      "outputs": [
        {
          "output_type": "stream",
          "text": [
            "<class 'int'>\n",
            "<class 'str'>\n"
          ],
          "name": "stdout"
        }
      ]
    },
    {
      "cell_type": "markdown",
      "metadata": {
        "id": "Ca0oN5u0ubuX"
      },
      "source": [
        "**Case-Sensitive**"
      ]
    },
    {
      "cell_type": "code",
      "metadata": {
        "colab": {
          "base_uri": "https://localhost:8080/"
        },
        "id": "WZO40mBpuctK",
        "outputId": "3a49ecfa-82ab-4f33-99c2-d42a749c346d"
      },
      "source": [
        "#Variable names are case-sensitive.\r\n",
        "a = 4\r\n",
        "A = \"Sally\"\r\n",
        "#A will not overwrite a\r\n",
        "print(a)\r\n",
        "print(A)"
      ],
      "execution_count": null,
      "outputs": [
        {
          "output_type": "stream",
          "text": [
            "4\n",
            "Sally\n"
          ],
          "name": "stdout"
        }
      ]
    },
    {
      "cell_type": "markdown",
      "metadata": {
        "id": "3y7JQYLeLiGH"
      },
      "source": [
        "**Variable Names**"
      ]
    },
    {
      "cell_type": "code",
      "metadata": {
        "colab": {
          "base_uri": "https://localhost:8080/"
        },
        "id": "tOHOHZjCLjJn",
        "outputId": "01dd45f3-5a07-4393-9001-0c7ddea33af7"
      },
      "source": [
        "#A variable can have a short name (like x and y) or a more descriptive name (age, carname, total_volume). Rules for Python variables:\r\n",
        "#A variable name must start with a letter or the underscore character\r\n",
        "#A variable name cannot start with a number\r\n",
        "#A variable name can only contain alpha-numeric characters and underscores (A-z, 0-9, and _ )\r\n",
        "#Variable names are case-sensitive (age, Age and AGE are three different variables)\r\n",
        "\r\n",
        "myvar = \"John\"\r\n",
        "my_var = \"John\"\r\n",
        "_my_var = \"John\"\r\n",
        "myVar = \"John\"\r\n",
        "MYVAR = \"John\"\r\n",
        "myvar2 = \"John\"\r\n",
        "\r\n",
        "\r\n",
        "print(myvar)\r\n",
        "print(my_var)\r\n",
        "print(_my_var)\r\n",
        "print(myVar)\r\n",
        "print(MYVAR)\r\n",
        "print(myvar2)"
      ],
      "execution_count": null,
      "outputs": [
        {
          "output_type": "stream",
          "text": [
            "John\n",
            "John\n",
            "John\n",
            "John\n",
            "John\n",
            "John\n"
          ],
          "name": "stdout"
        }
      ]
    },
    {
      "cell_type": "markdown",
      "metadata": {
        "id": "FnVkmIoTMJ9l"
      },
      "source": [
        "**Multi Words Variable Names**"
      ]
    },
    {
      "cell_type": "code",
      "metadata": {
        "id": "pBbz3aDWMJRE"
      },
      "source": [
        "#Variable names with more than one word can be difficult to read.\r\n",
        "#There are several techniques you can use to make them more readable\r\n",
        "\r\n",
        "#Camel Case\r\n",
        "#Each word, except the first, starts with a capital letter\r\n",
        "myVariableName = \"John\"\r\n",
        "\r\n",
        "#Pascal Case\r\n",
        "#Each word starts with a capital letter\r\n",
        "MyVariableName = \"John\"\r\n",
        "\r\n",
        "#Snake Case\r\n",
        "#Each word is separated by an underscore character:\r\n",
        "my_variable_name = \"John\""
      ],
      "execution_count": null,
      "outputs": []
    },
    {
      "cell_type": "markdown",
      "metadata": {
        "id": "nMKy56dnNK3g"
      },
      "source": [
        "**Many Values to Multiple Variables**"
      ]
    },
    {
      "cell_type": "code",
      "metadata": {
        "colab": {
          "base_uri": "https://localhost:8080/"
        },
        "id": "6uT5k7hnNJbK",
        "outputId": "4923d931-9eb5-413c-86dd-4c14f0f9e440"
      },
      "source": [
        "#Python allows you to assign values to multiple variables in one line\r\n",
        "x, y, z = \"Orange\", \"Banana\", \"Cherry\"\r\n",
        "print(x)\r\n",
        "print(y)\r\n",
        "print(z)"
      ],
      "execution_count": null,
      "outputs": [
        {
          "output_type": "stream",
          "text": [
            "Orange\n",
            "Banana\n",
            "Cherry\n"
          ],
          "name": "stdout"
        }
      ]
    },
    {
      "cell_type": "markdown",
      "metadata": {
        "id": "EJgTYFOgNYGy"
      },
      "source": [
        "**One Value to Multiple Variables**"
      ]
    },
    {
      "cell_type": "code",
      "metadata": {
        "colab": {
          "base_uri": "https://localhost:8080/"
        },
        "id": "bNiZLQAXNZEx",
        "outputId": "b6f85db8-8a11-4dd1-c674-48163d1a175b"
      },
      "source": [
        "#you can assign the same value to multiple variables in one line\r\n",
        "x = y = z = \"Orange\"\r\n",
        "print(x)\r\n",
        "print(y)\r\n",
        "print(z)"
      ],
      "execution_count": null,
      "outputs": [
        {
          "output_type": "stream",
          "text": [
            "Orange\n",
            "Orange\n",
            "Orange\n"
          ],
          "name": "stdout"
        }
      ]
    },
    {
      "cell_type": "markdown",
      "metadata": {
        "id": "KAKKwdazNp_q"
      },
      "source": [
        "**Unpack a Collection**"
      ]
    },
    {
      "cell_type": "code",
      "metadata": {
        "colab": {
          "base_uri": "https://localhost:8080/"
        },
        "id": "7N49HgvWNrVp",
        "outputId": "fc83c731-5bcc-4ada-8d51-1d02f1a71476"
      },
      "source": [
        "#a collection of values in a list, tuple etc. Python allows you extract the values into variables. This is called unpacking.\r\n",
        "fruits = [\"apple\", \"banana\", \"cherry\"]\r\n",
        "x,y,z=fruits\r\n",
        "print(x)\r\n",
        "print(y)\r\n",
        "print(z)"
      ],
      "execution_count": null,
      "outputs": [
        {
          "output_type": "stream",
          "text": [
            "apple\n",
            "banana\n",
            "cherry\n"
          ],
          "name": "stdout"
        }
      ]
    },
    {
      "cell_type": "markdown",
      "metadata": {
        "id": "1EITbt34PZHB"
      },
      "source": [
        "**Output Variables**"
      ]
    },
    {
      "cell_type": "code",
      "metadata": {
        "colab": {
          "base_uri": "https://localhost:8080/"
        },
        "id": "jKqoYVGZPbod",
        "outputId": "6a1eb625-9bec-4895-b302-abc3ad4c963f"
      },
      "source": [
        "#The Python print statement is often used to output variables.\r\n",
        "#To combine both text and a variable, Python uses the + character\r\n",
        "x = \"awesome\"\r\n",
        "print(\"Python is \"+ x)"
      ],
      "execution_count": null,
      "outputs": [
        {
          "output_type": "stream",
          "text": [
            "Python is awesome\n"
          ],
          "name": "stdout"
        }
      ]
    },
    {
      "cell_type": "code",
      "metadata": {
        "colab": {
          "base_uri": "https://localhost:8080/"
        },
        "id": "hTRs6seYP4bI",
        "outputId": "ffb0306a-e71a-4e3c-a2a9-38b85357ce74"
      },
      "source": [
        "x = \"Python is \"\r\n",
        "y = \"awesome\"\r\n",
        "z =  x + y  #use the + character to add a variable to another variable\r\n",
        "print(z)\r\n",
        "#combine a string and a number, Python will give you an error"
      ],
      "execution_count": null,
      "outputs": [
        {
          "output_type": "stream",
          "text": [
            "Python is awesome\n"
          ],
          "name": "stdout"
        }
      ]
    },
    {
      "cell_type": "markdown",
      "metadata": {
        "id": "Xj25O7vrQG-V"
      },
      "source": [
        "**Global Variables**"
      ]
    },
    {
      "cell_type": "code",
      "metadata": {
        "colab": {
          "base_uri": "https://localhost:8080/"
        },
        "id": "M5Y0YFwcQIK-",
        "outputId": "ee0dab5b-3784-4e4c-8ec3-8278767d3e3f"
      },
      "source": [
        "#Variables that are created outside of a function \r\n",
        "#Global variables can be used by everyone, both inside of functions and outside.\r\n",
        "\r\n",
        "\r\n",
        "#Create a variable outside of a function, and use it inside the function\r\n",
        "x=\"awesome\"\r\n",
        "def func():\r\n",
        "  print(\"Python is \" + x)\r\n",
        "func()"
      ],
      "execution_count": null,
      "outputs": [
        {
          "output_type": "stream",
          "text": [
            "Python is awesome\n"
          ],
          "name": "stdout"
        }
      ]
    },
    {
      "cell_type": "code",
      "metadata": {
        "colab": {
          "base_uri": "https://localhost:8080/"
        },
        "id": "IkqWSfbXS39_",
        "outputId": "76eb605b-d4b7-4eab-93b6-744dcbd7099b"
      },
      "source": [
        "#If you create a variable with the same name inside a function, this variable will be local, and can only be used inside the function.\r\n",
        "# The global variable with the same name will remain as it was, global and with the original value.\r\n",
        "\r\n",
        "x = \"awesome\"\r\n",
        "\r\n",
        "def myfunc():\r\n",
        "  x = \"fantastic\"\r\n",
        "  print(\"Python is \" + x)\r\n",
        "\r\n",
        "myfunc()\r\n",
        "\r\n",
        "print(\"Python is \" + x)"
      ],
      "execution_count": null,
      "outputs": [
        {
          "output_type": "stream",
          "text": [
            "Python is fantastic\n",
            "Python is awesome\n"
          ],
          "name": "stdout"
        }
      ]
    },
    {
      "cell_type": "markdown",
      "metadata": {
        "id": "m4X5i4F5Uelz"
      },
      "source": [
        "**The global Keyword**"
      ]
    },
    {
      "cell_type": "code",
      "metadata": {
        "colab": {
          "base_uri": "https://localhost:8080/"
        },
        "id": "cjMRP6G7UfXu",
        "outputId": "f115186c-9219-4926-c382-c197d51989cf"
      },
      "source": [
        "#when you create a variable inside a function, that variable is local, and can only be used inside that function.\r\n",
        "#To create a global variable inside a function, you can use the global keyword.\r\n",
        "\r\n",
        "def myfunc():\r\n",
        "  global x\r\n",
        "  x=\"Super\"\r\n",
        "myfunc()\r\n",
        "\r\n",
        "print(\"Python is \" + x)"
      ],
      "execution_count": null,
      "outputs": [
        {
          "output_type": "stream",
          "text": [
            "Python is Super\n"
          ],
          "name": "stdout"
        }
      ]
    },
    {
      "cell_type": "code",
      "metadata": {
        "colab": {
          "base_uri": "https://localhost:8080/"
        },
        "id": "NEgpQlztVKwy",
        "outputId": "5fd005e3-4270-4845-b29e-40f5d6e32dc6"
      },
      "source": [
        "#To change the value of a global variable inside a function, refer to the variable by using the global keyword:\r\n",
        "x = \"awesome\"\r\n",
        "\r\n",
        "def myfunc():\r\n",
        "  global x\r\n",
        "  x = \"fantastic\"\r\n",
        "\r\n",
        "myfunc()\r\n",
        "\r\n",
        "print(\"Python is \" + x)"
      ],
      "execution_count": null,
      "outputs": [
        {
          "output_type": "stream",
          "text": [
            "Python is fantastic\n"
          ],
          "name": "stdout"
        }
      ]
    },
    {
      "cell_type": "markdown",
      "metadata": {
        "id": "buXu-JITW3uz"
      },
      "source": [
        "**Python Data Types**"
      ]
    },
    {
      "cell_type": "code",
      "metadata": {
        "id": "fRE1XRxTS4H2"
      },
      "source": [
        "Python has the following data types built-in by default, in these categories:\r\n",
        "\r\n",
        "Text Type:\tstr\r\n",
        "Numeric Types:\tint, float, complex\r\n",
        "Sequence Types:\tlist, tuple, range\r\n",
        "Mapping Type:\tdict\r\n",
        "Set Types:\tset, frozenset\r\n",
        "Boolean Type:\tbool\r\n",
        "Binary Types:\tbytes, bytearray, memoryview"
      ],
      "execution_count": null,
      "outputs": []
    },
    {
      "cell_type": "markdown",
      "metadata": {
        "id": "8owBN2-5XbOU"
      },
      "source": [
        "**Getting the Data Type**"
      ]
    },
    {
      "cell_type": "code",
      "metadata": {
        "colab": {
          "base_uri": "https://localhost:8080/"
        },
        "id": "dMFeKwvUS4QQ",
        "outputId": "3c06e201-33c7-4103-8ed1-ad00be228fe1"
      },
      "source": [
        "#You can get the data type of any object by using the type() function\r\n",
        "x = 5\r\n",
        "print(type(x))"
      ],
      "execution_count": null,
      "outputs": [
        {
          "output_type": "stream",
          "text": [
            "<class 'int'>\n"
          ],
          "name": "stdout"
        }
      ]
    },
    {
      "cell_type": "markdown",
      "metadata": {
        "id": "NEWrM9vOYC4J"
      },
      "source": [
        "**Setting the Data Type**"
      ]
    },
    {
      "cell_type": "code",
      "metadata": {
        "colab": {
          "base_uri": "https://localhost:8080/"
        },
        "id": "aWqA8dwwS4YC",
        "outputId": "09e707d0-f3c7-4e0c-c06e-f29dbf37ed62"
      },
      "source": [
        "x = \"Hello World\"\r\n",
        "#display x:\r\n",
        "print(x)\r\n",
        "\r\n",
        "#display the data type of x:\r\n",
        "print(type(x)) "
      ],
      "execution_count": null,
      "outputs": [
        {
          "output_type": "stream",
          "text": [
            "Hello World\n",
            "<class 'str'>\n"
          ],
          "name": "stdout"
        }
      ]
    },
    {
      "cell_type": "code",
      "metadata": {
        "colab": {
          "base_uri": "https://localhost:8080/"
        },
        "id": "WWHs4zB9S4fk",
        "outputId": "ea1fd31d-a92e-4137-f2f5-997970f15448"
      },
      "source": [
        "x = 20\r\n",
        "print(x)\r\n",
        "print(type(x))"
      ],
      "execution_count": null,
      "outputs": [
        {
          "output_type": "stream",
          "text": [
            "20\n",
            "<class 'int'>\n"
          ],
          "name": "stdout"
        }
      ]
    },
    {
      "cell_type": "code",
      "metadata": {
        "colab": {
          "base_uri": "https://localhost:8080/"
        },
        "id": "qsmC5PnqYpAW",
        "outputId": "366e0037-ccbd-44f6-85a0-8afa8f2db99f"
      },
      "source": [
        "x = 20.5\r\n",
        "print(x)\r\n",
        "print(type(x))"
      ],
      "execution_count": null,
      "outputs": [
        {
          "output_type": "stream",
          "text": [
            "20.5\n",
            "<class 'float'>\n"
          ],
          "name": "stdout"
        }
      ]
    },
    {
      "cell_type": "code",
      "metadata": {
        "colab": {
          "base_uri": "https://localhost:8080/"
        },
        "id": "R2b7WiQpYs9H",
        "outputId": "fb7414a6-2606-4b95-a117-88e1b5249fc6"
      },
      "source": [
        "x = 1j\r\n",
        "print(x)\r\n",
        "print(type(x))"
      ],
      "execution_count": null,
      "outputs": [
        {
          "output_type": "stream",
          "text": [
            "1j\n",
            "<class 'complex'>\n"
          ],
          "name": "stdout"
        }
      ]
    },
    {
      "cell_type": "code",
      "metadata": {
        "colab": {
          "base_uri": "https://localhost:8080/"
        },
        "id": "Jofre-_BYzJh",
        "outputId": "79580a85-3978-4756-e444-2542b47f8e47"
      },
      "source": [
        "x = [\"apple\", \"banana\", \"cherry\"]\r\n",
        "print(x)\r\n",
        "print(type(x))"
      ],
      "execution_count": null,
      "outputs": [
        {
          "output_type": "stream",
          "text": [
            "['apple', 'banana', 'cherry']\n",
            "<class 'list'>\n"
          ],
          "name": "stdout"
        }
      ]
    },
    {
      "cell_type": "code",
      "metadata": {
        "colab": {
          "base_uri": "https://localhost:8080/"
        },
        "id": "uo0vzP1oY3qS",
        "outputId": "3c55e93c-9b3b-40e6-8371-ddd9c0db5ba3"
      },
      "source": [
        "x = (\"apple\", \"banana\", \"cherry\")\r\n",
        "print(x)\r\n",
        "print(type(x))"
      ],
      "execution_count": null,
      "outputs": [
        {
          "output_type": "stream",
          "text": [
            "('apple', 'banana', 'cherry')\n",
            "<class 'tuple'>\n"
          ],
          "name": "stdout"
        }
      ]
    },
    {
      "cell_type": "code",
      "metadata": {
        "colab": {
          "base_uri": "https://localhost:8080/"
        },
        "id": "_AGuzy6wY7G_",
        "outputId": "337818bd-9f6a-4283-ee28-b7a54e121b90"
      },
      "source": [
        "x = range(6)\r\n",
        "print(x)\r\n",
        "print(type(x))"
      ],
      "execution_count": null,
      "outputs": [
        {
          "output_type": "stream",
          "text": [
            "range(0, 6)\n",
            "<class 'range'>\n"
          ],
          "name": "stdout"
        }
      ]
    },
    {
      "cell_type": "code",
      "metadata": {
        "colab": {
          "base_uri": "https://localhost:8080/"
        },
        "id": "0vUapgP7Y-OQ",
        "outputId": "993dc3b3-01fe-4906-9734-9c538dd3d786"
      },
      "source": [
        "x = {\"name\" : \"John\", \"age\" : 36}\r\n",
        "print(x)\r\n",
        "print(type(x))"
      ],
      "execution_count": null,
      "outputs": [
        {
          "output_type": "stream",
          "text": [
            "{'name': 'John', 'age': 36}\n",
            "<class 'dict'>\n"
          ],
          "name": "stdout"
        }
      ]
    },
    {
      "cell_type": "code",
      "metadata": {
        "colab": {
          "base_uri": "https://localhost:8080/"
        },
        "id": "iSqqMjb5ZC8_",
        "outputId": "df81f996-de44-4b40-dd5d-7d8a0d87bd49"
      },
      "source": [
        "x = {\"apple\", \"banana\", \"cherry\"}\r\n",
        "print(x)\r\n",
        "print(type(x))"
      ],
      "execution_count": null,
      "outputs": [
        {
          "output_type": "stream",
          "text": [
            "{'banana', 'apple', 'cherry'}\n",
            "<class 'set'>\n"
          ],
          "name": "stdout"
        }
      ]
    },
    {
      "cell_type": "code",
      "metadata": {
        "colab": {
          "base_uri": "https://localhost:8080/"
        },
        "id": "2pZFCws-ZOjB",
        "outputId": "e0f2e5dd-ca8b-4332-b6de-c68983debd6a"
      },
      "source": [
        "x = frozenset({\"apple\", \"banana\", \"cherry\"})\r\n",
        "print(x)\r\n",
        "print(type(x))"
      ],
      "execution_count": null,
      "outputs": [
        {
          "output_type": "stream",
          "text": [
            "frozenset({'banana', 'apple', 'cherry'})\n",
            "<class 'frozenset'>\n"
          ],
          "name": "stdout"
        }
      ]
    },
    {
      "cell_type": "code",
      "metadata": {
        "colab": {
          "base_uri": "https://localhost:8080/"
        },
        "id": "l6r27QaJZg-A",
        "outputId": "20c84443-1837-4ca5-c93a-02c5e09e44c3"
      },
      "source": [
        "x = True\r\n",
        "print(x)\r\n",
        "print(type(x))"
      ],
      "execution_count": null,
      "outputs": [
        {
          "output_type": "stream",
          "text": [
            "True\n",
            "<class 'bool'>\n"
          ],
          "name": "stdout"
        }
      ]
    },
    {
      "cell_type": "code",
      "metadata": {
        "colab": {
          "base_uri": "https://localhost:8080/"
        },
        "id": "Q2OuKU-KZk2_",
        "outputId": "12b5f42e-17b0-4ebd-f28e-d5c1350e9982"
      },
      "source": [
        "x = b\"Hello\"\r\n",
        "print(x)\r\n",
        "print(type(x))"
      ],
      "execution_count": null,
      "outputs": [
        {
          "output_type": "stream",
          "text": [
            "b'Hello'\n",
            "<class 'bytes'>\n"
          ],
          "name": "stdout"
        }
      ]
    },
    {
      "cell_type": "code",
      "metadata": {
        "colab": {
          "base_uri": "https://localhost:8080/"
        },
        "id": "AkAkvRR-ZnI9",
        "outputId": "5d15943a-0e1c-4672-a11e-d3a60d6eae14"
      },
      "source": [
        "x = bytearray(5)\r\n",
        "print(x)\r\n",
        "print(type(x))"
      ],
      "execution_count": null,
      "outputs": [
        {
          "output_type": "stream",
          "text": [
            "bytearray(b'\\x00\\x00\\x00\\x00\\x00')\n",
            "<class 'bytearray'>\n"
          ],
          "name": "stdout"
        }
      ]
    },
    {
      "cell_type": "code",
      "metadata": {
        "colab": {
          "base_uri": "https://localhost:8080/"
        },
        "id": "Zq3xrZUEZsoX",
        "outputId": "69ea14c6-551d-488e-c4e3-c18e4a7f4c07"
      },
      "source": [
        "x = memoryview(bytes(5))\r\n",
        "print(x)\r\n",
        "print(type(x))"
      ],
      "execution_count": null,
      "outputs": [
        {
          "output_type": "stream",
          "text": [
            "<memory at 0x7ff503aa7b88>\n",
            "<class 'memoryview'>\n"
          ],
          "name": "stdout"
        }
      ]
    },
    {
      "cell_type": "markdown",
      "metadata": {
        "id": "USA097NIbxdV"
      },
      "source": [
        "**Python Numbers**"
      ]
    },
    {
      "cell_type": "code",
      "metadata": {
        "id": "3ByGsGkzbytU"
      },
      "source": [
        "There are three numeric types in Python:\r\n",
        "\r\n",
        "int\r\n",
        "float\r\n",
        "complex\r\n",
        "Variables of numeric types are created when you assign a value to them"
      ],
      "execution_count": null,
      "outputs": []
    },
    {
      "cell_type": "code",
      "metadata": {
        "id": "vCkvDKxxb3mE"
      },
      "source": [
        "x = 1    # int\r\n",
        "y = 2.8  # float\r\n",
        "z = 1j   # complex"
      ],
      "execution_count": null,
      "outputs": []
    },
    {
      "cell_type": "code",
      "metadata": {
        "colab": {
          "base_uri": "https://localhost:8080/"
        },
        "id": "04ow9zTpb6GF",
        "outputId": "25d8bae1-8b26-4ff7-9141-b93cfca298b4"
      },
      "source": [
        "print(type(x))\r\n",
        "print(type(y))\r\n",
        "print(type(z))"
      ],
      "execution_count": null,
      "outputs": [
        {
          "output_type": "stream",
          "text": [
            "<class 'int'>\n",
            "<class 'float'>\n",
            "<class 'complex'>\n"
          ],
          "name": "stdout"
        }
      ]
    },
    {
      "cell_type": "code",
      "metadata": {
        "colab": {
          "base_uri": "https://localhost:8080/"
        },
        "id": "MVF8PP87b-MP",
        "outputId": "476ecd9d-860c-4479-9854-38fd4c9ce52f"
      },
      "source": [
        "#Int, or integer, is a whole number, positive or negative, without decimals, of unlimited length\r\n",
        "\r\n",
        "x = 1\r\n",
        "y = 35656222554887711\r\n",
        "z = -3255522\r\n",
        "\r\n",
        "print(type(x))\r\n",
        "print(type(y))\r\n",
        "print(type(z))"
      ],
      "execution_count": null,
      "outputs": [
        {
          "output_type": "stream",
          "text": [
            "<class 'int'>\n",
            "<class 'int'>\n",
            "<class 'int'>\n"
          ],
          "name": "stdout"
        }
      ]
    },
    {
      "cell_type": "code",
      "metadata": {
        "colab": {
          "base_uri": "https://localhost:8080/"
        },
        "id": "0h1ie2i1cFph",
        "outputId": "8fc7a17f-3281-4db1-c891-f817e2696c57"
      },
      "source": [
        "#Float:Float, or \"floating point number\" is a number, positive or negative, containing one or more decimals.\r\n",
        "\r\n",
        "x = 1.10\r\n",
        "y = 1.0\r\n",
        "z = -35.59\r\n",
        "\r\n",
        "print(type(x))\r\n",
        "print(type(y))\r\n",
        "print(type(z))"
      ],
      "execution_count": null,
      "outputs": [
        {
          "output_type": "stream",
          "text": [
            "<class 'float'>\n",
            "<class 'float'>\n",
            "<class 'float'>\n"
          ],
          "name": "stdout"
        }
      ]
    },
    {
      "cell_type": "code",
      "metadata": {
        "colab": {
          "base_uri": "https://localhost:8080/"
        },
        "id": "tu8ts-gQcNKr",
        "outputId": "1ca687fa-d545-40bc-81a5-585c6ce92e0f"
      },
      "source": [
        "#Float can also be scientific numbers with an \"e\" to indicate the power of 10.\r\n",
        "x = 35e3\r\n",
        "y = 12E4\r\n",
        "z = -87.7e100\r\n",
        "\r\n",
        "print(type(x))\r\n",
        "print(type(y))\r\n",
        "print(type(z))"
      ],
      "execution_count": null,
      "outputs": [
        {
          "output_type": "stream",
          "text": [
            "<class 'float'>\n",
            "<class 'float'>\n",
            "<class 'float'>\n"
          ],
          "name": "stdout"
        }
      ]
    },
    {
      "cell_type": "code",
      "metadata": {
        "colab": {
          "base_uri": "https://localhost:8080/"
        },
        "id": "R80Mu6XkcShp",
        "outputId": "c25d4d5c-51fe-4061-b503-f43e83635a15"
      },
      "source": [
        "#Complex:Complex numbers are written with a \"j\" as the imaginary part\r\n",
        "x = 3+5j\r\n",
        "y = 5j\r\n",
        "z = -5j\r\n",
        "\r\n",
        "print(type(x))\r\n",
        "print(type(y))\r\n",
        "print(type(z))"
      ],
      "execution_count": null,
      "outputs": [
        {
          "output_type": "stream",
          "text": [
            "<class 'complex'>\n",
            "<class 'complex'>\n",
            "<class 'complex'>\n"
          ],
          "name": "stdout"
        }
      ]
    },
    {
      "cell_type": "code",
      "metadata": {
        "colab": {
          "base_uri": "https://localhost:8080/"
        },
        "id": "_c1ID0OKcaeS",
        "outputId": "89de5282-c00b-42cb-806f-395aed5a6ea8"
      },
      "source": [
        "#Type Conversion:You can convert from one type to another with the int(), float(), and complex() methods\r\n",
        "x = 1    # int\r\n",
        "y = 2.8  # float\r\n",
        "z = 1j   # complex\r\n",
        "\r\n",
        "#convert from int to float:\r\n",
        "a = float(x)\r\n",
        "\r\n",
        "#convert from float to int:\r\n",
        "b = int(y)\r\n",
        "\r\n",
        "#convert from int to complex:\r\n",
        "c = complex(x)\r\n",
        "\r\n",
        "print(a)\r\n",
        "print(b)\r\n",
        "print(c)\r\n",
        "\r\n",
        "print(type(a))\r\n",
        "print(type(b))\r\n",
        "print(type(c))"
      ],
      "execution_count": null,
      "outputs": [
        {
          "output_type": "stream",
          "text": [
            "1.0\n",
            "2\n",
            "(1+0j)\n",
            "<class 'float'>\n",
            "<class 'int'>\n",
            "<class 'complex'>\n"
          ],
          "name": "stdout"
        }
      ]
    },
    {
      "cell_type": "markdown",
      "metadata": {
        "id": "FAwmZqLgcmtp"
      },
      "source": [
        "**Random Number**"
      ]
    },
    {
      "cell_type": "code",
      "metadata": {
        "colab": {
          "base_uri": "https://localhost:8080/"
        },
        "id": "Q6W-wbpxcnhZ",
        "outputId": "5737c18d-ccfb-4398-bfd6-77bdb2071d02"
      },
      "source": [
        "#Python does not have a random() function to make a random number, but Python has a built-in module called random that can be used to make random numbers\r\n",
        "import random\r\n",
        "print(random.randrange(1,10))"
      ],
      "execution_count": null,
      "outputs": [
        {
          "output_type": "stream",
          "text": [
            "5\n"
          ],
          "name": "stdout"
        }
      ]
    },
    {
      "cell_type": "markdown",
      "metadata": {
        "id": "_khEd-Ja-e03"
      },
      "source": [
        "**Casting**"
      ]
    },
    {
      "cell_type": "code",
      "metadata": {
        "id": "fUH0Rcl9-XBd"
      },
      "source": [
        "#There may be times when you want to specify a type on to a variable. This can be done with casting.\r\n",
        "Casting in python is therefore done using constructor functions:\r\n",
        "\r\n",
        "int() - constructs an integer number from an integer literal, a float literal (by removing all decimals), or a string literal (providing the string represents a whole number)\r\n",
        "float() - constructs a float number from an integer literal, a float literal or a string literal (providing the string represents a float or an integer)\r\n",
        "str() - constructs a string from a wide variety of data types, including strings, integer literals and float literals"
      ],
      "execution_count": null,
      "outputs": []
    },
    {
      "cell_type": "code",
      "metadata": {
        "colab": {
          "base_uri": "https://localhost:8080/"
        },
        "id": "z9bPtcPx-4HZ",
        "outputId": "4dc4f85b-b9ce-4fff-8320-32e9d9c16538"
      },
      "source": [
        "x = int(1)   # x will be 1\r\n",
        "y = int(2.8) # y will be 2\r\n",
        "z = int(\"3\") # z will be 3\r\n",
        "print(x)\r\n",
        "print(y)\r\n",
        "print(z)"
      ],
      "execution_count": null,
      "outputs": [
        {
          "output_type": "stream",
          "text": [
            "1\n",
            "2\n",
            "3\n"
          ],
          "name": "stdout"
        }
      ]
    },
    {
      "cell_type": "code",
      "metadata": {
        "colab": {
          "base_uri": "https://localhost:8080/"
        },
        "id": "ieS1wQzx_AJv",
        "outputId": "1c870207-1cd7-4088-8b3b-9dc9b07ffb04"
      },
      "source": [
        "x = float(1)     # x will be 1.0\r\n",
        "y = float(2.8)   # y will be 2.8\r\n",
        "z = float(\"3\")   # z will be 3.0\r\n",
        "w = float(\"4.2\") # w will be 4.2\r\n",
        "print(x)\r\n",
        "print(y)\r\n",
        "print(z)\r\n",
        "print(w)"
      ],
      "execution_count": null,
      "outputs": [
        {
          "output_type": "stream",
          "text": [
            "1.0\n",
            "2.8\n",
            "3.0\n",
            "4.2\n"
          ],
          "name": "stdout"
        }
      ]
    },
    {
      "cell_type": "code",
      "metadata": {
        "colab": {
          "base_uri": "https://localhost:8080/"
        },
        "id": "lD1GJ8LW_HR9",
        "outputId": "7f267adf-7fb1-4132-f7d9-f67f9c6e019c"
      },
      "source": [
        "x = str(\"s1\") # x will be 's1'\r\n",
        "y = str(2)    # y will be '2'\r\n",
        "z = str(3.0)  # z will be '3.0'\r\n",
        "print(x)\r\n",
        "print(y)\r\n",
        "print(z)"
      ],
      "execution_count": null,
      "outputs": [
        {
          "output_type": "stream",
          "text": [
            "s1\n",
            "2\n",
            "3.0\n"
          ],
          "name": "stdout"
        }
      ]
    },
    {
      "cell_type": "markdown",
      "metadata": {
        "id": "M4rEp6Wf_zX5"
      },
      "source": [
        "**Strings**"
      ]
    },
    {
      "cell_type": "code",
      "metadata": {
        "id": "-rLJDp4A_0IB"
      },
      "source": [
        "Strings in python are surrounded by either single quotation marks, or double quotation marks.\r\n",
        "\r\n",
        "'hello' is the same as \"hello\".\r\n",
        "\r\n",
        "You can display a string literal with the print() function"
      ],
      "execution_count": null,
      "outputs": []
    },
    {
      "cell_type": "code",
      "metadata": {
        "colab": {
          "base_uri": "https://localhost:8080/"
        },
        "id": "37HgpaiC_5UM",
        "outputId": "dff22339-d3b4-4695-f1ff-263987c511c8"
      },
      "source": [
        "print(\"Hello\")\r\n",
        "print('Hello')"
      ],
      "execution_count": null,
      "outputs": [
        {
          "output_type": "stream",
          "text": [
            "Hello\n",
            "Hello\n"
          ],
          "name": "stdout"
        }
      ]
    },
    {
      "cell_type": "code",
      "metadata": {
        "colab": {
          "base_uri": "https://localhost:8080/"
        },
        "id": "SU4hCfrz_7Jc",
        "outputId": "499dea33-0762-44b2-e67e-eaf18d7650b8"
      },
      "source": [
        "#Assign String to a Variable\r\n",
        "#Assigning a string to a variable is done with the variable name followed by an equal sign and the string\r\n",
        "a = \"Hello\"\r\n",
        "print(a)"
      ],
      "execution_count": null,
      "outputs": [
        {
          "output_type": "stream",
          "text": [
            "Hello\n"
          ],
          "name": "stdout"
        }
      ]
    },
    {
      "cell_type": "code",
      "metadata": {
        "colab": {
          "base_uri": "https://localhost:8080/"
        },
        "id": "BQ5Prg8nACyJ",
        "outputId": "d89d6a76-bc40-4e29-b60c-bdfbf6db81fc"
      },
      "source": [
        "#Multiline Strings\r\n",
        "#You can assign a multiline string to a variable by using three quotes\r\n",
        "a = \"\"\"Lorem ipsum dolor sit amet,\r\n",
        "consectetur adipiscing elit,\r\n",
        "sed do eiusmod tempor incididunt\r\n",
        "ut labore et dolore magna aliqua.\"\"\"\r\n",
        "print(a)"
      ],
      "execution_count": null,
      "outputs": [
        {
          "output_type": "stream",
          "text": [
            "Lorem ipsum dolor sit amet,\n",
            "consectetur adipiscing elit,\n",
            "sed do eiusmod tempor incididunt\n",
            "ut labore et dolore magna aliqua.\n"
          ],
          "name": "stdout"
        }
      ]
    },
    {
      "cell_type": "code",
      "metadata": {
        "colab": {
          "base_uri": "https://localhost:8080/"
        },
        "id": "kEAQRhLHALC-",
        "outputId": "1804bc5a-cbe1-4802-f63a-24d347644992"
      },
      "source": [
        "#Square brackets can be used to access elements of the string.\r\n",
        "a = \"Hello, World!\"\r\n",
        "print(a[1])"
      ],
      "execution_count": null,
      "outputs": [
        {
          "output_type": "stream",
          "text": [
            "e\n"
          ],
          "name": "stdout"
        }
      ]
    },
    {
      "cell_type": "code",
      "metadata": {
        "colab": {
          "base_uri": "https://localhost:8080/"
        },
        "id": "2BKl3XRDAdYN",
        "outputId": "edf7a9e9-d736-4ba6-95ce-221cf42a2648"
      },
      "source": [
        "#Looping Through a String\r\n",
        "#Since strings are arrays, we can loop through the characters in a string, with a for loop\r\n",
        "for x in \"banana\":\r\n",
        "  print(x)"
      ],
      "execution_count": null,
      "outputs": [
        {
          "output_type": "stream",
          "text": [
            "b\n",
            "a\n",
            "n\n",
            "a\n",
            "n\n",
            "a\n"
          ],
          "name": "stdout"
        }
      ]
    },
    {
      "cell_type": "code",
      "metadata": {
        "colab": {
          "base_uri": "https://localhost:8080/"
        },
        "id": "aToJ3rDFArSy",
        "outputId": "2a7db0ae-f08f-4194-d42a-a33792eb58c9"
      },
      "source": [
        "#String Length\r\n",
        "#To get the length of a string, use the len() function\r\n",
        "a = \"Hello, World!\"\r\n",
        "print(len(a))"
      ],
      "execution_count": null,
      "outputs": [
        {
          "output_type": "stream",
          "text": [
            "13\n"
          ],
          "name": "stdout"
        }
      ]
    },
    {
      "cell_type": "code",
      "metadata": {
        "colab": {
          "base_uri": "https://localhost:8080/"
        },
        "id": "9C-ucR8kA0Me",
        "outputId": "16aeb3a2-04f5-41dd-a2f1-aa8693fc3ba6"
      },
      "source": [
        "#Check String\r\n",
        "#To check if a certain phrase or character is present in a string, we can use the keyword in\r\n",
        "txt = \"The best things in life are free!\"\r\n",
        "print(\"free\" in txt)"
      ],
      "execution_count": null,
      "outputs": [
        {
          "output_type": "stream",
          "text": [
            "True\n"
          ],
          "name": "stdout"
        }
      ]
    },
    {
      "cell_type": "code",
      "metadata": {
        "colab": {
          "base_uri": "https://localhost:8080/"
        },
        "id": "UiXmm_BhA9fY",
        "outputId": "c008f9c3-8ab4-487c-b6cb-9d871c87eb9c"
      },
      "source": [
        "txt = \"The best things in life are free!\"\r\n",
        "if \"free\" in txt:\r\n",
        "  print(\"Yes, 'free' is present.\")"
      ],
      "execution_count": null,
      "outputs": [
        {
          "output_type": "stream",
          "text": [
            "Yes, 'free' is present.\n"
          ],
          "name": "stdout"
        }
      ]
    },
    {
      "cell_type": "code",
      "metadata": {
        "colab": {
          "base_uri": "https://localhost:8080/"
        },
        "id": "w_JbnAt0BKUm",
        "outputId": "522dfe13-ef33-45be-ad08-7b3a29ef4339"
      },
      "source": [
        "#Check if NOT:To check if a certain phrase or character is NOT present in a string, we can use the keyword not in\r\n",
        "txt = \"The best things in life are free!\"\r\n",
        "print(\"expensive\" not in txt)"
      ],
      "execution_count": null,
      "outputs": [
        {
          "output_type": "stream",
          "text": [
            "True\n"
          ],
          "name": "stdout"
        }
      ]
    },
    {
      "cell_type": "code",
      "metadata": {
        "colab": {
          "base_uri": "https://localhost:8080/"
        },
        "id": "vEUMBgO3BSGE",
        "outputId": "f734efa7-a098-4669-c3cb-8932fa1c1d51"
      },
      "source": [
        "txt = \"The best things in life are free!\"\r\n",
        "if \"expensive\" not in txt:\r\n",
        "  print(\"Yes, 'expensive' is NOT present.\")"
      ],
      "execution_count": null,
      "outputs": [
        {
          "output_type": "stream",
          "text": [
            "Yes, 'expensive' is NOT present.\n"
          ],
          "name": "stdout"
        }
      ]
    },
    {
      "cell_type": "markdown",
      "metadata": {
        "id": "4bHkMX2nDPlP"
      },
      "source": [
        "**Slicing Strings**"
      ]
    },
    {
      "cell_type": "code",
      "metadata": {
        "colab": {
          "base_uri": "https://localhost:8080/"
        },
        "id": "Sbacsa2ZDQe6",
        "outputId": "e6f85105-4694-471e-ed9e-2c7110992e67"
      },
      "source": [
        "#Slicing\r\n",
        "#You can return a range of characters by using the slice syntax.\r\n",
        "#Specify the start index and the end index, separated by a colon, to return a part of the string.\r\n",
        "b = \"Hello, World!\"\r\n",
        "print(b[2:5])"
      ],
      "execution_count": null,
      "outputs": [
        {
          "output_type": "stream",
          "text": [
            "llo\n"
          ],
          "name": "stdout"
        }
      ]
    },
    {
      "cell_type": "code",
      "metadata": {
        "colab": {
          "base_uri": "https://localhost:8080/"
        },
        "id": "9iSO2WY1DeHm",
        "outputId": "6f33ad60-a84f-440c-c351-c9d668e31682"
      },
      "source": [
        "#Slice From the Start:By leaving out the start index, the range will start at the first character\r\n",
        "b = \"Hello, World!\"\r\n",
        "print(b[:5])"
      ],
      "execution_count": null,
      "outputs": [
        {
          "output_type": "stream",
          "text": [
            "Hello\n"
          ],
          "name": "stdout"
        }
      ]
    },
    {
      "cell_type": "code",
      "metadata": {
        "colab": {
          "base_uri": "https://localhost:8080/"
        },
        "id": "_P3eqnwiD76-",
        "outputId": "c66e6d0f-2a50-4e75-ca19-440608573e05"
      },
      "source": [
        "#Slice To the End:By leaving out the end index, the range will go to the end\r\n",
        "b = \"Hello, World!\"\r\n",
        "print(b[2:])"
      ],
      "execution_count": null,
      "outputs": [
        {
          "output_type": "stream",
          "text": [
            "llo, World!\n"
          ],
          "name": "stdout"
        }
      ]
    },
    {
      "cell_type": "code",
      "metadata": {
        "colab": {
          "base_uri": "https://localhost:8080/"
        },
        "id": "Fjd1DodBEC90",
        "outputId": "b35739c3-3836-40d0-b632-f3331aa6a6a8"
      },
      "source": [
        "#Negative Indexing:Use negative indexes to start the slice from the end of the string\r\n",
        "b = \"Hello, World!\"\r\n",
        "print(b[-5:-2])"
      ],
      "execution_count": null,
      "outputs": [
        {
          "output_type": "stream",
          "text": [
            "orl\n"
          ],
          "name": "stdout"
        }
      ]
    },
    {
      "cell_type": "markdown",
      "metadata": {
        "id": "UlzuJgB9Ei7f"
      },
      "source": [
        "**Modify Strings**"
      ]
    },
    {
      "cell_type": "code",
      "metadata": {
        "colab": {
          "base_uri": "https://localhost:8080/"
        },
        "id": "l-qGvd5FEjrI",
        "outputId": "883248db-3173-4e16-b34e-6fb31ec60dfe"
      },
      "source": [
        "#Upper Case:upper() method returns the string in upper case\r\n",
        "a = \"Hello, World!\"\r\n",
        "print(a.upper())"
      ],
      "execution_count": null,
      "outputs": [
        {
          "output_type": "stream",
          "text": [
            "HELLO, WORLD!\n"
          ],
          "name": "stdout"
        }
      ]
    },
    {
      "cell_type": "code",
      "metadata": {
        "colab": {
          "base_uri": "https://localhost:8080/"
        },
        "id": "WshgMWBMEtH5",
        "outputId": "e7c60b7a-e677-46ab-bb5b-a148ada64255"
      },
      "source": [
        "#Lower Case:lower() method returns the string in lower case\r\n",
        "a = \"Hello, World!\"\r\n",
        "print(a.lower())"
      ],
      "execution_count": null,
      "outputs": [
        {
          "output_type": "stream",
          "text": [
            "hello, world!\n"
          ],
          "name": "stdout"
        }
      ]
    },
    {
      "cell_type": "code",
      "metadata": {
        "colab": {
          "base_uri": "https://localhost:8080/"
        },
        "id": "HQhroMPsEyts",
        "outputId": "6da025ed-29b4-4ccd-9c81-6f78a0152c91"
      },
      "source": [
        "#Remove Whitespace:Whitespace is the space before and/or after the actual text, and very often you want to remove this space\r\n",
        "#The strip() method removes any whitespace from the beginning or the end:\r\n",
        "a = \" Hello, World! \"\r\n",
        "print(a.strip())"
      ],
      "execution_count": null,
      "outputs": [
        {
          "output_type": "stream",
          "text": [
            "Hello, World!\n"
          ],
          "name": "stdout"
        }
      ]
    },
    {
      "cell_type": "code",
      "metadata": {
        "colab": {
          "base_uri": "https://localhost:8080/"
        },
        "id": "wYXLrzGAKXBD",
        "outputId": "846af284-349d-4877-fb1b-7116b1842790"
      },
      "source": [
        "#Replace String:The replace() method replaces a string with another string\r\n",
        "a = \"Hello, World!\"\r\n",
        "print(a.replace(\"W\",\"K\"))"
      ],
      "execution_count": null,
      "outputs": [
        {
          "output_type": "stream",
          "text": [
            "Hello, Korld!\n"
          ],
          "name": "stdout"
        }
      ]
    },
    {
      "cell_type": "code",
      "metadata": {
        "colab": {
          "base_uri": "https://localhost:8080/"
        },
        "id": "b8I1WK-xKkLl",
        "outputId": "4e944c24-4823-4226-eccf-d06b73b7ada6"
      },
      "source": [
        "#Split String:The split() method returns a list where the text between the specified separator becomes the list items\r\n",
        "a = \"Hello, World!\"\r\n",
        "print(a.split(\",\"))"
      ],
      "execution_count": null,
      "outputs": [
        {
          "output_type": "stream",
          "text": [
            "['Hello', ' World!']\n"
          ],
          "name": "stdout"
        }
      ]
    },
    {
      "cell_type": "markdown",
      "metadata": {
        "id": "m7XUPp2dKu7J"
      },
      "source": [
        "**String Concatenation**"
      ]
    },
    {
      "cell_type": "code",
      "metadata": {
        "colab": {
          "base_uri": "https://localhost:8080/"
        },
        "id": "osVMynJyKv4U",
        "outputId": "84ba3618-13e3-4af3-fbcb-45eff2703c0a"
      },
      "source": [
        "#To concatenate, or combine, two strings you can use the + operator\r\n",
        "a = \"Hello\"\r\n",
        "b = \"World\"\r\n",
        "c = a + b\r\n",
        "print(c)"
      ],
      "execution_count": null,
      "outputs": [
        {
          "output_type": "stream",
          "text": [
            "HelloWorld\n"
          ],
          "name": "stdout"
        }
      ]
    },
    {
      "cell_type": "markdown",
      "metadata": {
        "id": "p8ROhSf2LttB"
      },
      "source": [
        "**Format - Strings**"
      ]
    },
    {
      "cell_type": "code",
      "metadata": {
        "colab": {
          "base_uri": "https://localhost:8080/"
        },
        "id": "I_MgaXQCLuiT",
        "outputId": "4163fed9-884d-4e03-eea7-30a8b570f1b2"
      },
      "source": [
        "#we can combine strings and numbers by using the format() method\r\n",
        "#The format() method takes unlimited number of arguments, and are placed into the respective placeholders\r\n",
        "#The format() method takes the passed arguments, formats them, and places them in the string where the placeholders {} are\r\n",
        "age = 36\r\n",
        "txt = \"My name is John, and I am {}\"\r\n",
        "print(txt.format(age))"
      ],
      "execution_count": null,
      "outputs": [
        {
          "output_type": "stream",
          "text": [
            "My name is John, and I am 36\n"
          ],
          "name": "stdout"
        }
      ]
    },
    {
      "cell_type": "code",
      "metadata": {
        "colab": {
          "base_uri": "https://localhost:8080/"
        },
        "id": "IzWqzHgwMYoA",
        "outputId": "546950be-ca40-4b9b-dd63-439432606143"
      },
      "source": [
        "quantity = 3\r\n",
        "itemno = 567\r\n",
        "price = 49.95\r\n",
        "myorder = \"I want {} pieces of item {} for {} dollars.\"\r\n",
        "print(myorder.format(quantity,itemno,price))"
      ],
      "execution_count": null,
      "outputs": [
        {
          "output_type": "stream",
          "text": [
            "I want 3 pieces of item 567 for 49.95 dollars.\n"
          ],
          "name": "stdout"
        }
      ]
    },
    {
      "cell_type": "code",
      "metadata": {
        "colab": {
          "base_uri": "https://localhost:8080/"
        },
        "id": "bg7ikKBgMvoN",
        "outputId": "b870c451-5b2c-4821-9d99-22100573cb62"
      },
      "source": [
        "# index numbers {0} to be sure the arguments are placed in the correct placeholders\r\n",
        "quantity = 3\r\n",
        "itemno = 567\r\n",
        "price = 49.95\r\n",
        "myorder = \"I want to pay {2} dollars for {0} pieces of item {1}.\"\r\n",
        "print(myorder.format(quantity, itemno, price))"
      ],
      "execution_count": null,
      "outputs": [
        {
          "output_type": "stream",
          "text": [
            "I want to pay 49.95 dollars for 3 pieces of item 567.\n"
          ],
          "name": "stdout"
        }
      ]
    },
    {
      "cell_type": "markdown",
      "metadata": {
        "id": "eKqyr3jBOz9k"
      },
      "source": [
        "**Escape Characters**"
      ]
    },
    {
      "cell_type": "code",
      "metadata": {
        "id": "Qg5hr747OkKS"
      },
      "source": [
        "#To insert characters that are illegal in a string, use an escape character.\r\n",
        "\r\n",
        "#An escape character is a backslash \\ followed by the character you want to insert."
      ],
      "execution_count": null,
      "outputs": []
    },
    {
      "cell_type": "code",
      "metadata": {
        "colab": {
          "base_uri": "https://localhost:8080/"
        },
        "id": "DkZ4qqvPOkXH",
        "outputId": "3f0f30e3-2ea9-4997-ef50-44264cf29656"
      },
      "source": [
        "txt = \"We are the so-called \\\"Vikings\\\" from the north.\"\r\n",
        "print(txt)"
      ],
      "execution_count": null,
      "outputs": [
        {
          "output_type": "stream",
          "text": [
            "We are the so-called \"Vikings\" from the north.\n"
          ],
          "name": "stdout"
        }
      ]
    },
    {
      "cell_type": "code",
      "metadata": {
        "colab": {
          "base_uri": "https://localhost:8080/"
        },
        "id": "5lbk2X3iOkk-",
        "outputId": "e65c9b5f-6187-4f87-d5dd-42a9cde0ee6f"
      },
      "source": [
        "#\tSingle Quote\r\n",
        "txt = 'It\\'s alright.'\r\n",
        "print(txt) "
      ],
      "execution_count": null,
      "outputs": [
        {
          "output_type": "stream",
          "text": [
            "It's alright.\n"
          ],
          "name": "stdout"
        }
      ]
    },
    {
      "cell_type": "code",
      "metadata": {
        "colab": {
          "base_uri": "https://localhost:8080/"
        },
        "id": "fI9FHM0gQyWK",
        "outputId": "d6b7bde4-04ef-4ec7-e013-b452d790b6ab"
      },
      "source": [
        "#Backslash\r\n",
        "txt = \"This will insert one \\\\ (backslash).\"\r\n",
        "print(txt) "
      ],
      "execution_count": null,
      "outputs": [
        {
          "output_type": "stream",
          "text": [
            "This will insert one \\ (backslash).\n"
          ],
          "name": "stdout"
        }
      ]
    },
    {
      "cell_type": "code",
      "metadata": {
        "colab": {
          "base_uri": "https://localhost:8080/"
        },
        "id": "9FQubzxkQ3Kh",
        "outputId": "7be9d30e-e1c5-4dda-ddeb-07a119f31b75"
      },
      "source": [
        "#New Line\r\n",
        "txt = \"Hello\\nWorld!\"\r\n",
        "print(txt) "
      ],
      "execution_count": null,
      "outputs": [
        {
          "output_type": "stream",
          "text": [
            "Hello\n",
            "World!\n"
          ],
          "name": "stdout"
        }
      ]
    },
    {
      "cell_type": "code",
      "metadata": {
        "colab": {
          "base_uri": "https://localhost:8080/"
        },
        "id": "4MOxR3IIRGzm",
        "outputId": "9d676e70-f20d-4d2e-9261-34750aebb411"
      },
      "source": [
        "#Carriage Return\r\n",
        "txt = \"Hello\\rWorld!\"\r\n",
        "print(txt) "
      ],
      "execution_count": null,
      "outputs": [
        {
          "output_type": "stream",
          "text": [
            "Hello\rWorld!\n"
          ],
          "name": "stdout"
        }
      ]
    },
    {
      "cell_type": "code",
      "metadata": {
        "colab": {
          "base_uri": "https://localhost:8080/"
        },
        "id": "DRObC9Y4Rksp",
        "outputId": "c04fa9bb-dbb4-455a-d20b-4ae138669d5e"
      },
      "source": [
        "#Tab\r\n",
        "txt = \"Hello\\tWorld!\"\r\n",
        "print(txt) "
      ],
      "execution_count": null,
      "outputs": [
        {
          "output_type": "stream",
          "text": [
            "Hello\tWorld!\n"
          ],
          "name": "stdout"
        }
      ]
    },
    {
      "cell_type": "code",
      "metadata": {
        "colab": {
          "base_uri": "https://localhost:8080/"
        },
        "id": "5HHxLcWLRk2B",
        "outputId": "c46814ea-7998-4ced-dbbf-cff72b37b98d"
      },
      "source": [
        "#Backspace\r\n",
        "txt = \"Hello \\bWorld!\"\r\n",
        "print(txt) "
      ],
      "execution_count": null,
      "outputs": [
        {
          "output_type": "stream",
          "text": [
            "Hello \bWorld!\n"
          ],
          "name": "stdout"
        }
      ]
    },
    {
      "cell_type": "code",
      "metadata": {
        "colab": {
          "base_uri": "https://localhost:8080/"
        },
        "id": "KRImzg-wRy_k",
        "outputId": "ff84ef89-8198-4950-d18a-d1ee7ada63ac"
      },
      "source": [
        "#Octal value\r\n",
        "txt = \"\\110\\145\\154\\154\\157\"\r\n",
        "print(txt) "
      ],
      "execution_count": null,
      "outputs": [
        {
          "output_type": "stream",
          "text": [
            "Hello\n"
          ],
          "name": "stdout"
        }
      ]
    },
    {
      "cell_type": "code",
      "metadata": {
        "colab": {
          "base_uri": "https://localhost:8080/"
        },
        "id": "WfaTb8-6R7Rc",
        "outputId": "9f59e499-9b06-4d03-925f-5d6d11e46d31"
      },
      "source": [
        "#Hex value\r\n",
        "txt = \"\\x48\\x65\\x6c\\x6c\\x6f\"\r\n",
        "print(txt)"
      ],
      "execution_count": null,
      "outputs": [
        {
          "output_type": "stream",
          "text": [
            "Hello\n"
          ],
          "name": "stdout"
        }
      ]
    },
    {
      "cell_type": "markdown",
      "metadata": {
        "id": "xyVIGgYiTHjJ"
      },
      "source": [
        "**String Methods**"
      ]
    },
    {
      "cell_type": "code",
      "metadata": {
        "id": "46PpcmkOTFKr"
      },
      "source": [
        "Python has a set of built-in methods that you can use on strings.\r\n",
        "Note: All string methods returns new values. They do not change the original string."
      ],
      "execution_count": null,
      "outputs": []
    },
    {
      "cell_type": "code",
      "metadata": {
        "colab": {
          "base_uri": "https://localhost:8080/"
        },
        "id": "1LY7ZQkpTMJC",
        "outputId": "8e324513-37f8-49f0-b089-4f5971054ab9"
      },
      "source": [
        "#capitalize()\tConverts the first character to upper case\r\n",
        "txt = \"hello, and welcome to my world.\"\r\n",
        "\r\n",
        "x = txt.capitalize()\r\n",
        "\r\n",
        "print (x)"
      ],
      "execution_count": null,
      "outputs": [
        {
          "output_type": "stream",
          "text": [
            "Hello, and welcome to my world.\n"
          ],
          "name": "stdout"
        }
      ]
    },
    {
      "cell_type": "code",
      "metadata": {
        "colab": {
          "base_uri": "https://localhost:8080/"
        },
        "id": "sCsu2KE7Tcf8",
        "outputId": "120b61c8-91be-4b24-ccb6-e3e7f18fc5cb"
      },
      "source": [
        "txt = \"36 is my age.\"\r\n",
        "\r\n",
        "x = txt.capitalize()\r\n",
        "\r\n",
        "print (x)"
      ],
      "execution_count": null,
      "outputs": [
        {
          "output_type": "stream",
          "text": [
            "36 is my age.\n"
          ],
          "name": "stdout"
        }
      ]
    },
    {
      "cell_type": "code",
      "metadata": {
        "colab": {
          "base_uri": "https://localhost:8080/"
        },
        "id": "nqe8fE6vTncr",
        "outputId": "529f59e8-b9cd-4efa-9078-710315e75347"
      },
      "source": [
        "#casefold()\tConverts string into lower case\r\n",
        "txt = \"Hello, And Welcome To My World!\"\r\n",
        "\r\n",
        "x = txt.casefold()\r\n",
        "\r\n",
        "print(x)"
      ],
      "execution_count": null,
      "outputs": [
        {
          "output_type": "stream",
          "text": [
            "hello, and welcome to my world!\n"
          ],
          "name": "stdout"
        }
      ]
    },
    {
      "cell_type": "code",
      "metadata": {
        "colab": {
          "base_uri": "https://localhost:8080/"
        },
        "id": "fQye5hXNTnlo",
        "outputId": "a40953c3-2553-4d4f-e41b-f497c1137205"
      },
      "source": [
        "#center()\tReturns a centered string\r\n",
        "txt = \"banana\"\r\n",
        "\r\n",
        "x = txt.center(20)\r\n",
        "\r\n",
        "print(x)"
      ],
      "execution_count": null,
      "outputs": [
        {
          "output_type": "stream",
          "text": [
            "       banana       \n"
          ],
          "name": "stdout"
        }
      ]
    },
    {
      "cell_type": "code",
      "metadata": {
        "colab": {
          "base_uri": "https://localhost:8080/"
        },
        "id": "_GJzde8kT64G",
        "outputId": "4d8399db-e0a3-43eb-e581-e08be2e3946f"
      },
      "source": [
        "#count()\tReturns the number of times a specified value occurs in a string\r\n",
        "txt = \"I love apples, apple are my favorite fruit\"\r\n",
        "\r\n",
        "x = txt.count(\"apple\")\r\n",
        "\r\n",
        "print(x)"
      ],
      "execution_count": null,
      "outputs": [
        {
          "output_type": "stream",
          "text": [
            "2\n"
          ],
          "name": "stdout"
        }
      ]
    },
    {
      "cell_type": "code",
      "metadata": {
        "colab": {
          "base_uri": "https://localhost:8080/"
        },
        "id": "LjAOY706UBXC",
        "outputId": "58ca6310-7218-48aa-889a-fe17ea0bba9d"
      },
      "source": [
        "txt = \"I love apples, apple are my favorite fruit\"\r\n",
        "\r\n",
        "x = txt.count(\"apple\", 10, 24)#Search from position 10 to 24\r\n",
        "\r\n",
        "print(x)"
      ],
      "execution_count": null,
      "outputs": [
        {
          "output_type": "stream",
          "text": [
            "1\n"
          ],
          "name": "stdout"
        }
      ]
    },
    {
      "cell_type": "code",
      "metadata": {
        "colab": {
          "base_uri": "https://localhost:8080/"
        },
        "id": "VrfJ155VVaux",
        "outputId": "148e5ba4-998d-4160-cf13-f68d39ff0482"
      },
      "source": [
        "#encode()\tReturns an encoded version of the string\r\n",
        "txt = \"My name is Ståle\"\r\n",
        "\r\n",
        "x = txt.encode()\r\n",
        "\r\n",
        "print(x)"
      ],
      "execution_count": null,
      "outputs": [
        {
          "output_type": "stream",
          "text": [
            "b'My name is St\\xc3\\xa5le'\n"
          ],
          "name": "stdout"
        }
      ]
    },
    {
      "cell_type": "code",
      "metadata": {
        "colab": {
          "base_uri": "https://localhost:8080/"
        },
        "id": "KOod9EMtVmH1",
        "outputId": "be960bfd-f6d7-429e-f654-668b28cddc19"
      },
      "source": [
        "txt = \"My name is Ståle\"\r\n",
        "\r\n",
        "print(txt.encode(encoding=\"ascii\",errors=\"backslashreplace\"))\r\n",
        "print(txt.encode(encoding=\"ascii\",errors=\"ignore\"))\r\n",
        "print(txt.encode(encoding=\"ascii\",errors=\"namereplace\"))\r\n",
        "print(txt.encode(encoding=\"ascii\",errors=\"replace\"))\r\n",
        "print(txt.encode(encoding=\"ascii\",errors=\"xmlcharrefreplace\"))"
      ],
      "execution_count": null,
      "outputs": [
        {
          "output_type": "stream",
          "text": [
            "b'My name is St\\\\xe5le'\n",
            "b'My name is Stle'\n",
            "b'My name is St\\\\N{LATIN SMALL LETTER A WITH RING ABOVE}le'\n",
            "b'My name is St?le'\n",
            "b'My name is St&#229;le'\n"
          ],
          "name": "stdout"
        }
      ]
    },
    {
      "cell_type": "code",
      "metadata": {
        "colab": {
          "base_uri": "https://localhost:8080/"
        },
        "id": "v1L7Q09jVuAM",
        "outputId": "ec64e5ec-a614-41d7-beb3-51ab2e498071"
      },
      "source": [
        "#endswith()\tReturns true if the string ends with the specified value\r\n",
        "txt = \"Hello, welcome to my world.\"\r\n",
        "\r\n",
        "x = txt.endswith(\".\")\r\n",
        "\r\n",
        "print(x)"
      ],
      "execution_count": null,
      "outputs": [
        {
          "output_type": "stream",
          "text": [
            "True\n"
          ],
          "name": "stdout"
        }
      ]
    },
    {
      "cell_type": "code",
      "metadata": {
        "colab": {
          "base_uri": "https://localhost:8080/"
        },
        "id": "TRzl4ZhXV0xG",
        "outputId": "9fad861b-7596-48db-98f9-359302c46baa"
      },
      "source": [
        "txt = \"Hello, welcome to my world.\"\r\n",
        "\r\n",
        "x = txt.endswith(\"my world.\")\r\n",
        "\r\n",
        "print(x)"
      ],
      "execution_count": null,
      "outputs": [
        {
          "output_type": "stream",
          "text": [
            "True\n"
          ],
          "name": "stdout"
        }
      ]
    },
    {
      "cell_type": "code",
      "metadata": {
        "colab": {
          "base_uri": "https://localhost:8080/"
        },
        "id": "3M704l9cV5Ly",
        "outputId": "681d1939-de9d-40b4-8a4d-63d166d827d2"
      },
      "source": [
        "txt = \"Hello, welcome to my world.\"\r\n",
        "\r\n",
        "x = txt.endswith(\"my world.\", 5, 11)#Check if position 5 to 11 ends with the phrase \"my world.\"\r\n",
        "\r\n",
        "print(x)"
      ],
      "execution_count": null,
      "outputs": [
        {
          "output_type": "stream",
          "text": [
            "False\n"
          ],
          "name": "stdout"
        }
      ]
    },
    {
      "cell_type": "code",
      "metadata": {
        "colab": {
          "base_uri": "https://localhost:8080/"
        },
        "id": "GNWy0bRqWE3d",
        "outputId": "eed9afa5-5a87-4e2a-8997-d2d0771ef356"
      },
      "source": [
        "#expandtabs()\tSets the tab size of the string\r\n",
        "txt = \"H\\te\\tl\\tl\\to\"\r\n",
        "\r\n",
        "x =  txt.expandtabs(2)\r\n",
        "\r\n",
        "print(x)"
      ],
      "execution_count": null,
      "outputs": [
        {
          "output_type": "stream",
          "text": [
            "H e l l o\n"
          ],
          "name": "stdout"
        }
      ]
    },
    {
      "cell_type": "code",
      "metadata": {
        "colab": {
          "base_uri": "https://localhost:8080/"
        },
        "id": "ArgEKzcmWLt2",
        "outputId": "d6d3bcf3-8ad9-4205-f2c9-401901dbbe0f"
      },
      "source": [
        "txt = \"H\\te\\tl\\tl\\to\"\r\n",
        "\r\n",
        "print(txt)\r\n",
        "print(txt.expandtabs())\r\n",
        "print(txt.expandtabs(2))\r\n",
        "print(txt.expandtabs(4))\r\n",
        "print(txt.expandtabs(10))"
      ],
      "execution_count": null,
      "outputs": [
        {
          "output_type": "stream",
          "text": [
            "H\te\tl\tl\to\n",
            "H       e       l       l       o\n",
            "H e l l o\n",
            "H   e   l   l   o\n",
            "H         e         l         l         o\n"
          ],
          "name": "stdout"
        }
      ]
    },
    {
      "cell_type": "code",
      "metadata": {
        "colab": {
          "base_uri": "https://localhost:8080/"
        },
        "id": "uAIYKeSYXnnU",
        "outputId": "5c329d06-5f4c-4644-de10-d31292296d44"
      },
      "source": [
        "#find()\tSearches the string for a specified value and returns the position of where it was found\r\n",
        "txt = \"Hello, welcome to my world.\"\r\n",
        "\r\n",
        "x = txt.find(\"welcome\")\r\n",
        "\r\n",
        "print(x)"
      ],
      "execution_count": null,
      "outputs": [
        {
          "output_type": "stream",
          "text": [
            "7\n"
          ],
          "name": "stdout"
        }
      ]
    },
    {
      "cell_type": "code",
      "metadata": {
        "colab": {
          "base_uri": "https://localhost:8080/"
        },
        "id": "04tc5wbJXvGy",
        "outputId": "026f74b0-b844-449c-86e0-20f355d70551"
      },
      "source": [
        "txt = \"Hello, welcome to my world.\"\r\n",
        "\r\n",
        "x = txt.find(\"e\")\r\n",
        "\r\n",
        "print(x)"
      ],
      "execution_count": null,
      "outputs": [
        {
          "output_type": "stream",
          "text": [
            "1\n"
          ],
          "name": "stdout"
        }
      ]
    },
    {
      "cell_type": "code",
      "metadata": {
        "colab": {
          "base_uri": "https://localhost:8080/"
        },
        "id": "xTWKB05eXytw",
        "outputId": "b0ecc689-7c88-462f-f252-18cef9dcd1db"
      },
      "source": [
        "txt = \"Hello, welcome to my world.\"\r\n",
        "\r\n",
        "x = txt.find(\"e\", 5, 10)#first occurrence of the letter \"e\" when you only search between position 5 and 10\r\n",
        "\r\n",
        "print(x)"
      ],
      "execution_count": null,
      "outputs": [
        {
          "output_type": "stream",
          "text": [
            "8\n"
          ],
          "name": "stdout"
        }
      ]
    },
    {
      "cell_type": "code",
      "metadata": {
        "colab": {
          "base_uri": "https://localhost:8080/",
          "height": 214
        },
        "id": "QCA-Y7i8X8ew",
        "outputId": "6691f17d-4fec-4c82-d59b-a7872f400a72"
      },
      "source": [
        "txt = \"Hello, welcome to my world.\"\r\n",
        "#If the value is not found, the find() method returns -1, but the index() method will raise an exception\r\n",
        "\r\n",
        "print(txt.find(\"q\"))\r\n",
        "print(txt.index(\"q\"))"
      ],
      "execution_count": null,
      "outputs": [
        {
          "output_type": "stream",
          "text": [
            "-1\n"
          ],
          "name": "stdout"
        },
        {
          "output_type": "error",
          "ename": "ValueError",
          "evalue": "ignored",
          "traceback": [
            "\u001b[0;31m---------------------------------------------------------------------------\u001b[0m",
            "\u001b[0;31mValueError\u001b[0m                                Traceback (most recent call last)",
            "\u001b[0;32m<ipython-input-91-233e888b7cf2>\u001b[0m in \u001b[0;36m<module>\u001b[0;34m()\u001b[0m\n\u001b[1;32m      2\u001b[0m \u001b[0;34m\u001b[0m\u001b[0m\n\u001b[1;32m      3\u001b[0m \u001b[0mprint\u001b[0m\u001b[0;34m(\u001b[0m\u001b[0mtxt\u001b[0m\u001b[0;34m.\u001b[0m\u001b[0mfind\u001b[0m\u001b[0;34m(\u001b[0m\u001b[0;34m\"q\"\u001b[0m\u001b[0;34m)\u001b[0m\u001b[0;34m)\u001b[0m\u001b[0;34m\u001b[0m\u001b[0;34m\u001b[0m\u001b[0m\n\u001b[0;32m----> 4\u001b[0;31m \u001b[0mprint\u001b[0m\u001b[0;34m(\u001b[0m\u001b[0mtxt\u001b[0m\u001b[0;34m.\u001b[0m\u001b[0mindex\u001b[0m\u001b[0;34m(\u001b[0m\u001b[0;34m\"q\"\u001b[0m\u001b[0;34m)\u001b[0m\u001b[0;34m)\u001b[0m\u001b[0;34m\u001b[0m\u001b[0;34m\u001b[0m\u001b[0m\n\u001b[0m",
            "\u001b[0;31mValueError\u001b[0m: substring not found"
          ]
        }
      ]
    },
    {
      "cell_type": "code",
      "metadata": {
        "colab": {
          "base_uri": "https://localhost:8080/"
        },
        "id": "cGK78K-8ZAQl",
        "outputId": "8417b779-6ca7-4ee3-efc8-c3c358368d25"
      },
      "source": [
        "#upper()\tConverts a string into upper case\r\n",
        "txt = \"Hello my friends\"\r\n",
        "\r\n",
        "x = txt.upper()\r\n",
        "\r\n",
        "print(x)"
      ],
      "execution_count": null,
      "outputs": [
        {
          "output_type": "stream",
          "text": [
            "HELLO MY FRIENDS\n"
          ],
          "name": "stdout"
        }
      ]
    },
    {
      "cell_type": "code",
      "metadata": {
        "colab": {
          "base_uri": "https://localhost:8080/"
        },
        "id": "GFSSb1LKZJWZ",
        "outputId": "ee2a5a1d-6a88-45f1-9bab-59e7e830008a"
      },
      "source": [
        "#translate()\tReturns a translated string\r\n",
        "\r\n",
        "#use a dictionary with ascii codes to replace 83 (S) with 80 (P):\r\n",
        "mydict = {83:  80}\r\n",
        "txt = \"Hello Sam!\"\r\n",
        "print(txt.translate(mydict))"
      ],
      "execution_count": null,
      "outputs": [
        {
          "output_type": "stream",
          "text": [
            "Hello Pam!\n"
          ],
          "name": "stdout"
        }
      ]
    },
    {
      "cell_type": "code",
      "metadata": {
        "colab": {
          "base_uri": "https://localhost:8080/"
        },
        "id": "rCcFLnFVZoQR",
        "outputId": "a5d9dc20-b634-417b-eeac-c42e808e99b0"
      },
      "source": [
        "#Use a mapping table to replace \"S\" with \"P\":\r\n",
        "\r\n",
        "txt = \"Hello Sam!\"\r\n",
        "mytable = txt.maketrans(\"S\", \"P\")\r\n",
        "print(txt.translate(mytable))"
      ],
      "execution_count": null,
      "outputs": [
        {
          "output_type": "stream",
          "text": [
            "Hello Pam!\n"
          ],
          "name": "stdout"
        }
      ]
    },
    {
      "cell_type": "code",
      "metadata": {
        "colab": {
          "base_uri": "https://localhost:8080/"
        },
        "id": "iNVA5o6AZw09",
        "outputId": "02579051-005e-4ff2-aca0-f33b475d3d04"
      },
      "source": [
        "txt = \"Hi Sam!\"\r\n",
        "x = \"mSa\"\r\n",
        "y = \"eJo\"\r\n",
        "mytable = txt.maketrans(x, y)\r\n",
        "print(txt.translate(mytable))"
      ],
      "execution_count": null,
      "outputs": [
        {
          "output_type": "stream",
          "text": [
            "Hi Joe!\n"
          ],
          "name": "stdout"
        }
      ]
    },
    {
      "cell_type": "code",
      "metadata": {
        "colab": {
          "base_uri": "https://localhost:8080/"
        },
        "id": "X7sWw0C9Z5IG",
        "outputId": "b424fc5b-5dc3-4804-f0a2-b21e168341d7"
      },
      "source": [
        "txt = \"Good night Sam!\"\r\n",
        "x = \"mSa\"\r\n",
        "y = \"eJo\"\r\n",
        "z = \"odnght\" #third parameter in the mapping table describes characters that you want to remove from the string\r\n",
        "mytable = txt.maketrans(x, y, z)\r\n",
        "print(txt.translate(mytable))"
      ],
      "execution_count": null,
      "outputs": [
        {
          "output_type": "stream",
          "text": [
            "G i Joe!\n"
          ],
          "name": "stdout"
        }
      ]
    },
    {
      "cell_type": "code",
      "metadata": {
        "colab": {
          "base_uri": "https://localhost:8080/"
        },
        "id": "6vazx3DpbiW-",
        "outputId": "d2eb2212-863c-444b-c529-ee2003d833ef"
      },
      "source": [
        "txt = \"Good night Sam!\"\r\n",
        "mydict = {109: 101, 83: 74, 97: 111, 111: None, 100: None, 110: None, 103: None, 104: None, 116: None}\r\n",
        "print(txt.translate(mydict))"
      ],
      "execution_count": null,
      "outputs": [
        {
          "output_type": "stream",
          "text": [
            "G i Joe!\n"
          ],
          "name": "stdout"
        }
      ]
    },
    {
      "cell_type": "code",
      "metadata": {
        "colab": {
          "base_uri": "https://localhost:8080/"
        },
        "id": "ppZbwDevbz_s",
        "outputId": "fc121ffe-05c2-412a-c283-d842b9478f35"
      },
      "source": [
        "#title()\tConverts the first character of each word to upper case\r\n",
        "#Make the first letter in each word upper case:\r\n",
        "\r\n",
        "txt = \"Welcome to my world\"\r\n",
        "\r\n",
        "x = txt.title()\r\n",
        "\r\n",
        "print(x)"
      ],
      "execution_count": null,
      "outputs": [
        {
          "output_type": "stream",
          "text": [
            "Welcome To My World\n"
          ],
          "name": "stdout"
        }
      ]
    },
    {
      "cell_type": "code",
      "metadata": {
        "colab": {
          "base_uri": "https://localhost:8080/"
        },
        "id": "6FNg92tAb8_x",
        "outputId": "5cd0de41-da2b-4c01-9bce-363af20312e9"
      },
      "source": [
        "txt = \"Welcome to my 2nd world\"\r\n",
        "\r\n",
        "x = txt.title()\r\n",
        "\r\n",
        "print(x)"
      ],
      "execution_count": null,
      "outputs": [
        {
          "output_type": "stream",
          "text": [
            "Welcome To My 2Nd World\n"
          ],
          "name": "stdout"
        }
      ]
    },
    {
      "cell_type": "code",
      "metadata": {
        "colab": {
          "base_uri": "https://localhost:8080/"
        },
        "id": "bBBJSAt5b0Jf",
        "outputId": "a6a95115-8e5d-4af3-f12f-22ccac168c09"
      },
      "source": [
        "txt = \"hello b2b2b2 and 3g3g3g\"\r\n",
        "\r\n",
        "x = txt.title()\r\n",
        "\r\n",
        "print(x)"
      ],
      "execution_count": null,
      "outputs": [
        {
          "output_type": "stream",
          "text": [
            "Hello B2B2B2 And 3G3G3G\n"
          ],
          "name": "stdout"
        }
      ]
    },
    {
      "cell_type": "code",
      "metadata": {
        "colab": {
          "base_uri": "https://localhost:8080/"
        },
        "id": "rXgu4a6Ib0Sy",
        "outputId": "cd9ba248-a000-4854-d23d-f88ad456f361"
      },
      "source": [
        "#swapcase()\tSwaps cases, lower case becomes upper case and vice versa\r\n",
        "txt = \"Hello My Name Is PETER\"\r\n",
        "\r\n",
        "x = txt.swapcase()\r\n",
        "\r\n",
        "print(x)"
      ],
      "execution_count": null,
      "outputs": [
        {
          "output_type": "stream",
          "text": [
            "hELLO mY nAME iS peter\n"
          ],
          "name": "stdout"
        }
      ]
    },
    {
      "cell_type": "code",
      "metadata": {
        "colab": {
          "base_uri": "https://localhost:8080/"
        },
        "id": "A8jfE96zdA5J",
        "outputId": "a92ede35-c84a-4e2c-d187-c53cfbe549cf"
      },
      "source": [
        "#strip()\tReturns a trimmed version of the string\r\n",
        "txt = \"     banana     \"\r\n",
        "\r\n",
        "x = txt.strip()\r\n",
        "\r\n",
        "print(\"of all fruits\", x, \"is my favorite\")"
      ],
      "execution_count": null,
      "outputs": [
        {
          "output_type": "stream",
          "text": [
            "of all fruits banana is my favorite\n"
          ],
          "name": "stdout"
        }
      ]
    },
    {
      "cell_type": "code",
      "metadata": {
        "colab": {
          "base_uri": "https://localhost:8080/"
        },
        "id": "84kXG9iDdMff",
        "outputId": "351481fb-07b9-4caf-8bb3-86393be88cb6"
      },
      "source": [
        "txt = \",,,,,rrttgg.....banana....rrr\"\r\n",
        "\r\n",
        "x = txt.strip(\",.grt\")\r\n",
        "\r\n",
        "print(x)"
      ],
      "execution_count": null,
      "outputs": [
        {
          "output_type": "stream",
          "text": [
            "banana\n"
          ],
          "name": "stdout"
        }
      ]
    },
    {
      "cell_type": "code",
      "metadata": {
        "colab": {
          "base_uri": "https://localhost:8080/"
        },
        "id": "HlNdOir6dOEA",
        "outputId": "73c0a37a-fe73-4b0f-e7f5-dfe04fd5ac82"
      },
      "source": [
        "#zfill()\tFills the string with a specified number of 0 values at the beginning\r\n",
        "txt = \"50\"\r\n",
        "\r\n",
        "x = txt.zfill(10) #Fill the string with zeros until it is 10 characters long\r\n",
        "\r\n",
        "print(x)"
      ],
      "execution_count": null,
      "outputs": [
        {
          "output_type": "stream",
          "text": [
            "0000000050\n"
          ],
          "name": "stdout"
        }
      ]
    },
    {
      "cell_type": "code",
      "metadata": {
        "colab": {
          "base_uri": "https://localhost:8080/"
        },
        "id": "SzRH33X6dOPW",
        "outputId": "c49df573-4ef7-4db2-bada-87d9488a0cfb"
      },
      "source": [
        "a = \"hello\"\r\n",
        "b = \"welcome to the jungle\"\r\n",
        "c = \"10.000\"\r\n",
        "\r\n",
        "print(a.zfill(10))\r\n",
        "print(b.zfill(10))\r\n",
        "print(c.zfill(10))"
      ],
      "execution_count": null,
      "outputs": [
        {
          "output_type": "stream",
          "text": [
            "00000hello\n",
            "welcome to the jungle\n",
            "000010.000\n"
          ],
          "name": "stdout"
        }
      ]
    },
    {
      "cell_type": "code",
      "metadata": {
        "colab": {
          "base_uri": "https://localhost:8080/"
        },
        "id": "LcUOliLvdOX6",
        "outputId": "1e2e8954-4a0f-4214-e05b-73e1f0b5e5fd"
      },
      "source": [
        "#startswith()\tReturns true if the string starts with the specified value\r\n",
        "txt = \"Hello, welcome to my world.\"\r\n",
        "\r\n",
        "x = txt.startswith(\"Hello\")\r\n",
        "\r\n",
        "print(x)"
      ],
      "execution_count": null,
      "outputs": [
        {
          "output_type": "stream",
          "text": [
            "True\n"
          ],
          "name": "stdout"
        }
      ]
    },
    {
      "cell_type": "code",
      "metadata": {
        "colab": {
          "base_uri": "https://localhost:8080/"
        },
        "id": "fqZR4dk0dOej",
        "outputId": "79fbc1dd-7573-4ac1-efbb-e2e1ec820096"
      },
      "source": [
        "txt = \"Hello, welcome to my world.\"\r\n",
        "\r\n",
        "x = txt.startswith(\"wel\", 7, 20)#Check if position 7 to 20 starts with the characters \"wel\"\r\n",
        "\r\n",
        "print(x)"
      ],
      "execution_count": null,
      "outputs": [
        {
          "output_type": "stream",
          "text": [
            "True\n"
          ],
          "name": "stdout"
        }
      ]
    },
    {
      "cell_type": "code",
      "metadata": {
        "colab": {
          "base_uri": "https://localhost:8080/"
        },
        "id": "3i7qnXo2gfkZ",
        "outputId": "8c41b76d-44bc-447c-cc0c-ea6cd43f8ea6"
      },
      "source": [
        "#splitlines()\tSplits the string at line breaks and returns a list\r\n",
        "txt = \"Thank you for the music\\nWelcome to the jungle\"\r\n",
        "\r\n",
        "x = txt.splitlines()\r\n",
        "\r\n",
        "print(x)"
      ],
      "execution_count": null,
      "outputs": [
        {
          "output_type": "stream",
          "text": [
            "['Thank you for the music', 'Welcome to the jungle']\n"
          ],
          "name": "stdout"
        }
      ]
    },
    {
      "cell_type": "code",
      "metadata": {
        "colab": {
          "base_uri": "https://localhost:8080/"
        },
        "id": "b2mabP2KgfvX",
        "outputId": "a9c69bb0-9e84-4f7c-f9fa-b19cc1065f56"
      },
      "source": [
        "txt = \"Thank you for the music\\nWelcome to the jungle\"\r\n",
        "\r\n",
        "x = txt.splitlines(True)#Split the string, but keep the line breaks\r\n",
        "\r\n",
        "print(x)"
      ],
      "execution_count": null,
      "outputs": [
        {
          "output_type": "stream",
          "text": [
            "['Thank you for the music\\n', 'Welcome to the jungle']\n"
          ],
          "name": "stdout"
        }
      ]
    },
    {
      "cell_type": "code",
      "metadata": {
        "colab": {
          "base_uri": "https://localhost:8080/"
        },
        "id": "_oO-7lo2gf3E",
        "outputId": "e2463a6c-2878-4986-c9ad-43bb04c95e55"
      },
      "source": [
        "#split()\tSplits the string at the specified separator, and returns a list\r\n",
        "txt = \"welcome to the jungle\"\r\n",
        "\r\n",
        "x = txt.split()\r\n",
        "\r\n",
        "print(x)"
      ],
      "execution_count": null,
      "outputs": [
        {
          "output_type": "stream",
          "text": [
            "['welcome', 'to', 'the', 'jungle']\n"
          ],
          "name": "stdout"
        }
      ]
    },
    {
      "cell_type": "code",
      "metadata": {
        "colab": {
          "base_uri": "https://localhost:8080/"
        },
        "id": "Wu_Pav4fgf_8",
        "outputId": "37a95c85-14f9-4d12-95df-d8df6109926a"
      },
      "source": [
        "txt = \"hello, my name is Peter, I am 26 years old\"\r\n",
        "\r\n",
        "x = txt.split(\", \")\r\n",
        "\r\n",
        "print(x)"
      ],
      "execution_count": null,
      "outputs": [
        {
          "output_type": "stream",
          "text": [
            "['hello', 'my name is Peter', 'I am 26 years old']\n"
          ],
          "name": "stdout"
        }
      ]
    },
    {
      "cell_type": "code",
      "metadata": {
        "colab": {
          "base_uri": "https://localhost:8080/"
        },
        "id": "QNSeRlxPggJx",
        "outputId": "75ba6697-6ec0-432f-9617-089c70b06a6d"
      },
      "source": [
        "txt = \"apple#banana#cherry#orange\"\r\n",
        "\r\n",
        "x = txt.split(\"#\")\r\n",
        "\r\n",
        "print(x)"
      ],
      "execution_count": null,
      "outputs": [
        {
          "output_type": "stream",
          "text": [
            "['apple', 'banana', 'cherry', 'orange']\n"
          ],
          "name": "stdout"
        }
      ]
    },
    {
      "cell_type": "code",
      "metadata": {
        "colab": {
          "base_uri": "https://localhost:8080/"
        },
        "id": "TBtSO4Z_hL3v",
        "outputId": "eacb4323-c308-4727-a6da-d93f55d53337"
      },
      "source": [
        "txt = \"apple#banana#cherry#orange\"\r\n",
        "\r\n",
        "# setting the maxsplit parameter to 1, will return a list with 2 elements!\r\n",
        "x = txt.split(\"#\", 1)\r\n",
        "\r\n",
        "print(x)"
      ],
      "execution_count": null,
      "outputs": [
        {
          "output_type": "stream",
          "text": [
            "['apple', 'banana#cherry#orange']\n"
          ],
          "name": "stdout"
        }
      ]
    },
    {
      "cell_type": "code",
      "metadata": {
        "colab": {
          "base_uri": "https://localhost:8080/"
        },
        "id": "FPr96p3Tk1XR",
        "outputId": "27894e6e-9de0-4877-cbb6-5a4e1cc3f741"
      },
      "source": [
        "#rstrip()\tReturns a right trim version of the string\r\n",
        "txt = \"     banana     \"\r\n",
        "\r\n",
        "x = txt.rstrip()\r\n",
        "\r\n",
        "print(\"of all fruits\", x, \"is my favorite\")"
      ],
      "execution_count": null,
      "outputs": [
        {
          "output_type": "stream",
          "text": [
            "of all fruits      banana is my favorite\n"
          ],
          "name": "stdout"
        }
      ]
    },
    {
      "cell_type": "code",
      "metadata": {
        "colab": {
          "base_uri": "https://localhost:8080/"
        },
        "id": "2zx5Y1lzk1gH",
        "outputId": "f3d53f13-489a-448c-f364-1c42ddb1c5aa"
      },
      "source": [
        "txt = \"banana,,,,,ssqqqww.....\"\r\n",
        "\r\n",
        "x = txt.rstrip(\",.qsw\")  #Remove the trailing characters if they are commas, s, q, or w\r\n",
        "\r\n",
        "print(x)"
      ],
      "execution_count": null,
      "outputs": [
        {
          "output_type": "stream",
          "text": [
            "banana\n"
          ],
          "name": "stdout"
        }
      ]
    },
    {
      "cell_type": "code",
      "metadata": {
        "colab": {
          "base_uri": "https://localhost:8080/"
        },
        "id": "7BqDtZ_XlK8p",
        "outputId": "32f38cd6-e0ce-4a1b-fd50-b2ef6f93e488"
      },
      "source": [
        "#rsplit()\tSplits the string at the specified separator, and returns a list\r\n",
        "\r\n",
        "txt = \"apple, banana, cherry\"\r\n",
        "\r\n",
        "x = txt.rsplit(\", \")\r\n",
        "\r\n",
        "print(x)"
      ],
      "execution_count": null,
      "outputs": [
        {
          "output_type": "stream",
          "text": [
            "['apple', 'banana', 'cherry']\n"
          ],
          "name": "stdout"
        }
      ]
    },
    {
      "cell_type": "code",
      "metadata": {
        "colab": {
          "base_uri": "https://localhost:8080/"
        },
        "id": "XU6neQXilLGN",
        "outputId": "f0845553-605e-47db-a691-ae235146ccfc"
      },
      "source": [
        "txt = \"apple, banana, cherry\"\r\n",
        "\r\n",
        "# setting the maxsplit parameter to 1, will return a list with 2 elements!\r\n",
        "x = txt.rsplit(\", \", 1)\r\n",
        "\r\n",
        "print(x)"
      ],
      "execution_count": null,
      "outputs": [
        {
          "output_type": "stream",
          "text": [
            "['apple, banana', 'cherry']\n"
          ],
          "name": "stdout"
        }
      ]
    },
    {
      "cell_type": "code",
      "metadata": {
        "colab": {
          "base_uri": "https://localhost:8080/"
        },
        "id": "S6ypEQkak1q-",
        "outputId": "a28251a2-6054-44e7-8f61-960735e7fadd"
      },
      "source": [
        "#rpartition()\tReturns a tuple where the string is parted into three parts\r\n",
        "\r\n",
        "txt = \"I could eat bananas all day, bananas are my favorite fruit\"\r\n",
        "\r\n",
        "x = txt.rpartition(\"bananas\")\r\n",
        "\r\n",
        "print(x)"
      ],
      "execution_count": null,
      "outputs": [
        {
          "output_type": "stream",
          "text": [
            "('I could eat bananas all day, ', 'bananas', ' are my favorite fruit')\n"
          ],
          "name": "stdout"
        }
      ]
    },
    {
      "cell_type": "code",
      "metadata": {
        "colab": {
          "base_uri": "https://localhost:8080/"
        },
        "id": "eyc7lFSfm7IN",
        "outputId": "16fa8bc7-0a30-4ac7-a625-84cc86b5be51"
      },
      "source": [
        "txt = \"I could eat bananas all day, bananas are my favorite fruit\"\r\n",
        "\r\n",
        "x = txt.rpartition(\"apples\")\r\n",
        "\r\n",
        "print(x)\r\n",
        "#If the specified value is not found, the rpartition() method returns a tuple containing: 1 - an empty string, 2 - an empty string, 3 - the whole string"
      ],
      "execution_count": null,
      "outputs": [
        {
          "output_type": "stream",
          "text": [
            "('', '', 'I could eat bananas all day, bananas are my favorite fruit')\n"
          ],
          "name": "stdout"
        }
      ]
    },
    {
      "cell_type": "code",
      "metadata": {
        "colab": {
          "base_uri": "https://localhost:8080/"
        },
        "id": "JzNL-QSNnKFD",
        "outputId": "ff219fa6-c263-419b-f351-ee198d5ef11c"
      },
      "source": [
        "#rjust()\tReturns a right justified version of the string\r\n",
        "\r\n",
        "txt = \"banana\"\r\n",
        "\r\n",
        "x = txt.rjust(20)#Return a 20 characters long, right justified version of the word \"banana\"\r\n",
        "print(x, \"is my favorite fruit.\")"
      ],
      "execution_count": null,
      "outputs": [
        {
          "output_type": "stream",
          "text": [
            "              banana is my favorite fruit.\n"
          ],
          "name": "stdout"
        }
      ]
    },
    {
      "cell_type": "code",
      "metadata": {
        "colab": {
          "base_uri": "https://localhost:8080/"
        },
        "id": "kBugKcwknKM0",
        "outputId": "e56095b8-4a37-42da-b5b7-1fe7a533a922"
      },
      "source": [
        "txt = \"banana\"\r\n",
        "\r\n",
        "x = txt.rjust(20, \"O\")#Using the letter \"O\" as the padding character\r\n",
        "\r\n",
        "print(x)"
      ],
      "execution_count": null,
      "outputs": [
        {
          "output_type": "stream",
          "text": [
            "OOOOOOOOOOOOOObanana\n"
          ],
          "name": "stdout"
        }
      ]
    },
    {
      "cell_type": "code",
      "metadata": {
        "colab": {
          "base_uri": "https://localhost:8080/"
        },
        "id": "5Xu40PsqnKTn",
        "outputId": "c654fafd-dc16-475f-839d-d137af429663"
      },
      "source": [
        "#rindex()\tSearches the string for a specified value and returns the last position of where it was found\r\n",
        "txt = \"Mi casa, su casa.\"\r\n",
        "\r\n",
        "x = txt.rindex(\"casa\")#Where in the text is the last occurrence of the string \"casa\"?\r\n",
        "\r\n",
        "print(x)"
      ],
      "execution_count": null,
      "outputs": [
        {
          "output_type": "stream",
          "text": [
            "12\n"
          ],
          "name": "stdout"
        }
      ]
    },
    {
      "cell_type": "code",
      "metadata": {
        "colab": {
          "base_uri": "https://localhost:8080/"
        },
        "id": "-QwHrzBMnKaY",
        "outputId": "4e4080aa-cb49-44cf-ebc5-25364c5d9eaa"
      },
      "source": [
        "txt = \"Hello, welcome to my world.\"\r\n",
        "\r\n",
        "x = txt.rindex(\"e\")#Where in the text is the last occurrence of the letter \"e\"\r\n",
        "\r\n",
        "print(x)"
      ],
      "execution_count": null,
      "outputs": [
        {
          "output_type": "stream",
          "text": [
            "13\n"
          ],
          "name": "stdout"
        }
      ]
    },
    {
      "cell_type": "code",
      "metadata": {
        "colab": {
          "base_uri": "https://localhost:8080/"
        },
        "id": "5oXm8wO1nKiJ",
        "outputId": "dca14640-3001-43be-cc45-c88b295f462f"
      },
      "source": [
        "txt = \"Hello, welcome to my world.\"\r\n",
        "\r\n",
        "x = txt.rindex(\"e\", 5, 10)# text is the last occurrence of the letter \"e\" when you only search between position 5 and 10\r\n",
        "\r\n",
        "print(x)"
      ],
      "execution_count": null,
      "outputs": [
        {
          "output_type": "stream",
          "text": [
            "8\n"
          ],
          "name": "stdout"
        }
      ]
    },
    {
      "cell_type": "code",
      "metadata": {
        "colab": {
          "base_uri": "https://localhost:8080/",
          "height": 214
        },
        "id": "rOLUdW-g7SHE",
        "outputId": "d4cabe5f-15e6-42e8-9400-7f9a491f1d07"
      },
      "source": [
        "txt = \"Hello, welcome to my world.\"\r\n",
        "\r\n",
        "print(txt.rfind(\"q\"))#value is not found, the rfind() method returns -1, but the rindex() method will raise an exception\r\n",
        "print(txt.rindex(\"q\"))"
      ],
      "execution_count": null,
      "outputs": [
        {
          "output_type": "stream",
          "text": [
            "-1\n"
          ],
          "name": "stdout"
        },
        {
          "output_type": "error",
          "ename": "ValueError",
          "evalue": "ignored",
          "traceback": [
            "\u001b[0;31m---------------------------------------------------------------------------\u001b[0m",
            "\u001b[0;31mValueError\u001b[0m                                Traceback (most recent call last)",
            "\u001b[0;32m<ipython-input-126-c72ad65a0bfe>\u001b[0m in \u001b[0;36m<module>\u001b[0;34m()\u001b[0m\n\u001b[1;32m      2\u001b[0m \u001b[0;34m\u001b[0m\u001b[0m\n\u001b[1;32m      3\u001b[0m \u001b[0mprint\u001b[0m\u001b[0;34m(\u001b[0m\u001b[0mtxt\u001b[0m\u001b[0;34m.\u001b[0m\u001b[0mrfind\u001b[0m\u001b[0;34m(\u001b[0m\u001b[0;34m\"q\"\u001b[0m\u001b[0;34m)\u001b[0m\u001b[0;34m)\u001b[0m\u001b[0;31m#value is not found, the rfind() method returns -1, but the rindex() method will raise an exception\u001b[0m\u001b[0;34m\u001b[0m\u001b[0;34m\u001b[0m\u001b[0m\n\u001b[0;32m----> 4\u001b[0;31m \u001b[0mprint\u001b[0m\u001b[0;34m(\u001b[0m\u001b[0mtxt\u001b[0m\u001b[0;34m.\u001b[0m\u001b[0mrindex\u001b[0m\u001b[0;34m(\u001b[0m\u001b[0;34m\"q\"\u001b[0m\u001b[0;34m)\u001b[0m\u001b[0;34m)\u001b[0m\u001b[0;34m\u001b[0m\u001b[0;34m\u001b[0m\u001b[0m\n\u001b[0m",
            "\u001b[0;31mValueError\u001b[0m: substring not found"
          ]
        }
      ]
    },
    {
      "cell_type": "code",
      "metadata": {
        "colab": {
          "base_uri": "https://localhost:8080/"
        },
        "id": "kwBtC4zN7SRz",
        "outputId": "73a5bfce-47b6-4231-ed9c-2d1e15e231de"
      },
      "source": [
        "#rfind()\tSearches the string for a specified value and returns the last position of where it was found\r\n",
        "txt = \"Mi casa, su casa.\"\r\n",
        "\r\n",
        "x = txt.rfind(\"casa\")#text is the last occurrence of the string \"casa\"\r\n",
        "\r\n",
        "print(x)"
      ],
      "execution_count": null,
      "outputs": [
        {
          "output_type": "stream",
          "text": [
            "12\n"
          ],
          "name": "stdout"
        }
      ]
    },
    {
      "cell_type": "code",
      "metadata": {
        "colab": {
          "base_uri": "https://localhost:8080/"
        },
        "id": "kUbt9t9C7SZY",
        "outputId": "4438e847-2084-4b4e-836e-ddb5b16c95f7"
      },
      "source": [
        "txt = \"Hello, welcome to my world.\"\r\n",
        "\r\n",
        "x = txt.rfind(\"e\")#text is the last occurrence of the letter \"e\"\r\n",
        "\r\n",
        "print(x)"
      ],
      "execution_count": null,
      "outputs": [
        {
          "output_type": "stream",
          "text": [
            "13\n"
          ],
          "name": "stdout"
        }
      ]
    },
    {
      "cell_type": "code",
      "metadata": {
        "colab": {
          "base_uri": "https://localhost:8080/"
        },
        "id": "DRFcs64O7SgW",
        "outputId": "d43348fb-cb21-4f31-8706-7dc90b80ac27"
      },
      "source": [
        "txt = \"Hello, welcome to my world.\"\r\n",
        "\r\n",
        "x = txt.rfind(\"e\", 5, 10)#last occurrence of the letter \"e\" when you only search between position 5 and 10\r\n",
        "\r\n",
        "print(x)"
      ],
      "execution_count": null,
      "outputs": [
        {
          "output_type": "stream",
          "text": [
            "8\n"
          ],
          "name": "stdout"
        }
      ]
    },
    {
      "cell_type": "code",
      "metadata": {
        "colab": {
          "base_uri": "https://localhost:8080/",
          "height": 214
        },
        "id": "Yv48Oem4nKrS",
        "outputId": "3759a3ca-a90a-4e0f-9e86-6380babe1994"
      },
      "source": [
        "txt = \"Hello, welcome to my world.\"\r\n",
        "\r\n",
        "print(txt.rfind(\"q\"))#rfind() method returns -1, but the rindex() method will raise an exception\r\n",
        "print(txt.rindex(\"q\"))"
      ],
      "execution_count": null,
      "outputs": [
        {
          "output_type": "stream",
          "text": [
            "-1\n"
          ],
          "name": "stdout"
        },
        {
          "output_type": "error",
          "ename": "ValueError",
          "evalue": "ignored",
          "traceback": [
            "\u001b[0;31m---------------------------------------------------------------------------\u001b[0m",
            "\u001b[0;31mValueError\u001b[0m                                Traceback (most recent call last)",
            "\u001b[0;32m<ipython-input-130-82323f3be529>\u001b[0m in \u001b[0;36m<module>\u001b[0;34m()\u001b[0m\n\u001b[1;32m      2\u001b[0m \u001b[0;34m\u001b[0m\u001b[0m\n\u001b[1;32m      3\u001b[0m \u001b[0mprint\u001b[0m\u001b[0;34m(\u001b[0m\u001b[0mtxt\u001b[0m\u001b[0;34m.\u001b[0m\u001b[0mrfind\u001b[0m\u001b[0;34m(\u001b[0m\u001b[0;34m\"q\"\u001b[0m\u001b[0;34m)\u001b[0m\u001b[0;34m)\u001b[0m\u001b[0;31m#rfind() method returns -1, but the rindex() method will raise an exception\u001b[0m\u001b[0;34m\u001b[0m\u001b[0;34m\u001b[0m\u001b[0m\n\u001b[0;32m----> 4\u001b[0;31m \u001b[0mprint\u001b[0m\u001b[0;34m(\u001b[0m\u001b[0mtxt\u001b[0m\u001b[0;34m.\u001b[0m\u001b[0mrindex\u001b[0m\u001b[0;34m(\u001b[0m\u001b[0;34m\"q\"\u001b[0m\u001b[0;34m)\u001b[0m\u001b[0;34m)\u001b[0m\u001b[0;34m\u001b[0m\u001b[0;34m\u001b[0m\u001b[0m\n\u001b[0m",
            "\u001b[0;31mValueError\u001b[0m: substring not found"
          ]
        }
      ]
    },
    {
      "cell_type": "code",
      "metadata": {
        "colab": {
          "base_uri": "https://localhost:8080/"
        },
        "id": "6y157Jiy72Y3",
        "outputId": "b4a4236d-168c-4223-c8f8-332f869f6121"
      },
      "source": [
        "#replace()\tReturns a string where a specified value is replaced with a specified value\r\n",
        "\r\n",
        "txt = \"I like bananas\"\r\n",
        "\r\n",
        "x = txt.replace(\"bananas\", \"apples\")#Replace the word \"bananas\"\r\n",
        "\r\n",
        "print(x)"
      ],
      "execution_count": null,
      "outputs": [
        {
          "output_type": "stream",
          "text": [
            "I like apples\n"
          ],
          "name": "stdout"
        }
      ]
    },
    {
      "cell_type": "code",
      "metadata": {
        "colab": {
          "base_uri": "https://localhost:8080/"
        },
        "id": "CHQc8ZnV72ka",
        "outputId": "0a3213ad-1a64-4cb2-f373-6de304ce1d6b"
      },
      "source": [
        "txt = \"one one was a race horse, two two was one too.\"\r\n",
        "\r\n",
        "x = txt.replace(\"one\", \"three\")#Replace all occurrence of the word \"one\"\r\n",
        "\r\n",
        "print(x)"
      ],
      "execution_count": null,
      "outputs": [
        {
          "output_type": "stream",
          "text": [
            "three three was a race horse, two two was three too.\n"
          ],
          "name": "stdout"
        }
      ]
    },
    {
      "cell_type": "code",
      "metadata": {
        "colab": {
          "base_uri": "https://localhost:8080/"
        },
        "id": "Gv53kuBK72vE",
        "outputId": "4e5f9e35-689e-4272-8044-8bf6a73a232e"
      },
      "source": [
        "#Replace the two first occurrence of the word \"one\"\r\n",
        "txt = \"one one was a race horse, two two was one too.\"\r\n",
        "\r\n",
        "x = txt.replace(\"one\", \"three\", 2)\r\n",
        "\r\n",
        "print(x)"
      ],
      "execution_count": null,
      "outputs": [
        {
          "output_type": "stream",
          "text": [
            "three three was a race horse, two two was one too.\n"
          ],
          "name": "stdout"
        }
      ]
    },
    {
      "cell_type": "code",
      "metadata": {
        "colab": {
          "base_uri": "https://localhost:8080/"
        },
        "id": "ZFq766LY87Dw",
        "outputId": "df82cf44-8c99-440b-ee82-367328adb365"
      },
      "source": [
        "#partition()\tReturns a tuple where the string is parted into three parts\r\n",
        "txt = \"I could eat bananas all day\"\r\n",
        "\r\n",
        "x = txt.partition(\"bananas\")\r\n",
        "\r\n",
        "print(x)"
      ],
      "execution_count": null,
      "outputs": [
        {
          "output_type": "stream",
          "text": [
            "('I could eat ', 'bananas', ' all day')\n"
          ],
          "name": "stdout"
        }
      ]
    },
    {
      "cell_type": "code",
      "metadata": {
        "colab": {
          "base_uri": "https://localhost:8080/"
        },
        "id": "Xr109Xbs87SF",
        "outputId": "ac7cd8fe-a7e0-4b51-e383-f9dba1b725a5"
      },
      "source": [
        "txt = \"I could eat bananas all day\"\r\n",
        "\r\n",
        "x = txt.partition(\"apples\")\r\n",
        "\r\n",
        "print(x)\r\n",
        "#If the specified value is not found, the partition() method returns a tuple containing: 1 - the whole string, 2 - an empty string, 3 - an empty string"
      ],
      "execution_count": null,
      "outputs": [
        {
          "output_type": "stream",
          "text": [
            "('I could eat bananas all day', '', '')\n"
          ],
          "name": "stdout"
        }
      ]
    },
    {
      "cell_type": "code",
      "metadata": {
        "colab": {
          "base_uri": "https://localhost:8080/"
        },
        "id": "ypOvwuuZ87du",
        "outputId": "5869308c-650f-4bb1-8eb9-f7c6d3074f13"
      },
      "source": [
        "#maketrans()\tReturns a translation table to be used in translations\r\n",
        "txt = \"Hello Sam!\"\r\n",
        "mytable = txt.maketrans(\"S\", \"P\")\r\n",
        "print(txt.translate(mytable))"
      ],
      "execution_count": null,
      "outputs": [
        {
          "output_type": "stream",
          "text": [
            "Hello Pam!\n"
          ],
          "name": "stdout"
        }
      ]
    },
    {
      "cell_type": "code",
      "metadata": {
        "colab": {
          "base_uri": "https://localhost:8080/"
        },
        "id": "KoL0NCS3_BMK",
        "outputId": "40bc522d-f059-4619-a2b9-0d37a057dff8"
      },
      "source": [
        "txt = \"Hi Sam!\"\r\n",
        "x = \"mSa\"\r\n",
        "y = \"eJo\"\r\n",
        "mytable = txt.maketrans(x, y)\r\n",
        "print(txt.translate(mytable))"
      ],
      "execution_count": null,
      "outputs": [
        {
          "output_type": "stream",
          "text": [
            "Hi Joe!\n"
          ],
          "name": "stdout"
        }
      ]
    },
    {
      "cell_type": "code",
      "metadata": {
        "colab": {
          "base_uri": "https://localhost:8080/"
        },
        "id": "1l5hhmmg87o-",
        "outputId": "acdc958e-1549-4bb4-e4a4-bc669a950082"
      },
      "source": [
        "txt = \"Good night Sam!\"\r\n",
        "x = \"mSa\"\r\n",
        "y = \"eJo\"\r\n",
        "z = \"odnght\"\r\n",
        "mytable = txt.maketrans(x, y, z)\r\n",
        "print(txt.translate(mytable))"
      ],
      "execution_count": null,
      "outputs": [
        {
          "output_type": "stream",
          "text": [
            "G i Joe!\n"
          ],
          "name": "stdout"
        }
      ]
    },
    {
      "cell_type": "code",
      "metadata": {
        "colab": {
          "base_uri": "https://localhost:8080/"
        },
        "id": "c34D0_RR_Mbn",
        "outputId": "eeae79d6-e6bf-4283-a3fa-8d9a187c531b"
      },
      "source": [
        "txt = \"Good night Sam!\"\r\n",
        "x = \"mSa\"\r\n",
        "y = \"eJo\"\r\n",
        "z = \"odnght\"\r\n",
        "print(txt.maketrans(x, y, z))"
      ],
      "execution_count": null,
      "outputs": [
        {
          "output_type": "stream",
          "text": [
            "{109: 101, 83: 74, 97: 111, 111: None, 100: None, 110: None, 103: None, 104: None, 116: None}\n"
          ],
          "name": "stdout"
        }
      ]
    },
    {
      "cell_type": "code",
      "metadata": {
        "colab": {
          "base_uri": "https://localhost:8080/"
        },
        "id": "UuBkKqfu_TTm",
        "outputId": "116184a9-0b71-4b29-f918-03037ad31e37"
      },
      "source": [
        "#lstrip()\tReturns a left trim version of the string\r\n",
        "txt = \"     banana     \"\r\n",
        "\r\n",
        "x = txt.lstrip()\r\n",
        "\r\n",
        "print(\"of all fruits\", x, \"is my favorite\")"
      ],
      "execution_count": null,
      "outputs": [
        {
          "output_type": "stream",
          "text": [
            "of all fruits banana      is my favorite\n"
          ],
          "name": "stdout"
        }
      ]
    },
    {
      "cell_type": "code",
      "metadata": {
        "colab": {
          "base_uri": "https://localhost:8080/"
        },
        "id": "LeVo_q5X_TeA",
        "outputId": "9e374df4-3faf-46b6-f512-508ebde15671"
      },
      "source": [
        "txt = \",,,,,ssaaww.....banana\"\r\n",
        "\r\n",
        "x = txt.lstrip(\",.asw\")\r\n",
        "\r\n",
        "print(x)"
      ],
      "execution_count": null,
      "outputs": [
        {
          "output_type": "stream",
          "text": [
            "banana\n"
          ],
          "name": "stdout"
        }
      ]
    },
    {
      "cell_type": "code",
      "metadata": {
        "colab": {
          "base_uri": "https://localhost:8080/"
        },
        "id": "p2IkNii-_ktg",
        "outputId": "43e7fca0-a2d3-4f30-ffba-2e7fb4881a24"
      },
      "source": [
        "#lower()\tConverts a string into lower case\r\n",
        "txt = \"Hello my FRIENDS\"\r\n",
        "\r\n",
        "x = txt.lower()\r\n",
        "\r\n",
        "print(x)  "
      ],
      "execution_count": null,
      "outputs": [
        {
          "output_type": "stream",
          "text": [
            "hello my friends\n"
          ],
          "name": "stdout"
        }
      ]
    },
    {
      "cell_type": "code",
      "metadata": {
        "colab": {
          "base_uri": "https://localhost:8080/"
        },
        "id": "NgNcwDoT_k4G",
        "outputId": "8091ac9b-0886-4bac-dea6-2362aeb9af8c"
      },
      "source": [
        "#ljust()\tReturns a left justified version of the string\r\n",
        "txt = \"banana\"\r\n",
        "\r\n",
        "x = txt.ljust(20)#Return a 20 characters long, left justified version of the word \"banana\"\r\n",
        "\r\n",
        "print(x, \"is my favorite fruit.\")"
      ],
      "execution_count": null,
      "outputs": [
        {
          "output_type": "stream",
          "text": [
            "banana               is my favorite fruit.\n"
          ],
          "name": "stdout"
        }
      ]
    },
    {
      "cell_type": "code",
      "metadata": {
        "colab": {
          "base_uri": "https://localhost:8080/"
        },
        "id": "ku5XViFm_lCx",
        "outputId": "e49f7fba-40e7-4728-8b9d-f889eeb1a9e1"
      },
      "source": [
        "txt = \"banana\"\r\n",
        "\r\n",
        "x = txt.ljust(20, \"O\")#letter \"O\" as the padding character\r\n",
        "\r\n",
        "print(x)"
      ],
      "execution_count": null,
      "outputs": [
        {
          "output_type": "stream",
          "text": [
            "bananaOOOOOOOOOOOOOO\n"
          ],
          "name": "stdout"
        }
      ]
    },
    {
      "cell_type": "code",
      "metadata": {
        "colab": {
          "base_uri": "https://localhost:8080/"
        },
        "id": "CU9bQxnz_lPg",
        "outputId": "b95bdafb-4230-43b1-8ec9-abaf13146302"
      },
      "source": [
        "#join()\tJoins the elements of an iterable to the end of the string\r\n",
        "myTuple = (\"John\", \"Peter\", \"Vicky\")\r\n",
        "\r\n",
        "x = \"#\".join(myTuple)\r\n",
        "\r\n",
        "print(x)"
      ],
      "execution_count": null,
      "outputs": [
        {
          "output_type": "stream",
          "text": [
            "John#Peter#Vicky\n"
          ],
          "name": "stdout"
        }
      ]
    },
    {
      "cell_type": "code",
      "metadata": {
        "colab": {
          "base_uri": "https://localhost:8080/"
        },
        "id": "vTdJAcwB_Tk1",
        "outputId": "39d43270-713c-4edc-aed3-95cfaf8aa4dd"
      },
      "source": [
        "myDict = {\"name\": \"John\", \"country\": \"Norway\"}\r\n",
        "mySeparator = \"TEST\"\r\n",
        "\r\n",
        "x = mySeparator.join(myDict)#Join all items in a dictionary into a string, using a the word \"TEST\" as separator\r\n",
        "\r\n",
        "print(x)"
      ],
      "execution_count": null,
      "outputs": [
        {
          "output_type": "stream",
          "text": [
            "nameTESTcountry\n"
          ],
          "name": "stdout"
        }
      ]
    },
    {
      "cell_type": "code",
      "metadata": {
        "colab": {
          "base_uri": "https://localhost:8080/"
        },
        "id": "Hl9eZ5oG_Tso",
        "outputId": "8c3a401e-13bb-4ce6-ad70-e63e667f6fe7"
      },
      "source": [
        "#isupper()\tReturns True if all characters in the string are upper case\r\n",
        "txt = \"THIS IS NOW!\"\r\n",
        "\r\n",
        "x = txt.isupper()\r\n",
        "\r\n",
        "print(x)"
      ],
      "execution_count": null,
      "outputs": [
        {
          "output_type": "stream",
          "text": [
            "True\n"
          ],
          "name": "stdout"
        }
      ]
    },
    {
      "cell_type": "code",
      "metadata": {
        "colab": {
          "base_uri": "https://localhost:8080/"
        },
        "id": "eNOk7Bt9AwrN",
        "outputId": "78c6ff3e-21c1-46ed-e06a-53fd858e94be"
      },
      "source": [
        "a = \"Hello World!\"\r\n",
        "b = \"hello 123\"\r\n",
        "c = \"MY NAME IS PETER\"\r\n",
        "\r\n",
        "print(a.isupper())\r\n",
        "print(b.isupper())\r\n",
        "print(c.isupper())"
      ],
      "execution_count": null,
      "outputs": [
        {
          "output_type": "stream",
          "text": [
            "False\n",
            "False\n",
            "True\n"
          ],
          "name": "stdout"
        }
      ]
    },
    {
      "cell_type": "code",
      "metadata": {
        "colab": {
          "base_uri": "https://localhost:8080/"
        },
        "id": "ktG2Eu5QAw0e",
        "outputId": "26b80f56-147a-4c81-d5d5-fe1fc73cc3dc"
      },
      "source": [
        "#istitle()\tReturns True if the string follows the rules of a title\r\n",
        "txt = \"Hello, And Welcome To My World!\"\r\n",
        "\r\n",
        "x = txt.istitle()\r\n",
        "\r\n",
        "print(x)"
      ],
      "execution_count": null,
      "outputs": [
        {
          "output_type": "stream",
          "text": [
            "True\n"
          ],
          "name": "stdout"
        }
      ]
    },
    {
      "cell_type": "code",
      "metadata": {
        "colab": {
          "base_uri": "https://localhost:8080/"
        },
        "id": "JkaqPecBAw8Z",
        "outputId": "6cf56695-7626-48a3-93d4-611bc0dc7024"
      },
      "source": [
        "a = \"HELLO, AND WELCOME TO MY WORLD\"\r\n",
        "b = \"Hello\"\r\n",
        "c = \"22 Names\"\r\n",
        "d = \"This Is %'!?\"\r\n",
        "\r\n",
        "print(a.istitle())\r\n",
        "print(b.istitle())\r\n",
        "print(c.istitle())\r\n",
        "print(d.istitle())"
      ],
      "execution_count": null,
      "outputs": [
        {
          "output_type": "stream",
          "text": [
            "False\n",
            "True\n",
            "True\n",
            "True\n"
          ],
          "name": "stdout"
        }
      ]
    },
    {
      "cell_type": "code",
      "metadata": {
        "id": "g-D2iM4yAxEi",
        "colab": {
          "base_uri": "https://localhost:8080/"
        },
        "outputId": "47a1857e-18c4-48e9-e152-7d0010afe4de"
      },
      "source": [
        "#isspace()\tReturns True if all characters in the string are whitespaces\r\n",
        "txt = \"   \"\r\n",
        "\r\n",
        "x = txt.isspace()\r\n",
        "\r\n",
        "print(x)"
      ],
      "execution_count": null,
      "outputs": [
        {
          "output_type": "stream",
          "text": [
            "True\n"
          ],
          "name": "stdout"
        }
      ]
    },
    {
      "cell_type": "code",
      "metadata": {
        "id": "Kqtuink_AxOE",
        "colab": {
          "base_uri": "https://localhost:8080/"
        },
        "outputId": "391adebe-63f4-433a-cd65-8d96b671e22c"
      },
      "source": [
        "txt = \"   s   \"\r\n",
        "\r\n",
        "x = txt.isspace()#Check if all the characters in the text are whitespaces\r\n",
        "\r\n",
        "print(x)"
      ],
      "execution_count": null,
      "outputs": [
        {
          "output_type": "stream",
          "text": [
            "False\n"
          ],
          "name": "stdout"
        }
      ]
    },
    {
      "cell_type": "code",
      "metadata": {
        "colab": {
          "base_uri": "https://localhost:8080/"
        },
        "id": "Iw8QEdfTF1I4",
        "outputId": "268f0f77-5bf4-409f-af4d-79c8ccc0603b"
      },
      "source": [
        "#isprintable()\tReturns True if all characters in the string are printable\r\n",
        "txt = \"Hello! Are you #1?\"\r\n",
        "\r\n",
        "x = txt.isprintable()\r\n",
        "\r\n",
        "print(x)"
      ],
      "execution_count": null,
      "outputs": [
        {
          "output_type": "stream",
          "text": [
            "True\n"
          ],
          "name": "stdout"
        }
      ]
    },
    {
      "cell_type": "code",
      "metadata": {
        "colab": {
          "base_uri": "https://localhost:8080/"
        },
        "id": "gpvLhKqUF1VF",
        "outputId": "dba7c621-ff50-4734-f5a7-2fbfe262d951"
      },
      "source": [
        "txt = \"Hello!\\nAre you #1?\"\r\n",
        "\r\n",
        "x = txt.isprintable()#Check if all the characters in the text are printable:\r\n",
        "\r\n",
        "print(x)"
      ],
      "execution_count": null,
      "outputs": [
        {
          "output_type": "stream",
          "text": [
            "False\n"
          ],
          "name": "stdout"
        }
      ]
    },
    {
      "cell_type": "code",
      "metadata": {
        "colab": {
          "base_uri": "https://localhost:8080/"
        },
        "id": "4aZs5a3iF1jZ",
        "outputId": "dd93955a-55b3-4d97-f7f0-2d0e8cbd4958"
      },
      "source": [
        "#isnumeric()\tReturns True if all characters in the string are numeric\r\n",
        "txt = \"565543\"\r\n",
        "\r\n",
        "x = txt.isnumeric()\r\n",
        "\r\n",
        "print(x)"
      ],
      "execution_count": null,
      "outputs": [
        {
          "output_type": "stream",
          "text": [
            "True\n"
          ],
          "name": "stdout"
        }
      ]
    },
    {
      "cell_type": "code",
      "metadata": {
        "colab": {
          "base_uri": "https://localhost:8080/"
        },
        "id": "VJhMGO5SF1tq",
        "outputId": "4f714ada-1ffb-42d4-b404-424cbb6dd6d5"
      },
      "source": [
        "a = \"\\u0030\" #unicode for 0\r\n",
        "b = \"\\u00B2\" #unicode for &sup2;\r\n",
        "c = \"10km2\"\r\n",
        "d = \"-1\"\r\n",
        "e = \"1.5\"\r\n",
        "\r\n",
        "print(a.isnumeric())\r\n",
        "print(b.isnumeric())\r\n",
        "print(c.isnumeric())\r\n",
        "print(d.isnumeric())\r\n",
        "print(e.isnumeric())"
      ],
      "execution_count": null,
      "outputs": [
        {
          "output_type": "stream",
          "text": [
            "True\n",
            "True\n",
            "False\n",
            "False\n",
            "False\n"
          ],
          "name": "stdout"
        }
      ]
    },
    {
      "cell_type": "code",
      "metadata": {
        "colab": {
          "base_uri": "https://localhost:8080/"
        },
        "id": "Oqf3AiQ3F147",
        "outputId": "605bc9cf-fe75-4772-94c7-6197494195b2"
      },
      "source": [
        "#islower()\tReturns True if all characters in the string are lower case\r\n",
        "txt = \"hello world!\"\r\n",
        "\r\n",
        "x = txt.islower()\r\n",
        "\r\n",
        "print(x)"
      ],
      "execution_count": null,
      "outputs": [
        {
          "output_type": "stream",
          "text": [
            "True\n"
          ],
          "name": "stdout"
        }
      ]
    },
    {
      "cell_type": "code",
      "metadata": {
        "colab": {
          "base_uri": "https://localhost:8080/"
        },
        "id": "_FKCp2_lGUbh",
        "outputId": "63c84f7f-7a85-4d4c-acad-f4a1665bd2d9"
      },
      "source": [
        "a = \"Hello world!\"\r\n",
        "b = \"hello 123\"\r\n",
        "c = \"mynameisPeter\"\r\n",
        "\r\n",
        "print(a.islower())\r\n",
        "print(b.islower())\r\n",
        "print(c.islower())"
      ],
      "execution_count": null,
      "outputs": [
        {
          "output_type": "stream",
          "text": [
            "False\n",
            "True\n",
            "False\n"
          ],
          "name": "stdout"
        }
      ]
    },
    {
      "cell_type": "code",
      "metadata": {
        "colab": {
          "base_uri": "https://localhost:8080/"
        },
        "id": "u3kT1EHJGUlf",
        "outputId": "ae690797-cfff-4e3f-b43a-eae737c98817"
      },
      "source": [
        "#isidentifier()\tReturns True if the string is an identifier\r\n",
        "#A string is considered a valid identifier if it only contains alphanumeric letters (a-z) and (0-9), or underscores (_). A valid identifier cannot start with a number, or contain any spaces.\r\n",
        "\r\n",
        "txt = \"Demo\"\r\n",
        "\r\n",
        "x = txt.isidentifier()\r\n",
        "\r\n",
        "print(x)"
      ],
      "execution_count": null,
      "outputs": [
        {
          "output_type": "stream",
          "text": [
            "True\n"
          ],
          "name": "stdout"
        }
      ]
    },
    {
      "cell_type": "code",
      "metadata": {
        "colab": {
          "base_uri": "https://localhost:8080/"
        },
        "id": "lYWxUwFFGUuw",
        "outputId": "3a78a710-47f7-4357-e842-709476dce0bf"
      },
      "source": [
        "a = \"MyFolder\"\r\n",
        "b = \"Demo002\"\r\n",
        "c = \"2bring\"\r\n",
        "d = \"my demo\"\r\n",
        "\r\n",
        "print(a.isidentifier())\r\n",
        "print(b.isidentifier())\r\n",
        "print(c.isidentifier())\r\n",
        "print(d.isidentifier())"
      ],
      "execution_count": null,
      "outputs": [
        {
          "output_type": "stream",
          "text": [
            "True\n",
            "True\n",
            "False\n",
            "False\n"
          ],
          "name": "stdout"
        }
      ]
    },
    {
      "cell_type": "code",
      "metadata": {
        "colab": {
          "base_uri": "https://localhost:8080/"
        },
        "id": "IEFvMF9fGU3R",
        "outputId": "3df1958b-b4d3-47a2-c131-31313e4d9b38"
      },
      "source": [
        "#isdigit()\tReturns True if all characters in the string are digits\r\n",
        "txt = \"50800\"\r\n",
        "\r\n",
        "x = txt.isdigit()\r\n",
        "\r\n",
        "print(x)"
      ],
      "execution_count": null,
      "outputs": [
        {
          "output_type": "stream",
          "text": [
            "True\n"
          ],
          "name": "stdout"
        }
      ]
    },
    {
      "cell_type": "code",
      "metadata": {
        "colab": {
          "base_uri": "https://localhost:8080/"
        },
        "id": "-i5wkmDeGVBD",
        "outputId": "813b3e83-b85c-4bc6-b620-5f7fda6f7776"
      },
      "source": [
        "a = \"\\u0030\" #unicode for 0\r\n",
        "b = \"\\u00B2\" #unicode for ²\r\n",
        "\r\n",
        "print(a.isdigit())\r\n",
        "print(b.isdigit())"
      ],
      "execution_count": null,
      "outputs": [
        {
          "output_type": "stream",
          "text": [
            "True\n",
            "True\n"
          ],
          "name": "stdout"
        }
      ]
    },
    {
      "cell_type": "code",
      "metadata": {
        "colab": {
          "base_uri": "https://localhost:8080/"
        },
        "id": "_Jh78wIQGVJL",
        "outputId": "cb8393d5-8b45-4454-ce6a-6c2b3e115d20"
      },
      "source": [
        "#isdecimal()\tReturns True if all characters in the string are decimals\r\n",
        "txt = \"\\u0033\" #unicode for 3\r\n",
        "\r\n",
        "x = txt.isdecimal()\r\n",
        "\r\n",
        "print(x)"
      ],
      "execution_count": null,
      "outputs": [
        {
          "output_type": "stream",
          "text": [
            "True\n"
          ],
          "name": "stdout"
        }
      ]
    },
    {
      "cell_type": "code",
      "metadata": {
        "colab": {
          "base_uri": "https://localhost:8080/"
        },
        "id": "eatV0xIRIRwe",
        "outputId": "aaaa34a8-0486-4a09-cc59-4c700b897d4a"
      },
      "source": [
        "a = \"\\u0030\" #unicode for 0\r\n",
        "b = \"\\u0047\" #unicode for G\r\n",
        "\r\n",
        "print(a.isdecimal())\r\n",
        "print(b.isdecimal())"
      ],
      "execution_count": null,
      "outputs": [
        {
          "output_type": "stream",
          "text": [
            "True\n",
            "False\n"
          ],
          "name": "stdout"
        }
      ]
    },
    {
      "cell_type": "code",
      "metadata": {
        "colab": {
          "base_uri": "https://localhost:8080/"
        },
        "id": "POIJ0rcsIR6v",
        "outputId": "331bb857-731f-420f-f05a-88fb181946f1"
      },
      "source": [
        "#isalpha()\tReturns True if all characters in the string are in the alphabet\r\n",
        "txt = \"CompanyX\"\r\n",
        "\r\n",
        "x = txt.isalpha()\r\n",
        "\r\n",
        "print(x)"
      ],
      "execution_count": null,
      "outputs": [
        {
          "output_type": "stream",
          "text": [
            "True\n"
          ],
          "name": "stdout"
        }
      ]
    },
    {
      "cell_type": "code",
      "metadata": {
        "colab": {
          "base_uri": "https://localhost:8080/"
        },
        "id": "td5cGIe1ISFA",
        "outputId": "82a73d0b-940e-4230-d020-9ad06017ab18"
      },
      "source": [
        "txt = \"Company10\"\r\n",
        "\r\n",
        "x = txt.isalpha()\r\n",
        "\r\n",
        "print(x)"
      ],
      "execution_count": null,
      "outputs": [
        {
          "output_type": "stream",
          "text": [
            "False\n"
          ],
          "name": "stdout"
        }
      ]
    },
    {
      "cell_type": "code",
      "metadata": {
        "colab": {
          "base_uri": "https://localhost:8080/"
        },
        "id": "K2HYndDPISQF",
        "outputId": "dcb12953-8dab-4c31-8813-19b9617b168a"
      },
      "source": [
        "#isalnum()\tReturns True if all characters in the string are alphanumeric\r\n",
        "txt = \"Company12\"\r\n",
        "\r\n",
        "x = txt.isalnum()\r\n",
        "\r\n",
        "print(x)"
      ],
      "execution_count": null,
      "outputs": [
        {
          "output_type": "stream",
          "text": [
            "True\n"
          ],
          "name": "stdout"
        }
      ]
    },
    {
      "cell_type": "code",
      "metadata": {
        "colab": {
          "base_uri": "https://localhost:8080/"
        },
        "id": "_9-VF3QgZ-0Z",
        "outputId": "c37896d2-1c6c-4eb0-9661-8a5c50211fbd"
      },
      "source": [
        "txt = \"Company 12\"\r\n",
        "\r\n",
        "x = txt.isalnum()\r\n",
        "\r\n",
        "print(x)"
      ],
      "execution_count": null,
      "outputs": [
        {
          "output_type": "stream",
          "text": [
            "False\n"
          ],
          "name": "stdout"
        }
      ]
    },
    {
      "cell_type": "code",
      "metadata": {
        "colab": {
          "base_uri": "https://localhost:8080/"
        },
        "id": "ndLBm5eQZ_Au",
        "outputId": "03191ba8-14b5-4780-af15-e1d123f365d2"
      },
      "source": [
        "#index()\tSearches the string for a specified value and returns the position of where it was found\r\n",
        "txt = \"Hello, welcome to my world.\"\r\n",
        "\r\n",
        "x = txt.index(\"welcome\")\r\n",
        "\r\n",
        "print(x)"
      ],
      "execution_count": null,
      "outputs": [
        {
          "output_type": "stream",
          "text": [
            "7\n"
          ],
          "name": "stdout"
        }
      ]
    },
    {
      "cell_type": "code",
      "metadata": {
        "colab": {
          "base_uri": "https://localhost:8080/"
        },
        "id": "xe_-E6hqZ_LX",
        "outputId": "ca4fdfdf-e1e3-4a5b-abbd-066d1648ac72"
      },
      "source": [
        "txt = \"Hello, welcome to my world.\"\r\n",
        "\r\n",
        "x = txt.index(\"e\")\r\n",
        "\r\n",
        "print(x)"
      ],
      "execution_count": null,
      "outputs": [
        {
          "output_type": "stream",
          "text": [
            "1\n"
          ],
          "name": "stdout"
        }
      ]
    },
    {
      "cell_type": "code",
      "metadata": {
        "colab": {
          "base_uri": "https://localhost:8080/"
        },
        "id": "hqqwYUYnZ_XI",
        "outputId": "8a4347ab-3067-4682-cee3-faa43911a26c"
      },
      "source": [
        "txt = \"Hello, welcome to my world.\"\r\n",
        "\r\n",
        "x = txt.index(\"e\", 5, 10)\r\n",
        "\r\n",
        "print(x)"
      ],
      "execution_count": null,
      "outputs": [
        {
          "output_type": "stream",
          "text": [
            "8\n"
          ],
          "name": "stdout"
        }
      ]
    },
    {
      "cell_type": "code",
      "metadata": {
        "colab": {
          "base_uri": "https://localhost:8080/",
          "height": 214
        },
        "id": "P5wW8KyXaYHu",
        "outputId": "8ad780aa-0dc4-462c-b59b-03b6bebc1d39"
      },
      "source": [
        "txt = \"Hello, welcome to my world.\"\r\n",
        "\r\n",
        "print(txt.find(\"q\"))#If the value is not found, the find() method returns -1, but the index() method will raise an exception\r\n",
        "print(txt.index(\"q\"))"
      ],
      "execution_count": null,
      "outputs": [
        {
          "output_type": "stream",
          "text": [
            "-1\n"
          ],
          "name": "stdout"
        },
        {
          "output_type": "error",
          "ename": "ValueError",
          "evalue": "ignored",
          "traceback": [
            "\u001b[0;31m---------------------------------------------------------------------------\u001b[0m",
            "\u001b[0;31mValueError\u001b[0m                                Traceback (most recent call last)",
            "\u001b[0;32m<ipython-input-173-233e888b7cf2>\u001b[0m in \u001b[0;36m<module>\u001b[0;34m()\u001b[0m\n\u001b[1;32m      2\u001b[0m \u001b[0;34m\u001b[0m\u001b[0m\n\u001b[1;32m      3\u001b[0m \u001b[0mprint\u001b[0m\u001b[0;34m(\u001b[0m\u001b[0mtxt\u001b[0m\u001b[0;34m.\u001b[0m\u001b[0mfind\u001b[0m\u001b[0;34m(\u001b[0m\u001b[0;34m\"q\"\u001b[0m\u001b[0;34m)\u001b[0m\u001b[0;34m)\u001b[0m\u001b[0;34m\u001b[0m\u001b[0;34m\u001b[0m\u001b[0m\n\u001b[0;32m----> 4\u001b[0;31m \u001b[0mprint\u001b[0m\u001b[0;34m(\u001b[0m\u001b[0mtxt\u001b[0m\u001b[0;34m.\u001b[0m\u001b[0mindex\u001b[0m\u001b[0;34m(\u001b[0m\u001b[0;34m\"q\"\u001b[0m\u001b[0;34m)\u001b[0m\u001b[0;34m)\u001b[0m\u001b[0;34m\u001b[0m\u001b[0;34m\u001b[0m\u001b[0m\n\u001b[0m",
            "\u001b[0;31mValueError\u001b[0m: substring not found"
          ]
        }
      ]
    },
    {
      "cell_type": "code",
      "metadata": {
        "id": "JUfGyuBSY0E-",
        "colab": {
          "base_uri": "https://localhost:8080/"
        },
        "outputId": "a05c5ac4-d5cb-4297-e2f8-58251d86692d"
      },
      "source": [
        "#format()\tFormats specified values in a string\r\n",
        "#The format() method formats the specified value(s) and insert them inside the string's placeholder.\r\n",
        "#The placeholder is defined using curly brackets: {}\r\n",
        "txt1 = \"My name is {fname}, I'm {age}\".format(fname = \"John\", age = 36)##named indexes\r\n",
        "txt2 = \"My name is {0}, I'm {1}\".format(\"John\",36)#numbered indexes\r\n",
        "txt3 = \"My name is {}, I'm {}\".format(\"John\",36)##empty placeholders\r\n",
        "\r\n",
        "print(txt1)\r\n",
        "print(txt2)\r\n",
        "print(txt3)"
      ],
      "execution_count": null,
      "outputs": [
        {
          "output_type": "stream",
          "text": [
            "My name is John, I'm 36\n",
            "My name is John, I'm 36\n",
            "My name is John, I'm 36\n"
          ],
          "name": "stdout"
        }
      ]
    },
    {
      "cell_type": "markdown",
      "metadata": {
        "id": "7UmN1eBK07Wk"
      },
      "source": [
        "**Booleans**"
      ]
    },
    {
      "cell_type": "code",
      "metadata": {
        "colab": {
          "base_uri": "https://localhost:8080/"
        },
        "id": "Qfv_byzYwqPU",
        "outputId": "f4cf0d46-014f-4ed4-eb48-51275f40fcbf"
      },
      "source": [
        "#Booleans represent one of two values: True or False.\r\n",
        "print(10 > 9)\r\n",
        "print(10 == 9)\r\n",
        "print(10 < 9)"
      ],
      "execution_count": null,
      "outputs": [
        {
          "output_type": "stream",
          "text": [
            "True\n",
            "False\n",
            "False\n"
          ],
          "name": "stdout"
        }
      ]
    },
    {
      "cell_type": "code",
      "metadata": {
        "colab": {
          "base_uri": "https://localhost:8080/"
        },
        "id": "h2WyMH6s1IiU",
        "outputId": "8a15f5a1-c648-4459-c913-360eeb66dee5"
      },
      "source": [
        "#When you run a condition in an if statement, Python returns True or False\r\n",
        "a = 200\r\n",
        "b = 33\r\n",
        "\r\n",
        "if b > a:\r\n",
        "  print(\"b is greater than a\")\r\n",
        "else:\r\n",
        "  print(\"b is not greater than a\")"
      ],
      "execution_count": null,
      "outputs": [
        {
          "output_type": "stream",
          "text": [
            "b is not greater than a\n"
          ],
          "name": "stdout"
        }
      ]
    },
    {
      "cell_type": "code",
      "metadata": {
        "colab": {
          "base_uri": "https://localhost:8080/"
        },
        "id": "FKSMGxYv1QcM",
        "outputId": "fed819e2-10e1-4dad-8aaf-a97e77bea762"
      },
      "source": [
        "#Evaluate Values and Variables:The bool() function allows you to evaluate any value, and give you True or False in return\r\n",
        "print(bool(\"Hello\"))\r\n",
        "print(bool(15))"
      ],
      "execution_count": null,
      "outputs": [
        {
          "output_type": "stream",
          "text": [
            "True\n",
            "True\n"
          ],
          "name": "stdout"
        }
      ]
    },
    {
      "cell_type": "code",
      "metadata": {
        "colab": {
          "base_uri": "https://localhost:8080/"
        },
        "id": "NCGiMSGY1nrV",
        "outputId": "0576eca5-0be0-46a6-c166-6210c5bd9249"
      },
      "source": [
        "x = \"Hello\"\r\n",
        "y = 15\r\n",
        "\r\n",
        "print(bool(x))\r\n",
        "print(bool(y))"
      ],
      "execution_count": null,
      "outputs": [
        {
          "output_type": "stream",
          "text": [
            "True\n",
            "True\n"
          ],
          "name": "stdout"
        }
      ]
    },
    {
      "cell_type": "code",
      "metadata": {
        "colab": {
          "base_uri": "https://localhost:8080/"
        },
        "id": "gDCj8L9W10UO",
        "outputId": "0fda14c0-c3e1-4531-d831-a74cc46ca999"
      },
      "source": [
        "print(bool(\"abc\"))\r\n",
        "print(bool(123))\r\n",
        "print(bool([\"apple\", \"cherry\", \"banana\"]))"
      ],
      "execution_count": null,
      "outputs": [
        {
          "output_type": "stream",
          "text": [
            "True\n",
            "True\n",
            "True\n"
          ],
          "name": "stdout"
        }
      ]
    },
    {
      "cell_type": "code",
      "metadata": {
        "colab": {
          "base_uri": "https://localhost:8080/"
        },
        "id": "nofjMEnS2FFR",
        "outputId": "17c7d84e-2f8e-4b64-d399-d054781ba000"
      },
      "source": [
        "print(bool(False))\r\n",
        "print(bool(None))\r\n",
        "print(bool(0))\r\n",
        "print(bool(\"\"))\r\n",
        "print(bool(()))\r\n",
        "print(bool([]))\r\n",
        "print(bool({}))"
      ],
      "execution_count": null,
      "outputs": [
        {
          "output_type": "stream",
          "text": [
            "False\n",
            "False\n",
            "False\n",
            "False\n",
            "False\n",
            "False\n",
            "False\n"
          ],
          "name": "stdout"
        }
      ]
    },
    {
      "cell_type": "code",
      "metadata": {
        "colab": {
          "base_uri": "https://localhost:8080/"
        },
        "id": "69YVLBjg3QQX",
        "outputId": "52f421b5-c456-4298-acbc-739cecd1bf70"
      },
      "source": [
        "#Python also has many built-in functions that return a boolean value, like the isinstance() function, which can be used to determine if an object is of a certain data type\r\n",
        "x = 200\r\n",
        "print(isinstance(x, int))"
      ],
      "execution_count": null,
      "outputs": [
        {
          "output_type": "stream",
          "text": [
            "True\n"
          ],
          "name": "stdout"
        }
      ]
    },
    {
      "cell_type": "code",
      "metadata": {
        "colab": {
          "base_uri": "https://localhost:8080/"
        },
        "id": "DeKNI6I23ZL5",
        "outputId": "be019bc0-54b7-422a-ad83-041d4c1d80fb"
      },
      "source": [
        "def myFunction() :        #execute code based on the Boolean answer of a function\r\n",
        "  return True\r\n",
        "\r\n",
        "if myFunction():\r\n",
        "  print(\"YES!\")\r\n",
        "else:\r\n",
        "  print(\"NO!\")"
      ],
      "execution_count": null,
      "outputs": [
        {
          "output_type": "stream",
          "text": [
            "YES!\n"
          ],
          "name": "stdout"
        }
      ]
    },
    {
      "cell_type": "code",
      "metadata": {
        "colab": {
          "base_uri": "https://localhost:8080/"
        },
        "id": "MZEQWhNk3ZbL",
        "outputId": "0008ea85-a4df-4e4b-bdda-30c2aaf76c80"
      },
      "source": [
        "def myFunction() :          #Functions can Return a Boolean\r\n",
        "  return True\r\n",
        "\r\n",
        "print(myFunction())"
      ],
      "execution_count": null,
      "outputs": [
        {
          "output_type": "stream",
          "text": [
            "True\n"
          ],
          "name": "stdout"
        }
      ]
    },
    {
      "cell_type": "markdown",
      "metadata": {
        "id": "Oki-iSyl4q7r"
      },
      "source": [
        "**Operators**"
      ]
    },
    {
      "cell_type": "code",
      "metadata": {
        "id": "Z0cClTPl3ZlQ"
      },
      "source": [
        "#Operators are used to perform operations on variables and values.\r\n",
        "#Python divides the operators in the following groups:\r\n",
        "\r\n",
        "Arithmetic operators\r\n",
        "Assignment operators\r\n",
        "Comparison operators\r\n",
        "Logical operators\r\n",
        "Identity operators\r\n",
        "Membership operators\r\n",
        "Bitwise operators"
      ],
      "execution_count": null,
      "outputs": []
    },
    {
      "cell_type": "markdown",
      "metadata": {
        "id": "8JfuKTgn6uMt"
      },
      "source": [
        "**Python Arithmetic Operators**"
      ]
    },
    {
      "cell_type": "code",
      "metadata": {
        "colab": {
          "base_uri": "https://localhost:8080/"
        },
        "id": "culEyJFx3ZvI",
        "outputId": "a0a6dbfb-bb2a-4b22-e7ae-68dad06ea926"
      },
      "source": [
        "x = 5\r\n",
        "y = 3\r\n",
        "print(x + y)\r\n",
        "\r\n",
        "x = 5\r\n",
        "y = 3\r\n",
        "print(x - y)\r\n",
        "\r\n",
        "x = 5\r\n",
        "y = 3\r\n",
        "print(x * y)\r\n",
        "\r\n",
        "x = 12\r\n",
        "y = 3\r\n",
        "print(x / y)\r\n",
        "\r\n",
        "x = 5\r\n",
        "y = 2\r\n",
        "print(x % y)#Modulus\r\n",
        "\r\n",
        "x = 2\r\n",
        "y = 5\r\n",
        "print(x ** y) #same as 2*2*2*2*2#Exponentiation\r\n",
        "\r\n",
        "x = 15\r\n",
        "y = 2\r\n",
        "print(x // y)#Floor division"
      ],
      "execution_count": null,
      "outputs": [
        {
          "output_type": "stream",
          "text": [
            "8\n",
            "2\n",
            "15\n",
            "4.0\n",
            "1\n",
            "32\n",
            "7\n"
          ],
          "name": "stdout"
        }
      ]
    },
    {
      "cell_type": "code",
      "metadata": {
        "colab": {
          "base_uri": "https://localhost:8080/"
        },
        "id": "oQL_Q8Eq9N_h",
        "outputId": "b8dda57e-87e4-4e68-c7fb-3c9d0c812e0a"
      },
      "source": [
        "#Python Assignment Operators:#Assignment operators are used to assign values to variables\r\n",
        "\r\n",
        "x = 5\r\n",
        "print(x)\r\n",
        "\r\n",
        "x = 5\r\n",
        "x += 3  #x = x + 3\r\n",
        "print(x)\r\n",
        "\r\n",
        "x = 5\r\n",
        "x -= 3  #x = x - 3\r\n",
        "print(x)\r\n",
        "\r\n",
        "x = 5\r\n",
        "x *= 3  #x = x * 3\r\n",
        "print(x)\r\n",
        "\r\n",
        "\r\n",
        "x = 5\r\n",
        "x /= 3\r\n",
        "print(x)\r\n",
        "\r\n",
        "\r\n",
        "x = 5\r\n",
        "x%=3\r\n",
        "print(x)\r\n",
        "\r\n",
        "\r\n",
        "x = 5\r\n",
        "x//=3\r\n",
        "print(x)\r\n",
        "\r\n",
        "\r\n",
        "x = 5\r\n",
        "x **= 3\r\n",
        "print(x)\r\n",
        "\r\n",
        "\r\n",
        "x = 5\r\n",
        "x &= 3\r\n",
        "print(x)\r\n",
        "\r\n",
        "\r\n",
        "x = 5\r\n",
        "x |= 3\r\n",
        "print(x)\r\n",
        "\r\n",
        "x = 5\r\n",
        "x ^= 3\r\n",
        "print(x)\r\n",
        "\r\n",
        "\r\n",
        "x = 5\r\n",
        "x >>= 3\r\n",
        "print(x)\r\n",
        "\r\n",
        "x = 5\r\n",
        "x <<= 3\r\n",
        "print(x)"
      ],
      "execution_count": null,
      "outputs": [
        {
          "output_type": "stream",
          "text": [
            "5\n",
            "8\n",
            "2\n",
            "15\n",
            "1.6666666666666667\n",
            "2\n",
            "1\n",
            "125\n",
            "1\n",
            "7\n",
            "6\n",
            "0\n",
            "40\n"
          ],
          "name": "stdout"
        }
      ]
    },
    {
      "cell_type": "markdown",
      "metadata": {
        "id": "WYhFEoIZjOYl"
      },
      "source": [
        "**Python Comparison Operators**"
      ]
    },
    {
      "cell_type": "code",
      "metadata": {
        "id": "i8xIQ6q49Pme",
        "colab": {
          "base_uri": "https://localhost:8080/"
        },
        "outputId": "becc3277-67d8-461b-c299-2cbe48abcd80"
      },
      "source": [
        "#Comparison operators are used to compare two values\r\n",
        "x = 5\r\n",
        "y = 3\r\n",
        "print(x == y)\r\n",
        "\r\n",
        "x = 5\r\n",
        "y = 3\r\n",
        "print(x != y)\r\n",
        "\r\n",
        "x = 5\r\n",
        "y = 3\r\n",
        "print(x > y)\r\n",
        "\r\n",
        "x = 5\r\n",
        "y = 3\r\n",
        "print(x < y)\r\n",
        "\r\n",
        "x = 5\r\n",
        "y = 3\r\n",
        "print(x >= y)\r\n",
        "\r\n",
        "x = 5\r\n",
        "y = 3\r\n",
        "print(x <= y)"
      ],
      "execution_count": 1,
      "outputs": [
        {
          "output_type": "stream",
          "text": [
            "False\n",
            "True\n",
            "True\n",
            "False\n",
            "True\n",
            "False\n"
          ],
          "name": "stdout"
        }
      ]
    },
    {
      "cell_type": "markdown",
      "metadata": {
        "id": "CphSEfc4j8I9"
      },
      "source": [
        "**Python Logical Operators**"
      ]
    },
    {
      "cell_type": "code",
      "metadata": {
        "colab": {
          "base_uri": "https://localhost:8080/"
        },
        "id": "V601CgaZj9fT",
        "outputId": "56dcae90-63e4-4baf-b8dd-750f09f83232"
      },
      "source": [
        "#Logical operators are used to combine conditional statements\r\n",
        "x = 5\r\n",
        "print(x > 3 and x < 10)\r\n",
        "\r\n",
        "x = 5\r\n",
        "print(x > 3 or x < 4)\r\n",
        "\r\n",
        "x = 5\r\n",
        "print(not(x > 3 and x < 10))"
      ],
      "execution_count": 2,
      "outputs": [
        {
          "output_type": "stream",
          "text": [
            "True\n",
            "True\n",
            "False\n"
          ],
          "name": "stdout"
        }
      ]
    },
    {
      "cell_type": "markdown",
      "metadata": {
        "id": "qmxDL2JrkeHb"
      },
      "source": [
        "**Python Identity Operators**"
      ]
    },
    {
      "cell_type": "code",
      "metadata": {
        "colab": {
          "base_uri": "https://localhost:8080/"
        },
        "id": "p25V7gLKkgHI",
        "outputId": "8513842d-cfc9-421f-e6bc-b41239acbe05"
      },
      "source": [
        "#Identity operators are used to compare the objects, not if they are equal, but if they are actually the same object, with the same memory location\r\n",
        "\r\n",
        "#is \tReturns True if both variables are the same object\r\n",
        "x = [\"apple\", \"banana\"]\r\n",
        "y = [\"apple\", \"banana\"]\r\n",
        "z = x\r\n",
        "print(x is z)\r\n",
        "print(x is y)\r\n",
        "print(x == y)\r\n",
        "\r\n",
        "#is not\tReturns True if both variables are not the same object\r\n",
        "x = [\"apple\", \"banana\"]\r\n",
        "y = [\"apple\", \"banana\"]\r\n",
        "z = x\r\n",
        "print(x is not z)\r\n",
        "print(x is not y)\r\n",
        "print(x != y)"
      ],
      "execution_count": 4,
      "outputs": [
        {
          "output_type": "stream",
          "text": [
            "True\n",
            "False\n",
            "True\n",
            "False\n",
            "True\n",
            "False\n"
          ],
          "name": "stdout"
        }
      ]
    },
    {
      "cell_type": "markdown",
      "metadata": {
        "id": "cORlaNyZl703"
      },
      "source": [
        "**Python Membership Operators**"
      ]
    },
    {
      "cell_type": "code",
      "metadata": {
        "colab": {
          "base_uri": "https://localhost:8080/"
        },
        "id": "po1xnMYKl9L7",
        "outputId": "c355399c-0521-4fe5-9502-26a24d0db382"
      },
      "source": [
        "#Membership operators are used to test if a sequence is presented in an object\r\n",
        "\r\n",
        "#in \tReturns True if a sequence with the specified value is present in the object\r\n",
        "x = [\"apple\", \"banana\"]\r\n",
        "print(\"banana\" in x)\r\n",
        "\r\n",
        "#not in\tReturns True if a sequence with the specified value is not present in the object\r\n",
        "x = [\"apple\", \"banana\"]\r\n",
        "print(\"pineapple\" not in x)"
      ],
      "execution_count": 5,
      "outputs": [
        {
          "output_type": "stream",
          "text": [
            "True\n",
            "True\n"
          ],
          "name": "stdout"
        }
      ]
    },
    {
      "cell_type": "markdown",
      "metadata": {
        "id": "aipcg36zmurq"
      },
      "source": [
        "**Python Bitwise Operators**"
      ]
    },
    {
      "cell_type": "code",
      "metadata": {
        "id": "6lDSVuvimv_h"
      },
      "source": [
        "#Bitwise operators are used to compare (binary) numbers\r\n",
        "& \tAND\tSets each bit to 1 if both bits are 1\r\n",
        "|\tOR\tSets each bit to 1 if one of two bits is 1\r\n",
        " ^\tXOR\tSets each bit to 1 if only one of two bits is 1\r\n",
        "~ \tNOT\tInverts all the bits\r\n",
        "<<\tZero fill left shift\tShift left by pushing zeros in from the right and let the leftmost bits fall off\r\n",
        ">>\tSigned right shift\tShift right by pushing copies of the leftmost bit in from the left, and let the rightmost bits fall off"
      ],
      "execution_count": null,
      "outputs": []
    }
  ]
}