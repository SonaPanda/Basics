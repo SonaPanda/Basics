{
  "nbformat": 4,
  "nbformat_minor": 0,
  "metadata": {
    "colab": {
      "name": "FS1_Filter Method.ipynb",
      "provenance": [],
      "collapsed_sections": []
    },
    "kernelspec": {
      "name": "python3",
      "display_name": "Python 3"
    }
  },
  "cells": [
    {
      "cell_type": "code",
      "metadata": {
        "colab": {
          "resources": {
            "http://localhost:8080/nbextensions/google.colab/files.js": {
              "data": "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",
              "ok": true,
              "headers": [
                [
                  "content-type",
                  "application/javascript"
                ]
              ],
              "status": 200,
              "status_text": ""
            }
          },
          "base_uri": "https://localhost:8080/",
          "height": 72
        },
        "id": "HBn_7dM_yBkN",
        "outputId": "15834f37-edbd-46d1-b111-1070bb720057"
      },
      "source": [
        "from google.colab import files\r\n",
        "uploaded = files.upload()"
      ],
      "execution_count": null,
      "outputs": [
        {
          "output_type": "display_data",
          "data": {
            "text/html": [
              "\n",
              "     <input type=\"file\" id=\"files-3d058a98-1c74-4f15-b2df-d670828efd22\" name=\"files[]\" multiple disabled\n",
              "        style=\"border:none\" />\n",
              "     <output id=\"result-3d058a98-1c74-4f15-b2df-d670828efd22\">\n",
              "      Upload widget is only available when the cell has been executed in the\n",
              "      current browser session. Please rerun this cell to enable.\n",
              "      </output>\n",
              "      <script src=\"/nbextensions/google.colab/files.js\"></script> "
            ],
            "text/plain": [
              "<IPython.core.display.HTML object>"
            ]
          },
          "metadata": {
            "tags": []
          }
        },
        {
          "output_type": "stream",
          "text": [
            "Saving kaggle.json to kaggle (2).json\n"
          ],
          "name": "stdout"
        }
      ]
    },
    {
      "cell_type": "code",
      "metadata": {
        "colab": {
          "base_uri": "https://localhost:8080/"
        },
        "id": "xwHldKnsyWgP",
        "outputId": "0231d17d-1294-432a-b839-ffbe783e39fd"
      },
      "source": [
        "for fn in uploaded.keys():\r\n",
        "  print('User uploaded file \"{name}\" with length {length} bytes'.format(\r\n",
        "      name=fn, length=len(uploaded[fn])))  "
      ],
      "execution_count": null,
      "outputs": [
        {
          "output_type": "stream",
          "text": [
            "User uploaded file \"kaggle.json\" with length 69 bytes\n"
          ],
          "name": "stdout"
        }
      ]
    },
    {
      "cell_type": "code",
      "metadata": {
        "colab": {
          "base_uri": "https://localhost:8080/"
        },
        "id": "U0rUgA3LyYYy",
        "outputId": "e794f899-3ec7-45c2-ee2d-d76321528652"
      },
      "source": [
        "!mkdir -p ~/.kaggle\r\n",
        "!cp kaggle.json ~/.kaggle/\r\n",
        "!chmod 600 ~/.kaggle/kaggle.json\r\n",
        "!ls ~/.kaggle"
      ],
      "execution_count": null,
      "outputs": [
        {
          "output_type": "stream",
          "text": [
            "kaggle.json\n"
          ],
          "name": "stdout"
        }
      ]
    },
    {
      "cell_type": "code",
      "metadata": {
        "colab": {
          "base_uri": "https://localhost:8080/"
        },
        "id": "icrOUFu5yaK5",
        "outputId": "2c3e17ff-1d07-4caf-ad65-ed538f3bb66e"
      },
      "source": [
        "!kaggle datasets download -d uciml/pima-indians-diabetes-database"
      ],
      "execution_count": null,
      "outputs": [
        {
          "output_type": "stream",
          "text": [
            "pima-indians-diabetes-database.zip: Skipping, found more recently modified local copy (use --force to force download)\n"
          ],
          "name": "stdout"
        }
      ]
    },
    {
      "cell_type": "code",
      "metadata": {
        "colab": {
          "base_uri": "https://localhost:8080/"
        },
        "id": "git4-srXyb2R",
        "outputId": "1a2487c8-3db0-467f-d256-64f5abe68916"
      },
      "source": [
        "!unzip \\*.zip"
      ],
      "execution_count": null,
      "outputs": [
        {
          "output_type": "stream",
          "text": [
            "Archive:  wine-quality.zip\n",
            "replace winequalityN.csv? [y]es, [n]o, [A]ll, [N]one, [r]ename: y\n",
            "  inflating: winequalityN.csv        \n",
            "\n",
            "Archive:  pima-indians-diabetes-database.zip\n",
            "replace diabetes.csv? [y]es, [n]o, [A]ll, [N]one, [r]ename: n\n",
            "\n",
            "2 archives were successfully processed.\n"
          ],
          "name": "stdout"
        }
      ]
    },
    {
      "cell_type": "markdown",
      "metadata": {
        "id": "3Hp4k45Pydbg"
      },
      "source": [
        "**Part-1**"
      ]
    },
    {
      "cell_type": "markdown",
      "metadata": {
        "id": "pPa7n5XH5JLx"
      },
      "source": [
        "**Univariate Selection**"
      ]
    },
    {
      "cell_type": "code",
      "metadata": {
        "id": "4kh3UvW73QIv"
      },
      "source": [
        "# sklearn.feature_selection module can be used for feature selection/dimensionality reduction on sample sets, either to improve estimators’ accuracy scores or to boost their performance on very high-dimensional datasets."
      ],
      "execution_count": null,
      "outputs": []
    },
    {
      "cell_type": "markdown",
      "metadata": {
        "id": "zfcZIbphAgoV"
      },
      "source": [
        "**SelectKBest removes all but the  highest scoring features**"
      ]
    },
    {
      "cell_type": "code",
      "metadata": {
        "colab": {
          "base_uri": "https://localhost:8080/"
        },
        "id": "JOF9ueAT6GVe",
        "outputId": "c49f00e5-2798-408b-d075-52d3a34c1189"
      },
      "source": [
        "#******************************************\r\n",
        "from sklearn.datasets import load_iris\r\n",
        "from sklearn.feature_selection import SelectKBest\r\n",
        "from sklearn.feature_selection import chi2\r\n",
        "X, y = load_iris(return_X_y=True)\r\n",
        "print(X.shape)\r\n",
        "X_new = SelectKBest(chi2, k=2).fit_transform(X, y)\r\n",
        "print(X_new.shape)"
      ],
      "execution_count": null,
      "outputs": [
        {
          "output_type": "stream",
          "text": [
            "(150, 4)\n",
            "(150, 2)\n"
          ],
          "name": "stdout"
        }
      ]
    },
    {
      "cell_type": "code",
      "metadata": {
        "colab": {
          "base_uri": "https://localhost:8080/"
        },
        "id": "exqCFqXu7Oig",
        "outputId": "c900dd08-ac46-44b5-8b4e-d92bd7578143"
      },
      "source": [
        "#*********************************************\r\n",
        "from sklearn.datasets import load_digits\r\n",
        "from sklearn.feature_selection import SelectKBest, chi2\r\n",
        "X, y = load_digits(return_X_y=True)\r\n",
        "print(X.shape)\r\n",
        "X_new = SelectKBest(chi2, k=20).fit_transform(X, y)\r\n",
        "print(X_new.shape)"
      ],
      "execution_count": null,
      "outputs": [
        {
          "output_type": "stream",
          "text": [
            "(1797, 64)\n",
            "(1797, 20)\n"
          ],
          "name": "stdout"
        }
      ]
    },
    {
      "cell_type": "code",
      "metadata": {
        "colab": {
          "base_uri": "https://localhost:8080/",
          "height": 111
        },
        "id": "J8y6S2Ny8P5e",
        "outputId": "92ad48c8-6d70-4a69-b191-f5e2c344ddad"
      },
      "source": [
        "#**********************************************\r\n",
        "from pandas import read_csv\r\n",
        "from numpy import set_printoptions\r\n",
        "from sklearn.feature_selection import SelectKBest\r\n",
        "from sklearn.feature_selection import f_classif\r\n",
        "# load data\r\n",
        "data=pd.read_csv('diabetes.csv')\r\n",
        "data.head(2)\r\n"
      ],
      "execution_count": null,
      "outputs": [
        {
          "output_type": "execute_result",
          "data": {
            "text/html": [
              "<div>\n",
              "<style scoped>\n",
              "    .dataframe tbody tr th:only-of-type {\n",
              "        vertical-align: middle;\n",
              "    }\n",
              "\n",
              "    .dataframe tbody tr th {\n",
              "        vertical-align: top;\n",
              "    }\n",
              "\n",
              "    .dataframe thead th {\n",
              "        text-align: right;\n",
              "    }\n",
              "</style>\n",
              "<table border=\"1\" class=\"dataframe\">\n",
              "  <thead>\n",
              "    <tr style=\"text-align: right;\">\n",
              "      <th></th>\n",
              "      <th>Pregnancies</th>\n",
              "      <th>Glucose</th>\n",
              "      <th>BloodPressure</th>\n",
              "      <th>SkinThickness</th>\n",
              "      <th>Insulin</th>\n",
              "      <th>BMI</th>\n",
              "      <th>DiabetesPedigreeFunction</th>\n",
              "      <th>Age</th>\n",
              "      <th>Outcome</th>\n",
              "    </tr>\n",
              "  </thead>\n",
              "  <tbody>\n",
              "    <tr>\n",
              "      <th>0</th>\n",
              "      <td>6</td>\n",
              "      <td>148</td>\n",
              "      <td>72</td>\n",
              "      <td>35</td>\n",
              "      <td>0</td>\n",
              "      <td>33.6</td>\n",
              "      <td>0.627</td>\n",
              "      <td>50</td>\n",
              "      <td>1</td>\n",
              "    </tr>\n",
              "    <tr>\n",
              "      <th>1</th>\n",
              "      <td>1</td>\n",
              "      <td>85</td>\n",
              "      <td>66</td>\n",
              "      <td>29</td>\n",
              "      <td>0</td>\n",
              "      <td>26.6</td>\n",
              "      <td>0.351</td>\n",
              "      <td>31</td>\n",
              "      <td>0</td>\n",
              "    </tr>\n",
              "  </tbody>\n",
              "</table>\n",
              "</div>"
            ],
            "text/plain": [
              "   Pregnancies  Glucose  BloodPressure  ...  DiabetesPedigreeFunction  Age  Outcome\n",
              "0            6      148             72  ...                     0.627   50        1\n",
              "1            1       85             66  ...                     0.351   31        0\n",
              "\n",
              "[2 rows x 9 columns]"
            ]
          },
          "metadata": {
            "tags": []
          },
          "execution_count": 27
        }
      ]
    },
    {
      "cell_type": "code",
      "metadata": {
        "id": "WjJWK2hJ_QWY"
      },
      "source": [
        "Y= data[\"Outcome\"]\r\n",
        "X = data.drop([\"Outcome\"], axis = 1)"
      ],
      "execution_count": null,
      "outputs": []
    },
    {
      "cell_type": "code",
      "metadata": {
        "colab": {
          "base_uri": "https://localhost:8080/"
        },
        "id": "-w9bpAV6_Omw",
        "outputId": "b4c0b879-0241-4c5c-eddf-23da63c31608"
      },
      "source": [
        "# feature extraction\r\n",
        "test = SelectKBest(score_func=f_classif, k=4)\r\n",
        "fit = test.fit(X, Y)\r\n",
        "# summarize scores\r\n",
        "set_printoptions(precision=3)\r\n",
        "print(fit.scores_)\r\n",
        "features = fit.transform(X)\r\n",
        "# summarize selected features\r\n",
        "print(features[0:5,:])"
      ],
      "execution_count": null,
      "outputs": [
        {
          "output_type": "stream",
          "text": [
            "[ 39.67  213.162   3.257   4.304  13.281  71.772  23.871  46.141]\n",
            "[[  6.  148.   33.6  50. ]\n",
            " [  1.   85.   26.6  31. ]\n",
            " [  8.  183.   23.3  32. ]\n",
            " [  1.   89.   28.1  21. ]\n",
            " [  0.  137.   43.1  33. ]]\n"
          ],
          "name": "stdout"
        }
      ]
    },
    {
      "cell_type": "markdown",
      "metadata": {
        "id": "EbarGI9MEcZ8"
      },
      "source": [
        "**Regression Feature Selection:(Numerical Input, Numerical Output)**"
      ]
    },
    {
      "cell_type": "code",
      "metadata": {
        "id": "rAmCvBAJEe9Y"
      },
      "source": [
        "#This section demonstrates feature selection for a regression problem that as numerical inputs and numerical outputs.\r\n",
        "#A test regression problem is prepared using the make_regression() function.\r\n",
        "#Feature selection is performed using Pearson’s Correlation Coefficient via the f_regression() function."
      ],
      "execution_count": null,
      "outputs": []
    },
    {
      "cell_type": "code",
      "metadata": {
        "colab": {
          "base_uri": "https://localhost:8080/"
        },
        "id": "ouT1duycEn3P",
        "outputId": "edec9b5d-581f-40fd-a83c-f1c02b656d12"
      },
      "source": [
        "# pearson's correlation feature selection for numeric input and numeric output\r\n",
        "from sklearn.datasets import make_regression\r\n",
        "from sklearn.feature_selection import SelectKBest\r\n",
        "from sklearn.feature_selection import f_regression\r\n",
        "# generate dataset\r\n",
        "X, y = make_regression(n_samples=100, n_features=100, n_informative=10)\r\n",
        "# define feature selection\r\n",
        "fs = SelectKBest(score_func=f_regression, k=10)\r\n",
        "# apply feature selection\r\n",
        "X_selected = fs.fit_transform(X, y)\r\n",
        "print(X_selected.shape)"
      ],
      "execution_count": null,
      "outputs": [
        {
          "output_type": "stream",
          "text": [
            "(100, 10)\n"
          ],
          "name": "stdout"
        }
      ]
    },
    {
      "cell_type": "markdown",
      "metadata": {
        "id": "P0M2nJqwE9ml"
      },
      "source": [
        "**Classification Feature Selection:(Numerical Input, Categorical Output)**"
      ]
    },
    {
      "cell_type": "code",
      "metadata": {
        "id": "BGlFYYOOE_ut"
      },
      "source": [
        "#This section demonstrates feature selection for a classification problem that as numerical inputs and categorical outputs.\r\n",
        "#A test regression problem is prepared using the make_classification() function.\r\n",
        "#Feature selection is performed using ANOVA F measure via the f_classif() function."
      ],
      "execution_count": null,
      "outputs": []
    },
    {
      "cell_type": "code",
      "metadata": {
        "colab": {
          "base_uri": "https://localhost:8080/"
        },
        "id": "GnnsoIhnFMy3",
        "outputId": "0bb057bb-cd47-4ed8-f382-c6343608857b"
      },
      "source": [
        "# ANOVA feature selection for numeric input and categorical output\r\n",
        "from sklearn.datasets import make_classification\r\n",
        "from sklearn.feature_selection import SelectKBest\r\n",
        "from sklearn.feature_selection import f_classif\r\n",
        "# generate dataset\r\n",
        "X, y = make_classification(n_samples=100, n_features=20, n_informative=2)\r\n",
        "# define feature selection\r\n",
        "fs = SelectKBest(score_func=f_classif, k=2)\r\n",
        "# apply feature selection\r\n",
        "X_selected = fs.fit_transform(X, y)\r\n",
        "print(X_selected.shape)"
      ],
      "execution_count": null,
      "outputs": [
        {
          "output_type": "stream",
          "text": [
            "(100, 2)\n"
          ],
          "name": "stdout"
        }
      ]
    },
    {
      "cell_type": "markdown",
      "metadata": {
        "id": "lmlfDgkCAu5a"
      },
      "source": [
        "**SelectPercentile removes all but a user-specified highest scoring percentage of features**"
      ]
    },
    {
      "cell_type": "code",
      "metadata": {
        "colab": {
          "base_uri": "https://localhost:8080/"
        },
        "id": "cnsi9LwfAwNq",
        "outputId": "f249e5e2-61c7-4380-99d9-af317ea87c77"
      },
      "source": [
        "from sklearn.datasets import load_digits\r\n",
        "from sklearn.feature_selection import SelectPercentile, chi2\r\n",
        "X, y = load_digits(return_X_y=True)\r\n",
        "print(X.shape)\r\n",
        "X_new = SelectPercentile(chi2, percentile=10).fit_transform(X, y)\r\n",
        "print(X_new.shape)"
      ],
      "execution_count": null,
      "outputs": [
        {
          "output_type": "stream",
          "text": [
            "(1797, 64)\n",
            "(1797, 7)\n"
          ],
          "name": "stdout"
        }
      ]
    },
    {
      "cell_type": "markdown",
      "metadata": {
        "id": "_ScDtVQqBZWS"
      },
      "source": [
        "**SelectFpr: Select features based on a false positive rate test.\r\n",
        "Select the pvalues below alpha based on a FPR test.\r\n",
        "It controls the total amount of false detections.**"
      ]
    },
    {
      "cell_type": "code",
      "metadata": {
        "colab": {
          "base_uri": "https://localhost:8080/"
        },
        "id": "2Aqn0I4GBslC",
        "outputId": "4480220b-de2c-4815-f420-f5ef502c27fd"
      },
      "source": [
        "from sklearn.datasets import load_breast_cancer\r\n",
        "from sklearn.feature_selection import SelectFpr, chi2\r\n",
        "X, y = load_breast_cancer(return_X_y=True)\r\n",
        "print(X.shape)\r\n",
        "X_new = SelectFpr(chi2, alpha=0.01).fit_transform(X, y)\r\n",
        "print(X_new.shape)"
      ],
      "execution_count": null,
      "outputs": [
        {
          "output_type": "stream",
          "text": [
            "(569, 30)\n",
            "(569, 16)\n"
          ],
          "name": "stdout"
        }
      ]
    },
    {
      "cell_type": "markdown",
      "metadata": {
        "id": "GfJO4Ds0Iv96"
      },
      "source": [
        "**SelectFdr: Select features based on an estimated false discovery rate.Select the p-values for an estimated false discovery rate**"
      ]
    },
    {
      "cell_type": "code",
      "metadata": {
        "colab": {
          "base_uri": "https://localhost:8080/"
        },
        "id": "pX0GsCtFI4XF",
        "outputId": "9bd83a18-da04-40fd-e4fd-1f22e9449227"
      },
      "source": [
        "from sklearn.datasets import load_breast_cancer\r\n",
        "from sklearn.feature_selection import SelectFdr, chi2\r\n",
        "X, y = load_breast_cancer(return_X_y=True)\r\n",
        "print(X.shape)\r\n",
        "X_new = SelectFdr(chi2, alpha=0.01).fit_transform(X, y)\r\n",
        "print(X_new.shape)"
      ],
      "execution_count": null,
      "outputs": [
        {
          "output_type": "stream",
          "text": [
            "(569, 30)\n",
            "(569, 16)\n"
          ],
          "name": "stdout"
        }
      ]
    },
    {
      "cell_type": "markdown",
      "metadata": {
        "id": "E7ZTLwOnJW2w"
      },
      "source": [
        "**SelectFwe: Select features based on family-wise error rate.Select the p-values corresponding to Family-wise error rate**"
      ]
    },
    {
      "cell_type": "code",
      "metadata": {
        "colab": {
          "base_uri": "https://localhost:8080/"
        },
        "id": "a0RERnPXJaki",
        "outputId": "7c2add6a-bf87-45c6-8ed1-9ee289cd62df"
      },
      "source": [
        "from sklearn.datasets import load_breast_cancer\r\n",
        "from sklearn.feature_selection import SelectFwe, chi2\r\n",
        "X, y = load_breast_cancer(return_X_y=True)\r\n",
        "print(X.shape)\r\n",
        "X_new = SelectFwe(chi2, alpha=0.01).fit_transform(X, y)\r\n",
        "print(X_new.shape)"
      ],
      "execution_count": null,
      "outputs": [
        {
          "output_type": "stream",
          "text": [
            "(569, 30)\n",
            "(569, 15)\n"
          ],
          "name": "stdout"
        }
      ]
    },
    {
      "cell_type": "code",
      "metadata": {
        "id": "4XwEJLq08IM-"
      },
      "source": [
        "f_classif: ANOVA F-value between label/feature for classification tasks.\r\n",
        "mutual_info_classif: Mutual information for a discrete target.\r\n",
        "chi2: Chi-squared stats of non-negative features for classification tasks.\r\n",
        "f_regression: F-value between label/feature for regression tasks.\r\n",
        "mutual_info_regression: Mutual information for a continuous target.\r\n",
        "SelectPercentile: Select features based on percentile of the highest scores.\r\n",
        "SelectFpr: Select features based on a false positive rate test.\r\n",
        "SelectFdr: Select features based on an estimated false discovery rate.\r\n",
        "SelectFwe: Select features based on family-wise error rate.\r\n",
        "GenericUnivariateSelect: Univariate feature selector with configurable mode."
      ],
      "execution_count": null,
      "outputs": []
    },
    {
      "cell_type": "markdown",
      "metadata": {
        "id": "rORtSjrsyhsN"
      },
      "source": [
        "**Feature selection using Python for classification problems**"
      ]
    },
    {
      "cell_type": "code",
      "metadata": {
        "colab": {
          "base_uri": "https://localhost:8080/"
        },
        "id": "TFGbMpaMyjvx",
        "outputId": "4e5ba739-38dd-40d2-8d3c-e418008dc142"
      },
      "source": [
        "iris = load_iris()\r\n",
        "X = iris.data\r\n",
        "y = iris.target\r\n",
        "print(X[: 5, :])\r\n",
        "print(X.shape)"
      ],
      "execution_count": null,
      "outputs": [
        {
          "output_type": "stream",
          "text": [
            "[[5.1 3.5 1.4 0.2]\n",
            " [4.9 3.  1.4 0.2]\n",
            " [4.7 3.2 1.3 0.2]\n",
            " [4.6 3.1 1.5 0.2]\n",
            " [5.  3.6 1.4 0.2]]\n",
            "(150, 4)\n"
          ],
          "name": "stdout"
        }
      ]
    },
    {
      "cell_type": "code",
      "metadata": {
        "colab": {
          "base_uri": "https://localhost:8080/"
        },
        "id": "tl73Jda4329Z",
        "outputId": "628dba74-64a2-4ae4-b500-a53e5a560b98"
      },
      "source": [
        "#The data have four features. To test the effectiveness of different feature selection methods, we add some noise features to the data set.\r\n",
        "np.random.seed(100)\r\n",
        "E = np.random.uniform(0, 1, size=(len(X), 10))\r\n",
        "X = np.hstack((X, E))\r\n",
        "print(X.shape)"
      ],
      "execution_count": null,
      "outputs": [
        {
          "output_type": "stream",
          "text": [
            "(150, 14)\n"
          ],
          "name": "stdout"
        }
      ]
    },
    {
      "cell_type": "code",
      "metadata": {
        "colab": {
          "base_uri": "https://localhost:8080/"
        },
        "id": "Z7vNaUkQ4WIO",
        "outputId": "59a84ccf-2e55-4b06-8adc-b9037ecdbeb6"
      },
      "source": [
        "X_train, X_test, y_train, y_test = train_test_split(X, y, random_state=100, test_size=0.3)\r\n",
        "print(X_train.shape)"
      ],
      "execution_count": null,
      "outputs": [
        {
          "output_type": "stream",
          "text": [
            "(105, 14)\n"
          ],
          "name": "stdout"
        }
      ]
    },
    {
      "cell_type": "markdown",
      "metadata": {
        "id": "90CprVKG5NAd"
      },
      "source": [
        "**Removing features with low variance**"
      ]
    },
    {
      "cell_type": "code",
      "metadata": {
        "colab": {
          "base_uri": "https://localhost:8080/"
        },
        "id": "yO-PakaM5OXy",
        "outputId": "7f0f9495-da66-45e3-955c-f2e4a0e5fa3c"
      },
      "source": [
        "from sklearn.feature_selection import VarianceThreshold\r\n",
        "sel_variance_threshold = VarianceThreshold() \r\n",
        "X_train_remove_variance = sel_variance_threshold.fit_transform(X_train)\r\n",
        "print(X_train_remove_variance.shape)"
      ],
      "execution_count": null,
      "outputs": [
        {
          "output_type": "stream",
          "text": [
            "(105, 14)\n"
          ],
          "name": "stdout"
        }
      ]
    },
    {
      "cell_type": "markdown",
      "metadata": {
        "id": "G2QAWBxE7eTy"
      },
      "source": [
        "**Univariate feature selection**"
      ]
    },
    {
      "cell_type": "markdown",
      "metadata": {
        "id": "8CYMPzro7-X9"
      },
      "source": [
        "use chi-square test"
      ]
    },
    {
      "cell_type": "code",
      "metadata": {
        "colab": {
          "base_uri": "https://localhost:8080/"
        },
        "id": "nWpJQkiv7f1d",
        "outputId": "2a807ded-215e-4719-b9a4-db6d1532b883"
      },
      "source": [
        "sel_chi2 = SelectKBest(chi2, k=4)    # select 4 features\r\n",
        "X_train_chi2 = sel_chi2.fit_transform(X_train, y_train)\r\n",
        "print(sel_chi2.get_support())\r\n",
        "#The first four elements in the array are true, which means the first four features were selected by this method. Since these features are the original features in the data, the chi-square test performs well."
      ],
      "execution_count": null,
      "outputs": [
        {
          "output_type": "stream",
          "text": [
            "[ True  True  True  True False False False False False False False False\n",
            " False False]\n"
          ],
          "name": "stdout"
        }
      ]
    },
    {
      "cell_type": "markdown",
      "metadata": {
        "id": "V27MxJ558CLm"
      },
      "source": [
        "use f test"
      ]
    },
    {
      "cell_type": "code",
      "metadata": {
        "colab": {
          "base_uri": "https://localhost:8080/"
        },
        "id": "O4ydjI4w72Pj",
        "outputId": "432a5c57-9b30-4f6e-9e87-aa207fe3c4a2"
      },
      "source": [
        "sel_f = SelectKBest(f_classif, k=4)\r\n",
        "X_train_f = sel_f.fit_transform(X_train, y_train)\r\n",
        "print(sel_f.get_support())"
      ],
      "execution_count": null,
      "outputs": [
        {
          "output_type": "stream",
          "text": [
            "[ True  True  True  True False False False False False False False False\n",
            " False False]\n"
          ],
          "name": "stdout"
        }
      ]
    },
    {
      "cell_type": "markdown",
      "metadata": {
        "id": "SqefRv_B8hYl"
      },
      "source": [
        "use mutual_info_classif test"
      ]
    },
    {
      "cell_type": "code",
      "metadata": {
        "colab": {
          "base_uri": "https://localhost:8080/"
        },
        "id": "cHOWAJNz8iGW",
        "outputId": "0abcfad2-9367-4d00-af74-ec6289b6a63d"
      },
      "source": [
        "from sklearn.feature_selection import mutual_info_classif\r\n",
        "sel_mutual = SelectKBest(mutual_info_classif, k=4)\r\n",
        "X_train_mutual = sel_mutual.fit_transform(X_train, y_train)\r\n",
        "print(sel_mutual.get_support())\r\n",
        "#For regression problems, similarly, we can use f_regression, mutual_info_regression to conduct the feature selection."
      ],
      "execution_count": null,
      "outputs": [
        {
          "output_type": "stream",
          "text": [
            "[ True  True  True  True False False False False False False False False\n",
            " False False]\n"
          ],
          "name": "stdout"
        }
      ]
    },
    {
      "cell_type": "markdown",
      "metadata": {
        "id": "eIhY8X518_-7"
      },
      "source": [
        "**Recursive feature elimination**"
      ]
    },
    {
      "cell_type": "markdown",
      "metadata": {
        "id": "F2dZA9KR9vT9"
      },
      "source": [
        "use the logistic regression as the model"
      ]
    },
    {
      "cell_type": "code",
      "metadata": {
        "colab": {
          "base_uri": "https://localhost:8080/"
        },
        "id": "xsCMOgmB9BG_",
        "outputId": "79d410b6-17fe-4768-a70e-9b303b0a1aa7"
      },
      "source": [
        "from sklearn.feature_selection import RFE\r\n",
        "from sklearn.linear_model import LogisticRegression\r\n",
        "model_logistic = LogisticRegression(solver='lbfgs', multi_class='multinomial', max_iter=1000)\r\n",
        "sel_rfe_logistic = RFE(estimator=model_logistic, n_features_to_select=4, step=1)\r\n",
        "X_train_rfe_logistic = sel_rfe_logistic.fit_transform(X_train, y_train)\r\n",
        "print(sel_rfe_logistic.get_support())\r\n",
        "print(sel_rfe_logistic.ranking_)\r\n",
        "#The features which were selected are rank 1. The result shows that the recursive feature elimination selects only part of the original features and one noise feature. This is not an ideal result we want"
      ],
      "execution_count": null,
      "outputs": [
        {
          "output_type": "stream",
          "text": [
            "[False  True  True  True False False False False False False False False\n",
            " False  True]\n",
            "[ 3  1  1  1  9  8  7  6  5  4  2 11 10  1]\n"
          ],
          "name": "stdout"
        }
      ]
    },
    {
      "cell_type": "markdown",
      "metadata": {
        "id": "OO_Y4bbjJMml"
      },
      "source": [
        "use the random forest as the model"
      ]
    },
    {
      "cell_type": "code",
      "metadata": {
        "colab": {
          "base_uri": "https://localhost:8080/"
        },
        "id": "a8CIssa9JN4M",
        "outputId": "c9db5292-bad1-4d27-be7b-d50650136cdd"
      },
      "source": [
        "from sklearn.ensemble import RandomForestClassifier\r\n",
        "model_tree = RandomForestClassifier(random_state=100, n_estimators=50)\r\n",
        "sel_rfe_tree = RFE(estimator=model_tree, n_features_to_select=4, step=1)\r\n",
        "X_train_rfe_tree = sel_rfe_tree.fit_transform(X_train, y_train)\r\n",
        "print(sel_rfe_tree.get_support())"
      ],
      "execution_count": null,
      "outputs": [
        {
          "output_type": "stream",
          "text": [
            "[ True  True  True  True False False False False False False False False\n",
            " False False]\n"
          ],
          "name": "stdout"
        }
      ]
    },
    {
      "cell_type": "markdown",
      "metadata": {
        "id": "-PvCIudyWa3M"
      },
      "source": [
        "**Feature selection using SelectFromModel**"
      ]
    },
    {
      "cell_type": "markdown",
      "metadata": {
        "id": "oOf6LporWWat"
      },
      "source": [
        "L1-based feature selection"
      ]
    },
    {
      "cell_type": "code",
      "metadata": {
        "colab": {
          "base_uri": "https://localhost:8080/"
        },
        "id": "HVTUO5EBWXxw",
        "outputId": "a078471c-d840-4ae2-ad8d-ffca946df158"
      },
      "source": [
        "from sklearn.feature_selection import SelectFromModel\r\n",
        "model_logistic = LogisticRegression(solver='saga', multi_class='multinomial', max_iter=10000, penalty='l1')\r\n",
        "sel_model_logistic = SelectFromModel(estimator=model_logistic)\r\n",
        "X_train_sfm_l1 = sel_model_logistic.fit_transform(X_train, y_train)\r\n",
        "print(sel_model_logistic.get_support())\r\n",
        "#It selects the wrong features! The second feature in the original dataset was ignored while one feature from the noise was selected."
      ],
      "execution_count": null,
      "outputs": [
        {
          "output_type": "stream",
          "text": [
            "[ True False  True  True False False False False False  True False False\n",
            " False False]\n"
          ],
          "name": "stdout"
        }
      ]
    },
    {
      "cell_type": "markdown",
      "metadata": {
        "id": "m_8TNL_qW72d"
      },
      "source": [
        "Tree-based feature selection"
      ]
    },
    {
      "cell_type": "code",
      "metadata": {
        "colab": {
          "base_uri": "https://localhost:8080/"
        },
        "id": "PWcVGdljW8mb",
        "outputId": "1b1fe8df-dab9-4dea-963e-4608acc43d2d"
      },
      "source": [
        "model_tree = RandomForestClassifier(random_state=100, n_estimators=50)\r\n",
        "model_tree.fit(X_train, y_train)\r\n",
        "print(model_tree.feature_importances_)\r\n",
        "sel_model_tree = SelectFromModel(estimator=model_tree, prefit=True, threshold='mean')  \r\n",
        "      # since we already fit the data, we specify prefit option here\r\n",
        "      # Features whose importance is greater or equal to the threshold are kept while the others are discarded.\r\n",
        "X_train_sfm_tree = sel_model_tree.transform(X_train)\r\n",
        "print(sel_model_tree.get_support())\r\n",
        "#It selects the correct original features.\r\n",
        "#In summary of all the above features selection methods: for this particular data set, using the logistic model as recursive feature elimination or model selection select the features incorrectly. On the other hand, all other feature selection methods select the first four features correctly."
      ],
      "execution_count": null,
      "outputs": [
        {
          "output_type": "stream",
          "text": [
            "[0.118 0.094 0.213 0.337 0.02  0.031 0.023 0.02  0.024 0.022 0.033 0.018\n",
            " 0.018 0.028]\n",
            "[ True  True  True  True False False False False False False False False\n",
            " False False]\n"
          ],
          "name": "stdout"
        }
      ]
    },
    {
      "cell_type": "markdown",
      "metadata": {
        "id": "NvWFD5ZkXQUP"
      },
      "source": [
        "**Let’s compare the performance before and after the feature selection**"
      ]
    },
    {
      "cell_type": "markdown",
      "metadata": {
        "id": "uq0tVzNeXTzK"
      },
      "source": [
        "Before feature selection"
      ]
    },
    {
      "cell_type": "code",
      "metadata": {
        "colab": {
          "base_uri": "https://localhost:8080/"
        },
        "id": "qC5p17MGXRfe",
        "outputId": "d961913e-c933-468d-e688-19877149b99f"
      },
      "source": [
        "from sklearn.metrics import confusion_matrix\r\n",
        "from sklearn.metrics import classification_report\r\n",
        "model_logistic = LogisticRegression(solver='saga', multi_class='multinomial', max_iter=10000)\r\n",
        "model_logistic.fit(X_train, y_train)\r\n",
        "predict = model_logistic.predict(X_test)\r\n",
        "print(confusion_matrix(y_test, predict))\r\n",
        "print(classification_report(y_test, predict))"
      ],
      "execution_count": null,
      "outputs": [
        {
          "output_type": "stream",
          "text": [
            "[[16  0  0]\n",
            " [ 0 11  0]\n",
            " [ 0  2 16]]\n",
            "              precision    recall  f1-score   support\n",
            "\n",
            "           0       1.00      1.00      1.00        16\n",
            "           1       0.85      1.00      0.92        11\n",
            "           2       1.00      0.89      0.94        18\n",
            "\n",
            "    accuracy                           0.96        45\n",
            "   macro avg       0.95      0.96      0.95        45\n",
            "weighted avg       0.96      0.96      0.96        45\n",
            "\n"
          ],
          "name": "stdout"
        }
      ]
    },
    {
      "cell_type": "markdown",
      "metadata": {
        "id": "WLgwdlI_XgeK"
      },
      "source": [
        "After feature selection"
      ]
    },
    {
      "cell_type": "code",
      "metadata": {
        "colab": {
          "base_uri": "https://localhost:8080/"
        },
        "id": "pFVTGpknXfCr",
        "outputId": "6bc235d2-3258-4643-a3a8-90aa29403f26"
      },
      "source": [
        "#we use the result from the feature selection based on the chi-square test.\r\n",
        "X_train_chi2 is the data after the feature selection to feed into the model.\r\n",
        "model_logistic = LogisticRegression(solver='saga', multi_class='multinomial', max_iter=10000)\r\n",
        "model_logistic.fit(X_train_chi2, y_train)"
      ],
      "execution_count": null,
      "outputs": [
        {
          "output_type": "execute_result",
          "data": {
            "text/plain": [
              "LogisticRegression(C=1.0, class_weight=None, dual=False, fit_intercept=True,\n",
              "                   intercept_scaling=1, l1_ratio=None, max_iter=10000,\n",
              "                   multi_class='multinomial', n_jobs=None, penalty='l2',\n",
              "                   random_state=None, solver='saga', tol=0.0001, verbose=0,\n",
              "                   warm_start=False)"
            ]
          },
          "metadata": {
            "tags": []
          },
          "execution_count": 55
        }
      ]
    },
    {
      "cell_type": "code",
      "metadata": {
        "colab": {
          "base_uri": "https://localhost:8080/"
        },
        "id": "LiNhiCcPdtHR",
        "outputId": "9201c4ab-4543-442f-e72b-7e745be11961"
      },
      "source": [
        "#We also need to transform the test data because the number of features was changed.\r\n",
        "X_test_chi2 = sel_chi2.transform(X_test)\r\n",
        "print(X_test.shape)\r\n",
        "print(X_test_chi2.shape)"
      ],
      "execution_count": null,
      "outputs": [
        {
          "output_type": "stream",
          "text": [
            "(45, 14)\n",
            "(45, 4)\n"
          ],
          "name": "stdout"
        }
      ]
    },
    {
      "cell_type": "code",
      "metadata": {
        "colab": {
          "base_uri": "https://localhost:8080/"
        },
        "id": "uG99rpzKeFa1",
        "outputId": "5b54a854-3b5d-4165-c6e8-d3aea4b9eb03"
      },
      "source": [
        "#Only use the features in the test set that are corresponding to the remaining features in the training set. Four features in this case.\r\n",
        "predict = model_logistic.predict(X_test_chi2)\r\n",
        "print(confusion_matrix(y_test, predict))\r\n",
        "print(classification_report(y_test, predict))\r\n",
        "#In sum, feature selection removes the noise and generalize the model better, thus improve the model performance."
      ],
      "execution_count": null,
      "outputs": [
        {
          "output_type": "stream",
          "text": [
            "[[16  0  0]\n",
            " [ 0 11  0]\n",
            " [ 0  1 17]]\n",
            "              precision    recall  f1-score   support\n",
            "\n",
            "           0       1.00      1.00      1.00        16\n",
            "           1       0.92      1.00      0.96        11\n",
            "           2       1.00      0.94      0.97        18\n",
            "\n",
            "    accuracy                           0.98        45\n",
            "   macro avg       0.97      0.98      0.98        45\n",
            "weighted avg       0.98      0.98      0.98        45\n",
            "\n"
          ],
          "name": "stdout"
        }
      ]
    },
    {
      "cell_type": "markdown",
      "metadata": {
        "id": "QtmpP7jUH007"
      },
      "source": [
        "**How to Perform Feature Selection with Categorical Data**"
      ]
    },
    {
      "cell_type": "code",
      "metadata": {
        "id": "KlmF53HFH4E5"
      },
      "source": [
        "Breast Cancer Categorical Dataset\r\n",
        "Categorical Feature Selection\r\n",
        "Chi-Squared Feature Selection\r\n",
        "Mutual Information Feature Selection\r\n",
        "Modeling With Selected Features\r\n",
        "Model Built Using All Features\r\n",
        "Model Built Using Chi-Squared Features\r\n",
        "Model Built Using Mutual Information Features"
      ],
      "execution_count": null,
      "outputs": []
    },
    {
      "cell_type": "code",
      "metadata": {
        "colab": {
          "resources": {
            "http://localhost:8080/nbextensions/google.colab/files.js": {
              "data": "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",
              "ok": true,
              "headers": [
                [
                  "content-type",
                  "application/javascript"
                ]
              ],
              "status": 200,
              "status_text": ""
            }
          },
          "base_uri": "https://localhost:8080/",
          "height": 72
        },
        "id": "wXpyoCixIPdl",
        "outputId": "3141a15a-3a53-402a-97ea-aa7b91a6b9f1"
      },
      "source": [
        "from google.colab import files\r\n",
        "uploaded = files.upload()"
      ],
      "execution_count": null,
      "outputs": [
        {
          "output_type": "display_data",
          "data": {
            "text/html": [
              "\n",
              "     <input type=\"file\" id=\"files-921ecb87-a210-452c-ad0c-21499bc7b7d7\" name=\"files[]\" multiple disabled\n",
              "        style=\"border:none\" />\n",
              "     <output id=\"result-921ecb87-a210-452c-ad0c-21499bc7b7d7\">\n",
              "      Upload widget is only available when the cell has been executed in the\n",
              "      current browser session. Please rerun this cell to enable.\n",
              "      </output>\n",
              "      <script src=\"/nbextensions/google.colab/files.js\"></script> "
            ],
            "text/plain": [
              "<IPython.core.display.HTML object>"
            ]
          },
          "metadata": {
            "tags": []
          }
        },
        {
          "output_type": "stream",
          "text": [
            "Saving breast-cancer.csv to breast-cancer.csv\n"
          ],
          "name": "stdout"
        }
      ]
    },
    {
      "cell_type": "markdown",
      "metadata": {
        "id": "5BGUzAsQ4Nhm"
      },
      "source": [
        "**Chi-Squared Feature Selection**"
      ]
    },
    {
      "cell_type": "code",
      "metadata": {
        "id": "uDp1CNsp6m4F"
      },
      "source": [
        "#Categorical Feature Selection\r\n",
        "#There are two popular feature selection techniques that can be used for categorical input data and a categorical (class) target variable.\r\n",
        "1.Chi-Squared Statistic.\r\n",
        "2.Mutual Information Statistic"
      ],
      "execution_count": null,
      "outputs": []
    },
    {
      "cell_type": "code",
      "metadata": {
        "id": "9u-cmz0i4PEr"
      },
      "source": [
        "#Pearson’s chi-squared statistical hypothesis test is an example of a test for independence between categorical variables\r\n",
        "#The results of this test can be used for feature selection, where those features that are independent of the target variable can be removed from the dataset.\r\n",
        "#When there are three or more levels for the predictor, the degree of association between predictor and outcome can be measured with statistics such as X2 (chi-squared) tests \r\n",
        "#The scikit-learn machine library provides an implementation of the chi-squared test in the chi2() function. This function can be used in a feature selection strategy, such as selecting the top k most relevant features (largest values) via the SelectKBest class."
      ],
      "execution_count": null,
      "outputs": []
    },
    {
      "cell_type": "code",
      "metadata": {
        "colab": {
          "base_uri": "https://localhost:8080/",
          "height": 418
        },
        "id": "-tfbbkFJ5Guy",
        "outputId": "668e78f7-b1e2-4296-ab83-6be1806bcb12"
      },
      "source": [
        "# example of chi squared feature selection for categorical data\r\n",
        "from pandas import read_csv\r\n",
        "from sklearn.model_selection import train_test_split\r\n",
        "from sklearn.preprocessing import LabelEncoder\r\n",
        "from sklearn.preprocessing import OrdinalEncoder\r\n",
        "from sklearn.feature_selection import SelectKBest\r\n",
        "from sklearn.feature_selection import chi2\r\n",
        "from matplotlib import pyplot\r\n",
        " \r\n",
        "# load the dataset\r\n",
        "def load_dataset(filename):\r\n",
        "\t# load the dataset as a pandas DataFrame\r\n",
        "\tdata = read_csv(filename, header=None)\r\n",
        "\t# retrieve numpy array\r\n",
        "\tdataset = data.values\r\n",
        "\t# split into input (X) and output (y) variables\r\n",
        "\tX = dataset[:, :-1]\r\n",
        "\ty = dataset[:,-1]\r\n",
        "\t# format all fields as string\r\n",
        "\tX = X.astype(str)\r\n",
        "\treturn X, y\r\n",
        " \r\n",
        "# prepare input data\r\n",
        "def prepare_inputs(X_train, X_test):\r\n",
        "\toe = OrdinalEncoder()\r\n",
        "\toe.fit(X_train)\r\n",
        "\tX_train_enc = oe.transform(X_train)\r\n",
        "\tX_test_enc = oe.transform(X_test)\r\n",
        "\treturn X_train_enc, X_test_enc\r\n",
        " \r\n",
        "# prepare target\r\n",
        "def prepare_targets(y_train, y_test):\r\n",
        "\tle = LabelEncoder()\r\n",
        "\tle.fit(y_train)\r\n",
        "\ty_train_enc = le.transform(y_train)\r\n",
        "\ty_test_enc = le.transform(y_test)\r\n",
        "\treturn y_train_enc, y_test_enc\r\n",
        " \r\n",
        "# feature selection\r\n",
        "def select_features(X_train, y_train, X_test):\r\n",
        "\tfs = SelectKBest(score_func=chi2, k='all')\r\n",
        "\tfs.fit(X_train, y_train)\r\n",
        "\tX_train_fs = fs.transform(X_train)\r\n",
        "\tX_test_fs = fs.transform(X_test)\r\n",
        "\treturn X_train_fs, X_test_fs, fs\r\n",
        " \r\n",
        "# load the dataset\r\n",
        "X, y = load_dataset('breast-cancer.csv')\r\n",
        "# split into train and test sets\r\n",
        "X_train, X_test, y_train, y_test = train_test_split(X, y, test_size=0.33, random_state=1)\r\n",
        "# prepare input data\r\n",
        "X_train_enc, X_test_enc = prepare_inputs(X_train, X_test)\r\n",
        "# prepare output data\r\n",
        "y_train_enc, y_test_enc = prepare_targets(y_train, y_test)\r\n",
        "# feature selection\r\n",
        "X_train_fs, X_test_fs, fs = select_features(X_train_enc, y_train_enc, X_test_enc)\r\n",
        "# what are scores for the features\r\n",
        "for i in range(len(fs.scores_)):\r\n",
        "\tprint('Feature %d: %f' % (i, fs.scores_[i]))\r\n",
        "# plot the scores\r\n",
        "pyplot.bar([i for i in range(len(fs.scores_))], fs.scores_)\r\n",
        "pyplot.show()\r\n",
        "#we can see the scores are small and it is hard to get an idea from the number alone as to which features are more relevant.\r\n",
        "#Perhaps features 3, 4, 5, and 8 are most relevant.\r\n",
        "#A bar chart of the feature importance scores for each input feature is created.\r\n",
        "#This clearly shows that feature 3 might be the most relevant (according to chi-squared) and that perhaps four of the nine input features are the most relevant.\r\n",
        "#We could set k=4 When configuring the SelectKBest to select these top four features"
      ],
      "execution_count": null,
      "outputs": [
        {
          "output_type": "stream",
          "text": [
            "Feature 0: 0.472553\n",
            "Feature 1: 0.029193\n",
            "Feature 2: 2.137658\n",
            "Feature 3: 29.381059\n",
            "Feature 4: 8.222601\n",
            "Feature 5: 8.100183\n",
            "Feature 6: 1.273822\n",
            "Feature 7: 0.950682\n",
            "Feature 8: 3.699989\n"
          ],
          "name": "stdout"
        },
        {
          "output_type": "display_data",
          "data": {
            "image/png": "[encoded data removed]",
            "text/plain": [
              "<Figure size 432x288 with 1 Axes>"
            ]
          },
          "metadata": {
            "tags": [],
            "needs_background": "light"
          }
        }
      ]
    },
    {
      "cell_type": "markdown",
      "metadata": {
        "id": "nTTNOtltAF8G"
      },
      "source": [
        "**Mutual Information Feature Selection**"
      ]
    },
    {
      "cell_type": "code",
      "metadata": {
        "id": "h4yr8TLR_4TZ"
      },
      "source": [
        "#Mutual information from the field of information theory is the application of information gain (typically used in the construction of decision trees) to feature selection.\r\n",
        "#Mutual information is calculated between two variables and measures the reduction in uncertainty for one variable given a known value of the other variable.\r\n",
        "#The scikit-learn machine learning library provides an implementation of mutual information for feature selection via the mutual_info_classif() function.\r\n",
        "#Like chi2(), it can be used in the SelectKBest feature selection strategy (and other strategies)."
      ],
      "execution_count": null,
      "outputs": []
    },
    {
      "cell_type": "code",
      "metadata": {
        "colab": {
          "base_uri": "https://localhost:8080/",
          "height": 418
        },
        "id": "vWB0wFIEAtj4",
        "outputId": "ea8db3af-829a-4e8c-bcb8-45235397cac2"
      },
      "source": [
        "# example of mutual information feature selection for categorical data\r\n",
        "from pandas import read_csv\r\n",
        "from sklearn.model_selection import train_test_split\r\n",
        "from sklearn.preprocessing import LabelEncoder\r\n",
        "from sklearn.preprocessing import OrdinalEncoder\r\n",
        "from sklearn.feature_selection import SelectKBest\r\n",
        "from sklearn.feature_selection import mutual_info_classif\r\n",
        "from matplotlib import pyplot\r\n",
        " \r\n",
        "# load the dataset\r\n",
        "def load_dataset(filename):\r\n",
        "\t# load the dataset as a pandas DataFrame\r\n",
        "\tdata = read_csv(filename, header=None)\r\n",
        "\t# retrieve numpy array\r\n",
        "\tdataset = data.values\r\n",
        "\t# split into input (X) and output (y) variables\r\n",
        "\tX = dataset[:, :-1]\r\n",
        "\ty = dataset[:,-1]\r\n",
        "\t# format all fields as string\r\n",
        "\tX = X.astype(str)\r\n",
        "\treturn X, y\r\n",
        " \r\n",
        "# prepare input data\r\n",
        "def prepare_inputs(X_train, X_test):\r\n",
        "\toe = OrdinalEncoder()\r\n",
        "\toe.fit(X_train)\r\n",
        "\tX_train_enc = oe.transform(X_train)\r\n",
        "\tX_test_enc = oe.transform(X_test)\r\n",
        "\treturn X_train_enc, X_test_enc\r\n",
        " \r\n",
        "# prepare target\r\n",
        "def prepare_targets(y_train, y_test):\r\n",
        "\tle = LabelEncoder()\r\n",
        "\tle.fit(y_train)\r\n",
        "\ty_train_enc = le.transform(y_train)\r\n",
        "\ty_test_enc = le.transform(y_test)\r\n",
        "\treturn y_train_enc, y_test_enc\r\n",
        " \r\n",
        "# feature selection\r\n",
        "def select_features(X_train, y_train, X_test):\r\n",
        "\tfs = SelectKBest(score_func=mutual_info_classif, k='all')\r\n",
        "\tfs.fit(X_train, y_train)\r\n",
        "\tX_train_fs = fs.transform(X_train)\r\n",
        "\tX_test_fs = fs.transform(X_test)\r\n",
        "\treturn X_train_fs, X_test_fs, fs\r\n",
        " \r\n",
        "# load the dataset\r\n",
        "X, y = load_dataset('breast-cancer.csv')\r\n",
        "# split into train and test sets\r\n",
        "X_train, X_test, y_train, y_test = train_test_split(X, y, test_size=0.33, random_state=1)\r\n",
        "# prepare input data\r\n",
        "X_train_enc, X_test_enc = prepare_inputs(X_train, X_test)\r\n",
        "# prepare output data\r\n",
        "y_train_enc, y_test_enc = prepare_targets(y_train, y_test)\r\n",
        "# feature selection\r\n",
        "X_train_fs, X_test_fs, fs = select_features(X_train_enc, y_train_enc, X_test_enc)\r\n",
        "# what are scores for the features\r\n",
        "for i in range(len(fs.scores_)):\r\n",
        "\tprint('Feature %d: %f' % (i, fs.scores_[i]))\r\n",
        "# plot the scores\r\n",
        "pyplot.bar([i for i in range(len(fs.scores_))], fs.scores_)\r\n",
        "pyplot.show()"
      ],
      "execution_count": null,
      "outputs": [
        {
          "output_type": "stream",
          "text": [
            "Feature 0: 0.028563\n",
            "Feature 1: 0.000000\n",
            "Feature 2: 0.094494\n",
            "Feature 3: 0.007871\n",
            "Feature 4: 0.083671\n",
            "Feature 5: 0.035354\n",
            "Feature 6: 0.022691\n",
            "Feature 7: 0.000000\n",
            "Feature 8: 0.002495\n"
          ],
          "name": "stdout"
        },
        {
          "output_type": "display_data",
          "data": {
            "image/png": "[encoded data removed]",
            "text/plain": [
              "<Figure size 432x288 with 1 Axes>"
            ]
          },
          "metadata": {
            "tags": [],
            "needs_background": "light"
          }
        }
      ]
    },
    {
      "cell_type": "markdown",
      "metadata": {
        "id": "fVqXbY8ZEAUN"
      },
      "source": [
        "**Model Built Using All Features**"
      ]
    },
    {
      "cell_type": "code",
      "metadata": {
        "colab": {
          "base_uri": "https://localhost:8080/"
        },
        "id": "kTrofLI7D_YQ",
        "outputId": "62fd2e66-2c07-4fc5-8ecf-a3b2545d267c"
      },
      "source": [
        "# evaluation of a model using all input features\r\n",
        "from pandas import read_csv\r\n",
        "from sklearn.preprocessing import LabelEncoder\r\n",
        "from sklearn.preprocessing import OrdinalEncoder\r\n",
        "from sklearn.model_selection import train_test_split\r\n",
        "from sklearn.linear_model import LogisticRegression\r\n",
        "from sklearn.metrics import accuracy_score\r\n",
        " \r\n",
        "# load the dataset\r\n",
        "def load_dataset(filename):\r\n",
        "\t# load the dataset as a pandas DataFrame\r\n",
        "\tdata = read_csv(filename, header=None)\r\n",
        "\t# retrieve numpy array\r\n",
        "\tdataset = data.values\r\n",
        "\t# split into input (X) and output (y) variables\r\n",
        "\tX = dataset[:, :-1]\r\n",
        "\ty = dataset[:,-1]\r\n",
        "\t# format all fields as string\r\n",
        "\tX = X.astype(str)\r\n",
        "\treturn X, y\r\n",
        " \r\n",
        "# prepare input data\r\n",
        "def prepare_inputs(X_train, X_test):\r\n",
        "\toe = OrdinalEncoder()\r\n",
        "\toe.fit(X_train)\r\n",
        "\tX_train_enc = oe.transform(X_train)\r\n",
        "\tX_test_enc = oe.transform(X_test)\r\n",
        "\treturn X_train_enc, X_test_enc\r\n",
        " \r\n",
        "# prepare target\r\n",
        "def prepare_targets(y_train, y_test):\r\n",
        "\tle = LabelEncoder()\r\n",
        "\tle.fit(y_train)\r\n",
        "\ty_train_enc = le.transform(y_train)\r\n",
        "\ty_test_enc = le.transform(y_test)\r\n",
        "\treturn y_train_enc, y_test_enc\r\n",
        " \r\n",
        "# load the dataset\r\n",
        "X, y = load_dataset('breast-cancer.csv')\r\n",
        "# split into train and test sets\r\n",
        "X_train, X_test, y_train, y_test = train_test_split(X, y, test_size=0.33, random_state=1)\r\n",
        "# prepare input data\r\n",
        "X_train_enc, X_test_enc = prepare_inputs(X_train, X_test)\r\n",
        "# prepare output data\r\n",
        "y_train_enc, y_test_enc = prepare_targets(y_train, y_test)\r\n",
        "# fit the model\r\n",
        "model = LogisticRegression(solver='lbfgs')\r\n",
        "model.fit(X_train_enc, y_train_enc)\r\n",
        "# evaluate the model\r\n",
        "yhat = model.predict(X_test_enc)\r\n",
        "# evaluate predictions\r\n",
        "accuracy = accuracy_score(y_test_enc, yhat)\r\n",
        "print('Accuracy: %.2f' % (accuracy*100))"
      ],
      "execution_count": null,
      "outputs": [
        {
          "output_type": "stream",
          "text": [
            "Accuracy: 75.79\n"
          ],
          "name": "stdout"
        }
      ]
    },
    {
      "cell_type": "markdown",
      "metadata": {
        "id": "gl8yxcfXEIZj"
      },
      "source": [
        "**Model Built Using Chi-Squared Features**"
      ]
    },
    {
      "cell_type": "code",
      "metadata": {
        "colab": {
          "base_uri": "https://localhost:8080/"
        },
        "id": "otiJEf5KEKJq",
        "outputId": "75dd05e0-8ad9-432c-a6d6-d15b1a4d9af8"
      },
      "source": [
        "# evaluation of a model fit using chi squared input features\r\n",
        "from pandas import read_csv\r\n",
        "from sklearn.preprocessing import LabelEncoder\r\n",
        "from sklearn.preprocessing import OrdinalEncoder\r\n",
        "from sklearn.feature_selection import SelectKBest\r\n",
        "from sklearn.feature_selection import chi2\r\n",
        "from sklearn.model_selection import train_test_split\r\n",
        "from sklearn.linear_model import LogisticRegression\r\n",
        "from sklearn.metrics import accuracy_score\r\n",
        " \r\n",
        "# load the dataset\r\n",
        "def load_dataset(filename):\r\n",
        "\t# load the dataset as a pandas DataFrame\r\n",
        "\tdata = read_csv(filename, header=None)\r\n",
        "\t# retrieve numpy array\r\n",
        "\tdataset = data.values\r\n",
        "\t# split into input (X) and output (y) variables\r\n",
        "\tX = dataset[:, :-1]\r\n",
        "\ty = dataset[:,-1]\r\n",
        "\t# format all fields as string\r\n",
        "\tX = X.astype(str)\r\n",
        "\treturn X, y\r\n",
        " \r\n",
        "# prepare input data\r\n",
        "def prepare_inputs(X_train, X_test):\r\n",
        "\toe = OrdinalEncoder()\r\n",
        "\toe.fit(X_train)\r\n",
        "\tX_train_enc = oe.transform(X_train)\r\n",
        "\tX_test_enc = oe.transform(X_test)\r\n",
        "\treturn X_train_enc, X_test_enc\r\n",
        " \r\n",
        "# prepare target\r\n",
        "def prepare_targets(y_train, y_test):\r\n",
        "\tle = LabelEncoder()\r\n",
        "\tle.fit(y_train)\r\n",
        "\ty_train_enc = le.transform(y_train)\r\n",
        "\ty_test_enc = le.transform(y_test)\r\n",
        "\treturn y_train_enc, y_test_enc\r\n",
        " \r\n",
        "# feature selection\r\n",
        "def select_features(X_train, y_train, X_test):\r\n",
        "\tfs = SelectKBest(score_func=chi2, k=4)\r\n",
        "\tfs.fit(X_train, y_train)\r\n",
        "\tX_train_fs = fs.transform(X_train)\r\n",
        "\tX_test_fs = fs.transform(X_test)\r\n",
        "\treturn X_train_fs, X_test_fs\r\n",
        " \r\n",
        "# load the dataset\r\n",
        "X, y = load_dataset('breast-cancer.csv')\r\n",
        "# split into train and test sets\r\n",
        "X_train, X_test, y_train, y_test = train_test_split(X, y, test_size=0.33, random_state=1)\r\n",
        "# prepare input data\r\n",
        "X_train_enc, X_test_enc = prepare_inputs(X_train, X_test)\r\n",
        "# prepare output data\r\n",
        "y_train_enc, y_test_enc = prepare_targets(y_train, y_test)\r\n",
        "# feature selection\r\n",
        "X_train_fs, X_test_fs = select_features(X_train_enc, y_train_enc, X_test_enc)\r\n",
        "# fit the model\r\n",
        "model = LogisticRegression(solver='lbfgs')\r\n",
        "model.fit(X_train_fs, y_train_enc)\r\n",
        "# evaluate the model\r\n",
        "yhat = model.predict(X_test_fs)\r\n",
        "# evaluate predictions\r\n",
        "accuracy = accuracy_score(y_test_enc, yhat)\r\n",
        "print('Accuracy: %.2f' % (accuracy*100))"
      ],
      "execution_count": null,
      "outputs": [
        {
          "output_type": "stream",
          "text": [
            "Accuracy: 74.74\n"
          ],
          "name": "stdout"
        }
      ]
    },
    {
      "cell_type": "markdown",
      "metadata": {
        "id": "HE7a4LFHEv7r"
      },
      "source": [
        "**Model Built Using Mutual Information Features**"
      ]
    },
    {
      "cell_type": "code",
      "metadata": {
        "colab": {
          "base_uri": "https://localhost:8080/"
        },
        "id": "Vc36pCvyExOh",
        "outputId": "4c00bb30-02f3-4d6b-eb0d-c4393d6732d8"
      },
      "source": [
        "# evaluation of a model fit using mutual information input features\r\n",
        "from pandas import read_csv\r\n",
        "from sklearn.preprocessing import LabelEncoder\r\n",
        "from sklearn.preprocessing import OrdinalEncoder\r\n",
        "from sklearn.feature_selection import SelectKBest\r\n",
        "from sklearn.feature_selection import mutual_info_classif\r\n",
        "from sklearn.model_selection import train_test_split\r\n",
        "from sklearn.linear_model import LogisticRegression\r\n",
        "from sklearn.metrics import accuracy_score\r\n",
        " \r\n",
        "# load the dataset\r\n",
        "def load_dataset(filename):\r\n",
        "\t# load the dataset as a pandas DataFrame\r\n",
        "\tdata = read_csv(filename, header=None)\r\n",
        "\t# retrieve numpy array\r\n",
        "\tdataset = data.values\r\n",
        "\t# split into input (X) and output (y) variables\r\n",
        "\tX = dataset[:, :-1]\r\n",
        "\ty = dataset[:,-1]\r\n",
        "\t# format all fields as string\r\n",
        "\tX = X.astype(str)\r\n",
        "\treturn X, y\r\n",
        " \r\n",
        "# prepare input data\r\n",
        "def prepare_inputs(X_train, X_test):\r\n",
        "\toe = OrdinalEncoder()\r\n",
        "\toe.fit(X_train)\r\n",
        "\tX_train_enc = oe.transform(X_train)\r\n",
        "\tX_test_enc = oe.transform(X_test)\r\n",
        "\treturn X_train_enc, X_test_enc\r\n",
        " \r\n",
        "# prepare target\r\n",
        "def prepare_targets(y_train, y_test):\r\n",
        "\tle = LabelEncoder()\r\n",
        "\tle.fit(y_train)\r\n",
        "\ty_train_enc = le.transform(y_train)\r\n",
        "\ty_test_enc = le.transform(y_test)\r\n",
        "\treturn y_train_enc, y_test_enc\r\n",
        " \r\n",
        "# feature selection\r\n",
        "def select_features(X_train, y_train, X_test):\r\n",
        "\tfs = SelectKBest(score_func=mutual_info_classif, k=4)\r\n",
        "\tfs.fit(X_train, y_train)\r\n",
        "\tX_train_fs = fs.transform(X_train)\r\n",
        "\tX_test_fs = fs.transform(X_test)\r\n",
        "\treturn X_train_fs, X_test_fs\r\n",
        " \r\n",
        "# load the dataset\r\n",
        "X, y = load_dataset('breast-cancer.csv')\r\n",
        "# split into train and test sets\r\n",
        "X_train, X_test, y_train, y_test = train_test_split(X, y, test_size=0.33, random_state=1)\r\n",
        "# prepare input data\r\n",
        "X_train_enc, X_test_enc = prepare_inputs(X_train, X_test)\r\n",
        "# prepare output data\r\n",
        "y_train_enc, y_test_enc = prepare_targets(y_train, y_test)\r\n",
        "# feature selection\r\n",
        "X_train_fs, X_test_fs = select_features(X_train_enc, y_train_enc, X_test_enc)\r\n",
        "# fit the model\r\n",
        "model = LogisticRegression(solver='lbfgs')\r\n",
        "model.fit(X_train_fs, y_train_enc)\r\n",
        "# evaluate the model\r\n",
        "yhat = model.predict(X_test_fs)\r\n",
        "# evaluate predictions\r\n",
        "accuracy = accuracy_score(y_test_enc, yhat)\r\n",
        "print('Accuracy: %.2f' % (accuracy*100))"
      ],
      "execution_count": null,
      "outputs": [
        {
          "output_type": "stream",
          "text": [
            "Accuracy: 73.68\n"
          ],
          "name": "stdout"
        }
      ]
    },
    {
      "cell_type": "markdown",
      "metadata": {
        "id": "1JwN65o0K-_X"
      },
      "source": [
        "***RFE-Recursive Feature elimination***"
      ]
    },
    {
      "cell_type": "code",
      "metadata": {
        "colab": {
          "base_uri": "https://localhost:8080/"
        },
        "id": "UzWZzuzHLegx",
        "outputId": "7aa6b2ed-8f17-45bd-d792-dd221591ed0f"
      },
      "source": [
        "# Feature Extraction with RFE\r\n",
        "import warnings\r\n",
        "warnings.filterwarnings(\"ignore\")\r\n",
        "from pandas import read_csv\r\n",
        "from sklearn.feature_selection import RFE\r\n",
        "from sklearn.linear_model import LogisticRegression\r\n",
        "# load data\r\n",
        "url = \"https://raw.githubusercontent.com/jbrownlee/Datasets/master/pima-indians-diabetes.csv\"\r\n",
        "names = ['preg', 'plas', 'pres', 'skin', 'test', 'mass', 'pedi', 'age', 'class']\r\n",
        "dataframe = read_csv(url, names=names)\r\n",
        "array = dataframe.values\r\n",
        "X = array[:,0:8]\r\n",
        "Y = array[:,8]\r\n",
        "# feature extraction\r\n",
        "model = LogisticRegression(solver='lbfgs')\r\n",
        "rfe = RFE(model, 3)\r\n",
        "fit = rfe.fit(X, Y)\r\n",
        "print(\"Num Features: %d\" % fit.n_features_)\r\n",
        "print(\"Selected Features: %s\" % fit.support_)\r\n",
        "print(\"Feature Ranking: %s\" % fit.ranking_)"
      ],
      "execution_count": null,
      "outputs": [
        {
          "output_type": "stream",
          "text": [
            "Num Features: 3\n",
            "Selected Features: [ True False False False False  True  True False]\n",
            "Feature Ranking: [1 2 4 5 6 1 1 3]\n"
          ],
          "name": "stdout"
        }
      ]
    },
    {
      "cell_type": "markdown",
      "metadata": {
        "id": "twEA7PGmNBbJ"
      },
      "source": [
        "**Principal Component Analysis**"
      ]
    },
    {
      "cell_type": "code",
      "metadata": {
        "colab": {
          "base_uri": "https://localhost:8080/"
        },
        "id": "jk8Wn3rVNDFw",
        "outputId": "08af686e-ee1d-43ee-cbaf-1b456e1065d4"
      },
      "source": [
        "# Feature Extraction with PCA\r\n",
        "import numpy\r\n",
        "from pandas import read_csv\r\n",
        "from sklearn.decomposition import PCA\r\n",
        "# load data\r\n",
        "url = \"https://raw.githubusercontent.com/jbrownlee/Datasets/master/pima-indians-diabetes.csv\"\r\n",
        "names = ['preg', 'plas', 'pres', 'skin', 'test', 'mass', 'pedi', 'age', 'class']\r\n",
        "dataframe = read_csv(url, names=names)\r\n",
        "array = dataframe.values\r\n",
        "X = array[:,0:8]\r\n",
        "Y = array[:,8]\r\n",
        "# feature extraction\r\n",
        "pca = PCA(n_components=3)\r\n",
        "fit = pca.fit(X)\r\n",
        "# summarize components\r\n",
        "print(\"Explained Variance: %s\" % fit.explained_variance_ratio_)\r\n",
        "print(fit.components_)"
      ],
      "execution_count": null,
      "outputs": [
        {
          "output_type": "stream",
          "text": [
            "Explained Variance: [0.88854663 0.06159078 0.02579012]\n",
            "[[-2.02176587e-03  9.78115765e-02  1.60930503e-02  6.07566861e-02\n",
            "   9.93110844e-01  1.40108085e-02  5.37167919e-04 -3.56474430e-03]\n",
            " [-2.26488861e-02 -9.72210040e-01 -1.41909330e-01  5.78614699e-02\n",
            "   9.46266913e-02 -4.69729766e-02 -8.16804621e-04 -1.40168181e-01]\n",
            " [-2.24649003e-02  1.43428710e-01 -9.22467192e-01 -3.07013055e-01\n",
            "   2.09773019e-02 -1.32444542e-01 -6.39983017e-04 -1.25454310e-01]]\n"
          ],
          "name": "stdout"
        }
      ]
    },
    {
      "cell_type": "markdown",
      "metadata": {
        "id": "AFYkDqLHNwUi"
      },
      "source": [
        "**Feature Importance**"
      ]
    },
    {
      "cell_type": "code",
      "metadata": {
        "colab": {
          "base_uri": "https://localhost:8080/"
        },
        "id": "_zwB7f--Nxx7",
        "outputId": "7c410fef-818b-4600-b359-8fdd9eba61cb"
      },
      "source": [
        "# Feature Importance with Extra Trees Classifier\r\n",
        "from pandas import read_csv\r\n",
        "from sklearn.ensemble import ExtraTreesClassifier\r\n",
        "# load data\r\n",
        "url = \"https://raw.githubusercontent.com/jbrownlee/Datasets/master/pima-indians-diabetes.csv\"\r\n",
        "names = ['preg', 'plas', 'pres', 'skin', 'test', 'mass', 'pedi', 'age', 'class']\r\n",
        "dataframe = read_csv(url, names=names)\r\n",
        "array = dataframe.values\r\n",
        "X = array[:,0:8]\r\n",
        "Y = array[:,8]\r\n",
        "# feature extraction\r\n",
        "model = ExtraTreesClassifier(n_estimators=10)\r\n",
        "model.fit(X, Y)\r\n",
        "print(model.feature_importances_)"
      ],
      "execution_count": null,
      "outputs": [
        {
          "output_type": "stream",
          "text": [
            "[0.11334628 0.21744782 0.10204928 0.08168902 0.08105104 0.13750828\n",
            " 0.1167444  0.15016388]\n"
          ],
          "name": "stdout"
        }
      ]
    },
    {
      "cell_type": "markdown",
      "metadata": {
        "id": "aHV-AlqNfwe1"
      },
      "source": [
        "**RFE CV (Recursive Feature Elimination CV)**"
      ]
    },
    {
      "cell_type": "code",
      "metadata": {
        "colab": {
          "base_uri": "https://localhost:8080/"
        },
        "id": "UOyc5NtSfyxs",
        "outputId": "f8d7cfc4-bf8e-488f-e27a-9f35a49b4b39"
      },
      "source": [
        "#Recursive feature elimination with built-in cross-validated selection of the best number of features.\r\n",
        "from sklearn.datasets import make_friedman1\r\n",
        "from sklearn.feature_selection import RFECV\r\n",
        "from sklearn.svm import SVR\r\n",
        "X, y = make_friedman1(n_samples=50, n_features=10, random_state=0)\r\n",
        "estimator = SVR(kernel=\"linear\")\r\n",
        "selector = RFECV(estimator, step=1, cv=5)\r\n",
        "selector = selector.fit(X, y)\r\n",
        "print(selector.support_)\r\n",
        "print(selector.ranking_)"
      ],
      "execution_count": null,
      "outputs": [
        {
          "output_type": "stream",
          "text": [
            "[ True  True  True  True  True False False False False False]\n",
            "[1 1 1 1 1 6 4 3 2 5]\n"
          ],
          "name": "stdout"
        }
      ]
    },
    {
      "cell_type": "markdown",
      "metadata": {
        "id": "xEQT5mPMgOog"
      },
      "source": [
        "**SelectFromModel:Feature selection based on thresholds of importance weights.**"
      ]
    },
    {
      "cell_type": "code",
      "metadata": {
        "id": "xxR9aFwBgTUf"
      },
      "source": [
        "from sklearn.feature_selection import SelectFromModel\r\n",
        "from sklearn.linear_model import LogisticRegression\r\n",
        "X = [[ 0.87, -1.34,  0.31 ],\r\n",
        "...      [-2.79, -0.02, -0.85 ],\r\n",
        "...      [-1.34, -0.48, -2.55 ],\r\n",
        "...      [ 1.92,  1.48,  0.65 ]]\r\n",
        "y = [0, 1, 0, 1]\r\n",
        "selector = SelectFromModel(estimator=LogisticRegression()).fit(X, y)\r\n",
        "selector.estimator_.coef_\r\n",
        "selector.threshold_\r\n",
        "selector.get_support()\r\n",
        "selector.transform(X)"
      ],
      "execution_count": null,
      "outputs": []
    },
    {
      "cell_type": "markdown",
      "metadata": {
        "id": "5KFIGm_BgUBg"
      },
      "source": [
        "**SequentialFeatureSelector:Sequential cross-validation based feature selection. Does not rely on importance weights.**"
      ]
    },
    {
      "cell_type": "code",
      "metadata": {
        "id": "3aSO5zS0ie9T"
      },
      "source": [
        ""
      ],
      "execution_count": null,
      "outputs": []
    },
    {
      "cell_type": "markdown",
      "metadata": {
        "id": "m540VbckUGRQ"
      },
      "source": [
        "**Wrapper methods**"
      ]
    },
    {
      "cell_type": "code",
      "metadata": {
        "colab": {
          "base_uri": "https://localhost:8080/"
        },
        "id": "bCbl6gFfUH3K",
        "outputId": "48e80fa3-3d9e-477b-8b7d-8e01b370f9e6"
      },
      "source": [
        "from sklearn.datasets import load_boston\r\n",
        "boston = load_boston()\r\n",
        "print(boston.data.shape)         # for dataset dimension\r\n",
        "print(boston.feature_names)      # for feature names\r\n",
        "print(boston.target)             # for target variable\r\n",
        "print(boston.DESCR)              # for data description"
      ],
      "execution_count": null,
      "outputs": [
        {
          "output_type": "stream",
          "text": [
            "(506, 13)\n",
            "['CRIM' 'ZN' 'INDUS' 'CHAS' 'NOX' 'RM' 'AGE' 'DIS' 'RAD' 'TAX' 'PTRATIO'\n",
            " 'B' 'LSTAT']\n",
            "[24.  21.6 34.7 33.4 36.2 28.7 22.9 27.1 16.5 18.9 15.  18.9 21.7 20.4\n",
            " 18.2 19.9 23.1 17.5 20.2 18.2 13.6 19.6 15.2 14.5 15.6 13.9 16.6 14.8\n",
            " 18.4 21.  12.7 14.5 13.2 13.1 13.5 18.9 20.  21.  24.7 30.8 34.9 26.6\n",
            " 25.3 24.7 21.2 19.3 20.  16.6 14.4 19.4 19.7 20.5 25.  23.4 18.9 35.4\n",
            " 24.7 31.6 23.3 19.6 18.7 16.  22.2 25.  33.  23.5 19.4 22.  17.4 20.9\n",
            " 24.2 21.7 22.8 23.4 24.1 21.4 20.  20.8 21.2 20.3 28.  23.9 24.8 22.9\n",
            " 23.9 26.6 22.5 22.2 23.6 28.7 22.6 22.  22.9 25.  20.6 28.4 21.4 38.7\n",
            " 43.8 33.2 27.5 26.5 18.6 19.3 20.1 19.5 19.5 20.4 19.8 19.4 21.7 22.8\n",
            " 18.8 18.7 18.5 18.3 21.2 19.2 20.4 19.3 22.  20.3 20.5 17.3 18.8 21.4\n",
            " 15.7 16.2 18.  14.3 19.2 19.6 23.  18.4 15.6 18.1 17.4 17.1 13.3 17.8\n",
            " 14.  14.4 13.4 15.6 11.8 13.8 15.6 14.6 17.8 15.4 21.5 19.6 15.3 19.4\n",
            " 17.  15.6 13.1 41.3 24.3 23.3 27.  50.  50.  50.  22.7 25.  50.  23.8\n",
            " 23.8 22.3 17.4 19.1 23.1 23.6 22.6 29.4 23.2 24.6 29.9 37.2 39.8 36.2\n",
            " 37.9 32.5 26.4 29.6 50.  32.  29.8 34.9 37.  30.5 36.4 31.1 29.1 50.\n",
            " 33.3 30.3 34.6 34.9 32.9 24.1 42.3 48.5 50.  22.6 24.4 22.5 24.4 20.\n",
            " 21.7 19.3 22.4 28.1 23.7 25.  23.3 28.7 21.5 23.  26.7 21.7 27.5 30.1\n",
            " 44.8 50.  37.6 31.6 46.7 31.5 24.3 31.7 41.7 48.3 29.  24.  25.1 31.5\n",
            " 23.7 23.3 22.  20.1 22.2 23.7 17.6 18.5 24.3 20.5 24.5 26.2 24.4 24.8\n",
            " 29.6 42.8 21.9 20.9 44.  50.  36.  30.1 33.8 43.1 48.8 31.  36.5 22.8\n",
            " 30.7 50.  43.5 20.7 21.1 25.2 24.4 35.2 32.4 32.  33.2 33.1 29.1 35.1\n",
            " 45.4 35.4 46.  50.  32.2 22.  20.1 23.2 22.3 24.8 28.5 37.3 27.9 23.9\n",
            " 21.7 28.6 27.1 20.3 22.5 29.  24.8 22.  26.4 33.1 36.1 28.4 33.4 28.2\n",
            " 22.8 20.3 16.1 22.1 19.4 21.6 23.8 16.2 17.8 19.8 23.1 21.  23.8 23.1\n",
            " 20.4 18.5 25.  24.6 23.  22.2 19.3 22.6 19.8 17.1 19.4 22.2 20.7 21.1\n",
            " 19.5 18.5 20.6 19.  18.7 32.7 16.5 23.9 31.2 17.5 17.2 23.1 24.5 26.6\n",
            " 22.9 24.1 18.6 30.1 18.2 20.6 17.8 21.7 22.7 22.6 25.  19.9 20.8 16.8\n",
            " 21.9 27.5 21.9 23.1 50.  50.  50.  50.  50.  13.8 13.8 15.  13.9 13.3\n",
            " 13.1 10.2 10.4 10.9 11.3 12.3  8.8  7.2 10.5  7.4 10.2 11.5 15.1 23.2\n",
            "  9.7 13.8 12.7 13.1 12.5  8.5  5.   6.3  5.6  7.2 12.1  8.3  8.5  5.\n",
            " 11.9 27.9 17.2 27.5 15.  17.2 17.9 16.3  7.   7.2  7.5 10.4  8.8  8.4\n",
            " 16.7 14.2 20.8 13.4 11.7  8.3 10.2 10.9 11.   9.5 14.5 14.1 16.1 14.3\n",
            " 11.7 13.4  9.6  8.7  8.4 12.8 10.5 17.1 18.4 15.4 10.8 11.8 14.9 12.6\n",
            " 14.1 13.  13.4 15.2 16.1 17.8 14.9 14.1 12.7 13.5 14.9 20.  16.4 17.7\n",
            " 19.5 20.2 21.4 19.9 19.  19.1 19.1 20.1 19.9 19.6 23.2 29.8 13.8 13.3\n",
            " 16.7 12.  14.6 21.4 23.  23.7 25.  21.8 20.6 21.2 19.1 20.6 15.2  7.\n",
            "  8.1 13.6 20.1 21.8 24.5 23.1 19.7 18.3 21.2 17.5 16.8 22.4 20.6 23.9\n",
            " 22.  11.9]\n",
            ".. _boston_dataset:\n",
            "\n",
            "Boston house prices dataset\n",
            "---------------------------\n",
            "\n",
            "**Data Set Characteristics:**  \n",
            "\n",
            "    :Number of Instances: 506 \n",
            "\n",
            "    :Number of Attributes: 13 numeric/categorical predictive. Median Value (attribute 14) is usually the target.\n",
            "\n",
            "    :Attribute Information (in order):\n",
            "        - CRIM     per capita crime rate by town\n",
            "        - ZN       proportion of residential land zoned for lots over 25,000 sq.ft.\n",
            "        - INDUS    proportion of non-retail business acres per town\n",
            "        - CHAS     Charles River dummy variable (= 1 if tract bounds river; 0 otherwise)\n",
            "        - NOX      nitric oxides concentration (parts per 10 million)\n",
            "        - RM       average number of rooms per dwelling\n",
            "        - AGE      proportion of owner-occupied units built prior to 1940\n",
            "        - DIS      weighted distances to five Boston employment centres\n",
            "        - RAD      index of accessibility to radial highways\n",
            "        - TAX      full-value property-tax rate per $10,000\n",
            "        - PTRATIO  pupil-teacher ratio by town\n",
            "        - B        1000(Bk - 0.63)^2 where Bk is the proportion of blacks by town\n",
            "        - LSTAT    % lower status of the population\n",
            "        - MEDV     Median value of owner-occupied homes in $1000's\n",
            "\n",
            "    :Missing Attribute Values: None\n",
            "\n",
            "    :Creator: Harrison, D. and Rubinfeld, D.L.\n",
            "\n",
            "This is a copy of UCI ML housing dataset.\n",
            "https://archive.ics.uci.edu/ml/machine-learning-databases/housing/\n",
            "\n",
            "\n",
            "This dataset was taken from the StatLib library which is maintained at Carnegie Mellon University.\n",
            "\n",
            "The Boston house-price data of Harrison, D. and Rubinfeld, D.L. 'Hedonic\n",
            "prices and the demand for clean air', J. Environ. Economics & Management,\n",
            "vol.5, 81-102, 1978.   Used in Belsley, Kuh & Welsch, 'Regression diagnostics\n",
            "...', Wiley, 1980.   N.B. Various transformations are used in the table on\n",
            "pages 244-261 of the latter.\n",
            "\n",
            "The Boston house-price data has been used in many machine learning papers that address regression\n",
            "problems.   \n",
            "     \n",
            ".. topic:: References\n",
            "\n",
            "   - Belsley, Kuh & Welsch, 'Regression diagnostics: Identifying Influential Data and Sources of Collinearity', Wiley, 1980. 244-261.\n",
            "   - Quinlan,R. (1993). Combining Instance-Based and Model-Based Learning. In Proceedings on the Tenth International Conference of Machine Learning, 236-243, University of Massachusetts, Amherst. Morgan Kaufmann.\n",
            "\n"
          ],
          "name": "stdout"
        }
      ]
    },
    {
      "cell_type": "code",
      "metadata": {
        "colab": {
          "base_uri": "https://localhost:8080/",
          "height": 204
        },
        "id": "2cYgDp14UpNa",
        "outputId": "6bf6ddbd-58db-4aa0-e843-374fd220ed8f"
      },
      "source": [
        "import pandas as pd\r\n",
        "bos = pd.DataFrame(boston.data, columns = boston.feature_names)\r\n",
        "bos['Price'] = boston.target\r\n",
        "X = bos.drop(\"Price\", 1)       # feature matrix\r\n",
        "y = bos['Price']               # target feature\r\n",
        "bos.head()"
      ],
      "execution_count": null,
      "outputs": [
        {
          "output_type": "execute_result",
          "data": {
            "text/html": [
              "<div>\n",
              "<style scoped>\n",
              "    .dataframe tbody tr th:only-of-type {\n",
              "        vertical-align: middle;\n",
              "    }\n",
              "\n",
              "    .dataframe tbody tr th {\n",
              "        vertical-align: top;\n",
              "    }\n",
              "\n",
              "    .dataframe thead th {\n",
              "        text-align: right;\n",
              "    }\n",
              "</style>\n",
              "<table border=\"1\" class=\"dataframe\">\n",
              "  <thead>\n",
              "    <tr style=\"text-align: right;\">\n",
              "      <th></th>\n",
              "      <th>CRIM</th>\n",
              "      <th>ZN</th>\n",
              "      <th>INDUS</th>\n",
              "      <th>CHAS</th>\n",
              "      <th>NOX</th>\n",
              "      <th>RM</th>\n",
              "      <th>AGE</th>\n",
              "      <th>DIS</th>\n",
              "      <th>RAD</th>\n",
              "      <th>TAX</th>\n",
              "      <th>PTRATIO</th>\n",
              "      <th>B</th>\n",
              "      <th>LSTAT</th>\n",
              "      <th>Price</th>\n",
              "    </tr>\n",
              "  </thead>\n",
              "  <tbody>\n",
              "    <tr>\n",
              "      <th>0</th>\n",
              "      <td>0.00632</td>\n",
              "      <td>18.0</td>\n",
              "      <td>2.31</td>\n",
              "      <td>0.0</td>\n",
              "      <td>0.538</td>\n",
              "      <td>6.575</td>\n",
              "      <td>65.2</td>\n",
              "      <td>4.0900</td>\n",
              "      <td>1.0</td>\n",
              "      <td>296.0</td>\n",
              "      <td>15.3</td>\n",
              "      <td>396.90</td>\n",
              "      <td>4.98</td>\n",
              "      <td>24.0</td>\n",
              "    </tr>\n",
              "    <tr>\n",
              "      <th>1</th>\n",
              "      <td>0.02731</td>\n",
              "      <td>0.0</td>\n",
              "      <td>7.07</td>\n",
              "      <td>0.0</td>\n",
              "      <td>0.469</td>\n",
              "      <td>6.421</td>\n",
              "      <td>78.9</td>\n",
              "      <td>4.9671</td>\n",
              "      <td>2.0</td>\n",
              "      <td>242.0</td>\n",
              "      <td>17.8</td>\n",
              "      <td>396.90</td>\n",
              "      <td>9.14</td>\n",
              "      <td>21.6</td>\n",
              "    </tr>\n",
              "    <tr>\n",
              "      <th>2</th>\n",
              "      <td>0.02729</td>\n",
              "      <td>0.0</td>\n",
              "      <td>7.07</td>\n",
              "      <td>0.0</td>\n",
              "      <td>0.469</td>\n",
              "      <td>7.185</td>\n",
              "      <td>61.1</td>\n",
              "      <td>4.9671</td>\n",
              "      <td>2.0</td>\n",
              "      <td>242.0</td>\n",
              "      <td>17.8</td>\n",
              "      <td>392.83</td>\n",
              "      <td>4.03</td>\n",
              "      <td>34.7</td>\n",
              "    </tr>\n",
              "    <tr>\n",
              "      <th>3</th>\n",
              "      <td>0.03237</td>\n",
              "      <td>0.0</td>\n",
              "      <td>2.18</td>\n",
              "      <td>0.0</td>\n",
              "      <td>0.458</td>\n",
              "      <td>6.998</td>\n",
              "      <td>45.8</td>\n",
              "      <td>6.0622</td>\n",
              "      <td>3.0</td>\n",
              "      <td>222.0</td>\n",
              "      <td>18.7</td>\n",
              "      <td>394.63</td>\n",
              "      <td>2.94</td>\n",
              "      <td>33.4</td>\n",
              "    </tr>\n",
              "    <tr>\n",
              "      <th>4</th>\n",
              "      <td>0.06905</td>\n",
              "      <td>0.0</td>\n",
              "      <td>2.18</td>\n",
              "      <td>0.0</td>\n",
              "      <td>0.458</td>\n",
              "      <td>7.147</td>\n",
              "      <td>54.2</td>\n",
              "      <td>6.0622</td>\n",
              "      <td>3.0</td>\n",
              "      <td>222.0</td>\n",
              "      <td>18.7</td>\n",
              "      <td>396.90</td>\n",
              "      <td>5.33</td>\n",
              "      <td>36.2</td>\n",
              "    </tr>\n",
              "  </tbody>\n",
              "</table>\n",
              "</div>"
            ],
            "text/plain": [
              "      CRIM    ZN  INDUS  CHAS    NOX  ...    TAX  PTRATIO       B  LSTAT  Price\n",
              "0  0.00632  18.0   2.31   0.0  0.538  ...  296.0     15.3  396.90   4.98   24.0\n",
              "1  0.02731   0.0   7.07   0.0  0.469  ...  242.0     17.8  396.90   9.14   21.6\n",
              "2  0.02729   0.0   7.07   0.0  0.469  ...  242.0     17.8  392.83   4.03   34.7\n",
              "3  0.03237   0.0   2.18   0.0  0.458  ...  222.0     18.7  394.63   2.94   33.4\n",
              "4  0.06905   0.0   2.18   0.0  0.458  ...  222.0     18.7  396.90   5.33   36.2\n",
              "\n",
              "[5 rows x 14 columns]"
            ]
          },
          "metadata": {
            "tags": []
          },
          "execution_count": 27
        }
      ]
    },
    {
      "cell_type": "markdown",
      "metadata": {
        "id": "T-CaqTesU3YJ"
      },
      "source": [
        "**Forward selection**"
      ]
    },
    {
      "cell_type": "code",
      "metadata": {
        "id": "ITVRptxaUwqN"
      },
      "source": [
        "def forward_selection(data, target, significance_level=0.05):\r\n",
        "    initial_features = data.columns.tolist()\r\n",
        "    best_features = []\r\n",
        "    while (len(initial_features)>0):\r\n",
        "        remaining_features = list(set(initial_features)-set(best_features))\r\n",
        "        new_pval = pd.Series(index=remaining_features)\r\n",
        "        for new_column in remaining_features:\r\n",
        "            model = sm.OLS(target, sm.add_constant(data[best_features+[new_column]])).fit()\r\n",
        "            new_pval[new_column] = model.pvalues[new_column]\r\n",
        "        min_p_value = new_pval.min()\r\n",
        "        if(min_p_value<significance_level):\r\n",
        "            best_features.append(new_pval.idxmin())\r\n",
        "        else:\r\n",
        "            break\r\n",
        "    return best_features\r\n",
        "#This above function accepts data, target variable, and significance level as arguments and returns the final list of significant features based on p-values through forward selection"
      ],
      "execution_count": null,
      "outputs": []
    },
    {
      "cell_type": "code",
      "metadata": {
        "id": "Y8AIY8eRpXTE"
      },
      "source": [
        "forward_selection(X,y)"
      ],
      "execution_count": null,
      "outputs": []
    },
    {
      "cell_type": "markdown",
      "metadata": {
        "id": "Wf_JHOL-V-FY"
      },
      "source": [
        "**Implementing Forward selection using built-in functions in Python**"
      ]
    },
    {
      "cell_type": "code",
      "metadata": {
        "id": "xHKqyx6qV6xu"
      },
      "source": [
        "#mlxtend library contains built-in implementation for most of the wrapper methods based feature selection techniques. SequentialFeatureSelector() function comes with various combinations of feature selection techniques\r\n",
        "#importing the necessary libraries\r\n",
        "from mlxtend.feature_selection import SequentialFeatureSelector as SFS\r\n",
        "from sklearn.linear_model import LinearRegression\r\n",
        "# Sequential Forward Selection(sfs)\r\n",
        "sfs = SFS(LinearRegression(),\r\n",
        "          k_features=11,\r\n",
        "          forward=True,\r\n",
        "          floating=False,\r\n",
        "          scoring = 'r2',\r\n",
        "          cv = 0)"
      ],
      "execution_count": null,
      "outputs": []
    },
    {
      "cell_type": "code",
      "metadata": {
        "id": "MG3iZmQXW3hR"
      },
      "source": [
        "SequentialFeatureSelector() function accepts the following major arguments :\r\n",
        "\r\n",
        "LinearRegression() is an estimator for the entire process. Similarly, it can be any classification based algorithm.\r\n",
        "\r\n",
        "k_features indicates the number of features to be selected. It can be any random value, but the optimal value can be found by analyzing and visualizing the scores for different numbers of features.\r\n",
        "\r\n",
        "forward and floating arguments for different flavors of wrapper methods, here, forward = True and floating = False are for forward selection technique.\r\n",
        "\r\n",
        "The scoring argument specifies the evaluation criterion to be used. For regression problems, there is only r2 score in default implementation. Similarly for classification, it can be accuracy, precision, recall, f1-score, etc.\r\n",
        "\r\n",
        "cv argument is for k-fold cross-validation."
      ],
      "execution_count": null,
      "outputs": []
    },
    {
      "cell_type": "code",
      "metadata": {
        "id": "EeZMBGXjXeJL"
      },
      "source": [
        "import warnings\r\n",
        "warnings.filterwarnings(\"ignore\")"
      ],
      "execution_count": null,
      "outputs": []
    },
    {
      "cell_type": "code",
      "metadata": {
        "colab": {
          "base_uri": "https://localhost:8080/"
        },
        "id": "j_tQqUGgW8WT",
        "outputId": "13bb8a01-4534-4636-917f-4f68da787767"
      },
      "source": [
        "sfs.fit(X, y)\r\n",
        "sfs.k_feature_names_     # to get the final set of features"
      ],
      "execution_count": null,
      "outputs": [
        {
          "output_type": "execute_result",
          "data": {
            "text/plain": [
              "('CRIM',\n",
              " 'ZN',\n",
              " 'CHAS',\n",
              " 'NOX',\n",
              " 'RM',\n",
              " 'DIS',\n",
              " 'RAD',\n",
              " 'TAX',\n",
              " 'PTRATIO',\n",
              " 'B',\n",
              " 'LSTAT')"
            ]
          },
          "metadata": {
            "tags": []
          },
          "execution_count": 21
        }
      ]
    },
    {
      "cell_type": "markdown",
      "metadata": {
        "id": "Lp8SlrnzXm8k"
      },
      "source": [
        "**Backward elimination**"
      ]
    },
    {
      "cell_type": "code",
      "metadata": {
        "id": "In1MsyORXp05"
      },
      "source": [
        "def backward_elimination(data, target,significance_level = 0.05):\r\n",
        "    features = data.columns.tolist()\r\n",
        "    while(len(features)>0):\r\n",
        "        features_with_constant = sm.add_constant(data[features])\r\n",
        "        p_values = sm.OLS(target, features_with_constant).fit().pvalues[1:]\r\n",
        "        max_p_value = p_values.max()\r\n",
        "        if(max_p_value >= significance_level):\r\n",
        "            excluded_feature = p_values.idxmax()\r\n",
        "            features.remove(excluded_feature)\r\n",
        "        else:\r\n",
        "            break \r\n",
        "    return features\r\n",
        "#This above function returns the final list of significant features based on p-values through backward elimination."
      ],
      "execution_count": null,
      "outputs": []
    },
    {
      "cell_type": "markdown",
      "metadata": {
        "id": "BaM0fFiRX2vm"
      },
      "source": [
        "**Implementing Backward elimination using built-in functions in Python**"
      ]
    },
    {
      "cell_type": "code",
      "metadata": {
        "id": "aWRw1Z65rOSv"
      },
      "source": [
        "#Sequential backward selection(sbs)\r\n",
        "sbs = SFS(LinearRegression(),\r\n",
        "         k_features=11,\r\n",
        "         forward=False,\r\n",
        "         floating=False,\r\n",
        "         cv=0)\r\n",
        "sbs.fit(X, y)\r\n",
        "sbs.k_feature_names_"
      ],
      "execution_count": null,
      "outputs": []
    },
    {
      "cell_type": "code",
      "metadata": {
        "id": "GlEIBWliYYzE"
      },
      "source": [
        "#Here we are directly using the optimal value of k_features argument in both forward selection and backward elimination. In order to find out the optimal number of significant features, we can use the hit and trial method for different values of k_features and make the final decision by plotting it against the model performance."
      ],
      "execution_count": null,
      "outputs": []
    },
    {
      "cell_type": "code",
      "metadata": {
        "colab": {
          "base_uri": "https://localhost:8080/"
        },
        "id": "sHI_lyYxYad6",
        "outputId": "7e34e219-7658-4c32-856d-eff300df5148"
      },
      "source": [
        "sfs1 = SFS(LinearRegression(),\r\n",
        "         k_features=(3,11),\r\n",
        "         forward=True,\r\n",
        "         floating=False,\r\n",
        "         cv=0)\r\n",
        "sfs1.fit(X, y)"
      ],
      "execution_count": null,
      "outputs": [
        {
          "output_type": "execute_result",
          "data": {
            "text/plain": [
              "SequentialFeatureSelector(clone_estimator=True, cv=0,\n",
              "                          estimator=LinearRegression(copy_X=True,\n",
              "                                                     fit_intercept=True,\n",
              "                                                     n_jobs=None,\n",
              "                                                     normalize=False),\n",
              "                          floating=False, forward=True, k_features=(3, 11),\n",
              "                          n_jobs=1, pre_dispatch='2*n_jobs', scoring=None,\n",
              "                          verbose=0)"
            ]
          },
          "metadata": {
            "tags": []
          },
          "execution_count": 23
        }
      ]
    },
    {
      "cell_type": "code",
      "metadata": {
        "colab": {
          "base_uri": "https://localhost:8080/",
          "height": 295
        },
        "id": "sqtxIc85YfL2",
        "outputId": "ce9c8a31-7c19-46b8-898c-d7b3d102fa92"
      },
      "source": [
        "#The same visualization can be achieved through plot_sequential_feature_selection()function available in mlxtend.plotting module.\r\n",
        "from mlxtend.plotting import plot_sequential_feature_selection as plot_sfs\r\n",
        "import matplotlib.pyplot as plt\r\n",
        "fig1 = plot_sfs(sfs1.get_metric_dict(), kind='std_dev')\r\n",
        "plt.title('Sequential Forward Selection (w. StdErr)')\r\n",
        "plt.grid()\r\n",
        "plt.show()\r\n",
        "#Here, on the y-axis, the performance label indicates the R-squared values for the different numbers of features"
      ],
      "execution_count": null,
      "outputs": [
        {
          "output_type": "display_data",
          "data": {
            "image/png": "[encoded data removed]",
            "text/plain": [
              "<Figure size 432x288 with 1 Axes>"
            ]
          },
          "metadata": {
            "tags": [],
            "needs_background": "light"
          }
        }
      ]
    },
    {
      "cell_type": "markdown",
      "metadata": {
        "id": "I3Qy1zw_Y-qp"
      },
      "source": [
        "**Bi-directional elimination(Step-wise Selection)**"
      ]
    },
    {
      "cell_type": "code",
      "metadata": {
        "id": "Qdy5rvOfYzFK"
      },
      "source": [
        "def stepwise_selection(data, target,SL_in=0.05,SL_out = 0.05):\r\n",
        "    initial_features = data.columns.tolist()\r\n",
        "    best_features = []\r\n",
        "    while (len(initial_features)>0):\r\n",
        "        remaining_features = list(set(initial_features)-set(best_features))\r\n",
        "        new_pval = pd.Series(index=remaining_features)\r\n",
        "        for new_column in remaining_features:\r\n",
        "            model = sm.OLS(target, sm.add_constant(data[best_features+[new_column]])).fit()\r\n",
        "            new_pval[new_column] = model.pvalues[new_column]\r\n",
        "        min_p_value = new_pval.min()\r\n",
        "        if(min_p_value<SL_in):\r\n",
        "            best_features.append(new_pval.idxmin())\r\n",
        "            while(len(best_features)>0):\r\n",
        "                best_features_with_constant = sm.add_constant(data[best_features])\r\n",
        "                p_values = sm.OLS(target, best_features_with_constant).fit().pvalues[1:]\r\n",
        "                max_p_value = p_values.max()\r\n",
        "                if(max_p_value >= SL_out):\r\n",
        "                    excluded_feature = p_values.idxmax()\r\n",
        "                    best_features.remove(excluded_feature)\r\n",
        "                else:\r\n",
        "                    break \r\n",
        "        else:\r\n",
        "            break\r\n",
        "    return best_features\r\n",
        "#This above function returns the final list of significant features based on p-values through bi-directional elimination."
      ],
      "execution_count": null,
      "outputs": []
    },
    {
      "cell_type": "code",
      "metadata": {
        "id": "bu8gglyNres4"
      },
      "source": [
        "stepwise_selection(X,y)"
      ],
      "execution_count": null,
      "outputs": []
    },
    {
      "cell_type": "markdown",
      "metadata": {
        "id": "DpNyPBdVZJ88"
      },
      "source": [
        "**Implementing bi-directional elimination using built-in functions in Python**"
      ]
    },
    {
      "cell_type": "code",
      "metadata": {
        "id": "UrAJmKZsrjUe"
      },
      "source": [
        "#The same SequentialFeatureSelector()function can be used to perform backward elimination by enabling forward and floating arguments.\r\n",
        "# Sequential Forward Floating Selection(sffs)\r\n",
        "sffs = SFS(LinearRegression(),\r\n",
        "         k_features=(3,11),\r\n",
        "         forward=True,\r\n",
        "         floating=True,\r\n",
        "         cv=0)\r\n",
        "sffs.fit(X, y)\r\n",
        "sffs.k_feature_names_"
      ],
      "execution_count": null,
      "outputs": []
    }
  ]
}