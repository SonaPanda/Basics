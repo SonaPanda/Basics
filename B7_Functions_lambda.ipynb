{
  "nbformat": 4,
  "nbformat_minor": 0,
  "metadata": {
    "colab": {
      "name": "B7-Functions/lambda.ipynb",
      "provenance": [],
      "collapsed_sections": []
    },
    "kernelspec": {
      "name": "python3",
      "display_name": "Python 3"
    }
  },
  "cells": [
    {
      "cell_type": "code",
      "metadata": {
        "id": "XONhjWYM5-Vk"
      },
      "source": [
        "A function is a block of code which only runs when it is called.\r\n",
        "\r\n",
        "You can pass data, known as parameters, into a function.\r\n",
        "\r\n",
        "A function can return data as a result."
      ],
      "execution_count": null,
      "outputs": []
    },
    {
      "cell_type": "code",
      "metadata": {
        "id": "uAd_LtYU7_Rf"
      },
      "source": [
        "#Creating a Function\r\n",
        "#In Python a function is defined using the def keyword\r\n",
        "def my_function():\r\n",
        "  print(\"Hello from a function\")"
      ],
      "execution_count": 1,
      "outputs": []
    },
    {
      "cell_type": "code",
      "metadata": {
        "colab": {
          "base_uri": "https://localhost:8080/"
        },
        "id": "G9VZ6i_S8J2g",
        "outputId": "84694af6-3cfd-4e29-8c38-9368e0dd3d98"
      },
      "source": [
        "#Calling a Function\r\n",
        "#To call a function, use the function name followed by parenthesis\r\n",
        "def my_function():\r\n",
        "  print(\"Hello from a function\")\r\n",
        "\r\n",
        "my_function()"
      ],
      "execution_count": 2,
      "outputs": [
        {
          "output_type": "stream",
          "text": [
            "Hello from a function\n"
          ],
          "name": "stdout"
        }
      ]
    },
    {
      "cell_type": "code",
      "metadata": {
        "id": "8hYROXH88Uqj"
      },
      "source": [
        "Arguments\r\n",
        "Information can be passed into functions as arguments.\r\n",
        "\r\n",
        "Arguments are specified after the function name, inside the parentheses. You can add as many arguments as you want, just separate them with a comma.\r\n",
        "\r\n",
        "The following example has a function with one argument (fname). When the function is called, we pass along a first name, which is used inside the function to print the full name"
      ],
      "execution_count": null,
      "outputs": []
    },
    {
      "cell_type": "code",
      "metadata": {
        "colab": {
          "base_uri": "https://localhost:8080/"
        },
        "id": "Vr8mJVP_8VrF",
        "outputId": "801c9da0-3a80-4214-9604-937018315a09"
      },
      "source": [
        "def my_function(fname):\r\n",
        "  print(fname + \" Refsnes\")\r\n",
        "\r\n",
        "my_function(\"Emil\")\r\n",
        "my_function(\"Tobias\")\r\n",
        "my_function(\"Linus\")"
      ],
      "execution_count": 3,
      "outputs": [
        {
          "output_type": "stream",
          "text": [
            "Emil Refsnes\n",
            "Tobias Refsnes\n",
            "Linus Refsnes\n"
          ],
          "name": "stdout"
        }
      ]
    },
    {
      "cell_type": "code",
      "metadata": {
        "id": "Pb4Wb7_Y8lK0"
      },
      "source": [
        "Parameters or Arguments?\r\n",
        "The terms parameter and argument can be used for the same thing: information that are passed into a function.\r\n",
        "\r\n",
        "From a function's perspective:\r\n",
        "\r\n",
        "A parameter is the variable listed inside the parentheses in the function definition.\r\n",
        "\r\n",
        "An argument is the value that is sent to the function when it is called."
      ],
      "execution_count": null,
      "outputs": []
    },
    {
      "cell_type": "code",
      "metadata": {
        "id": "p-b8r-I28lX6"
      },
      "source": [
        "Number of Arguments\r\n",
        "By default, a function must be called with the correct number of arguments. Meaning that if your function expects 2 arguments, you have to call the function with 2 arguments, not more, and not less."
      ],
      "execution_count": null,
      "outputs": []
    },
    {
      "cell_type": "code",
      "metadata": {
        "colab": {
          "base_uri": "https://localhost:8080/"
        },
        "id": "MvHe9VtG84oS",
        "outputId": "c81df84f-3e0c-4ddf-939f-6585a0276266"
      },
      "source": [
        "#This function expects 2 arguments, and gets 2 arguments:\r\n",
        "\r\n",
        "def my_function(fname, lname):\r\n",
        "  print(fname + \" \" + lname)\r\n",
        "\r\n",
        "my_function(\"Emil\", \"Refsnes\")"
      ],
      "execution_count": 4,
      "outputs": [
        {
          "output_type": "stream",
          "text": [
            "Emil Refsnes\n"
          ],
          "name": "stdout"
        }
      ]
    },
    {
      "cell_type": "code",
      "metadata": {
        "id": "tp0ZUvxR9BW8"
      },
      "source": [
        "Arbitrary Arguments, *args\r\n",
        "If you do not know how many arguments that will be passed into your function, add a * before the parameter name in the function definition.\r\n",
        "\r\n",
        "This way the function will receive a tuple of arguments, and can access the items accordingly"
      ],
      "execution_count": null,
      "outputs": []
    },
    {
      "cell_type": "code",
      "metadata": {
        "colab": {
          "base_uri": "https://localhost:8080/"
        },
        "id": "e9G3cV4V9B3j",
        "outputId": "ad9cfd9f-6f8b-4c14-fb15-b287e969f492"
      },
      "source": [
        "#If the number of arguments is unknown, add a * before the parameter name:\r\n",
        "\r\n",
        "def my_function(*kids):\r\n",
        "  print(\"The youngest child is \" + kids[2])\r\n",
        "\r\n",
        "my_function(\"Emil\", \"Tobias\", \"Linus\")"
      ],
      "execution_count": 5,
      "outputs": [
        {
          "output_type": "stream",
          "text": [
            "The youngest child is Linus\n"
          ],
          "name": "stdout"
        }
      ]
    },
    {
      "cell_type": "code",
      "metadata": {
        "id": "7sXO4CUO9JGe"
      },
      "source": [
        "Keyword Arguments\r\n",
        "You can also send arguments with the key = value syntax.\r\n",
        "\r\n",
        "This way the order of the arguments does not matter."
      ],
      "execution_count": null,
      "outputs": []
    },
    {
      "cell_type": "code",
      "metadata": {
        "colab": {
          "base_uri": "https://localhost:8080/"
        },
        "id": "FlE-ZAUS9NB8",
        "outputId": "b1eb006d-8b58-4278-93ff-0319d4734a95"
      },
      "source": [
        "def my_function(child3, child2, child1):\r\n",
        "  print(\"The youngest child is \" + child3)\r\n",
        "\r\n",
        "my_function(child1 = \"Emil\", child2 = \"Tobias\", child3 = \"Linus\")"
      ],
      "execution_count": 6,
      "outputs": [
        {
          "output_type": "stream",
          "text": [
            "The youngest child is Linus\n"
          ],
          "name": "stdout"
        }
      ]
    },
    {
      "cell_type": "code",
      "metadata": {
        "id": "Q7r3aIK09TVu"
      },
      "source": [
        "Arbitrary Keyword Arguments, **kwargs\r\n",
        "If you do not know how many keyword arguments that will be passed into your function, add two asterisk: ** before the parameter name in the function definition.\r\n",
        "\r\n",
        "This way the function will receive a dictionary of arguments, and can access the items accordingly"
      ],
      "execution_count": null,
      "outputs": []
    },
    {
      "cell_type": "code",
      "metadata": {
        "colab": {
          "base_uri": "https://localhost:8080/"
        },
        "id": "hG8r3yAL9T2l",
        "outputId": "0f3efe27-7add-4348-8769-a03c3b513d2d"
      },
      "source": [
        "#If the number of keyword arguments is unknown, add a double ** before the parameter name:\r\n",
        "\r\n",
        "def my_function(**kid):\r\n",
        "  print(\"His last name is \" + kid[\"lname\"])\r\n",
        "\r\n",
        "my_function(fname = \"Tobias\", lname = \"Refsnes\")"
      ],
      "execution_count": 7,
      "outputs": [
        {
          "output_type": "stream",
          "text": [
            "His last name is Refsnes\n"
          ],
          "name": "stdout"
        }
      ]
    },
    {
      "cell_type": "code",
      "metadata": {
        "id": "K6IgaBf69bvx"
      },
      "source": [
        "Default Parameter Value\r\n",
        "The following example shows how to use a default parameter value.\r\n",
        "\r\n",
        "If we call the function without argument, it uses the default value"
      ],
      "execution_count": null,
      "outputs": []
    },
    {
      "cell_type": "code",
      "metadata": {
        "colab": {
          "base_uri": "https://localhost:8080/"
        },
        "id": "0urXCVCb9cN9",
        "outputId": "d7f17765-a271-45a9-baf9-6f61e31b867f"
      },
      "source": [
        "def my_function(country = \"Norway\"):\r\n",
        "  print(\"I am from \" + country)\r\n",
        "\r\n",
        "my_function(\"Sweden\")\r\n",
        "my_function(\"India\")\r\n",
        "my_function()\r\n",
        "my_function(\"Brazil\")"
      ],
      "execution_count": 8,
      "outputs": [
        {
          "output_type": "stream",
          "text": [
            "I am from Sweden\n",
            "I am from India\n",
            "I am from Norway\n",
            "I am from Brazil\n"
          ],
          "name": "stdout"
        }
      ]
    },
    {
      "cell_type": "code",
      "metadata": {
        "id": "VE8lxCPR-RHc"
      },
      "source": [
        "Passing a List as an Argument\r\n",
        "You can send any data types of argument to a function (string, number, list, dictionary etc.), and it will be treated as the same data type inside the function.\r\n",
        "\r\n",
        "E.g. if you send a List as an argument, it will still be a List when it reaches the function"
      ],
      "execution_count": null,
      "outputs": []
    },
    {
      "cell_type": "code",
      "metadata": {
        "colab": {
          "base_uri": "https://localhost:8080/"
        },
        "id": "Yj5_enqd-RYM",
        "outputId": "981a11b1-618d-4db3-c420-2924d3f2cf79"
      },
      "source": [
        "def my_function(food):\r\n",
        "  for x in food:\r\n",
        "    print(x)\r\n",
        "\r\n",
        "fruits = [\"apple\", \"banana\", \"cherry\"]\r\n",
        "\r\n",
        "my_function(fruits)"
      ],
      "execution_count": 9,
      "outputs": [
        {
          "output_type": "stream",
          "text": [
            "apple\n",
            "banana\n",
            "cherry\n"
          ],
          "name": "stdout"
        }
      ]
    },
    {
      "cell_type": "code",
      "metadata": {
        "id": "LdHf7uWJ-V-B"
      },
      "source": [
        "Return Values\r\n",
        "To let a function return a value, use the return statement"
      ],
      "execution_count": null,
      "outputs": []
    },
    {
      "cell_type": "code",
      "metadata": {
        "id": "BUi6cQwf-WV7"
      },
      "source": [
        "def my_function(x):\r\n",
        "  return 5 * x\r\n",
        "\r\n",
        "print(my_function(3))\r\n",
        "print(my_function(5))\r\n",
        "print(my_function(9))"
      ],
      "execution_count": null,
      "outputs": []
    },
    {
      "cell_type": "code",
      "metadata": {
        "id": "QP5zpb2A-bIs"
      },
      "source": [
        "The pass Statement\r\n",
        "function definitions cannot be empty, but if you for some reason have a function definition with no content, put in the pass statement to avoid getting an error"
      ],
      "execution_count": null,
      "outputs": []
    },
    {
      "cell_type": "code",
      "metadata": {
        "id": "zKbd27px-bb6"
      },
      "source": [
        "def myfunction():\r\n",
        "  pass"
      ],
      "execution_count": null,
      "outputs": []
    },
    {
      "cell_type": "code",
      "metadata": {
        "id": "Ou-lM9rC-sZp"
      },
      "source": [
        "Recursion\r\n",
        "Python also accepts function recursion, which means a defined function can call itself"
      ],
      "execution_count": null,
      "outputs": []
    },
    {
      "cell_type": "code",
      "metadata": {
        "colab": {
          "base_uri": "https://localhost:8080/"
        },
        "id": "RoFqdPnt-sqo",
        "outputId": "e8b3f12c-4432-47e1-daa7-d16e7337d014"
      },
      "source": [
        "#Recursion Example\r\n",
        "\r\n",
        "def tri_recursion(k):\r\n",
        "  if(k > 0):\r\n",
        "    result = k + tri_recursion(k - 1)\r\n",
        "    print(result)\r\n",
        "  else:\r\n",
        "    result = 0\r\n",
        "  return result\r\n",
        "\r\n",
        "print(\"\\n\\nRecursion Example Results\")\r\n",
        "tri_recursion(6)"
      ],
      "execution_count": 10,
      "outputs": [
        {
          "output_type": "stream",
          "text": [
            "\n",
            "\n",
            "Recursion Example Results\n",
            "1\n",
            "3\n",
            "6\n",
            "10\n",
            "15\n",
            "21\n"
          ],
          "name": "stdout"
        },
        {
          "output_type": "execute_result",
          "data": {
            "text/plain": [
              "21"
            ]
          },
          "metadata": {
            "tags": []
          },
          "execution_count": 10
        }
      ]
    },
    {
      "cell_type": "markdown",
      "metadata": {
        "id": "JDQU9xn5_DVa"
      },
      "source": [
        "**Python Lambda**"
      ]
    },
    {
      "cell_type": "code",
      "metadata": {
        "id": "Z0Jr37gS_EMF"
      },
      "source": [
        "A lambda function is a small anonymous function.\r\n",
        "\r\n",
        "A lambda function can take any number of arguments, but can only have one expression."
      ],
      "execution_count": null,
      "outputs": []
    },
    {
      "cell_type": "code",
      "metadata": {
        "colab": {
          "base_uri": "https://localhost:8080/"
        },
        "id": "DF-6HUTU_GX-",
        "outputId": "f9566c12-e4ee-480d-f4a8-7ebc38bb7b58"
      },
      "source": [
        "#Add 10 to argument a, and return the result:\r\n",
        "\r\n",
        "x = lambda a : a + 10\r\n",
        "print(x(5))"
      ],
      "execution_count": 11,
      "outputs": [
        {
          "output_type": "stream",
          "text": [
            "15\n"
          ],
          "name": "stdout"
        }
      ]
    },
    {
      "cell_type": "code",
      "metadata": {
        "colab": {
          "base_uri": "https://localhost:8080/"
        },
        "id": "ydkCHlzK_MyK",
        "outputId": "d5362d27-6dd7-408f-d341-01d57148c053"
      },
      "source": [
        "#Lambda functions can take any number of arguments\r\n",
        "#Multiply argument a with argument b and return the result:\r\n",
        "\r\n",
        "x = lambda a, b : a * b\r\n",
        "print(x(5, 6))"
      ],
      "execution_count": 12,
      "outputs": [
        {
          "output_type": "stream",
          "text": [
            "30\n"
          ],
          "name": "stdout"
        }
      ]
    },
    {
      "cell_type": "code",
      "metadata": {
        "colab": {
          "base_uri": "https://localhost:8080/"
        },
        "id": "vaEjVXrB_U5D",
        "outputId": "434bed3c-3573-42a7-d752-06f6720a50b9"
      },
      "source": [
        "#Summarize argument a, b, and c and return the result:\r\n",
        "\r\n",
        "x = lambda a, b, c : a + b + c\r\n",
        "print(x(5, 6, 2))"
      ],
      "execution_count": 13,
      "outputs": [
        {
          "output_type": "stream",
          "text": [
            "13\n"
          ],
          "name": "stdout"
        }
      ]
    },
    {
      "cell_type": "code",
      "metadata": {
        "id": "Rpqn7dar_WON"
      },
      "source": [
        "Why Use Lambda Functions?\r\n",
        "The power of lambda is better shown when you use them as an anonymous function inside another function.\r\n",
        "\r\n",
        "Say you have a function definition that takes one argument, and that argument will be multiplied with an unknown number:"
      ],
      "execution_count": null,
      "outputs": []
    },
    {
      "cell_type": "code",
      "metadata": {
        "id": "8FBH6t4-_Y6N"
      },
      "source": [
        "def myfunc(n):\r\n",
        "  return lambda a : a * n"
      ],
      "execution_count": 14,
      "outputs": []
    },
    {
      "cell_type": "code",
      "metadata": {
        "colab": {
          "base_uri": "https://localhost:8080/"
        },
        "id": "ZWg3C4d0_dit",
        "outputId": "2b353ad6-7fc2-4de0-b00f-312ec5e84887"
      },
      "source": [
        "#Use that function definition to make a function that always doubles the number you send in\r\n",
        "def myfunc(n):\r\n",
        "  return lambda a : a * n\r\n",
        "\r\n",
        "mydoubler = myfunc(2)\r\n",
        "\r\n",
        "print(mydoubler(11))"
      ],
      "execution_count": 15,
      "outputs": [
        {
          "output_type": "stream",
          "text": [
            "22\n"
          ],
          "name": "stdout"
        }
      ]
    },
    {
      "cell_type": "code",
      "metadata": {
        "colab": {
          "base_uri": "https://localhost:8080/"
        },
        "id": "JphMLJRD_hRV",
        "outputId": "882c991b-77cb-44e1-bc12-1ecd8712138a"
      },
      "source": [
        "def myfunc(n):\r\n",
        "  return lambda a : a * n\r\n",
        "\r\n",
        "mytripler = myfunc(3)\r\n",
        "\r\n",
        "print(mytripler(11))"
      ],
      "execution_count": 16,
      "outputs": [
        {
          "output_type": "stream",
          "text": [
            "33\n"
          ],
          "name": "stdout"
        }
      ]
    },
    {
      "cell_type": "code",
      "metadata": {
        "colab": {
          "base_uri": "https://localhost:8080/"
        },
        "id": "vEgxrrOH_qf9",
        "outputId": "3b1ffa70-f49e-435d-ffd4-3fde9c577f78"
      },
      "source": [
        "def myfunc(n):\r\n",
        "  return lambda a : a * n\r\n",
        "\r\n",
        "mydoubler = myfunc(2)\r\n",
        "mytripler = myfunc(3)\r\n",
        "\r\n",
        "print(mydoubler(11))\r\n",
        "print(mytripler(11))"
      ],
      "execution_count": 17,
      "outputs": [
        {
          "output_type": "stream",
          "text": [
            "22\n",
            "33\n"
          ],
          "name": "stdout"
        }
      ]
    }
  ]
}