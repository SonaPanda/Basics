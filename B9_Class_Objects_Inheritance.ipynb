{
  "nbformat": 4,
  "nbformat_minor": 0,
  "metadata": {
    "colab": {
      "name": "B9_Class/Objects/Inheritance.ipynb",
      "provenance": [],
      "collapsed_sections": []
    },
    "kernelspec": {
      "name": "python3",
      "display_name": "Python 3"
    }
  },
  "cells": [
    {
      "cell_type": "code",
      "metadata": {
        "id": "9Qtf3opUatzl"
      },
      "source": [
        "Python Classes/Objects\r\n",
        "Python is an object oriented programming language.\r\n",
        "\r\n",
        "Almost everything in Python is an object, with its properties and methods.\r\n",
        "\r\n",
        "A Class is like an object constructor, or a \"blueprint\" for creating objects."
      ],
      "execution_count": null,
      "outputs": []
    },
    {
      "cell_type": "code",
      "metadata": {
        "colab": {
          "base_uri": "https://localhost:8080/"
        },
        "id": "nbc9TuGRdLsy",
        "outputId": "f1a950f1-3dec-43de-f707-55fd11490927"
      },
      "source": [
        "#Create a Class\r\n",
        "#To create a class, use the keyword class\r\n",
        "\r\n",
        "#Create a class named MyClass, with a property named x:\r\n",
        "\r\n",
        "class MyClass:\r\n",
        "  x = 5\r\n",
        "print(MyClass)"
      ],
      "execution_count": null,
      "outputs": [
        {
          "output_type": "stream",
          "text": [
            "<class '__main__.MyClass'>\n"
          ],
          "name": "stdout"
        }
      ]
    },
    {
      "cell_type": "code",
      "metadata": {
        "colab": {
          "base_uri": "https://localhost:8080/"
        },
        "id": "d6vOZAM7esar",
        "outputId": "ef057f79-c2bb-4be2-e41b-89ebedbe364d"
      },
      "source": [
        "#Create Object\r\n",
        "#Now we can use the class named MyClass to create objects\r\n",
        "#Create an object named p1, and print the value of x:\r\n",
        "\r\n",
        "p1 = MyClass()\r\n",
        "print(p1.x)"
      ],
      "execution_count": null,
      "outputs": [
        {
          "output_type": "stream",
          "text": [
            "5\n"
          ],
          "name": "stdout"
        }
      ]
    },
    {
      "cell_type": "code",
      "metadata": {
        "id": "SunaR2iAe9pB"
      },
      "source": [
        "The __init__() Function\r\n",
        "The examples above are classes and objects in their simplest form, and are not really useful in real life applications.\r\n",
        "\r\n",
        "To understand the meaning of classes we have to understand the built-in __init__() function.\r\n",
        "\r\n",
        "All classes have a function called __init__(), which is always executed when the class is being initiated.\r\n",
        "\r\n",
        "Use the __init__() function to assign values to object properties, or other operations that are necessary to do when the object is being created"
      ],
      "execution_count": null,
      "outputs": []
    },
    {
      "cell_type": "code",
      "metadata": {
        "colab": {
          "base_uri": "https://localhost:8080/"
        },
        "id": "y45VwGGie-cw",
        "outputId": "1df16ccb-95e9-4a64-8b80-659192fd25ba"
      },
      "source": [
        "#Create a class named Person, use the __init__() function to assign values for name and age:\r\n",
        "\r\n",
        "class Person:\r\n",
        "  def __init__(self, name, age):\r\n",
        "    self.name = name\r\n",
        "    self.age = age\r\n",
        "\r\n",
        "p1 = Person(\"John\", 36)\r\n",
        "\r\n",
        "print(p1.name)\r\n",
        "print(p1.age)"
      ],
      "execution_count": null,
      "outputs": [
        {
          "output_type": "stream",
          "text": [
            "John\n",
            "36\n"
          ],
          "name": "stdout"
        }
      ]
    },
    {
      "cell_type": "code",
      "metadata": {
        "id": "N8D7EbwAgT48"
      },
      "source": [
        "The __init__() function is called automatically every time the class is being used to create a new object."
      ],
      "execution_count": null,
      "outputs": []
    },
    {
      "cell_type": "code",
      "metadata": {
        "id": "kN_ZTHojgUpP"
      },
      "source": [
        "Object Methods\r\n",
        "Objects can also contain methods. Methods in objects are functions that belong to the object.\r\n",
        "\r\n",
        "Let us create a method in the Person class"
      ],
      "execution_count": null,
      "outputs": []
    },
    {
      "cell_type": "code",
      "metadata": {
        "colab": {
          "base_uri": "https://localhost:8080/"
        },
        "id": "IddMu1AcgZ_u",
        "outputId": "53f6adad-7fdc-4e71-f361-caaffa4ba547"
      },
      "source": [
        "#Insert a function that prints a greeting, and execute it on the p1 object:\r\n",
        "\r\n",
        "class Person:\r\n",
        "  def __init__(self, name, age):\r\n",
        "    self.name = name\r\n",
        "    self.age = age\r\n",
        "\r\n",
        "  def myfunc(self):\r\n",
        "    print(\"Hello my name is \" + self.name)\r\n",
        "\r\n",
        "p1 = Person(\"John\", 36)\r\n",
        "p1.myfunc()\r\n",
        "#The self parameter is a reference to the current instance of the class, and is used to access variables that belong to the class."
      ],
      "execution_count": null,
      "outputs": [
        {
          "output_type": "stream",
          "text": [
            "Hello my name is John\n"
          ],
          "name": "stdout"
        }
      ]
    },
    {
      "cell_type": "code",
      "metadata": {
        "id": "i-nmNgXWgjQL"
      },
      "source": [
        "The self Parameter\r\n",
        "The self parameter is a reference to the current instance of the class, and is used to access variables that belongs to the class.\r\n",
        "\r\n",
        "It does not have to be named self , you can call it whatever you like, but it has to be the first parameter of any function in the class"
      ],
      "execution_count": null,
      "outputs": []
    },
    {
      "cell_type": "code",
      "metadata": {
        "colab": {
          "base_uri": "https://localhost:8080/"
        },
        "id": "73gAamqigj0A",
        "outputId": "db10d6c9-3740-4e7d-af18-a4a08e7f355b"
      },
      "source": [
        "#Use the words mysillyobject and abc instead of self:\r\n",
        "\r\n",
        "class Person:\r\n",
        "  def __init__(mysillyobject, name, age):\r\n",
        "    mysillyobject.name = name\r\n",
        "    mysillyobject.age = age\r\n",
        "\r\n",
        "  def myfunc(abc):\r\n",
        "    print(\"Hello my name is \" + abc.name)\r\n",
        "\r\n",
        "p1 = Person(\"John\", 36)\r\n",
        "p1.myfunc()"
      ],
      "execution_count": null,
      "outputs": [
        {
          "output_type": "stream",
          "text": [
            "Hello my name is John\n"
          ],
          "name": "stdout"
        }
      ]
    },
    {
      "cell_type": "code",
      "metadata": {
        "id": "OeAvXe8zgoGG"
      },
      "source": [
        "Modify Object Properties\r\n",
        "You can modify properties on objects like this:"
      ],
      "execution_count": null,
      "outputs": []
    },
    {
      "cell_type": "code",
      "metadata": {
        "colab": {
          "base_uri": "https://localhost:8080/"
        },
        "id": "dWjRTdK5gqYs",
        "outputId": "2d8cf4a0-3e81-49a2-e38c-fd1a67e64a78"
      },
      "source": [
        "#Set the age of p1 to 40:\r\n",
        "\r\n",
        "class Person:\r\n",
        "  def __init__(self, name, age):\r\n",
        "    self.name = name\r\n",
        "    self.age = age\r\n",
        "\r\n",
        "  def myfunc(self):\r\n",
        "    print(\"Hello my name is \" + self.name)\r\n",
        "\r\n",
        "p1 = Person(\"John\", 36)\r\n",
        "\r\n",
        "p1.age = 40\r\n",
        "\r\n",
        "print(p1.age)"
      ],
      "execution_count": null,
      "outputs": [
        {
          "output_type": "stream",
          "text": [
            "40\n"
          ],
          "name": "stdout"
        }
      ]
    },
    {
      "cell_type": "code",
      "metadata": {
        "id": "awSXyPJBg0Ll"
      },
      "source": [
        "Delete Object Properties\r\n",
        "You can delete properties on objects by using the del keyword"
      ],
      "execution_count": null,
      "outputs": []
    },
    {
      "cell_type": "code",
      "metadata": {
        "colab": {
          "base_uri": "https://localhost:8080/",
          "height": 197
        },
        "id": "2xVJ53_Kg0yo",
        "outputId": "fc9108ec-286f-4584-f5dc-06488b1ee332"
      },
      "source": [
        "#Delete the age property from the p1 object\r\n",
        "class Person:\r\n",
        "  def __init__(self, name, age):\r\n",
        "    self.name = name\r\n",
        "    self.age = age\r\n",
        "\r\n",
        "  def myfunc(self):\r\n",
        "    print(\"Hello my name is \" + self.name)\r\n",
        "\r\n",
        "p1 = Person(\"John\", 36)\r\n",
        "\r\n",
        "del p1.age\r\n",
        "\r\n",
        "print(p1.age)"
      ],
      "execution_count": null,
      "outputs": [
        {
          "output_type": "error",
          "ename": "AttributeError",
          "evalue": "ignored",
          "traceback": [
            "\u001b[0;31m---------------------------------------------------------------------------\u001b[0m",
            "\u001b[0;31mAttributeError\u001b[0m                            Traceback (most recent call last)",
            "\u001b[0;32m<ipython-input-7-f23c2b5c9487>\u001b[0m in \u001b[0;36m<module>\u001b[0;34m()\u001b[0m\n\u001b[1;32m     12\u001b[0m \u001b[0;32mdel\u001b[0m \u001b[0mp1\u001b[0m\u001b[0;34m.\u001b[0m\u001b[0mage\u001b[0m\u001b[0;34m\u001b[0m\u001b[0;34m\u001b[0m\u001b[0m\n\u001b[1;32m     13\u001b[0m \u001b[0;34m\u001b[0m\u001b[0m\n\u001b[0;32m---> 14\u001b[0;31m \u001b[0mprint\u001b[0m\u001b[0;34m(\u001b[0m\u001b[0mp1\u001b[0m\u001b[0;34m.\u001b[0m\u001b[0mage\u001b[0m\u001b[0;34m)\u001b[0m\u001b[0;34m\u001b[0m\u001b[0;34m\u001b[0m\u001b[0m\n\u001b[0m",
            "\u001b[0;31mAttributeError\u001b[0m: 'Person' object has no attribute 'age'"
          ]
        }
      ]
    },
    {
      "cell_type": "code",
      "metadata": {
        "id": "0nQpS-LTg_nF"
      },
      "source": [
        "Delete Objects\r\n",
        "You can delete objects by using the del keyword"
      ],
      "execution_count": null,
      "outputs": []
    },
    {
      "cell_type": "code",
      "metadata": {
        "colab": {
          "base_uri": "https://localhost:8080/",
          "height": 197
        },
        "id": "ypL4fiyYhAI8",
        "outputId": "3fc25e6d-e1ba-40b5-c6aa-3152c8a98a67"
      },
      "source": [
        "class Person:\r\n",
        "  def __init__(self, name, age):\r\n",
        "    self.name = name\r\n",
        "    self.age = age\r\n",
        "\r\n",
        "  def myfunc(self):\r\n",
        "    print(\"Hello my name is \" + self.name)\r\n",
        "\r\n",
        "p1 = Person(\"John\", 36)\r\n",
        "\r\n",
        "del p1\r\n",
        "\r\n",
        "print(p1)"
      ],
      "execution_count": null,
      "outputs": [
        {
          "output_type": "error",
          "ename": "NameError",
          "evalue": "ignored",
          "traceback": [
            "\u001b[0;31m---------------------------------------------------------------------------\u001b[0m",
            "\u001b[0;31mNameError\u001b[0m                                 Traceback (most recent call last)",
            "\u001b[0;32m<ipython-input-8-8d9ca57d628a>\u001b[0m in \u001b[0;36m<module>\u001b[0;34m()\u001b[0m\n\u001b[1;32m     11\u001b[0m \u001b[0;32mdel\u001b[0m \u001b[0mp1\u001b[0m\u001b[0;34m\u001b[0m\u001b[0;34m\u001b[0m\u001b[0m\n\u001b[1;32m     12\u001b[0m \u001b[0;34m\u001b[0m\u001b[0m\n\u001b[0;32m---> 13\u001b[0;31m \u001b[0mprint\u001b[0m\u001b[0;34m(\u001b[0m\u001b[0mp1\u001b[0m\u001b[0;34m)\u001b[0m\u001b[0;34m\u001b[0m\u001b[0;34m\u001b[0m\u001b[0m\n\u001b[0m",
            "\u001b[0;31mNameError\u001b[0m: name 'p1' is not defined"
          ]
        }
      ]
    },
    {
      "cell_type": "code",
      "metadata": {
        "id": "SckFZ5ibhHz2"
      },
      "source": [
        "The pass Statement\r\n",
        "class definitions cannot be empty, but if you for some reason have a class definition with no content, put in the pass statement to avoid getting an error"
      ],
      "execution_count": null,
      "outputs": []
    },
    {
      "cell_type": "code",
      "metadata": {
        "id": "75KBfi0yhIOX"
      },
      "source": [
        "class Person:\r\n",
        "  pass"
      ],
      "execution_count": null,
      "outputs": []
    },
    {
      "cell_type": "markdown",
      "metadata": {
        "id": "qb4c5qQRii46"
      },
      "source": [
        "**Inheritance**"
      ]
    },
    {
      "cell_type": "code",
      "metadata": {
        "id": "Gt-AiecJik5Z"
      },
      "source": [
        "Python Inheritance\r\n",
        "Inheritance allows us to define a class that inherits all the methods and properties from another class.\r\n",
        "\r\n",
        "Parent class is the class being inherited from, also called base class.\r\n",
        "\r\n",
        "Child class is the class that inherits from another class, also called derived class."
      ],
      "execution_count": null,
      "outputs": []
    },
    {
      "cell_type": "code",
      "metadata": {
        "id": "YXi30jCwpPrx"
      },
      "source": [
        "Create a Parent Class\r\n",
        "Any class can be a parent class, so the syntax is the same as creating any other class"
      ],
      "execution_count": null,
      "outputs": []
    },
    {
      "cell_type": "code",
      "metadata": {
        "id": "82EaL7HPpUnn"
      },
      "source": [
        "Create a class named Person, with firstname and lastname properties, and a printname method"
      ],
      "execution_count": null,
      "outputs": []
    },
    {
      "cell_type": "code",
      "metadata": {
        "colab": {
          "base_uri": "https://localhost:8080/"
        },
        "id": "M-k6iZTupXxY",
        "outputId": "69f39835-d577-4b6a-9e84-dca16516d31a"
      },
      "source": [
        "class Person:\r\n",
        "  def __init__(self, fname, lname):\r\n",
        "    self.firstname = fname\r\n",
        "    self.lastname = lname\r\n",
        "\r\n",
        "  def printname(self):\r\n",
        "    print(self.firstname, self.lastname)\r\n",
        "\r\n",
        "#Use the Person class to create an object, and then execute the printname method:\r\n",
        "\r\n",
        "x = Person(\"John\", \"Doe\")\r\n",
        "x.printname()"
      ],
      "execution_count": null,
      "outputs": [
        {
          "output_type": "stream",
          "text": [
            "John Doe\n"
          ],
          "name": "stdout"
        }
      ]
    },
    {
      "cell_type": "code",
      "metadata": {
        "id": "BOy8gIXXpebB"
      },
      "source": [
        "Create a Child Class\r\n",
        "To create a class that inherits the functionality from another class, send the parent class as a parameter when creating the child class"
      ],
      "execution_count": null,
      "outputs": []
    },
    {
      "cell_type": "code",
      "metadata": {
        "id": "xjoR832-phTH"
      },
      "source": [
        "#Create a class named Student, which will inherit the properties and methods from the Person class:\r\n",
        "\r\n",
        "class Student(Person):\r\n",
        "  pass\r\n",
        "#Use the pass keyword when you do not want to add any other properties or methods to the class."
      ],
      "execution_count": null,
      "outputs": []
    },
    {
      "cell_type": "code",
      "metadata": {
        "colab": {
          "base_uri": "https://localhost:8080/"
        },
        "id": "rNvTRfiipr13",
        "outputId": "2ca85721-73e6-46ed-d647-54bfe420872c"
      },
      "source": [
        "#Use the Student class to create an object, and then execute the printname method:\r\n",
        "\r\n",
        "class Person:\r\n",
        "  def __init__(self, fname, lname):\r\n",
        "    self.firstname = fname\r\n",
        "    self.lastname = lname\r\n",
        "\r\n",
        "  def printname(self):\r\n",
        "    print(self.firstname, self.lastname)\r\n",
        "\r\n",
        "class Student(Person):\r\n",
        "  pass\r\n",
        "\r\n",
        "x = Student(\"Mike\", \"Olsen\")\r\n",
        "x.printname()\r\n"
      ],
      "execution_count": null,
      "outputs": [
        {
          "output_type": "stream",
          "text": [
            "Mike Olsen\n"
          ],
          "name": "stdout"
        }
      ]
    },
    {
      "cell_type": "code",
      "metadata": {
        "id": "P7qYdgcMpy8n"
      },
      "source": [
        "Add the __init__() Function\r\n",
        "So far we have created a child class that inherits the properties and methods from its parent.\r\n",
        "\r\n",
        "We want to add the __init__() function to the child class (instead of the pass keyword)."
      ],
      "execution_count": null,
      "outputs": []
    },
    {
      "cell_type": "code",
      "metadata": {
        "id": "dSYBLdlCpzQk"
      },
      "source": [
        "#Add the __init__() function to the Student class\r\n",
        "class Student(Person):\r\n",
        "  def __init__(self, fname, lname):\r\n",
        "    #add properties etc.\r\n",
        "When you add the __init__() function, the child class will no longer inherit the parent's __init__() function.\r\n",
        "The child's __init__() function overrides the inheritance of the parent's __init__() function.\r\n",
        "To keep the inheritance of the parent's __init__() function, add a call to the parent's __init__() function\r\n",
        "\r\n",
        "class Student(Person):\r\n",
        "  def __init__(self, fname, lname):\r\n",
        "    Person.__init__(self, fname, lname)"
      ],
      "execution_count": null,
      "outputs": []
    },
    {
      "cell_type": "code",
      "metadata": {
        "colab": {
          "base_uri": "https://localhost:8080/"
        },
        "id": "v9ZDyAZwqKky",
        "outputId": "e15c4040-0d13-44bb-e739-f6527a6b26c9"
      },
      "source": [
        "class Person:\r\n",
        "  def __init__(self, fname, lname):\r\n",
        "    self.firstname = fname\r\n",
        "    self.lastname = lname\r\n",
        "\r\n",
        "  def printname(self):\r\n",
        "    print(self.firstname, self.lastname)\r\n",
        "\r\n",
        "class Student(Person):\r\n",
        "  def __init__(self, fname, lname):\r\n",
        "    Person.__init__(self, fname, lname)\r\n",
        "\r\n",
        "x = Student(\"Mike\", \"Olsen\")\r\n",
        "x.printname()\r\n",
        "\r\n",
        "Now we have successfully added the __init__() function, and kept the inheritance of the parent class, and we are ready to add functionality in the __init__() function."
      ],
      "execution_count": null,
      "outputs": [
        {
          "output_type": "stream",
          "text": [
            "Mike Olsen\n"
          ],
          "name": "stdout"
        }
      ]
    },
    {
      "cell_type": "code",
      "metadata": {
        "id": "1wHhiXwsqSGp"
      },
      "source": [
        "Use the super() Function\r\n",
        "Python also has a super() function that will make the child class inherit all the methods and properties from its parent\r\n",
        "By using the super() function, you do not have to use the name of the parent element, it will automatically inherit the methods and properties from its parent."
      ],
      "execution_count": null,
      "outputs": []
    },
    {
      "cell_type": "code",
      "metadata": {
        "id": "2hhVSY6WqU0i"
      },
      "source": [
        "class Student(Person):\r\n",
        "  def __init__(self, fname, lname):\r\n",
        "    super().__init__(fname, lname)"
      ],
      "execution_count": null,
      "outputs": []
    },
    {
      "cell_type": "code",
      "metadata": {
        "colab": {
          "base_uri": "https://localhost:8080/"
        },
        "id": "-z4qMpKgqmpS",
        "outputId": "e3df400b-6b27-47fd-939a-3ef734522045"
      },
      "source": [
        "class Person:\r\n",
        "  def __init__(self, fname, lname):\r\n",
        "    self.firstname = fname\r\n",
        "    self.lastname = lname\r\n",
        "\r\n",
        "  def printname(self):\r\n",
        "    print(self.firstname, self.lastname)\r\n",
        "\r\n",
        "class Student(Person):\r\n",
        "  def __init__(self, fname, lname):\r\n",
        "    super().__init__(fname, lname)\r\n",
        "\r\n",
        "x = Student(\"Mike\", \"Olsen\")\r\n",
        "x.printname()"
      ],
      "execution_count": null,
      "outputs": [
        {
          "output_type": "stream",
          "text": [
            "Mike Olsen\n"
          ],
          "name": "stdout"
        }
      ]
    },
    {
      "cell_type": "code",
      "metadata": {
        "id": "NiJ5MewSrC2g"
      },
      "source": [
        "Add Properties\r\n",
        "Add a property called graduationyear to the Student class"
      ],
      "execution_count": null,
      "outputs": []
    },
    {
      "cell_type": "code",
      "metadata": {
        "colab": {
          "base_uri": "https://localhost:8080/"
        },
        "id": "QdheRF3MrFrQ",
        "outputId": "d7d76831-cfbf-4949-ba1e-ab80dec4e282"
      },
      "source": [
        "class Person:\r\n",
        "  def __init__(self, fname, lname):\r\n",
        "    self.firstname = fname\r\n",
        "    self.lastname = lname\r\n",
        "\r\n",
        "  def printname(self):\r\n",
        "    print(self.firstname, self.lastname)\r\n",
        "\r\n",
        "class Student(Person):\r\n",
        "  def __init__(self, fname, lname):\r\n",
        "    super().__init__(fname, lname)\r\n",
        "    self.graduationyear = 2019\r\n",
        "\r\n",
        "x = Student(\"Mike\", \"Olsen\")\r\n",
        "print(x.graduationyear)\r\n"
      ],
      "execution_count": null,
      "outputs": [
        {
          "output_type": "stream",
          "text": [
            "2019\n"
          ],
          "name": "stdout"
        }
      ]
    },
    {
      "cell_type": "code",
      "metadata": {
        "colab": {
          "base_uri": "https://localhost:8080/"
        },
        "id": "bOz559jcrN_y",
        "outputId": "b40f4fc4-ade2-4544-a585-b4ef049bc184"
      },
      "source": [
        "#the year 2019 should be a variable, and passed into the Student class when creating student objects. To do so, add another parameter in the __init__() function\r\n",
        "class Person:\r\n",
        "  def __init__(self, fname, lname):\r\n",
        "    self.firstname = fname\r\n",
        "    self.lastname = lname\r\n",
        "\r\n",
        "  def printname(self):\r\n",
        "    print(self.firstname, self.lastname)\r\n",
        "\r\n",
        "class Student(Person):\r\n",
        "  def __init__(self, fname, lname, year):\r\n",
        "    super().__init__(fname, lname)\r\n",
        "    self.graduationyear = year\r\n",
        "\r\n",
        "x = Student(\"Mike\", \"Olsen\", 2019)\r\n",
        "print(x.graduationyear)"
      ],
      "execution_count": null,
      "outputs": [
        {
          "output_type": "stream",
          "text": [
            "2019\n"
          ],
          "name": "stdout"
        }
      ]
    },
    {
      "cell_type": "code",
      "metadata": {
        "colab": {
          "base_uri": "https://localhost:8080/"
        },
        "id": "9zY2TSvPrWU4",
        "outputId": "7b735270-a5be-4c98-b3de-4b71e0e37938"
      },
      "source": [
        "#Add Methods\r\n",
        "#Add a method called welcome to the Student class\r\n",
        "class Person:\r\n",
        "  def __init__(self, fname, lname):\r\n",
        "    self.firstname = fname\r\n",
        "    self.lastname = lname\r\n",
        "\r\n",
        "  def printname(self):\r\n",
        "    print(self.firstname, self.lastname)\r\n",
        "\r\n",
        "class Student(Person):\r\n",
        "  def __init__(self, fname, lname, year):\r\n",
        "    super().__init__(fname, lname)\r\n",
        "    self.graduationyear = year\r\n",
        "\r\n",
        "  def welcome(self):\r\n",
        "    print(\"Welcome\", self.firstname, self.lastname, \"to the class of\", self.graduationyear)\r\n",
        "\r\n",
        "x = Student(\"Mike\", \"Olsen\", 2019)\r\n",
        "x.welcome()"
      ],
      "execution_count": null,
      "outputs": [
        {
          "output_type": "stream",
          "text": [
            "Welcome Mike Olsen to the class of 2019\n"
          ],
          "name": "stdout"
        }
      ]
    }
  ]
}