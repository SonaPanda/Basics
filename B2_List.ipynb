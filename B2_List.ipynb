{
  "nbformat": 4,
  "nbformat_minor": 0,
  "metadata": {
    "colab": {
      "name": "B2-List.ipynb",
      "provenance": [],
      "collapsed_sections": []
    },
    "kernelspec": {
      "name": "python3",
      "display_name": "Python 3"
    }
  },
  "cells": [
    {
      "cell_type": "markdown",
      "metadata": {
        "id": "GIMc_Y5_oWMK"
      },
      "source": [
        "**Lists**"
      ]
    },
    {
      "cell_type": "code",
      "metadata": {
        "id": "t3V1u4D7oXrW"
      },
      "source": [
        "#Lists are used to store multiple items in a single variable.\r\n",
        "#Lists are created using square brackets\r\n",
        "\r\n",
        "thislist = [\"apple\", \"banana\", \"cherry\"]\r\n",
        "print(thislist)"
      ],
      "execution_count": null,
      "outputs": []
    },
    {
      "cell_type": "code",
      "metadata": {
        "id": "ZibSxX79pUaH"
      },
      "source": [
        "List Items\r\n",
        "List items are ordered, changeable, and allow duplicate values.\r\n",
        "\r\n",
        "List items are indexed, the first item has index [0], the second item has index [1] etc."
      ],
      "execution_count": null,
      "outputs": []
    },
    {
      "cell_type": "code",
      "metadata": {
        "id": "O7QR0RdapVrU"
      },
      "source": [
        "Ordered\r\n",
        "When we say that lists are ordered, it means that the items have a defined order, and that order will not change.\r\n",
        "\r\n",
        "If you add new items to a list, the new items will be placed at the end of the list."
      ],
      "execution_count": null,
      "outputs": []
    },
    {
      "cell_type": "code",
      "metadata": {
        "id": "SWF4ce52paQl"
      },
      "source": [
        "Changeable\r\n",
        "The list is changeable, meaning that we can change, add, and remove items in a list after it has been created."
      ],
      "execution_count": null,
      "outputs": []
    },
    {
      "cell_type": "code",
      "metadata": {
        "colab": {
          "base_uri": "https://localhost:8080/"
        },
        "id": "V69JiV__pdlJ",
        "outputId": "4bd47322-3601-41ca-889d-fd43ed41a685"
      },
      "source": [
        "#Allow Duplicates\r\n",
        "#Since lists are indexed, lists can have items with the same value\r\n",
        "\r\n",
        "thislist = [\"apple\", \"banana\", \"cherry\", \"apple\", \"cherry\"]\r\n",
        "print(thislist)"
      ],
      "execution_count": null,
      "outputs": [
        {
          "output_type": "stream",
          "text": [
            "['apple', 'banana', 'cherry', 'apple', 'cherry']\n"
          ],
          "name": "stdout"
        }
      ]
    },
    {
      "cell_type": "code",
      "metadata": {
        "colab": {
          "base_uri": "https://localhost:8080/"
        },
        "id": "FWqkdVCepnVV",
        "outputId": "03f24dfb-44d0-4c75-e985-94a9f417847e"
      },
      "source": [
        "#List Length\r\n",
        "#To determine how many items a list has, use the len() function\r\n",
        "\r\n",
        "#Print the number of items in the list:\r\n",
        "\r\n",
        "thislist = [\"apple\", \"banana\", \"cherry\"]\r\n",
        "print(len(thislist))"
      ],
      "execution_count": null,
      "outputs": [
        {
          "output_type": "stream",
          "text": [
            "3\n"
          ],
          "name": "stdout"
        }
      ]
    },
    {
      "cell_type": "code",
      "metadata": {
        "colab": {
          "base_uri": "https://localhost:8080/"
        },
        "id": "xaEOvvkOpnr6",
        "outputId": "5ca95a6e-a7b3-484b-d6e5-f807ff4f090e"
      },
      "source": [
        "#List Items - Data Types\r\n",
        "#List items can be of any data type\r\n",
        "\r\n",
        "#String, int and boolean data types:\r\n",
        "\r\n",
        "list1 = [\"apple\", \"banana\", \"cherry\"]\r\n",
        "list2 = [1, 5, 7, 9, 3]\r\n",
        "list3 = [True, False, False]\r\n",
        "\r\n",
        "print(list1)\r\n",
        "print(list2)\r\n",
        "print(list3)"
      ],
      "execution_count": null,
      "outputs": [
        {
          "output_type": "stream",
          "text": [
            "['apple', 'banana', 'cherry']\n",
            "[1, 5, 7, 9, 3]\n",
            "[True, False, False]\n"
          ],
          "name": "stdout"
        }
      ]
    },
    {
      "cell_type": "code",
      "metadata": {
        "colab": {
          "base_uri": "https://localhost:8080/"
        },
        "id": "PfwdlAbAqNhV",
        "outputId": "8a78d2aa-4ecb-4baf-e6d1-0afb174a02db"
      },
      "source": [
        "#A list with strings, integers and boolean values:\r\n",
        "\r\n",
        "list1 = [\"abc\", 34, True, 40, \"male\"]\r\n",
        "print(list1)"
      ],
      "execution_count": null,
      "outputs": [
        {
          "output_type": "stream",
          "text": [
            "['abc', 34, True, 40, 'male']\n"
          ],
          "name": "stdout"
        }
      ]
    },
    {
      "cell_type": "code",
      "metadata": {
        "colab": {
          "base_uri": "https://localhost:8080/"
        },
        "id": "E1GNe2jmqYUE",
        "outputId": "2d36a030-b978-4522-f580-b24eae881099"
      },
      "source": [
        "#type()\r\n",
        "#From Python's perspective, lists are defined as objects with the data type 'list'\r\n",
        "\r\n",
        "#What is the data type of a list?\r\n",
        "\r\n",
        "mylist = [\"apple\", \"banana\", \"cherry\"]\r\n",
        "print(type(mylist))"
      ],
      "execution_count": null,
      "outputs": [
        {
          "output_type": "stream",
          "text": [
            "<class 'list'>\n"
          ],
          "name": "stdout"
        }
      ]
    },
    {
      "cell_type": "code",
      "metadata": {
        "colab": {
          "base_uri": "https://localhost:8080/"
        },
        "id": "StPyT-dbrKFp",
        "outputId": "7a392bc5-18dd-40b9-da94-e4b45e5e9800"
      },
      "source": [
        "#The list() Constructor\r\n",
        "#It is also possible to use the list() constructor when creating a new list.\r\n",
        "\r\n",
        "#Using the list() constructor to make a List:\r\n",
        "\r\n",
        "thislist = list((\"apple\", \"banana\", \"cherry\")) # note the double round-brackets\r\n",
        "print(thislist)"
      ],
      "execution_count": null,
      "outputs": [
        {
          "output_type": "stream",
          "text": [
            "['apple', 'banana', 'cherry']\n"
          ],
          "name": "stdout"
        }
      ]
    },
    {
      "cell_type": "code",
      "metadata": {
        "colab": {
          "base_uri": "https://localhost:8080/"
        },
        "id": "rCn17NEPrnZ7",
        "outputId": "449cdc5e-3764-4fd4-b43f-83d9ec3f26f5"
      },
      "source": [
        "#Access List Items\r\n",
        "#List items are indexed and you can access them by referring to the index number\r\n",
        "\r\n",
        "#Print the second item of the list:\r\n",
        "thislist = [\"apple\", \"banana\", \"cherry\"]#The first item has index 0.\r\n",
        "print(thislist[1])"
      ],
      "execution_count": null,
      "outputs": [
        {
          "output_type": "stream",
          "text": [
            "banana\n"
          ],
          "name": "stdout"
        }
      ]
    },
    {
      "cell_type": "code",
      "metadata": {
        "colab": {
          "base_uri": "https://localhost:8080/"
        },
        "id": "V42UrCAMgPCp",
        "outputId": "6025ab6c-29c0-4c70-ed7d-682d37c6451a"
      },
      "source": [
        "fruits = ['apple', 'banana', 'cherry']\r\n",
        "\r\n",
        "x = fruits.index(\"cherry\")\r\n",
        "\r\n",
        "print(x)"
      ],
      "execution_count": null,
      "outputs": [
        {
          "output_type": "stream",
          "text": [
            "2\n"
          ],
          "name": "stdout"
        }
      ]
    },
    {
      "cell_type": "code",
      "metadata": {
        "colab": {
          "base_uri": "https://localhost:8080/"
        },
        "id": "0VR338Y5geEe",
        "outputId": "4596515c-cd1e-401a-a3a8-c9d671de59d1"
      },
      "source": [
        "fruits = [4, 55, 64, 32, 16, 32]\r\n",
        "\r\n",
        "x = fruits.index(32)\r\n",
        "\r\n",
        "print(x)"
      ],
      "execution_count": null,
      "outputs": [
        {
          "output_type": "stream",
          "text": [
            "3\n"
          ],
          "name": "stdout"
        }
      ]
    },
    {
      "cell_type": "code",
      "metadata": {
        "colab": {
          "base_uri": "https://localhost:8080/"
        },
        "id": "tYr-1oXMsnQq",
        "outputId": "3b9e7c34-f39f-4599-dd39-8b06f7f3f36d"
      },
      "source": [
        "#Negative Indexing\r\n",
        "#Negative indexing means start from the end\r\n",
        "\r\n",
        "#-1 refers to the last item, -2 refers to the second last item etc.\r\n",
        "\r\n",
        "\r\n",
        "#Print the last item of the list:\r\n",
        "\r\n",
        "thislist = [\"apple\", \"banana\", \"cherry\"]\r\n",
        "print(thislist[-1])"
      ],
      "execution_count": null,
      "outputs": [
        {
          "output_type": "stream",
          "text": [
            "cherry\n"
          ],
          "name": "stdout"
        }
      ]
    },
    {
      "cell_type": "code",
      "metadata": {
        "colab": {
          "base_uri": "https://localhost:8080/"
        },
        "id": "HI2ckrbEstMo",
        "outputId": "27736665-d992-49be-f3e7-9f5dec01fc0d"
      },
      "source": [
        "#Range of Indexes\r\n",
        "#You can specify a range of indexes by specifying where to start and where to end the range.\r\n",
        "\r\n",
        "#When specifying a range, the return value will be a new list with the specified items.\r\n",
        "\r\n",
        "#Return the third, fourth, and fifth item:\r\n",
        "\r\n",
        "thislist = [\"apple\", \"banana\", \"cherry\", \"orange\", \"kiwi\", \"melon\", \"mango\"]#Note: The search will start at index 2 (included) and end at index 5 (not included).\r\n",
        "print(thislist[2:5])\r\n",
        "\r\n",
        "thislist = [\"apple\", \"banana\", \"cherry\", \"orange\", \"kiwi\", \"melon\", \"mango\"]\r\n",
        "print(thislist[:4])\r\n",
        "\r\n",
        "thislist = [\"apple\", \"banana\", \"cherry\", \"orange\", \"kiwi\", \"melon\", \"mango\"]\r\n",
        "print(thislist[2:])"
      ],
      "execution_count": null,
      "outputs": [
        {
          "output_type": "stream",
          "text": [
            "['cherry', 'orange', 'kiwi']\n",
            "['apple', 'banana', 'cherry', 'orange']\n",
            "['cherry', 'orange', 'kiwi', 'melon', 'mango']\n"
          ],
          "name": "stdout"
        }
      ]
    },
    {
      "cell_type": "code",
      "metadata": {
        "colab": {
          "base_uri": "https://localhost:8080/"
        },
        "id": "a1c5GDC_tdBd",
        "outputId": "ff1928a3-c47d-4cff-bd46-53cb2218fd0d"
      },
      "source": [
        "#Range of Negative Indexes\r\n",
        "#Specify negative indexes if you want to start the search from the end of the list\r\n",
        "\r\n",
        "#This example returns the items from \"orange\" (-4) to, but NOT including \"mango\" (-1):\r\n",
        "\r\n",
        "thislist = [\"apple\", \"banana\", \"cherry\", \"orange\", \"kiwi\", \"melon\", \"mango\"]\r\n",
        "print(thislist[-4:-1])"
      ],
      "execution_count": null,
      "outputs": [
        {
          "output_type": "stream",
          "text": [
            "['orange', 'kiwi', 'melon']\n"
          ],
          "name": "stdout"
        }
      ]
    },
    {
      "cell_type": "code",
      "metadata": {
        "colab": {
          "base_uri": "https://localhost:8080/"
        },
        "id": "l_I3_NPQuigX",
        "outputId": "8ba13742-23d5-4565-910e-3126b9b66ebe"
      },
      "source": [
        "#Check if Item Exists\r\n",
        "#To determine if a specified item is present in a list use the in keyword\r\n",
        "\r\n",
        "#Check if \"apple\" is present in the list:\r\n",
        "\r\n",
        "thislist = [\"apple\", \"banana\", \"cherry\"]\r\n",
        "if \"apple\" in thislist:\r\n",
        "  print(\"Yes, 'apple' is in the fruits list\")"
      ],
      "execution_count": null,
      "outputs": [
        {
          "output_type": "stream",
          "text": [
            "Yes, 'apple' is in the fruits list\n"
          ],
          "name": "stdout"
        }
      ]
    },
    {
      "cell_type": "code",
      "metadata": {
        "colab": {
          "base_uri": "https://localhost:8080/"
        },
        "id": "kEcJOszAur_P",
        "outputId": "895f6943-20de-412e-9958-992aedb58987"
      },
      "source": [
        "#Change List Items\r\n",
        "#To change the value of a specific item, refer to the index number\r\n",
        "\r\n",
        "#Change the second item:\r\n",
        "\r\n",
        "thislist = [\"apple\", \"banana\", \"cherry\"]\r\n",
        "thislist[1] = \"blackcurrant\"\r\n",
        "print(thislist)"
      ],
      "execution_count": null,
      "outputs": [
        {
          "output_type": "stream",
          "text": [
            "['apple', 'blackcurrant', 'cherry']\n"
          ],
          "name": "stdout"
        }
      ]
    },
    {
      "cell_type": "code",
      "metadata": {
        "colab": {
          "base_uri": "https://localhost:8080/"
        },
        "id": "2EWd96Hsvr3E",
        "outputId": "2c9af2e6-f64d-41f2-ee2f-5a639ddcef28"
      },
      "source": [
        "#Change a Range of Item Values\r\n",
        "#To change the value of items within a specific range, define a list with the new values, and refer to the range of index numbers where you want to insert the new values\r\n",
        "\r\n",
        "#Change the values \"banana\" and \"cherry\" with the values \"blackcurrant\" and \"watermelon\"\r\n",
        "thislist = [\"apple\", \"banana\", \"cherry\", \"orange\", \"kiwi\", \"mango\"]\r\n",
        "thislist[1:3] = [\"blackcurrant\", \"watermelon\"]\r\n",
        "print(thislist)"
      ],
      "execution_count": null,
      "outputs": [
        {
          "output_type": "stream",
          "text": [
            "['apple', 'blackcurrant', 'watermelon', 'orange', 'kiwi', 'mango']\n"
          ],
          "name": "stdout"
        }
      ]
    },
    {
      "cell_type": "code",
      "metadata": {
        "colab": {
          "base_uri": "https://localhost:8080/"
        },
        "id": "-9EgSLfQwBEc",
        "outputId": "0d7702db-4ca9-4ea4-805e-bd3a964a7c4f"
      },
      "source": [
        "#If you insert more items than you replace, the new items will be inserted where you specified, and the remaining items will move accordingly\r\n",
        "#Change the second value by replacing it with two new values:\r\n",
        "\r\n",
        "thislist = [\"apple\", \"banana\", \"cherry\"]\r\n",
        "thislist[1:2] = [\"blackcurrant\", \"watermelon\"]\r\n",
        "print(thislist)"
      ],
      "execution_count": null,
      "outputs": [
        {
          "output_type": "stream",
          "text": [
            "['apple', 'blackcurrant', 'watermelon', 'cherry']\n"
          ],
          "name": "stdout"
        }
      ]
    },
    {
      "cell_type": "code",
      "metadata": {
        "colab": {
          "base_uri": "https://localhost:8080/"
        },
        "id": "NbjSys-owLgW",
        "outputId": "81c55de4-3323-4ab8-8f19-4917ac9bd31e"
      },
      "source": [
        "#The length of the list will change when the number of items inserted does not match the number of items replaced.\r\n",
        "#If you insert less items than you replace, the new items will be inserted where you specified, and the remaining items will move accordingly\r\n",
        "\r\n",
        "#Change the second and third value by replacing it with one value:\r\n",
        "\r\n",
        "thislist = [\"apple\", \"banana\", \"cherry\"]\r\n",
        "thislist[1:3] = [\"watermelon\"]\r\n",
        "print(thislist)"
      ],
      "execution_count": null,
      "outputs": [
        {
          "output_type": "stream",
          "text": [
            "['apple', 'watermelon']\n"
          ],
          "name": "stdout"
        }
      ]
    },
    {
      "cell_type": "code",
      "metadata": {
        "colab": {
          "base_uri": "https://localhost:8080/"
        },
        "id": "tTqzgU67wLzI",
        "outputId": "a5c781dd-ae56-4a19-84b2-e38b1cc1d461"
      },
      "source": [
        "#Insert Items\r\n",
        "#To insert a new list item, without replacing any of the existing values, we can use the insert() method.\r\n",
        "#The insert() method inserts an item at the specified index\r\n",
        "\r\n",
        "thislist = [\"apple\", \"banana\", \"cherry\"]\r\n",
        "thislist.insert(2, \"watermelon\")\r\n",
        "print(thislist)"
      ],
      "execution_count": null,
      "outputs": [
        {
          "output_type": "stream",
          "text": [
            "['apple', 'banana', 'watermelon', 'cherry']\n"
          ],
          "name": "stdout"
        }
      ]
    },
    {
      "cell_type": "code",
      "metadata": {
        "colab": {
          "base_uri": "https://localhost:8080/"
        },
        "id": "Ctrf1PE0i7Vz",
        "outputId": "713da828-ead4-4f66-8925-b23d30855ddd"
      },
      "source": [
        "fruits = ['apple', 'banana', 'cherry']\r\n",
        "\r\n",
        "fruits.insert(1, \"orange\")\r\n",
        "\r\n",
        "print(fruits)"
      ],
      "execution_count": null,
      "outputs": [
        {
          "output_type": "stream",
          "text": [
            "['apple', 'orange', 'banana', 'cherry']\n"
          ],
          "name": "stdout"
        }
      ]
    },
    {
      "cell_type": "code",
      "metadata": {
        "colab": {
          "base_uri": "https://localhost:8080/"
        },
        "id": "6bODrCqUwMAf",
        "outputId": "a9d69399-ab75-41fc-ccbd-608cac67334f"
      },
      "source": [
        "#Add List Items\r\n",
        "\r\n",
        "#Append Items\r\n",
        "#To add an item to the end of the list, use the append() method\r\n",
        "\r\n",
        "#Using the append() method to append an item:\r\n",
        "\r\n",
        "thislist = [\"apple\", \"banana\", \"cherry\"]\r\n",
        "thislist.append(\"orange\")\r\n",
        "print(thislist)"
      ],
      "execution_count": null,
      "outputs": [
        {
          "output_type": "stream",
          "text": [
            "['apple', 'banana', 'cherry', 'orange']\n"
          ],
          "name": "stdout"
        }
      ]
    },
    {
      "cell_type": "code",
      "metadata": {
        "colab": {
          "base_uri": "https://localhost:8080/"
        },
        "id": "aAikurPaeAq4",
        "outputId": "89e3358b-30b1-4a75-96c2-2fc530c9b6b5"
      },
      "source": [
        "#Add a list to a list:\r\n",
        "a = [\"apple\", \"banana\", \"cherry\"]\r\n",
        "\r\n",
        "b = [\"Ford\", \"BMW\", \"Volvo\"]\r\n",
        "\r\n",
        "a.append(b)\r\n",
        "\r\n",
        "print(a)"
      ],
      "execution_count": null,
      "outputs": [
        {
          "output_type": "stream",
          "text": [
            "['apple', 'banana', 'cherry', ['Ford', 'BMW', 'Volvo']]\n"
          ],
          "name": "stdout"
        }
      ]
    },
    {
      "cell_type": "code",
      "metadata": {
        "colab": {
          "base_uri": "https://localhost:8080/"
        },
        "id": "lsv0xyCJwMMn",
        "outputId": "31606e34-943e-4017-f35f-0b258c545c2e"
      },
      "source": [
        "#Insert Items\r\n",
        "#To insert a list item at a specified index, use the insert() method.\r\n",
        "\r\n",
        "#The insert() method inserts an item at the specified index\r\n",
        "\r\n",
        "#Insert an item as the second position:\r\n",
        "\r\n",
        "thislist = [\"apple\", \"banana\", \"cherry\"]\r\n",
        "thislist.insert(1, \"orange\")\r\n",
        "print(thislist)"
      ],
      "execution_count": null,
      "outputs": [
        {
          "output_type": "stream",
          "text": [
            "['apple', 'orange', 'banana', 'cherry']\n"
          ],
          "name": "stdout"
        }
      ]
    },
    {
      "cell_type": "code",
      "metadata": {
        "colab": {
          "base_uri": "https://localhost:8080/"
        },
        "id": "J7m2s3StwMYq",
        "outputId": "76eb3204-3c8e-4ff4-8bed-d18de4bc95be"
      },
      "source": [
        "#Extend List\r\n",
        "#To append elements from another list to the current list, use the extend() method.\r\n",
        "\r\n",
        "#Add the elements of tropical to thislist:The elements will be added to the end of the list.\r\n",
        "\r\n",
        "thislist = [\"apple\", \"banana\", \"cherry\"]\r\n",
        "tropical = [\"mango\", \"pineapple\", \"papaya\"]\r\n",
        "thislist.extend(tropical)\r\n",
        "print(thislist)"
      ],
      "execution_count": null,
      "outputs": [
        {
          "output_type": "stream",
          "text": [
            "['apple', 'banana', 'cherry', 'mango', 'pineapple', 'papaya']\n"
          ],
          "name": "stdout"
        }
      ]
    },
    {
      "cell_type": "code",
      "metadata": {
        "colab": {
          "base_uri": "https://localhost:8080/"
        },
        "id": "HuiTrsLmfVby",
        "outputId": "f85c101d-3454-4d2c-9467-b6e19fc220a3"
      },
      "source": [
        "#Add the elements of cars to the fruits list:\r\n",
        "\r\n",
        "fruits = ['apple', 'banana', 'cherry']\r\n",
        "\r\n",
        "cars = ['Ford', 'BMW', 'Volvo']\r\n",
        "\r\n",
        "fruits.extend(cars)\r\n",
        "print(fruits)"
      ],
      "execution_count": null,
      "outputs": [
        {
          "output_type": "stream",
          "text": [
            "['apple', 'banana', 'cherry', 'Ford', 'BMW', 'Volvo']\n"
          ],
          "name": "stdout"
        }
      ]
    },
    {
      "cell_type": "code",
      "metadata": {
        "colab": {
          "base_uri": "https://localhost:8080/"
        },
        "id": "hh1QP6JSfxEC",
        "outputId": "4e1ee532-6cf2-435b-fafd-4a46c3c0a65d"
      },
      "source": [
        "fruits = ['apple', 'banana', 'cherry']\r\n",
        "\r\n",
        "points = (1, 4, 5, 9)\r\n",
        "\r\n",
        "fruits.extend(points)\r\n",
        "\r\n",
        "print(fruits)"
      ],
      "execution_count": null,
      "outputs": [
        {
          "output_type": "stream",
          "text": [
            "['apple', 'banana', 'cherry', 1, 4, 5, 9]\n"
          ],
          "name": "stdout"
        }
      ]
    },
    {
      "cell_type": "code",
      "metadata": {
        "colab": {
          "base_uri": "https://localhost:8080/"
        },
        "id": "OiafYlyqzu9R",
        "outputId": "5f898e10-f99f-47f1-c62f-9d4f0bfd0240"
      },
      "source": [
        "#Add Any Iterable\r\n",
        "#The extend() method does not have to append lists, you can add any iterable object (tuples, sets, dictionaries etc.).\r\n",
        "\r\n",
        "#Add elements of a tuple to a list:\r\n",
        "\r\n",
        "thislist = [\"apple\", \"banana\", \"cherry\"]\r\n",
        "thistuple = (\"kiwi\", \"orange\")\r\n",
        "thislist.extend(thistuple)\r\n",
        "print(thislist)"
      ],
      "execution_count": null,
      "outputs": [
        {
          "output_type": "stream",
          "text": [
            "['apple', 'banana', 'cherry', 'kiwi', 'orange']\n"
          ],
          "name": "stdout"
        }
      ]
    },
    {
      "cell_type": "code",
      "metadata": {
        "colab": {
          "base_uri": "https://localhost:8080/"
        },
        "id": "yXuMZCatzvL_",
        "outputId": "eb9c5f24-9698-46f4-c649-1377f774e142"
      },
      "source": [
        "#Remove List Items\r\n",
        "\r\n",
        "#Remove Specified Item\r\n",
        "#The remove() method removes the specified item\r\n",
        "\r\n",
        "#Remove \"banana\":\r\n",
        "\r\n",
        "thislist = [\"apple\", \"banana\", \"cherry\"]\r\n",
        "thislist.remove(\"banana\")\r\n",
        "print(thislist)"
      ],
      "execution_count": null,
      "outputs": [
        {
          "output_type": "stream",
          "text": [
            "['apple', 'cherry']\n"
          ],
          "name": "stdout"
        }
      ]
    },
    {
      "cell_type": "code",
      "metadata": {
        "colab": {
          "base_uri": "https://localhost:8080/"
        },
        "id": "RGlkbkSijjv7",
        "outputId": "ff700dfe-174c-433a-f8a7-5d0ed7940196"
      },
      "source": [
        "#Remove the \"banana\" element of the fruit list:\r\n",
        "\r\n",
        "fruits = ['apple', 'banana', 'cherry']\r\n",
        "\r\n",
        "fruits.remove(\"banana\")\r\n",
        "print(fruits)"
      ],
      "execution_count": null,
      "outputs": [
        {
          "output_type": "stream",
          "text": [
            "['apple', 'cherry']\n"
          ],
          "name": "stdout"
        }
      ]
    },
    {
      "cell_type": "code",
      "metadata": {
        "id": "5sRDFeN8jjZb"
      },
      "source": [
        ""
      ],
      "execution_count": null,
      "outputs": []
    },
    {
      "cell_type": "code",
      "metadata": {
        "colab": {
          "base_uri": "https://localhost:8080/"
        },
        "id": "Jb7B8DAWzvWZ",
        "outputId": "b6a14ff7-d2e1-4837-ff39-1b1cc9fd359d"
      },
      "source": [
        "#Remove Specified Index\r\n",
        "#The pop() method removes the specified index\r\n",
        "\r\n",
        "#Remove the second item:\r\n",
        "\r\n",
        "thislist = [\"apple\", \"banana\", \"cherry\"]\r\n",
        "thislist.pop(1)\r\n",
        "print(thislist)"
      ],
      "execution_count": null,
      "outputs": [
        {
          "output_type": "stream",
          "text": [
            "['apple', 'cherry']\n"
          ],
          "name": "stdout"
        }
      ]
    },
    {
      "cell_type": "code",
      "metadata": {
        "colab": {
          "base_uri": "https://localhost:8080/"
        },
        "id": "ICHCLCbcjUg3",
        "outputId": "81360975-b12e-4dbb-af36-4756453af57c"
      },
      "source": [
        "#Return the removed element:\r\n",
        "\r\n",
        "fruits = ['apple', 'banana', 'cherry']\r\n",
        "\r\n",
        "x = fruits.pop(1)\r\n",
        "print(x)"
      ],
      "execution_count": null,
      "outputs": [
        {
          "output_type": "stream",
          "text": [
            "banana\n"
          ],
          "name": "stdout"
        }
      ]
    },
    {
      "cell_type": "code",
      "metadata": {
        "colab": {
          "base_uri": "https://localhost:8080/"
        },
        "id": "JwOkNMxUjHzD",
        "outputId": "6a7b3860-06ad-47e5-9166-d7327302210c"
      },
      "source": [
        "#Remove the second element of the fruit list:\r\n",
        "\r\n",
        "fruits = ['apple', 'banana', 'cherry']\r\n",
        "\r\n",
        "fruits.pop(1)\r\n",
        "print(fruits)"
      ],
      "execution_count": null,
      "outputs": [
        {
          "output_type": "stream",
          "text": [
            "['apple', 'cherry']\n"
          ],
          "name": "stdout"
        }
      ]
    },
    {
      "cell_type": "code",
      "metadata": {
        "colab": {
          "base_uri": "https://localhost:8080/"
        },
        "id": "UwcMCXmQzvhR",
        "outputId": "cc3be98c-a5c3-4033-caf3-1d89864d5240"
      },
      "source": [
        "#If you do not specify the index, the pop() method removes the last item.\r\n",
        "#Remove the last item:\r\n",
        "\r\n",
        "thislist = [\"apple\", \"banana\", \"cherry\"]\r\n",
        "thislist.pop()\r\n",
        "print(thislist)"
      ],
      "execution_count": null,
      "outputs": [
        {
          "output_type": "stream",
          "text": [
            "['apple', 'banana']\n"
          ],
          "name": "stdout"
        }
      ]
    },
    {
      "cell_type": "code",
      "metadata": {
        "colab": {
          "base_uri": "https://localhost:8080/"
        },
        "id": "89pWg1n5zvp2",
        "outputId": "7f00ba2e-8311-4586-9897-b7a06a344ce1"
      },
      "source": [
        "#The del keyword also removes the specified index:\r\n",
        "#Remove the first item:\r\n",
        "\r\n",
        "thislist = [\"apple\", \"banana\", \"cherry\"]\r\n",
        "del thislist[0]\r\n",
        "print(thislist)"
      ],
      "execution_count": null,
      "outputs": [
        {
          "output_type": "stream",
          "text": [
            "['banana', 'cherry']\n"
          ],
          "name": "stdout"
        }
      ]
    },
    {
      "cell_type": "code",
      "metadata": {
        "colab": {
          "base_uri": "https://localhost:8080/",
          "height": 197
        },
        "id": "9ZgzUHdMzvyK",
        "outputId": "a7be4782-7615-4605-f801-ae80c90a387c"
      },
      "source": [
        "#The del keyword can also delete the list completely.\r\n",
        "#Delete the entire list:\r\n",
        "\r\n",
        "thislist = [\"apple\", \"banana\", \"cherry\"]\r\n",
        "del thislist\r\n",
        "\r\n",
        "print(thislist)"
      ],
      "execution_count": null,
      "outputs": [
        {
          "output_type": "error",
          "ename": "NameError",
          "evalue": "ignored",
          "traceback": [
            "\u001b[0;31m---------------------------------------------------------------------------\u001b[0m",
            "\u001b[0;31mNameError\u001b[0m                                 Traceback (most recent call last)",
            "\u001b[0;32m<ipython-input-28-9a7b3c1e071f>\u001b[0m in \u001b[0;36m<module>\u001b[0;34m()\u001b[0m\n\u001b[1;32m      5\u001b[0m \u001b[0;32mdel\u001b[0m \u001b[0mthislist\u001b[0m\u001b[0;34m\u001b[0m\u001b[0;34m\u001b[0m\u001b[0m\n\u001b[1;32m      6\u001b[0m \u001b[0;34m\u001b[0m\u001b[0m\n\u001b[0;32m----> 7\u001b[0;31m \u001b[0mprint\u001b[0m\u001b[0;34m(\u001b[0m\u001b[0mthislist\u001b[0m\u001b[0;34m)\u001b[0m\u001b[0;34m\u001b[0m\u001b[0;34m\u001b[0m\u001b[0m\n\u001b[0m",
            "\u001b[0;31mNameError\u001b[0m: name 'thislist' is not defined"
          ]
        }
      ]
    },
    {
      "cell_type": "code",
      "metadata": {
        "colab": {
          "base_uri": "https://localhost:8080/"
        },
        "id": "_U6mpJjezv8g",
        "outputId": "8d790ebf-0c89-42c9-d005-eb052d74e11b"
      },
      "source": [
        "#Clear the List\r\n",
        "#The clear() method empties the list.\r\n",
        "\r\n",
        "#The list still remains, but it has no content.\r\n",
        "\r\n",
        "#Clear the list content:\r\n",
        "\r\n",
        "thislist = [\"apple\", \"banana\", \"cherry\"]\r\n",
        "thislist.clear()\r\n",
        "print(thislist)"
      ],
      "execution_count": null,
      "outputs": [
        {
          "output_type": "stream",
          "text": [
            "[]\n"
          ],
          "name": "stdout"
        }
      ]
    },
    {
      "cell_type": "code",
      "metadata": {
        "colab": {
          "base_uri": "https://localhost:8080/"
        },
        "id": "RQ_13ys7eUIu",
        "outputId": "fb057b0b-1c60-440a-8d3e-9fe3a3c8b48f"
      },
      "source": [
        "#Remove all elements from the fruits list:\r\n",
        "\r\n",
        "fruits = ['apple', 'banana', 'cherry', 'orange']\r\n",
        "\r\n",
        "fruits.clear()\r\n",
        "print(fruits)"
      ],
      "execution_count": null,
      "outputs": [
        {
          "output_type": "stream",
          "text": [
            "[]\n"
          ],
          "name": "stdout"
        }
      ]
    },
    {
      "cell_type": "code",
      "metadata": {
        "colab": {
          "base_uri": "https://localhost:8080/"
        },
        "id": "EMlaiOJj2mbf",
        "outputId": "2a9e3170-aac7-4e20-c4eb-853a5c916100"
      },
      "source": [
        "#Loop Lists\r\n",
        "\r\n",
        "#Loop Through a List\r\n",
        "#You can loop through the list items by using a for loop\r\n",
        "\r\n",
        "#Print all items in the list, one by one:\r\n",
        "\r\n",
        "thislist = [\"apple\", \"banana\", \"cherry\"]\r\n",
        "for x in thislist:\r\n",
        "  print(x)"
      ],
      "execution_count": null,
      "outputs": [
        {
          "output_type": "stream",
          "text": [
            "apple\n",
            "banana\n",
            "cherry\n"
          ],
          "name": "stdout"
        }
      ]
    },
    {
      "cell_type": "code",
      "metadata": {
        "colab": {
          "base_uri": "https://localhost:8080/"
        },
        "id": "XSmxpKFK2mlX",
        "outputId": "c4b69600-9f87-46ff-9e97-adad3f982750"
      },
      "source": [
        "#Loop Through the Index Numbers\r\n",
        "#You can also loop through the list items by referring to their index number.\r\n",
        "#Use the range() and len() functions to create a suitable iterable.\r\n",
        "\r\n",
        "#Print all items by referring to their index number:\r\n",
        "\r\n",
        "thislist = [\"apple\", \"banana\", \"cherry\"]\r\n",
        "for i in range(len(thislist)):\r\n",
        "  print(thislist[i])"
      ],
      "execution_count": null,
      "outputs": [
        {
          "output_type": "stream",
          "text": [
            "apple\n",
            "banana\n",
            "cherry\n"
          ],
          "name": "stdout"
        }
      ]
    },
    {
      "cell_type": "code",
      "metadata": {
        "id": "EuxGllRh2mvy"
      },
      "source": [
        "Using a While Loop\r\n",
        "You can loop through the list items by using a while loop.\r\n",
        "\r\n",
        "Use the len() function to determine the length of the list, then start at 0 and loop your way through the list items by refering to their indexes.\r\n",
        "\r\n",
        "Remember to increase the index by 1 after each iteration"
      ],
      "execution_count": null,
      "outputs": []
    },
    {
      "cell_type": "code",
      "metadata": {
        "colab": {
          "base_uri": "https://localhost:8080/"
        },
        "id": "NhOSga_i2m6q",
        "outputId": "c69925a0-2b1f-4ca7-cd08-f2f95469a06b"
      },
      "source": [
        "#Print all items, using a while loop to go through all the index numbers\r\n",
        "thislist = [\"apple\", \"banana\", \"cherry\"]\r\n",
        "i = 0\r\n",
        "while i < len(thislist):\r\n",
        "  print(thislist[i])\r\n",
        "  i = i + 1"
      ],
      "execution_count": null,
      "outputs": [
        {
          "output_type": "stream",
          "text": [
            "apple\n",
            "banana\n",
            "cherry\n"
          ],
          "name": "stdout"
        }
      ]
    },
    {
      "cell_type": "code",
      "metadata": {
        "colab": {
          "base_uri": "https://localhost:8080/"
        },
        "id": "vb8p3ELp2nFa",
        "outputId": "411dd581-2025-47d3-c687-c52dfdab8ac7"
      },
      "source": [
        "#Looping Using List Comprehension\r\n",
        "#List Comprehension offers the shortest syntax for looping through lists\r\n",
        "\r\n",
        "#A short hand for loop that will print all items in a list:\r\n",
        "\r\n",
        "thislist = [\"apple\", \"banana\", \"cherry\"]\r\n",
        "[print(x) for x in thislist]"
      ],
      "execution_count": null,
      "outputs": [
        {
          "output_type": "stream",
          "text": [
            "apple\n",
            "banana\n",
            "cherry\n"
          ],
          "name": "stdout"
        },
        {
          "output_type": "execute_result",
          "data": {
            "text/plain": [
              "[None, None, None]"
            ]
          },
          "metadata": {
            "tags": []
          },
          "execution_count": 34
        }
      ]
    },
    {
      "cell_type": "code",
      "metadata": {
        "colab": {
          "base_uri": "https://localhost:8080/"
        },
        "id": "UJbm_Nod2nUh",
        "outputId": "87c7f01f-1c6f-428a-ad0d-4508fbc9fd90"
      },
      "source": [
        "#List Comprehension\r\n",
        "#List comprehension offers a shorter syntax when you want to create a new list based on the values of an existing list.\r\n",
        "\r\n",
        "##Based on a list of fruits, you want a new list, containing only the fruits with the letter \"a\" in the name.\r\n",
        "#Without list comprehension you will have to write a for statement with a conditional test inside\r\n",
        "fruits = [\"apple\", \"banana\", \"cherry\", \"kiwi\", \"mango\"]\r\n",
        "newlist = []\r\n",
        "\r\n",
        "for x in fruits:\r\n",
        "  if \"a\" in x:\r\n",
        "    newlist.append(x)\r\n",
        "\r\n",
        "print(newlist)"
      ],
      "execution_count": null,
      "outputs": [
        {
          "output_type": "stream",
          "text": [
            "['apple', 'banana', 'mango']\n"
          ],
          "name": "stdout"
        }
      ]
    },
    {
      "cell_type": "code",
      "metadata": {
        "colab": {
          "base_uri": "https://localhost:8080/"
        },
        "id": "zc_J10bT2nkD",
        "outputId": "1cd04ca2-40c5-4194-d6e6-64e7b2318550"
      },
      "source": [
        "#With list comprehension you can do all that with only one line of code:\r\n",
        "\r\n",
        "fruits = [\"apple\", \"banana\", \"cherry\", \"kiwi\", \"mango\"]\r\n",
        "\r\n",
        "newlist = [x for x in fruits if \"a\" in x]\r\n",
        "\r\n",
        "print(newlist)"
      ],
      "execution_count": null,
      "outputs": [
        {
          "output_type": "stream",
          "text": [
            "['apple', 'banana', 'mango']\n"
          ],
          "name": "stdout"
        }
      ]
    },
    {
      "cell_type": "code",
      "metadata": {
        "colab": {
          "base_uri": "https://localhost:8080/"
        },
        "id": "UvIceGIh7bDz",
        "outputId": "8b4b05f2-a715-4b29-e52c-f5fa5e7fff4b"
      },
      "source": [
        "newlist = [x for x in fruits if x != \"apple\"]\r\n",
        "print(newlist)"
      ],
      "execution_count": null,
      "outputs": [
        {
          "output_type": "stream",
          "text": [
            "['banana', 'cherry', 'kiwi', 'mango']\n"
          ],
          "name": "stdout"
        }
      ]
    },
    {
      "cell_type": "code",
      "metadata": {
        "colab": {
          "base_uri": "https://localhost:8080/"
        },
        "id": "EacJkESJ7fhA",
        "outputId": "60474fd5-fa35-4099-e596-0632ddcd3f61"
      },
      "source": [
        "newlist = [x for x in fruits]\r\n",
        "print(newlist)"
      ],
      "execution_count": null,
      "outputs": [
        {
          "output_type": "stream",
          "text": [
            "['apple', 'banana', 'cherry', 'kiwi', 'mango']\n"
          ],
          "name": "stdout"
        }
      ]
    },
    {
      "cell_type": "code",
      "metadata": {
        "colab": {
          "base_uri": "https://localhost:8080/"
        },
        "id": "L_E2hRHi7qeW",
        "outputId": "f77cc5f8-60b0-4a2f-cac0-e8c20ba07a4a"
      },
      "source": [
        "#Iterable\r\n",
        "#The iterable can be any iterable object, like a list, tuple, set etc.\r\n",
        "\r\n",
        "#You can use the range() function to create an iterable:\r\n",
        "newlist = [x for x in range(10)]\r\n",
        "print(newlist)"
      ],
      "execution_count": null,
      "outputs": [
        {
          "output_type": "stream",
          "text": [
            "[0, 1, 2, 3, 4, 5, 6, 7, 8, 9]\n"
          ],
          "name": "stdout"
        }
      ]
    },
    {
      "cell_type": "code",
      "metadata": {
        "colab": {
          "base_uri": "https://localhost:8080/"
        },
        "id": "Ju6IGPfmSZVP",
        "outputId": "7cc2f1cc-2230-4d55-c8b2-f8b55e6279cc"
      },
      "source": [
        "#Accept only numbers lower than 5:\r\n",
        "newlist = [x for x in range(10) if x < 5]\r\n",
        "print(newlist)"
      ],
      "execution_count": null,
      "outputs": [
        {
          "output_type": "stream",
          "text": [
            "[0, 1, 2, 3, 4]\n"
          ],
          "name": "stdout"
        }
      ]
    },
    {
      "cell_type": "code",
      "metadata": {
        "colab": {
          "base_uri": "https://localhost:8080/"
        },
        "id": "jjnh2i8SSiKK",
        "outputId": "82ccd5ed-60e2-4aee-e8f0-1c011e2b500c"
      },
      "source": [
        "#Expression\r\n",
        "#The expression is the current item in the iteration, but it is also the outcome, which you can manipulate before it ends up like a list item in the new list\r\n",
        "\r\n",
        "#Set the values in the new list to upper case:\r\n",
        "\r\n",
        "newlist = [x.upper() for x in fruits]\r\n",
        "print(newlist)"
      ],
      "execution_count": null,
      "outputs": [
        {
          "output_type": "stream",
          "text": [
            "['APPLE', 'BANANA', 'CHERRY', 'KIWI', 'MANGO']\n"
          ],
          "name": "stdout"
        }
      ]
    },
    {
      "cell_type": "code",
      "metadata": {
        "colab": {
          "base_uri": "https://localhost:8080/"
        },
        "id": "61QAcW7RS4lL",
        "outputId": "eeb69ba4-351a-4a52-b242-f336c59b7be5"
      },
      "source": [
        "#Set all values in the new list to 'hello':\r\n",
        "\r\n",
        "newlist = ['hello' for x in fruits]\r\n",
        "print(newlist)"
      ],
      "execution_count": null,
      "outputs": [
        {
          "output_type": "stream",
          "text": [
            "['hello', 'hello', 'hello', 'hello', 'hello']\n"
          ],
          "name": "stdout"
        }
      ]
    },
    {
      "cell_type": "code",
      "metadata": {
        "colab": {
          "base_uri": "https://localhost:8080/"
        },
        "id": "Gku-cVtsS_O3",
        "outputId": "38b05b98-b52e-48f5-ffab-90eafa90ef48"
      },
      "source": [
        "#Return \"orange\" instead of \"banana\":\r\n",
        "\r\n",
        "newlist = [x if x != \"banana\" else \"orange\" for x in fruits]\r\n",
        "print(newlist)"
      ],
      "execution_count": null,
      "outputs": [
        {
          "output_type": "stream",
          "text": [
            "['apple', 'orange', 'cherry', 'kiwi', 'mango']\n"
          ],
          "name": "stdout"
        }
      ]
    },
    {
      "cell_type": "code",
      "metadata": {
        "colab": {
          "base_uri": "https://localhost:8080/"
        },
        "id": "ZkQs-QrlTNty",
        "outputId": "1882839d-c612-465f-d281-5e670929328a"
      },
      "source": [
        "#Sort Lists\r\n",
        "#List objects have a sort() method that will sort the list alphanumerically, ascending, by default\r\n",
        "\r\n",
        "#Sort the list alphabetically:\r\n",
        "\r\n",
        "thislist = [\"orange\", \"mango\", \"kiwi\", \"pineapple\", \"banana\"]\r\n",
        "thislist.sort()\r\n",
        "print(thislist)"
      ],
      "execution_count": null,
      "outputs": [
        {
          "output_type": "stream",
          "text": [
            "['banana', 'kiwi', 'mango', 'orange', 'pineapple']\n"
          ],
          "name": "stdout"
        }
      ]
    },
    {
      "cell_type": "code",
      "metadata": {
        "colab": {
          "base_uri": "https://localhost:8080/"
        },
        "id": "X9rWZUiGj-HF",
        "outputId": "c506b610-7d60-4da7-9723-cb95a7021f82"
      },
      "source": [
        "#Sort the list alphabetically:\r\n",
        "\r\n",
        "cars = ['Ford', 'BMW', 'Volvo']\r\n",
        "\r\n",
        "cars.sort()\r\n",
        "print(cars)"
      ],
      "execution_count": null,
      "outputs": [
        {
          "output_type": "stream",
          "text": [
            "['BMW', 'Ford', 'Volvo']\n"
          ],
          "name": "stdout"
        }
      ]
    },
    {
      "cell_type": "code",
      "metadata": {
        "colab": {
          "base_uri": "https://localhost:8080/"
        },
        "id": "DlmQs93fkHR9",
        "outputId": "ca6ad9f7-1247-4ad5-a30c-0153f0ec4de7"
      },
      "source": [
        "#Sort the list descending:\r\n",
        "\r\n",
        "cars = ['Ford', 'BMW', 'Volvo']\r\n",
        "\r\n",
        "cars.sort(reverse=True)\r\n",
        "print(cars)"
      ],
      "execution_count": null,
      "outputs": [
        {
          "output_type": "stream",
          "text": [
            "['Volvo', 'Ford', 'BMW']\n"
          ],
          "name": "stdout"
        }
      ]
    },
    {
      "cell_type": "code",
      "metadata": {
        "colab": {
          "base_uri": "https://localhost:8080/"
        },
        "id": "D-piNGoUkSOW",
        "outputId": "859d256a-4b92-47a2-f3b0-0343c344d055"
      },
      "source": [
        "#Sort the list by the length of the values:\r\n",
        "\r\n",
        "# A function that returns the length of the value:\r\n",
        "def myFunc(e):\r\n",
        "  return len(e)\r\n",
        "\r\n",
        "cars = ['Ford', 'Mitsubishi', 'BMW', 'VW']\r\n",
        "\r\n",
        "cars.sort(key=myFunc)\r\n",
        "print(cars)"
      ],
      "execution_count": null,
      "outputs": [
        {
          "output_type": "stream",
          "text": [
            "['VW', 'BMW', 'Ford', 'Mitsubishi']\n"
          ],
          "name": "stdout"
        }
      ]
    },
    {
      "cell_type": "code",
      "metadata": {
        "colab": {
          "base_uri": "https://localhost:8080/"
        },
        "id": "p5w_MFPhkYpI",
        "outputId": "d6215e61-7381-43e5-c537-cb751487385e"
      },
      "source": [
        "#Sort a list of dictionaries based on the \"year\" value of the dictionaries:\r\n",
        "\r\n",
        "# A function that returns the 'year' value:\r\n",
        "def myFunc(e):\r\n",
        "  return e['year']\r\n",
        "\r\n",
        "cars = [\r\n",
        "  {'car': 'Ford', 'year': 2005},\r\n",
        "  {'car': 'Mitsubishi', 'year': 2000},\r\n",
        "  {'car': 'BMW', 'year': 2019},\r\n",
        "  {'car': 'VW', 'year': 2011}\r\n",
        "]\r\n",
        "\r\n",
        "cars.sort(key=myFunc)\r\n",
        "print(cars)\r\n"
      ],
      "execution_count": null,
      "outputs": [
        {
          "output_type": "stream",
          "text": [
            "[{'car': 'Mitsubishi', 'year': 2000}, {'car': 'Ford', 'year': 2005}, {'car': 'VW', 'year': 2011}, {'car': 'BMW', 'year': 2019}]\n"
          ],
          "name": "stdout"
        }
      ]
    },
    {
      "cell_type": "code",
      "metadata": {
        "colab": {
          "base_uri": "https://localhost:8080/"
        },
        "id": "BNKIPbXfklO_",
        "outputId": "d1ed00f2-44b0-4c90-b837-7d29aee7db3f"
      },
      "source": [
        "#Sort the list by the length of the values and reversed:\r\n",
        "\r\n",
        "# A function that returns the length of the value:\r\n",
        "def myFunc(e):\r\n",
        "  return len(e)\r\n",
        "\r\n",
        "cars = ['Ford', 'Mitsubishi', 'BMW', 'VW']\r\n",
        "\r\n",
        "cars.sort(reverse=True, key=myFunc)\r\n",
        "print(cars)"
      ],
      "execution_count": null,
      "outputs": [
        {
          "output_type": "stream",
          "text": [
            "['Mitsubishi', 'Ford', 'BMW', 'VW']\n"
          ],
          "name": "stdout"
        }
      ]
    },
    {
      "cell_type": "code",
      "metadata": {
        "colab": {
          "base_uri": "https://localhost:8080/"
        },
        "id": "Doh9JlZ9TVqS",
        "outputId": "a1d1e3a8-d758-47d3-b481-da60aeeae34b"
      },
      "source": [
        "#Sort the list numerically:\r\n",
        "\r\n",
        "thislist = [100, 50, 65, 82, 23]\r\n",
        "thislist.sort()\r\n",
        "print(thislist)"
      ],
      "execution_count": null,
      "outputs": [
        {
          "output_type": "stream",
          "text": [
            "[23, 50, 65, 82, 100]\n"
          ],
          "name": "stdout"
        }
      ]
    },
    {
      "cell_type": "code",
      "metadata": {
        "colab": {
          "base_uri": "https://localhost:8080/"
        },
        "id": "pziuGA9LTaI9",
        "outputId": "6c6ba8f8-0226-4d0d-f4b7-580f7906d47f"
      },
      "source": [
        "#Sort Descending\r\n",
        "#To sort descending, use the keyword argument reverse = True\r\n",
        "#Sort the list descending:\r\n",
        "\r\n",
        "thislist = [\"orange\", \"mango\", \"kiwi\", \"pineapple\", \"banana\"]\r\n",
        "thislist.sort(reverse = True)\r\n",
        "print(thislist)"
      ],
      "execution_count": null,
      "outputs": [
        {
          "output_type": "stream",
          "text": [
            "['pineapple', 'orange', 'mango', 'kiwi', 'banana']\n"
          ],
          "name": "stdout"
        }
      ]
    },
    {
      "cell_type": "code",
      "metadata": {
        "id": "gk4cjqc4jvvB"
      },
      "source": [
        ""
      ],
      "execution_count": null,
      "outputs": []
    },
    {
      "cell_type": "code",
      "metadata": {
        "colab": {
          "base_uri": "https://localhost:8080/"
        },
        "id": "orRBv-mVTje7",
        "outputId": "cd7b9ec9-986c-4b45-bcf4-a0aad35556b9"
      },
      "source": [
        "#Sort the list descending:\r\n",
        "\r\n",
        "thislist = [100, 50, 65, 82, 23]\r\n",
        "thislist.sort(reverse = True)\r\n",
        "print(thislist)"
      ],
      "execution_count": null,
      "outputs": [
        {
          "output_type": "stream",
          "text": [
            "[100, 82, 65, 50, 23]\n"
          ],
          "name": "stdout"
        }
      ]
    },
    {
      "cell_type": "code",
      "metadata": {
        "colab": {
          "base_uri": "https://localhost:8080/"
        },
        "id": "bJ4xhoWfTpVA",
        "outputId": "77c282f1-1fcd-4255-cbac-00726caaf55d"
      },
      "source": [
        "#Customize Sort Function\r\n",
        "#You can also customize your own function by using the keyword argument key = function.\r\n",
        "#The function will return a number that will be used to sort the list (the lowest number first)\r\n",
        "\r\n",
        "\r\n",
        "#Sort the list based on how close the number is to 50:\r\n",
        "def myfunc(n):\r\n",
        "  return abs(n - 50)\r\n",
        "\r\n",
        "thislist = [100, 50, 65, 82, 23]\r\n",
        "thislist.sort(key = myfunc)\r\n",
        "print(thislist)"
      ],
      "execution_count": null,
      "outputs": [
        {
          "output_type": "stream",
          "text": [
            "[50, 65, 23, 82, 100]\n"
          ],
          "name": "stdout"
        }
      ]
    },
    {
      "cell_type": "code",
      "metadata": {
        "colab": {
          "base_uri": "https://localhost:8080/"
        },
        "id": "S5EKyrBuT4n5",
        "outputId": "11c67c2b-d56c-4fda-837f-eca45e7a1edd"
      },
      "source": [
        "#Case Insensitive Sort\r\n",
        "#By default the sort() method is case sensitive, resulting in all capital letters being sorted before lower case letters\r\n",
        "#Case sensitive sorting can give an unexpected result:\r\n",
        "\r\n",
        "thislist = [\"banana\", \"Orange\", \"Kiwi\", \"cherry\"]\r\n",
        "thislist.sort()\r\n",
        "print(thislist)"
      ],
      "execution_count": null,
      "outputs": [
        {
          "output_type": "stream",
          "text": [
            "['Kiwi', 'Orange', 'banana', 'cherry']\n"
          ],
          "name": "stdout"
        }
      ]
    },
    {
      "cell_type": "code",
      "metadata": {
        "colab": {
          "base_uri": "https://localhost:8080/"
        },
        "id": "-oh0H8UeT_mH",
        "outputId": "99df015e-6d90-4ef4-c349-c9ccf6af3484"
      },
      "source": [
        "#Perform a case-insensitive sort of the list:\r\n",
        "\r\n",
        "thislist = [\"banana\", \"Orange\", \"Kiwi\", \"cherry\"]\r\n",
        "thislist.sort(key = str.lower)\r\n",
        "print(thislist)"
      ],
      "execution_count": null,
      "outputs": [
        {
          "output_type": "stream",
          "text": [
            "['banana', 'cherry', 'Kiwi', 'Orange']\n"
          ],
          "name": "stdout"
        }
      ]
    },
    {
      "cell_type": "code",
      "metadata": {
        "colab": {
          "base_uri": "https://localhost:8080/"
        },
        "id": "AWgE4_wuUDcW",
        "outputId": "ced46361-9669-4208-bf30-274d70842afe"
      },
      "source": [
        "#Reverse Order\r\n",
        "#What if you want to reverse the order of a list, regardless of the alphabet?\r\n",
        "\r\n",
        "#The reverse() method reverses the current sorting order of the elements.\r\n",
        "\r\n",
        "#Reverse the order of the list items:\r\n",
        "\r\n",
        "thislist = [\"banana\", \"Orange\", \"Kiwi\", \"cherry\"]\r\n",
        "thislist.reverse()\r\n",
        "print(thislist)"
      ],
      "execution_count": null,
      "outputs": [
        {
          "output_type": "stream",
          "text": [
            "['cherry', 'Kiwi', 'Orange', 'banana']\n"
          ],
          "name": "stdout"
        }
      ]
    },
    {
      "cell_type": "code",
      "metadata": {
        "colab": {
          "base_uri": "https://localhost:8080/"
        },
        "id": "rKTeeDouj0cN",
        "outputId": "ccf2e3aa-2a0f-44f8-9db7-edaaa1dd75de"
      },
      "source": [
        "fruits = ['apple', 'banana', 'cherry']\r\n",
        "\r\n",
        "fruits.reverse()\r\n",
        "\r\n",
        "print(fruits)"
      ],
      "execution_count": null,
      "outputs": [
        {
          "output_type": "stream",
          "text": [
            "['cherry', 'banana', 'apple']\n"
          ],
          "name": "stdout"
        }
      ]
    },
    {
      "cell_type": "code",
      "metadata": {
        "colab": {
          "base_uri": "https://localhost:8080/"
        },
        "id": "Ak5rtUjLUL0f",
        "outputId": "fd8afee6-836d-4312-a33e-55e3230b91a3"
      },
      "source": [
        " #Copy Lists\r\n",
        "# You cannot copy a list simply by typing list2 = list1, because: list2 will only be a reference to list1, and changes made in list1 will automatically also be made in list2.\r\n",
        "#There are ways to make a copy, one way is to use the built-in List method copy().\r\n",
        "\r\n",
        "#Make a copy of a list with the copy() method:\r\n",
        "\r\n",
        "thislist = [\"apple\", \"banana\", \"cherry\"]\r\n",
        "mylist = thislist.copy()\r\n",
        "print(mylist)"
      ],
      "execution_count": null,
      "outputs": [
        {
          "output_type": "stream",
          "text": [
            "['apple', 'banana', 'cherry']\n"
          ],
          "name": "stdout"
        }
      ]
    },
    {
      "cell_type": "code",
      "metadata": {
        "colab": {
          "base_uri": "https://localhost:8080/"
        },
        "id": "JZZjgR2DU49C",
        "outputId": "58ce9df2-4afd-4648-81a3-022fd3bca16e"
      },
      "source": [
        "#Make a copy of a list with the list() method:\r\n",
        "\r\n",
        "thislist = [\"apple\", \"banana\", \"cherry\"]\r\n",
        "mylist = list(thislist)\r\n",
        "print(mylist)"
      ],
      "execution_count": null,
      "outputs": [
        {
          "output_type": "stream",
          "text": [
            "['apple', 'banana', 'cherry']\n"
          ],
          "name": "stdout"
        }
      ]
    },
    {
      "cell_type": "code",
      "metadata": {
        "colab": {
          "base_uri": "https://localhost:8080/"
        },
        "id": "kdwVzwA0epGy",
        "outputId": "86d4692e-c44d-4c75-d4af-af08e300dbd6"
      },
      "source": [
        "fruits = [\"apple\", \"banana\", \"cherry\"]\r\n",
        "\r\n",
        "x = fruits.copy()\r\n",
        "\r\n",
        "print(x)"
      ],
      "execution_count": null,
      "outputs": [
        {
          "output_type": "stream",
          "text": [
            "['apple', 'banana', 'cherry']\n"
          ],
          "name": "stdout"
        }
      ]
    },
    {
      "cell_type": "code",
      "metadata": {
        "colab": {
          "base_uri": "https://localhost:8080/"
        },
        "id": "cmVksUMOU-fD",
        "outputId": "cddffe52-750a-4f63-c009-9fbc9f6c61d3"
      },
      "source": [
        "#Join Lists\r\n",
        "#Join Two Lists\r\n",
        "#There are several ways to join, or concatenate, two or more lists in Python.\r\n",
        "#One of the easiest ways are by using the + operator.\r\n",
        "\r\n",
        "#Join two list:\r\n",
        "\r\n",
        "list1 = [\"a\", \"b\", \"c\"]\r\n",
        "list2 = [1, 2, 3]\r\n",
        "\r\n",
        "list3 = list1 + list2\r\n",
        "print(list3)"
      ],
      "execution_count": null,
      "outputs": [
        {
          "output_type": "stream",
          "text": [
            "['a', 'b', 'c', 1, 2, 3]\n"
          ],
          "name": "stdout"
        }
      ]
    },
    {
      "cell_type": "code",
      "metadata": {
        "colab": {
          "base_uri": "https://localhost:8080/"
        },
        "id": "VGbcpXbEVJ-r",
        "outputId": "1e44487d-eb4e-4fa9-e393-38bb95ffbcc8"
      },
      "source": [
        "#Another way to join two lists are by appending all the items from list2 into list1, one by one:\r\n",
        "list1 = [\"a\", \"b\" , \"c\"]\r\n",
        "list2 = [1, 2, 3]\r\n",
        "\r\n",
        "for x in list2:\r\n",
        "  list1.append(x)\r\n",
        "\r\n",
        "print(list1)"
      ],
      "execution_count": null,
      "outputs": [
        {
          "output_type": "stream",
          "text": [
            "['a', 'b', 'c', 1, 2, 3]\n"
          ],
          "name": "stdout"
        }
      ]
    },
    {
      "cell_type": "code",
      "metadata": {
        "colab": {
          "base_uri": "https://localhost:8080/"
        },
        "id": "4WHhjKtsU-uQ",
        "outputId": "9db10113-252a-41e3-b5f5-735a0b25d63d"
      },
      "source": [
        "#use the extend() method, which purpose is to add elements from one list to another list\r\n",
        "#extend() method to add list2 at the end of list1\r\n",
        "list1 = [\"a\", \"b\" , \"c\"]\r\n",
        "list2 = [1, 2, 3]\r\n",
        "\r\n",
        "list1.extend(list2)\r\n",
        "print(list1)"
      ],
      "execution_count": null,
      "outputs": [
        {
          "output_type": "stream",
          "text": [
            "['a', 'b', 'c', 1, 2, 3]\n"
          ],
          "name": "stdout"
        }
      ]
    },
    {
      "cell_type": "code",
      "metadata": {
        "colab": {
          "base_uri": "https://localhost:8080/"
        },
        "id": "BfWUHppdbJLR",
        "outputId": "0f5fa9c7-7ec9-4563-c14f-6968d6603f3c"
      },
      "source": [
        "#count() Method\r\n",
        "#Return the number of times the value \"cherry\" appears in the fruits list:\r\n",
        "\r\n",
        "fruits = ['apple', 'banana', 'cherry']\r\n",
        "\r\n",
        "x = fruits.count(\"cherry\")\r\n",
        "print(x)"
      ],
      "execution_count": null,
      "outputs": [
        {
          "output_type": "stream",
          "text": [
            "1\n"
          ],
          "name": "stdout"
        }
      ]
    },
    {
      "cell_type": "code",
      "metadata": {
        "colab": {
          "base_uri": "https://localhost:8080/"
        },
        "id": "gcEy5FvLbkKy",
        "outputId": "48c22db4-67de-4071-b602-dc245f0b2416"
      },
      "source": [
        "#Return the number of times the value 9 appears int the list:\r\n",
        "\r\n",
        "points = [1, 4, 2, 9, 7, 8, 9, 3, 1]\r\n",
        "\r\n",
        "x = points.count(9)\r\n",
        "print(x)"
      ],
      "execution_count": null,
      "outputs": [
        {
          "output_type": "stream",
          "text": [
            "2\n"
          ],
          "name": "stdout"
        }
      ]
    },
    {
      "cell_type": "code",
      "metadata": {
        "id": "eSP3vdPAU-9p"
      },
      "source": [
        "List Methods\r\n",
        "Python has a set of built-in methods that you can use on lists.\r\n",
        "\r\n",
        "Method\tDescription\r\n",
        "append()\tAdds an element at the end of the list\r\n",
        "clear()\tRemoves all the elements from the list\r\n",
        "copy()\tReturns a copy of the list\r\n",
        "count()\tReturns the number of elements with the specified value\r\n",
        "extend()\tAdd the elements of a list (or any iterable), to the end of the current list\r\n",
        "index()\tReturns the index of the first element with the specified value\r\n",
        "insert()\tAdds an element at the specified position\r\n",
        "pop()\tRemoves the element at the specified position\r\n",
        "remove()\tRemoves the item with the specified value\r\n",
        "reverse()\tReverses the order of the list\r\n",
        "sort()\tSorts the list"
      ],
      "execution_count": null,
      "outputs": []
    }
  ]
}