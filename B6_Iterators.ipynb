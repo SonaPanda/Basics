{
  "nbformat": 4,
  "nbformat_minor": 0,
  "metadata": {
    "colab": {
      "name": "B6-Iterators.ipynb",
      "provenance": []
    },
    "kernelspec": {
      "name": "python3",
      "display_name": "Python 3"
    }
  },
  "cells": [
    {
      "cell_type": "code",
      "metadata": {
        "id": "8YTVsLeCZYuj"
      },
      "source": [
        "Python Iterators\r\n",
        "An iterator is an object that contains a countable number of values.\r\n",
        "\r\n",
        "An iterator is an object that can be iterated upon, meaning that you can traverse through all the values.\r\n",
        "\r\n",
        "Technically, in Python, an iterator is an object which implements the iterator protocol, which consist of the methods __iter__() and __next__()"
      ],
      "execution_count": null,
      "outputs": []
    },
    {
      "cell_type": "code",
      "metadata": {
        "id": "2kfPdtu_bOQ4"
      },
      "source": [
        "Iterator vs Iterable\r\n",
        "Lists, tuples, dictionaries, and sets are all iterable objects. They are iterable containers which you can get an iterator from.\r\n",
        "\r\n",
        "All these objects have a iter() method which is used to get an iterator"
      ],
      "execution_count": null,
      "outputs": []
    },
    {
      "cell_type": "code",
      "metadata": {
        "colab": {
          "base_uri": "https://localhost:8080/"
        },
        "id": "4yqG91DHbduq",
        "outputId": "2a5b155e-fb3a-4516-8f6f-ee6f6f576a82"
      },
      "source": [
        "#Return an iterator from a tuple, and print each value:\r\n",
        "\r\n",
        "mytuple = (\"apple\", \"banana\", \"cherry\")\r\n",
        "myit = iter(mytuple)\r\n",
        "\r\n",
        "print(next(myit))\r\n",
        "print(next(myit))\r\n",
        "print(next(myit))"
      ],
      "execution_count": 1,
      "outputs": [
        {
          "output_type": "stream",
          "text": [
            "apple\n",
            "banana\n",
            "cherry\n"
          ],
          "name": "stdout"
        }
      ]
    },
    {
      "cell_type": "code",
      "metadata": {
        "colab": {
          "base_uri": "https://localhost:8080/"
        },
        "id": "imiOc--4bjjW",
        "outputId": "ff689c6c-a421-4d2f-9227-d57270d62cf4"
      },
      "source": [
        "#Even strings are iterable objects, and can return an iterator\r\n",
        "\r\n",
        "#Strings are also iterable objects, containing a sequence of characters:\r\n",
        "\r\n",
        "mystr = \"banana\"\r\n",
        "myit = iter(mystr)\r\n",
        "\r\n",
        "print(next(myit))\r\n",
        "print(next(myit))\r\n",
        "print(next(myit))\r\n",
        "print(next(myit))\r\n",
        "print(next(myit))\r\n",
        "print(next(myit))"
      ],
      "execution_count": 2,
      "outputs": [
        {
          "output_type": "stream",
          "text": [
            "b\n",
            "a\n",
            "n\n",
            "a\n",
            "n\n",
            "a\n"
          ],
          "name": "stdout"
        }
      ]
    },
    {
      "cell_type": "code",
      "metadata": {
        "colab": {
          "base_uri": "https://localhost:8080/"
        },
        "id": "FsJVobUybjw7",
        "outputId": "3c8f31d6-635b-44fa-9cab-c569a78c529a"
      },
      "source": [
        "#Looping Through an Iterator\r\n",
        "#We can also use a for loop to iterate through an iterable object:\r\n",
        "#Iterate the values of a tuple:\r\n",
        "\r\n",
        "mytuple = (\"apple\", \"banana\", \"cherry\")\r\n",
        "\r\n",
        "for x in mytuple:\r\n",
        "  print(x)"
      ],
      "execution_count": 3,
      "outputs": [
        {
          "output_type": "stream",
          "text": [
            "apple\n",
            "banana\n",
            "cherry\n"
          ],
          "name": "stdout"
        }
      ]
    },
    {
      "cell_type": "code",
      "metadata": {
        "colab": {
          "base_uri": "https://localhost:8080/"
        },
        "id": "3tksGBOecDO-",
        "outputId": "1f779c7f-01d9-445f-9a34-202879e6eb61"
      },
      "source": [
        "#Iterate the characters of a string:\r\n",
        "\r\n",
        "mystr = \"banana\"\r\n",
        "\r\n",
        "for x in mystr:\r\n",
        "  print(x)"
      ],
      "execution_count": 4,
      "outputs": [
        {
          "output_type": "stream",
          "text": [
            "b\n",
            "a\n",
            "n\n",
            "a\n",
            "n\n",
            "a\n"
          ],
          "name": "stdout"
        }
      ]
    },
    {
      "cell_type": "code",
      "metadata": {
        "id": "3tltkLmFbj-f"
      },
      "source": [
        "#The for loop actually creates an iterator object and executes the next() method for each loop."
      ],
      "execution_count": null,
      "outputs": []
    },
    {
      "cell_type": "code",
      "metadata": {
        "id": "KcXwL8TvcH_F"
      },
      "source": [
        "Create an Iterator\r\n",
        "To create an object/class as an iterator you have to implement the methods __iter__() and __next__() to your object.\r\n",
        "\r\n",
        "As you have learned in the Python Classes/Objects chapter, all classes have a function called __init__(), which allows you to do some initializing when the object is being created.\r\n",
        "\r\n",
        "The __iter__() method acts similar, you can do operations (initializing etc.), but must always return the iterator object itself.\r\n",
        "\r\n",
        "The __next__() method also allows you to do operations, and must return the next item in the sequence."
      ],
      "execution_count": null,
      "outputs": []
    },
    {
      "cell_type": "code",
      "metadata": {
        "colab": {
          "base_uri": "https://localhost:8080/"
        },
        "id": "osrMWiLYcNNI",
        "outputId": "c567caf4-3f08-40a0-9000-f15a6d55fd14"
      },
      "source": [
        "#Create an iterator that returns numbers, starting with 1, and each sequence will increase by one (returning 1,2,3,4,5 etc.):\r\n",
        "\r\n",
        "class MyNumbers:\r\n",
        "  def __iter__(self):\r\n",
        "    self.a = 1\r\n",
        "    return self\r\n",
        "\r\n",
        "  def __next__(self):\r\n",
        "    x = self.a\r\n",
        "    self.a += 1\r\n",
        "    return x\r\n",
        "\r\n",
        "myclass = MyNumbers()\r\n",
        "myiter = iter(myclass)\r\n",
        "\r\n",
        "print(next(myiter))\r\n",
        "print(next(myiter))\r\n",
        "print(next(myiter))\r\n",
        "print(next(myiter))\r\n",
        "print(next(myiter))"
      ],
      "execution_count": 6,
      "outputs": [
        {
          "output_type": "stream",
          "text": [
            "1\n",
            "2\n",
            "3\n",
            "4\n",
            "5\n"
          ],
          "name": "stdout"
        }
      ]
    },
    {
      "cell_type": "code",
      "metadata": {
        "id": "0WGOa4pVcek2"
      },
      "source": [
        "StopIteration\r\n",
        "The example above would continue forever if you had enough next() statements, or if it was used in a for loop.\r\n",
        "\r\n",
        "To prevent the iteration to go on forever, we can use the StopIteration statement.\r\n",
        "\r\n",
        "In the __next__() method, we can add a terminating condition to raise an error if the iteration is done a specified number of times"
      ],
      "execution_count": null,
      "outputs": []
    },
    {
      "cell_type": "code",
      "metadata": {
        "colab": {
          "base_uri": "https://localhost:8080/"
        },
        "id": "fVpkS1sacfNB",
        "outputId": "1a2e4293-84f5-4f60-9f8c-ad01967a7396"
      },
      "source": [
        "#Stop after 20 iterations:\r\n",
        "\r\n",
        "class MyNumbers:\r\n",
        "  def __iter__(self):\r\n",
        "    self.a = 1\r\n",
        "    return self\r\n",
        "\r\n",
        "  def __next__(self):\r\n",
        "    if self.a <= 20:\r\n",
        "      x = self.a\r\n",
        "      self.a += 1\r\n",
        "      return x\r\n",
        "    else:\r\n",
        "      raise StopIteration\r\n",
        "\r\n",
        "myclass = MyNumbers()\r\n",
        "myiter = iter(myclass)\r\n",
        "\r\n",
        "for x in myiter:\r\n",
        "  print(x)"
      ],
      "execution_count": 7,
      "outputs": [
        {
          "output_type": "stream",
          "text": [
            "1\n",
            "2\n",
            "3\n",
            "4\n",
            "5\n",
            "6\n",
            "7\n",
            "8\n",
            "9\n",
            "10\n",
            "11\n",
            "12\n",
            "13\n",
            "14\n",
            "15\n",
            "16\n",
            "17\n",
            "18\n",
            "19\n",
            "20\n"
          ],
          "name": "stdout"
        }
      ]
    }
  ]
}