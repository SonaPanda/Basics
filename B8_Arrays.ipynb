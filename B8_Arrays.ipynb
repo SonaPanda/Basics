{
  "nbformat": 4,
  "nbformat_minor": 0,
  "metadata": {
    "colab": {
      "name": "B8-Arrays.ipynb",
      "provenance": [],
      "collapsed_sections": []
    },
    "kernelspec": {
      "name": "python3",
      "display_name": "Python 3"
    }
  },
  "cells": [
    {
      "cell_type": "code",
      "metadata": {
        "id": "GQpnplkM7OEm"
      },
      "source": [
        "Arrays are used to store multiple values in one single variable"
      ],
      "execution_count": null,
      "outputs": []
    },
    {
      "cell_type": "code",
      "metadata": {
        "colab": {
          "base_uri": "https://localhost:8080/"
        },
        "id": "rCRgxM-WTOTa",
        "outputId": "bab5baa2-e594-47a4-ca66-a4a6d10da4af"
      },
      "source": [
        "#Create an array containing car names:\r\n",
        "\r\n",
        "cars = [\"Ford\", \"Volvo\", \"BMW\"]\r\n",
        "print(cars)"
      ],
      "execution_count": 1,
      "outputs": [
        {
          "output_type": "stream",
          "text": [
            "['Ford', 'Volvo', 'BMW']\n"
          ],
          "name": "stdout"
        }
      ]
    },
    {
      "cell_type": "code",
      "metadata": {
        "colab": {
          "base_uri": "https://localhost:8080/"
        },
        "id": "FnCaZRoMTYPu",
        "outputId": "9e7fe387-7256-4ce7-efc2-50518f35609e"
      },
      "source": [
        "#Access the Elements of an Array\r\n",
        "#Get the value of the first array item:\r\n",
        "\r\n",
        "x = cars[0]\r\n",
        "print(x)"
      ],
      "execution_count": 2,
      "outputs": [
        {
          "output_type": "stream",
          "text": [
            "Ford\n"
          ],
          "name": "stdout"
        }
      ]
    },
    {
      "cell_type": "code",
      "metadata": {
        "colab": {
          "base_uri": "https://localhost:8080/"
        },
        "id": "cSWG5it8Uvgk",
        "outputId": "5b76486b-928e-463b-ea84-69213f904de6"
      },
      "source": [
        "#Modify the value of the first array item:\r\n",
        "\r\n",
        "cars[0] = \"Toyota\"\r\n",
        "print(cars)"
      ],
      "execution_count": 4,
      "outputs": [
        {
          "output_type": "stream",
          "text": [
            "['Toyota', 'Volvo', 'BMW']\n"
          ],
          "name": "stdout"
        }
      ]
    },
    {
      "cell_type": "code",
      "metadata": {
        "colab": {
          "base_uri": "https://localhost:8080/"
        },
        "id": "04vQe04EU5za",
        "outputId": "af8e4025-369c-41fd-c072-4ab6b5b54f25"
      },
      "source": [
        "#The Length of an Array\r\n",
        "#Use the len() method to return the length of an array (the number of elements in an array).\r\n",
        "#Return the number of elements in the cars array:\r\n",
        "\r\n",
        "x = len(cars)\r\n",
        "print(x)"
      ],
      "execution_count": 5,
      "outputs": [
        {
          "output_type": "stream",
          "text": [
            "3\n"
          ],
          "name": "stdout"
        }
      ]
    },
    {
      "cell_type": "code",
      "metadata": {
        "colab": {
          "base_uri": "https://localhost:8080/"
        },
        "id": "aGpIKH2VVE9w",
        "outputId": "3a98c7eb-11a0-4914-d6cc-1ad2219a94b1"
      },
      "source": [
        "#Looping Array Elements\r\n",
        "#You can use the for in loop to loop through all the elements of an array.\r\n",
        "#Print each item in the cars array:\r\n",
        "\r\n",
        "for x in cars:\r\n",
        "  print(x)"
      ],
      "execution_count": 6,
      "outputs": [
        {
          "output_type": "stream",
          "text": [
            "Toyota\n",
            "Volvo\n",
            "BMW\n"
          ],
          "name": "stdout"
        }
      ]
    },
    {
      "cell_type": "code",
      "metadata": {
        "colab": {
          "base_uri": "https://localhost:8080/"
        },
        "id": "8mKhcQLkVMT8",
        "outputId": "71623c3c-48f6-4e03-97a1-7c9a3b79b8db"
      },
      "source": [
        "#Adding Array Elements\r\n",
        "#You can use the append() method to add an element to an array\r\n",
        "#Add one more element to the cars array:\r\n",
        "\r\n",
        "cars.append(\"Honda\")\r\n",
        "print(cars)"
      ],
      "execution_count": 7,
      "outputs": [
        {
          "output_type": "stream",
          "text": [
            "['Toyota', 'Volvo', 'BMW', 'Honda']\n"
          ],
          "name": "stdout"
        }
      ]
    },
    {
      "cell_type": "code",
      "metadata": {
        "colab": {
          "base_uri": "https://localhost:8080/"
        },
        "id": "6IVJ7hvBXtCL",
        "outputId": "6b5c47d7-894a-44c0-8252-0d46dd00c26c"
      },
      "source": [
        "#Add an element to the fruits list\r\n",
        "fruits = [\"apple\", \"banana\", \"cherry\"]\r\n",
        "\r\n",
        "fruits.append(\"orange\")\r\n",
        "\r\n",
        "print(fruits)"
      ],
      "execution_count": 11,
      "outputs": [
        {
          "output_type": "stream",
          "text": [
            "['apple', 'banana', 'cherry', 'orange']\n"
          ],
          "name": "stdout"
        }
      ]
    },
    {
      "cell_type": "code",
      "metadata": {
        "id": "e67Khu2kY3H_"
      },
      "source": [
        "#Add a list to a list:\r\n",
        "\r\n",
        "a = [\"apple\", \"banana\", \"cherry\"]\r\n",
        "b = [\"Ford\", \"BMW\", \"Volvo\"]\r\n",
        "a.append(b)"
      ],
      "execution_count": 12,
      "outputs": []
    },
    {
      "cell_type": "code",
      "metadata": {
        "colab": {
          "base_uri": "https://localhost:8080/"
        },
        "id": "E0UAJq4DVaho",
        "outputId": "62fc1df7-3653-4e54-df5b-1696f3282c9a"
      },
      "source": [
        "#Removing Array Elements\r\n",
        "#You can use the pop() method to remove an element from the array.\r\n",
        "#Delete the second element of the cars array:\r\n",
        "\r\n",
        "cars.pop(1)\r\n",
        "print(cars)"
      ],
      "execution_count": 8,
      "outputs": [
        {
          "output_type": "stream",
          "text": [
            "['Toyota', 'BMW', 'Honda']\n"
          ],
          "name": "stdout"
        }
      ]
    },
    {
      "cell_type": "code",
      "metadata": {
        "colab": {
          "base_uri": "https://localhost:8080/"
        },
        "id": "Bkm2plDaVju0",
        "outputId": "75ea3f17-837f-46be-f58a-1bf5498d7b04"
      },
      "source": [
        "#use the remove() method to remove an element from the array.\r\n",
        "#Delete the element that has the value \"Volvo\":\r\n",
        "\r\n",
        "cars.remove(\"Honda\")\r\n",
        "print(cars)\r\n",
        "#The list's remove() method only removes the first occurrence of the specified value."
      ],
      "execution_count": 10,
      "outputs": [
        {
          "output_type": "stream",
          "text": [
            "['Toyota', 'BMW']\n"
          ],
          "name": "stdout"
        }
      ]
    }
  ]
}