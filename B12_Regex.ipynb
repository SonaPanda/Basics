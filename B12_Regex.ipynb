{
  "nbformat": 4,
  "nbformat_minor": 0,
  "metadata": {
    "colab": {
      "name": "B12_Regex.ipynb",
      "provenance": [],
      "collapsed_sections": []
    },
    "kernelspec": {
      "name": "python3",
      "display_name": "Python 3"
    }
  },
  "cells": [
    {
      "cell_type": "code",
      "metadata": {
        "id": "18iohaWL14I9"
      },
      "source": [
        "A RegEx, or Regular Expression, is a sequence of characters that forms a search pattern.\r\n",
        "\r\n",
        "RegEx can be used to check if a string contains the specified search pattern."
      ],
      "execution_count": null,
      "outputs": []
    },
    {
      "cell_type": "code",
      "metadata": {
        "id": "qVgqjZ0KpOzJ"
      },
      "source": [
        "RegEx Module\r\n",
        "Python has a built-in package called re, which can be used to work with Regular Expressions."
      ],
      "execution_count": null,
      "outputs": []
    },
    {
      "cell_type": "code",
      "metadata": {
        "id": "mICp76MWpRT6"
      },
      "source": [
        "#Import the re module:\r\n",
        "import re"
      ],
      "execution_count": null,
      "outputs": []
    },
    {
      "cell_type": "code",
      "metadata": {
        "id": "HJi4z98OpWY5"
      },
      "source": [
        "#RegEx in Python\r\n",
        "#When you have imported the re module, you can start using regular expressions\r\n",
        "\r\n",
        "These methods include:\r\n",
        "\r\n",
        "re.match()\r\n",
        "re.search()\r\n",
        "re.findall()\r\n",
        "re.split()\r\n",
        "re.sub()\r\n",
        "re.compile()"
      ],
      "execution_count": null,
      "outputs": []
    },
    {
      "cell_type": "code",
      "metadata": {
        "colab": {
          "base_uri": "https://localhost:8080/"
        },
        "id": "uPd32EB06O1j",
        "outputId": "f1e6d0d5-8257-4b50-80bc-93f6ce610566"
      },
      "source": [
        "#re.match(pattern, string, flags=0)\r\n",
        "#This expression is used to match a character or set of characters at the beginning of a string. \r\n",
        "#It's also important to note that this expression will only match at the beginning of the string and not at the beginning of each line if the given string has multiple lines.\r\n",
        "\r\n",
        "import re\r\n",
        "result = re.match(r'Python', 'It\\'s  easy to learn Python. Python also has elegant syntax')\r\n",
        "\r\n",
        "print(result)"
      ],
      "execution_count": null,
      "outputs": [
        {
          "output_type": "stream",
          "text": [
            "None\n"
          ],
          "name": "stdout"
        }
      ]
    },
    {
      "cell_type": "code",
      "metadata": {
        "colab": {
          "base_uri": "https://localhost:8080/"
        },
        "id": "iUKdroBb600Y",
        "outputId": "a84f038c-178e-4bac-951e-b2cd90b71181"
      },
      "source": [
        "#re.search(pattern, string)\r\n",
        "#This module will checks for a match anywhere in the given string and will return the results if found, and None if not found.\r\n",
        "import re\r\n",
        "\r\n",
        "if re.search(\"puppy\", \"Daisy found a puppy.\"):\r\n",
        "    print(\"Puppy found\")\r\n",
        "else:\r\n",
        "    print(\"No puppy\")"
      ],
      "execution_count": null,
      "outputs": [
        {
          "output_type": "stream",
          "text": [
            "Puppy found\n"
          ],
          "name": "stdout"
        }
      ]
    },
    {
      "cell_type": "code",
      "metadata": {
        "colab": {
          "base_uri": "https://localhost:8080/"
        },
        "id": "_VV0OWY7j3fT",
        "outputId": "458395d2-6ea5-42e3-fa9f-d64947914bf1"
      },
      "source": [
        "#Do a search that will return a Match Object:\r\n",
        "\r\n",
        "import re\r\n",
        "\r\n",
        "txt = \"The rain in Spain\"\r\n",
        "x = re.search(\"ai\", txt)\r\n",
        "print(x) #this will print an object"
      ],
      "execution_count": 30,
      "outputs": [
        {
          "output_type": "stream",
          "text": [
            "<_sre.SRE_Match object; span=(5, 7), match='ai'>\n"
          ],
          "name": "stdout"
        }
      ]
    },
    {
      "cell_type": "code",
      "metadata": {
        "colab": {
          "base_uri": "https://localhost:8080/"
        },
        "id": "vSD0V3tbjQNd",
        "outputId": "dc619fda-f050-47a9-b710-518ca0c5307b"
      },
      "source": [
        "#Search for the first white-space character in the string:\r\n",
        "\r\n",
        "import re\r\n",
        "\r\n",
        "txt = \"The rain in Spain\"\r\n",
        "x = re.search(\"\\s\", txt)\r\n",
        "\r\n",
        "print(\"The first white-space character is located in position:\", x.start())"
      ],
      "execution_count": 24,
      "outputs": [
        {
          "output_type": "stream",
          "text": [
            "The first white-space character is located in position: 3\n"
          ],
          "name": "stdout"
        }
      ]
    },
    {
      "cell_type": "code",
      "metadata": {
        "colab": {
          "base_uri": "https://localhost:8080/"
        },
        "id": "JhJlOiCZjYXG",
        "outputId": "a7450e83-a7b3-4d11-baec-5f6a884a9f07"
      },
      "source": [
        "#Make a search that returns no match:\r\n",
        "\r\n",
        "import re\r\n",
        "\r\n",
        "txt = \"The rain in Spain\"\r\n",
        "x = re.search(\"Portugal\", txt)\r\n",
        "print(x)"
      ],
      "execution_count": 25,
      "outputs": [
        {
          "output_type": "stream",
          "text": [
            "None\n"
          ],
          "name": "stdout"
        }
      ]
    },
    {
      "cell_type": "code",
      "metadata": {
        "id": "rgu2SLlUkQ-Z"
      },
      "source": [
        "The Match object has properties and methods used to retrieve information about the search, and the result:\r\n",
        "\r\n",
        ".span() returns a tuple containing the start-, and end positions of the match.\r\n",
        ".string returns the string passed into the function\r\n",
        ".group() returns the part of the string where there was a match"
      ],
      "execution_count": null,
      "outputs": []
    },
    {
      "cell_type": "code",
      "metadata": {
        "colab": {
          "base_uri": "https://localhost:8080/"
        },
        "id": "qyltjFwxkRZ9",
        "outputId": "c759eb35-5115-47cd-baeb-55a2a5d6b279"
      },
      "source": [
        "#Print the position (start- and end-position) of the first match occurrence.\r\n",
        "\r\n",
        "#The regular expression looks for any words that starts with an upper case \"S\":\r\n",
        "\r\n",
        "import re\r\n",
        "\r\n",
        "txt = \"The rain in Spain\"\r\n",
        "x = re.search(r\"\\bS\\w+\", txt)\r\n",
        "print(x.span())"
      ],
      "execution_count": 31,
      "outputs": [
        {
          "output_type": "stream",
          "text": [
            "(12, 17)\n"
          ],
          "name": "stdout"
        }
      ]
    },
    {
      "cell_type": "code",
      "metadata": {
        "colab": {
          "base_uri": "https://localhost:8080/"
        },
        "id": "vwG3-NrnkX3G",
        "outputId": "79fe3946-b311-4b3f-f5da-bf6f6d48e8fe"
      },
      "source": [
        "#Print the string passed into the function:\r\n",
        "\r\n",
        "import re\r\n",
        "\r\n",
        "txt = \"The rain in Spain\"\r\n",
        "x = re.search(r\"\\bS\\w+\", txt)\r\n",
        "print(x.string)"
      ],
      "execution_count": 32,
      "outputs": [
        {
          "output_type": "stream",
          "text": [
            "The rain in Spain\n"
          ],
          "name": "stdout"
        }
      ]
    },
    {
      "cell_type": "code",
      "metadata": {
        "colab": {
          "base_uri": "https://localhost:8080/"
        },
        "id": "P-0k5Yw0kbeS",
        "outputId": "24e8fe5c-5d08-4fc4-8910-2ccfc7627c61"
      },
      "source": [
        "#Print the part of the string where there was a match.\r\n",
        "\r\n",
        "#The regular expression looks for any words that starts with an upper case \"S\":\r\n",
        "\r\n",
        "import re\r\n",
        "\r\n",
        "txt = \"The rain in Spain\"\r\n",
        "x = re.search(r\"\\bS\\w+\", txt)\r\n",
        "print(x.group())"
      ],
      "execution_count": 33,
      "outputs": [
        {
          "output_type": "stream",
          "text": [
            "Spain\n"
          ],
          "name": "stdout"
        }
      ]
    },
    {
      "cell_type": "code",
      "metadata": {
        "colab": {
          "base_uri": "https://localhost:8080/"
        },
        "id": "MHUNm_oi8KVJ",
        "outputId": "c837a0c6-cc79-4fc9-d065-0d8ceb282b4b"
      },
      "source": [
        "#re.compile(pattern, flags=0)\r\n",
        "#This method is used to compile a regular expression pattern into a regular expression object, which can be used for matching using its match() and search() methods\r\n",
        "import re\r\n",
        "\r\n",
        "pattern = re.compile('Python')\r\n",
        "result = pattern.findall('Pythonistas are programmers that use Python, which is an easy-to-learn and powerful language.')\r\n",
        "\r\n",
        "print(result)\r\n",
        "\r\n",
        "find = pattern.findall('Python is easy to learn')\r\n",
        "\r\n",
        "print(find)"
      ],
      "execution_count": null,
      "outputs": [
        {
          "output_type": "stream",
          "text": [
            "['Python', 'Python']\n",
            "['Python']\n"
          ],
          "name": "stdout"
        }
      ]
    },
    {
      "cell_type": "code",
      "metadata": {
        "colab": {
          "base_uri": "https://localhost:8080/"
        },
        "id": "3TODJiF28fiz",
        "outputId": "58e3c435-bc08-4346-8389-ab2bd6d83f13"
      },
      "source": [
        "#re.sub(pattern, repl, string)\r\n",
        "#expression is used to search and substitute for a new string if the pattern occurs.\r\n",
        "import re\r\n",
        "result = re.sub(r'python', 'ruby', 'python is a very easy language')\r\n",
        "\r\n",
        "print(result)"
      ],
      "execution_count": null,
      "outputs": [
        {
          "output_type": "stream",
          "text": [
            "ruby is a very easy language\n"
          ],
          "name": "stdout"
        }
      ]
    },
    {
      "cell_type": "code",
      "metadata": {
        "colab": {
          "base_uri": "https://localhost:8080/"
        },
        "id": "eskvbmytjrPN",
        "outputId": "24726d35-685e-4641-dc94-81b32f3444a7"
      },
      "source": [
        "#Replace every white-space character with the number 9:\r\n",
        "\r\n",
        "import re\r\n",
        "\r\n",
        "txt = \"The rain in Spain\"\r\n",
        "x = re.sub(\"\\s\", \"9\", txt)\r\n",
        "print(x)"
      ],
      "execution_count": 28,
      "outputs": [
        {
          "output_type": "stream",
          "text": [
            "The9rain9in9Spain\n"
          ],
          "name": "stdout"
        }
      ]
    },
    {
      "cell_type": "code",
      "metadata": {
        "colab": {
          "base_uri": "https://localhost:8080/"
        },
        "id": "3YXg7V0ejwjL",
        "outputId": "765046b0-e790-40ff-91d8-f964d88431f7"
      },
      "source": [
        "#Replace the first 2 occurrences:\r\n",
        "\r\n",
        "import re\r\n",
        "\r\n",
        "txt = \"The rain in Spain\"\r\n",
        "x = re.sub(\"\\s\", \"9\", txt, 2)\r\n",
        "print(x)"
      ],
      "execution_count": 29,
      "outputs": [
        {
          "output_type": "stream",
          "text": [
            "The9rain9in Spain\n"
          ],
          "name": "stdout"
        }
      ]
    },
    {
      "cell_type": "code",
      "metadata": {
        "colab": {
          "base_uri": "https://localhost:8080/"
        },
        "id": "8diT5Cnb8gHj",
        "outputId": "3ca39853-b8ef-47a9-d474-4290dd742fb8"
      },
      "source": [
        "#re.findall(pattern, string)\r\n",
        "#this method finds and retrieves a list of all occurrences in the given string. It combines both the functions and properties of re.search() and re.match()\r\n",
        "import re\r\n",
        "\r\n",
        "result = re.findall(r'Python', 'Python is an easy to learn, powerful programming language. Python also has elegant syntax')\r\n",
        "print(result)"
      ],
      "execution_count": null,
      "outputs": [
        {
          "output_type": "stream",
          "text": [
            "['Python', 'Python']\n"
          ],
          "name": "stdout"
        }
      ]
    },
    {
      "cell_type": "code",
      "metadata": {
        "colab": {
          "base_uri": "https://localhost:8080/"
        },
        "id": "7GRFnD-yjC7x",
        "outputId": "7536882b-eabc-41e1-da81-8ce1ce2c4cdc"
      },
      "source": [
        "import re\r\n",
        "\r\n",
        "txt = \"The rain in Spain\"\r\n",
        "x = re.findall(\"ai\", txt)\r\n",
        "print(x)"
      ],
      "execution_count": 22,
      "outputs": [
        {
          "output_type": "stream",
          "text": [
            "['ai', 'ai']\n"
          ],
          "name": "stdout"
        }
      ]
    },
    {
      "cell_type": "code",
      "metadata": {
        "colab": {
          "base_uri": "https://localhost:8080/"
        },
        "id": "fTtx2fDUjIw3",
        "outputId": "e5bd3afd-3b3f-465b-ceea-16953d2a153b"
      },
      "source": [
        "#Return an empty list if no match was found:\r\n",
        "\r\n",
        "import re\r\n",
        "\r\n",
        "txt = \"The rain in Spain\"\r\n",
        "x = re.findall(\"Portugal\", txt)\r\n",
        "print(x)"
      ],
      "execution_count": 23,
      "outputs": [
        {
          "output_type": "stream",
          "text": [
            "[]\n"
          ],
          "name": "stdout"
        }
      ]
    },
    {
      "cell_type": "code",
      "metadata": {
        "colab": {
          "base_uri": "https://localhost:8080/"
        },
        "id": "bOUVO10RGE2n",
        "outputId": "e3caea05-6243-418b-d67f-1f39ae5aca6e"
      },
      "source": [
        "#re.split(pattern, string, maxsplit=0, flags=0)\r\n",
        "#This expression will split a string at the location in which the specified pattern occurs in the string. It will also return the text of all groups in the pattern if an advanced feature like capturing parentheses are used in the pattern.\r\n",
        "import re\r\n",
        "\r\n",
        "result =  re.split(r\"y\", \"Daisy found a puppy\")\r\n",
        "\r\n",
        "if result:\r\n",
        "    print(result)\r\n",
        "else:\r\n",
        "   print(\"No puppy\")"
      ],
      "execution_count": null,
      "outputs": [
        {
          "output_type": "stream",
          "text": [
            "['Dais', ' found a pupp', '']\n"
          ],
          "name": "stdout"
        }
      ]
    },
    {
      "cell_type": "code",
      "metadata": {
        "colab": {
          "base_uri": "https://localhost:8080/"
        },
        "id": "-3UO84PNjdpz",
        "outputId": "979afaa7-b642-436e-9b56-ff3bed5e6379"
      },
      "source": [
        "#Split at each white-space character:\r\n",
        "\r\n",
        "import re\r\n",
        "\r\n",
        "txt = \"The rain in Spain\"\r\n",
        "x = re.split(\"\\s\", txt)\r\n",
        "print(x)"
      ],
      "execution_count": 26,
      "outputs": [
        {
          "output_type": "stream",
          "text": [
            "['The', 'rain', 'in', 'Spain']\n"
          ],
          "name": "stdout"
        }
      ]
    },
    {
      "cell_type": "code",
      "metadata": {
        "colab": {
          "base_uri": "https://localhost:8080/"
        },
        "id": "Jx0rQA0VjjGJ",
        "outputId": "00dd9b90-1f3d-4e9e-a3ba-b3186b2297bd"
      },
      "source": [
        "#Split the string only at the first occurrence:\r\n",
        "\r\n",
        "import re\r\n",
        "\r\n",
        "txt = \"The rain in Spain\"\r\n",
        "x = re.split(\"\\s\", txt, 1)\r\n",
        "print(x)"
      ],
      "execution_count": 27,
      "outputs": [
        {
          "output_type": "stream",
          "text": [
            "['The', 'rain in Spain']\n"
          ],
          "name": "stdout"
        }
      ]
    },
    {
      "cell_type": "code",
      "metadata": {
        "colab": {
          "base_uri": "https://localhost:8080/"
        },
        "id": "miq0p1z-GFG4",
        "outputId": "c88319c2-a5a8-4e1b-a0f3-5e58773256e8"
      },
      "source": [
        "#Metacharacters\r\n",
        "#Metacharacters are characters with a special meaning\r\n",
        "\r\n",
        "#[]\tA set of characters\t\"[a-m]\"\r\n",
        "import re\r\n",
        "\r\n",
        "txt = \"The rain in Spain\"\r\n",
        "\r\n",
        "#Find all lower case characters alphabetically between \"a\" and \"m\":\r\n",
        "\r\n",
        "x = re.findall(\"[a-m]\", txt)\r\n",
        "print(x)"
      ],
      "execution_count": null,
      "outputs": [
        {
          "output_type": "stream",
          "text": [
            "['h', 'e', 'a', 'i', 'i', 'a', 'i']\n"
          ],
          "name": "stdout"
        }
      ]
    },
    {
      "cell_type": "code",
      "metadata": {
        "colab": {
          "base_uri": "https://localhost:8080/"
        },
        "id": "fkumbI8yK1he",
        "outputId": "4af1fcd9-48d5-4558-96be-f6fac2d1e5f6"
      },
      "source": [
        "#\\\tSignals a special sequence (can also be used to escape special characters)\t\"\\d\"\r\n",
        "import re\r\n",
        "\r\n",
        "txt = \"That will be 59 dollars\"\r\n",
        "\r\n",
        "#Find all digit characters:\r\n",
        "\r\n",
        "x = re.findall(\"\\d\", txt)\r\n",
        "print(x)"
      ],
      "execution_count": null,
      "outputs": [
        {
          "output_type": "stream",
          "text": [
            "['5', '9']\n"
          ],
          "name": "stdout"
        }
      ]
    },
    {
      "cell_type": "code",
      "metadata": {
        "colab": {
          "base_uri": "https://localhost:8080/"
        },
        "id": "YMyC9b4yLEqV",
        "outputId": "d78a0042-0836-48fb-d29c-1c0bd3469602"
      },
      "source": [
        "#.\tAny character (except newline character)\t\"he..o\"\r\n",
        "import re\r\n",
        "\r\n",
        "txt = \"hello world\"\r\n",
        "\r\n",
        "#Search for a sequence that starts with \"he\", followed by two (any) characters, and an \"o\":\r\n",
        "\r\n",
        "x = re.findall(\"he..o\", txt)\r\n",
        "print(x)"
      ],
      "execution_count": null,
      "outputs": [
        {
          "output_type": "stream",
          "text": [
            "['hello']\n"
          ],
          "name": "stdout"
        }
      ]
    },
    {
      "cell_type": "code",
      "metadata": {
        "colab": {
          "base_uri": "https://localhost:8080/"
        },
        "id": "1dnsYSVhLaRP",
        "outputId": "89ed2f70-589b-4678-e598-cb37963f7290"
      },
      "source": [
        "#^\tStarts with\t\"^hello\"\r\n",
        "import re\r\n",
        "\r\n",
        "txt = \"hello world\"\r\n",
        "\r\n",
        "#Check if the string starts with 'hello':\r\n",
        "\r\n",
        "x = re.findall(\"^hello\", txt)\r\n",
        "if x:\r\n",
        "  print(\"Yes, the string starts with 'hello'\")\r\n",
        "else:\r\n",
        "  print(\"No match\")"
      ],
      "execution_count": null,
      "outputs": [
        {
          "output_type": "stream",
          "text": [
            "Yes, the string starts with 'hello'\n"
          ],
          "name": "stdout"
        }
      ]
    },
    {
      "cell_type": "code",
      "metadata": {
        "colab": {
          "base_uri": "https://localhost:8080/"
        },
        "id": "MQiFUWeGLkYw",
        "outputId": "ffbea7ac-fdb0-44b1-d5ab-dfead14cf9fa"
      },
      "source": [
        "#$\tEnds with\t\"world$\"\r\n",
        "import re\r\n",
        "\r\n",
        "txt = \"hello world\"\r\n",
        "\r\n",
        "#Check if the string ends with 'world':\r\n",
        "\r\n",
        "x = re.findall(\"world$\", txt)\r\n",
        "if x:\r\n",
        "  print(\"Yes, the string ends with 'world'\")\r\n",
        "else:\r\n",
        "  print(\"No match\")"
      ],
      "execution_count": null,
      "outputs": [
        {
          "output_type": "stream",
          "text": [
            "Yes, the string ends with 'world'\n"
          ],
          "name": "stdout"
        }
      ]
    },
    {
      "cell_type": "code",
      "metadata": {
        "colab": {
          "base_uri": "https://localhost:8080/"
        },
        "id": "wV2yJ7HkNnEl",
        "outputId": "3e2d2ce2-d9a0-46c2-c313-1679705a1656"
      },
      "source": [
        "#*\tZero or more occurrences\t\"aix*\"\r\n",
        "import re\r\n",
        "\r\n",
        "txt = \"The rain in Spain falls mainly in the plain!\"\r\n",
        "\r\n",
        "#Check if the string contains \"ai\" followed by 0 or more \"x\" characters:\r\n",
        "\r\n",
        "x = re.findall(\"aix*\", txt)\r\n",
        "\r\n",
        "print(x)\r\n",
        "\r\n",
        "if x:\r\n",
        "  print(\"Yes, there is at least one match!\")\r\n",
        "else:\r\n",
        "  print(\"No match\")"
      ],
      "execution_count": null,
      "outputs": [
        {
          "output_type": "stream",
          "text": [
            "['ai', 'ai', 'ai', 'ai']\n",
            "Yes, there is at least one match!\n"
          ],
          "name": "stdout"
        }
      ]
    },
    {
      "cell_type": "code",
      "metadata": {
        "colab": {
          "base_uri": "https://localhost:8080/"
        },
        "id": "hNQQogZkNnSi",
        "outputId": "63d5c329-e233-4775-d96a-436dcda24e41"
      },
      "source": [
        "#+\tOne or more occurrences\t\"aix+\"\r\n",
        "import re\r\n",
        "\r\n",
        "txt = \"The rain in Spain falls mainly in the plain!\"\r\n",
        "\r\n",
        "#Check if the string contains \"ai\" followed by 1 or more \"x\" characters:\r\n",
        "\r\n",
        "x = re.findall(\"aix+\", txt)\r\n",
        "\r\n",
        "print(x)\r\n",
        "\r\n",
        "if x:\r\n",
        "  print(\"Yes, there is at least one match!\")\r\n",
        "else:\r\n",
        "  print(\"No match\")"
      ],
      "execution_count": null,
      "outputs": [
        {
          "output_type": "stream",
          "text": [
            "[]\n",
            "No match\n"
          ],
          "name": "stdout"
        }
      ]
    },
    {
      "cell_type": "code",
      "metadata": {
        "colab": {
          "base_uri": "https://localhost:8080/"
        },
        "id": "veXI2ShONneT",
        "outputId": "199bfd2e-f2cb-4180-d79c-cca454258d26"
      },
      "source": [
        "#{}\tExactly the specified number of occurrences\t\"al{2}\"\r\n",
        "import re\r\n",
        "\r\n",
        "txt = \"The rain in Spain falls mainly in the plain!\"\r\n",
        "\r\n",
        "#Check if the string contains \"a\" followed by exactly two \"l\" characters:\r\n",
        "\r\n",
        "x = re.findall(\"al{2}\", txt)\r\n",
        "\r\n",
        "print(x)\r\n",
        "\r\n",
        "if x:\r\n",
        "  print(\"Yes, there is at least one match!\")\r\n",
        "else:\r\n",
        "  print(\"No match\")"
      ],
      "execution_count": null,
      "outputs": [
        {
          "output_type": "stream",
          "text": [
            "['all']\n",
            "Yes, there is at least one match!\n"
          ],
          "name": "stdout"
        }
      ]
    },
    {
      "cell_type": "code",
      "metadata": {
        "colab": {
          "base_uri": "https://localhost:8080/"
        },
        "id": "wZb3moZnOdUJ",
        "outputId": "6e77b6b3-e94c-4d6b-8108-de135dff5710"
      },
      "source": [
        "#|\tEither or\t\"falls|stays\"\r\n",
        "import re\r\n",
        "\r\n",
        "txt = \"The rain in Spain falls mainly in the plain!\"\r\n",
        "\r\n",
        "#Check if the string contains either \"falls\" or \"stays\":\r\n",
        "\r\n",
        "x = re.findall(\"falls|stays\", txt)\r\n",
        "\r\n",
        "print(x)\r\n",
        "\r\n",
        "if x:\r\n",
        "  print(\"Yes, there is at least one match!\")\r\n",
        "else:\r\n",
        "  print(\"No match\")\r\n"
      ],
      "execution_count": 1,
      "outputs": [
        {
          "output_type": "stream",
          "text": [
            "['falls']\n",
            "Yes, there is at least one match!\n"
          ],
          "name": "stdout"
        }
      ]
    },
    {
      "cell_type": "code",
      "metadata": {
        "id": "GOjki5AjSfUH"
      },
      "source": [
        "#Special Sequences\r\n",
        "#A special sequence is a \\ followed by one of the characters in the list below, and has a special meaning"
      ],
      "execution_count": null,
      "outputs": []
    },
    {
      "cell_type": "code",
      "metadata": {
        "id": "Lt6Bmb7ZSfwB",
        "colab": {
          "base_uri": "https://localhost:8080/"
        },
        "outputId": "a47911d1-8fee-4fca-e3e6-7b95e8646b2e"
      },
      "source": [
        "#\\A\tReturns a match if the specified characters are at the beginning of the string\t\"\\AThe\"\t\r\n",
        "import re\r\n",
        "\r\n",
        "txt = \"The rain in Spain\"\r\n",
        "\r\n",
        "#Check if the string starts with \"The\":\r\n",
        "\r\n",
        "x = re.findall(\"\\AThe\", txt)\r\n",
        "\r\n",
        "print(x)\r\n",
        "\r\n",
        "if x:\r\n",
        "  print(\"Yes, there is a match!\")\r\n",
        "else:\r\n",
        "  print(\"No match\")"
      ],
      "execution_count": 2,
      "outputs": [
        {
          "output_type": "stream",
          "text": [
            "['The']\n",
            "Yes, there is a match!\n"
          ],
          "name": "stdout"
        }
      ]
    },
    {
      "cell_type": "code",
      "metadata": {
        "id": "kWd2EHt7JZc3"
      },
      "source": [
        "#\\b\tReturns a match where the specified characters are at the beginning or at the end of a word (the \"r\" in the beginning is making sure that the string is being treated as a \"raw string\")\tr\"\\bain\" r\"ain\\b\"\r\n"
      ],
      "execution_count": null,
      "outputs": []
    },
    {
      "cell_type": "code",
      "metadata": {
        "colab": {
          "base_uri": "https://localhost:8080/"
        },
        "id": "6dkpw7W3KUvX",
        "outputId": "ca90236c-357e-4398-8322-83d0af91f830"
      },
      "source": [
        "import re\r\n",
        "\r\n",
        "txt = \"The rain in Spain\"\r\n",
        "\r\n",
        "#Check if \"ain\" is present at the beginning of a WORD:\r\n",
        "\r\n",
        "x = re.findall(r\"\\bain\", txt)\r\n",
        "\r\n",
        "print(x)\r\n",
        "\r\n",
        "if x:\r\n",
        "  print(\"Yes, there is at least one match!\")\r\n",
        "else:\r\n",
        "  print(\"No match\")"
      ],
      "execution_count": 3,
      "outputs": [
        {
          "output_type": "stream",
          "text": [
            "[]\n",
            "No match\n"
          ],
          "name": "stdout"
        }
      ]
    },
    {
      "cell_type": "code",
      "metadata": {
        "colab": {
          "base_uri": "https://localhost:8080/"
        },
        "id": "CtQ3Tzb3KaJb",
        "outputId": "112d199c-f7e0-4439-fd91-f0a6c0391918"
      },
      "source": [
        "import re\r\n",
        "\r\n",
        "txt = \"The rain in Spain\"\r\n",
        "\r\n",
        "#Check if \"ain\" is present at the end of a WORD:\r\n",
        "\r\n",
        "x = re.findall(r\"ain\\b\", txt)\r\n",
        "\r\n",
        "print(x)\r\n",
        "\r\n",
        "if x:\r\n",
        "  print(\"Yes, there is at least one match!\")\r\n",
        "else:\r\n",
        "  print(\"No match\")"
      ],
      "execution_count": 4,
      "outputs": [
        {
          "output_type": "stream",
          "text": [
            "['ain', 'ain']\n",
            "Yes, there is at least one match!\n"
          ],
          "name": "stdout"
        }
      ]
    },
    {
      "cell_type": "code",
      "metadata": {
        "id": "GI12xsEgKmII"
      },
      "source": [
        "\\B\tReturns a match where the specified characters are present, but NOT at the beginning (or at the end) of a word\r\n",
        "(the \"r\" in the beginning is making sure that the string is being treated as a \"raw string\")\tr\"\\Bain\"\r\n",
        "r\"ain\\B\""
      ],
      "execution_count": null,
      "outputs": []
    },
    {
      "cell_type": "code",
      "metadata": {
        "colab": {
          "base_uri": "https://localhost:8080/"
        },
        "id": "WlwhWApAKm7d",
        "outputId": "0073906d-0226-4754-ffff-c6ec938ba525"
      },
      "source": [
        "import re\r\n",
        "\r\n",
        "txt = \"The rain in Spain\"\r\n",
        "\r\n",
        "#Check if \"ain\" is present, but NOT at the end of a word:\r\n",
        "\r\n",
        "x = re.findall(r\"ain\\B\", txt)\r\n",
        "\r\n",
        "print(x)\r\n",
        "\r\n",
        "if x:\r\n",
        "  print(\"Yes, there is at least one match!\")\r\n",
        "else:\r\n",
        "  print(\"No match\")"
      ],
      "execution_count": 5,
      "outputs": [
        {
          "output_type": "stream",
          "text": [
            "[]\n",
            "No match\n"
          ],
          "name": "stdout"
        }
      ]
    },
    {
      "cell_type": "code",
      "metadata": {
        "colab": {
          "base_uri": "https://localhost:8080/"
        },
        "id": "pDOh06lybjRs",
        "outputId": "00196d0b-11ce-4a50-810f-e8140ff642cf"
      },
      "source": [
        "import re\r\n",
        "\r\n",
        "txt = \"The rain in Spain\"\r\n",
        "\r\n",
        "#Check if \"ain\" is present, but NOT at the beginning of a word:\r\n",
        "\r\n",
        "x = re.findall(r\"\\Bain\", txt)\r\n",
        "\r\n",
        "print(x)\r\n",
        "\r\n",
        "if x:\r\n",
        "  print(\"Yes, there is at least one match!\")\r\n",
        "else:\r\n",
        "  print(\"No match\")\r\n"
      ],
      "execution_count": 6,
      "outputs": [
        {
          "output_type": "stream",
          "text": [
            "['ain', 'ain']\n",
            "Yes, there is at least one match!\n"
          ],
          "name": "stdout"
        }
      ]
    },
    {
      "cell_type": "code",
      "metadata": {
        "id": "F07Qv6f4bqK4"
      },
      "source": [
        "\\d\tReturns a match where the string contains digits (numbers from 0-9)\t\"\\d\""
      ],
      "execution_count": null,
      "outputs": []
    },
    {
      "cell_type": "code",
      "metadata": {
        "colab": {
          "base_uri": "https://localhost:8080/"
        },
        "id": "SgXihvHDbs0E",
        "outputId": "cffdc261-aaee-49bb-ceb6-550600eabcaf"
      },
      "source": [
        "import re\r\n",
        "\r\n",
        "txt = \"The rain in Spain\"\r\n",
        "\r\n",
        "#Check if the string contains any digits (numbers from 0-9):\r\n",
        "\r\n",
        "x = re.findall(\"\\d\", txt)\r\n",
        "\r\n",
        "print(x)\r\n",
        "\r\n",
        "if x:\r\n",
        "  print(\"Yes, there is at least one match!\")\r\n",
        "else:\r\n",
        "  print(\"No match\")\r\n"
      ],
      "execution_count": 7,
      "outputs": [
        {
          "output_type": "stream",
          "text": [
            "[]\n",
            "No match\n"
          ],
          "name": "stdout"
        }
      ]
    },
    {
      "cell_type": "code",
      "metadata": {
        "id": "BZZclEu_bqcE"
      },
      "source": [
        "\\D\tReturns a match where the string DOES NOT contain digits\t\"\\D\""
      ],
      "execution_count": null,
      "outputs": []
    },
    {
      "cell_type": "code",
      "metadata": {
        "colab": {
          "base_uri": "https://localhost:8080/"
        },
        "id": "kxO27V7AbzPE",
        "outputId": "155504be-8d21-4434-84c5-d3a41b7119e1"
      },
      "source": [
        "import re\r\n",
        "\r\n",
        "txt = \"The rain in Spain\"\r\n",
        "\r\n",
        "#Return a match at every no-digit character:\r\n",
        "\r\n",
        "x = re.findall(\"\\D\", txt)\r\n",
        "\r\n",
        "print(x)\r\n",
        "\r\n",
        "if x:\r\n",
        "  print(\"Yes, there is at least one match!\")\r\n",
        "else:\r\n",
        "  print(\"No match\")"
      ],
      "execution_count": 8,
      "outputs": [
        {
          "output_type": "stream",
          "text": [
            "['T', 'h', 'e', ' ', 'r', 'a', 'i', 'n', ' ', 'i', 'n', ' ', 'S', 'p', 'a', 'i', 'n']\n",
            "Yes, there is at least one match!\n"
          ],
          "name": "stdout"
        }
      ]
    },
    {
      "cell_type": "code",
      "metadata": {
        "id": "n81QVN6Pb-Rm"
      },
      "source": [
        "\\s\tReturns a match where the string contains a white space character\t\"\\s\""
      ],
      "execution_count": null,
      "outputs": []
    },
    {
      "cell_type": "code",
      "metadata": {
        "colab": {
          "base_uri": "https://localhost:8080/"
        },
        "id": "W9KoDLPAcKR-",
        "outputId": "a9375588-2037-435d-f076-7f12f9885946"
      },
      "source": [
        "import re\r\n",
        "\r\n",
        "txt = \"The rain in Spain\"\r\n",
        "\r\n",
        "#Return a match at every white-space character:\r\n",
        "\r\n",
        "x = re.findall(\"\\s\", txt)\r\n",
        "\r\n",
        "print(x)\r\n",
        "\r\n",
        "if x:\r\n",
        "  print(\"Yes, there is at least one match!\")\r\n",
        "else:\r\n",
        "  print(\"No match\")\r\n"
      ],
      "execution_count": 9,
      "outputs": [
        {
          "output_type": "stream",
          "text": [
            "[' ', ' ', ' ']\n",
            "Yes, there is at least one match!\n"
          ],
          "name": "stdout"
        }
      ]
    },
    {
      "cell_type": "code",
      "metadata": {
        "id": "07dUlR-rb-iG"
      },
      "source": [
        "\\S\tReturns a match where the string DOES NOT contain a white space character"
      ],
      "execution_count": null,
      "outputs": []
    },
    {
      "cell_type": "code",
      "metadata": {
        "colab": {
          "base_uri": "https://localhost:8080/"
        },
        "id": "-CwgNgw2dRll",
        "outputId": "7ccec43d-77a3-4114-c420-3ca770f755f6"
      },
      "source": [
        "import re\r\n",
        "\r\n",
        "txt = \"The rain in Spain\"\r\n",
        "\r\n",
        "#Return a match at every NON white-space character:\r\n",
        "\r\n",
        "x = re.findall(\"\\S\", txt)\r\n",
        "\r\n",
        "print(x)\r\n",
        "\r\n",
        "if x:\r\n",
        "  print(\"Yes, there is at least one match!\")\r\n",
        "else:\r\n",
        "  print(\"No match\")"
      ],
      "execution_count": 10,
      "outputs": [
        {
          "output_type": "stream",
          "text": [
            "['T', 'h', 'e', 'r', 'a', 'i', 'n', 'i', 'n', 'S', 'p', 'a', 'i', 'n']\n",
            "Yes, there is at least one match!\n"
          ],
          "name": "stdout"
        }
      ]
    },
    {
      "cell_type": "code",
      "metadata": {
        "id": "vIOJnEJxb-vA"
      },
      "source": [
        "\\w\tReturns a match where the string contains any word characters (characters from a to Z, digits from 0-9, and the underscore _ character)"
      ],
      "execution_count": null,
      "outputs": []
    },
    {
      "cell_type": "code",
      "metadata": {
        "colab": {
          "base_uri": "https://localhost:8080/"
        },
        "id": "BFxAJax3daqj",
        "outputId": "6017f8da-12bb-4f1f-cb88-574c0a8e10c6"
      },
      "source": [
        "import re\r\n",
        "\r\n",
        "txt = \"The rain in Spain\"\r\n",
        "\r\n",
        "#Return a match at every word character (characters from a to Z, digits from 0-9, and the underscore _ character):\r\n",
        "\r\n",
        "x = re.findall(\"\\w\", txt)\r\n",
        "\r\n",
        "print(x)\r\n",
        "\r\n",
        "if x:\r\n",
        "  print(\"Yes, there is at least one match!\")\r\n",
        "else:\r\n",
        "  print(\"No match\")\r\n"
      ],
      "execution_count": 11,
      "outputs": [
        {
          "output_type": "stream",
          "text": [
            "['T', 'h', 'e', 'r', 'a', 'i', 'n', 'i', 'n', 'S', 'p', 'a', 'i', 'n']\n",
            "Yes, there is at least one match!\n"
          ],
          "name": "stdout"
        }
      ]
    },
    {
      "cell_type": "code",
      "metadata": {
        "id": "dC7PfW92b-7L"
      },
      "source": [
        "\\W\tReturns a match where the string DOES NOT contain any word characters"
      ],
      "execution_count": null,
      "outputs": []
    },
    {
      "cell_type": "code",
      "metadata": {
        "colab": {
          "base_uri": "https://localhost:8080/"
        },
        "id": "OIJXCkqZdiW2",
        "outputId": "f09aa732-1cd4-4bb8-a7a0-00e0b8ef286f"
      },
      "source": [
        "import re\r\n",
        "\r\n",
        "txt = \"The rain in Spain\"\r\n",
        "\r\n",
        "#Return a match at every NON word character (characters NOT between a and Z. Like \"!\", \"?\" white-space etc.):\r\n",
        "\r\n",
        "x = re.findall(\"\\W\", txt)\r\n",
        "\r\n",
        "print(x)\r\n",
        "\r\n",
        "if x:\r\n",
        "  print(\"Yes, there is at least one match!\")\r\n",
        "else:\r\n",
        "  print(\"No match\")\r\n"
      ],
      "execution_count": 12,
      "outputs": [
        {
          "output_type": "stream",
          "text": [
            "[' ', ' ', ' ']\n",
            "Yes, there is at least one match!\n"
          ],
          "name": "stdout"
        }
      ]
    },
    {
      "cell_type": "code",
      "metadata": {
        "id": "zQCVIRcRcHup"
      },
      "source": [
        "\\Z\tReturns a match if the specified characters are at the end of the string"
      ],
      "execution_count": null,
      "outputs": []
    },
    {
      "cell_type": "code",
      "metadata": {
        "colab": {
          "base_uri": "https://localhost:8080/"
        },
        "id": "AXWGi7ibdpTO",
        "outputId": "85d7e02f-c97c-453f-ecb5-3c3eccebd4ba"
      },
      "source": [
        "import re\r\n",
        "\r\n",
        "txt = \"The rain in Spain\"\r\n",
        "\r\n",
        "#Check if the string ends with \"Spain\":\r\n",
        "\r\n",
        "x = re.findall(\"Spain\\Z\", txt)\r\n",
        "\r\n",
        "print(x)\r\n",
        "\r\n",
        "if x:\r\n",
        "  print(\"Yes, there is a match!\")\r\n",
        "else:\r\n",
        "  print(\"No match\")\r\n"
      ],
      "execution_count": 13,
      "outputs": [
        {
          "output_type": "stream",
          "text": [
            "['Spain']\n",
            "Yes, there is a match!\n"
          ],
          "name": "stdout"
        }
      ]
    },
    {
      "cell_type": "code",
      "metadata": {
        "id": "IH6Wgt07gOJw"
      },
      "source": [
        "Sets\r\n",
        "A set is a set of characters inside a pair of square brackets [] with a special meaning"
      ],
      "execution_count": null,
      "outputs": []
    },
    {
      "cell_type": "code",
      "metadata": {
        "id": "ET46RyXngUkA"
      },
      "source": [
        "[arn]\tReturns a match where one of the specified characters (a, r, or n) are present"
      ],
      "execution_count": null,
      "outputs": []
    },
    {
      "cell_type": "code",
      "metadata": {
        "colab": {
          "base_uri": "https://localhost:8080/"
        },
        "id": "4yy_eYTEgVTx",
        "outputId": "b298e250-f90f-4d91-e268-11d53a50693a"
      },
      "source": [
        "import re\r\n",
        "\r\n",
        "txt = \"The rain in Spain\"\r\n",
        "\r\n",
        "#Check if the string has any a, r, or n characters:\r\n",
        "\r\n",
        "x = re.findall(\"[arn]\", txt)\r\n",
        "\r\n",
        "print(x)\r\n",
        "\r\n",
        "if x:\r\n",
        "  print(\"Yes, there is at least one match!\")\r\n",
        "else:\r\n",
        "  print(\"No match\")"
      ],
      "execution_count": 14,
      "outputs": [
        {
          "output_type": "stream",
          "text": [
            "['r', 'a', 'n', 'n', 'a', 'n']\n",
            "Yes, there is at least one match!\n"
          ],
          "name": "stdout"
        }
      ]
    },
    {
      "cell_type": "code",
      "metadata": {
        "id": "Sv4Fyn0-gyZD"
      },
      "source": [
        "[a-n]\tReturns a match for any lower case character, alphabetically between a and n"
      ],
      "execution_count": null,
      "outputs": []
    },
    {
      "cell_type": "code",
      "metadata": {
        "colab": {
          "base_uri": "https://localhost:8080/"
        },
        "id": "9yts2NKcgypq",
        "outputId": "b6dc6dca-4f1a-4355-e99d-c455a41b9cc2"
      },
      "source": [
        "import re\r\n",
        "\r\n",
        "txt = \"The rain in Spain\"\r\n",
        "\r\n",
        "#Check if the string has any characters between a and n:\r\n",
        "\r\n",
        "x = re.findall(\"[a-n]\", txt)\r\n",
        "\r\n",
        "print(x)\r\n",
        "\r\n",
        "if x:\r\n",
        "  print(\"Yes, there is at least one match!\")\r\n",
        "else:\r\n",
        "  print(\"No match\")\r\n"
      ],
      "execution_count": 15,
      "outputs": [
        {
          "output_type": "stream",
          "text": [
            "['h', 'e', 'a', 'i', 'n', 'i', 'n', 'a', 'i', 'n']\n",
            "Yes, there is at least one match!\n"
          ],
          "name": "stdout"
        }
      ]
    },
    {
      "cell_type": "code",
      "metadata": {
        "id": "_1SJlRK7hJPd"
      },
      "source": [
        "[^arn]\tReturns a match for any character EXCEPT a, r, and n"
      ],
      "execution_count": null,
      "outputs": []
    },
    {
      "cell_type": "code",
      "metadata": {
        "colab": {
          "base_uri": "https://localhost:8080/"
        },
        "id": "_nBAse8lhKBF",
        "outputId": "273a33ec-038e-471a-de6d-cc43ca637e58"
      },
      "source": [
        "import re\r\n",
        "\r\n",
        "txt = \"The rain in Spain\"\r\n",
        "\r\n",
        "#Check if the string has other characters than a, r, or n:\r\n",
        "\r\n",
        "x = re.findall(\"[^arn]\", txt)\r\n",
        "\r\n",
        "print(x)\r\n",
        "\r\n",
        "if x:\r\n",
        "  print(\"Yes, there is at least one match!\")\r\n",
        "else:\r\n",
        "  print(\"No match\")"
      ],
      "execution_count": 16,
      "outputs": [
        {
          "output_type": "stream",
          "text": [
            "['T', 'h', 'e', ' ', 'i', ' ', 'i', ' ', 'S', 'p', 'i']\n",
            "Yes, there is at least one match!\n"
          ],
          "name": "stdout"
        }
      ]
    },
    {
      "cell_type": "code",
      "metadata": {
        "id": "bEP5wHsQhZEJ"
      },
      "source": [
        "[0123]\tReturns a match where any of the specified digits (0, 1, 2, or 3) are present"
      ],
      "execution_count": null,
      "outputs": []
    },
    {
      "cell_type": "code",
      "metadata": {
        "colab": {
          "base_uri": "https://localhost:8080/"
        },
        "id": "i5PbOUv8ha7D",
        "outputId": "349b7124-e1d3-4337-f9c4-f03902cc6627"
      },
      "source": [
        "import re\r\n",
        "\r\n",
        "txt = \"The rain in Spain\"\r\n",
        "\r\n",
        "#Check if the string has any 0, 1, 2, or 3 digits:\r\n",
        "\r\n",
        "x = re.findall(\"[0123]\", txt)\r\n",
        "\r\n",
        "print(x)\r\n",
        "\r\n",
        "if x:\r\n",
        "  print(\"Yes, there is at least one match!\")\r\n",
        "else:\r\n",
        "  print(\"No match\")"
      ],
      "execution_count": 17,
      "outputs": [
        {
          "output_type": "stream",
          "text": [
            "[]\n",
            "No match\n"
          ],
          "name": "stdout"
        }
      ]
    },
    {
      "cell_type": "code",
      "metadata": {
        "id": "qG0VPF4mhflf"
      },
      "source": [
        "[0-9]\tReturns a match for any digit between 0 and 9"
      ],
      "execution_count": null,
      "outputs": []
    },
    {
      "cell_type": "code",
      "metadata": {
        "colab": {
          "base_uri": "https://localhost:8080/"
        },
        "id": "UUP_it7ahfz6",
        "outputId": "fee39f7f-5364-416b-9a29-f881a97cd308"
      },
      "source": [
        "import re\r\n",
        "\r\n",
        "txt = \"8 times before 11:45 AM\"\r\n",
        "\r\n",
        "#Check if the string has any digits:\r\n",
        "\r\n",
        "x = re.findall(\"[0-9]\", txt)\r\n",
        "\r\n",
        "print(x)\r\n",
        "\r\n",
        "if x:\r\n",
        "  print(\"Yes, there is at least one match!\")\r\n",
        "else:\r\n",
        "  print(\"No match\")"
      ],
      "execution_count": 18,
      "outputs": [
        {
          "output_type": "stream",
          "text": [
            "['8', '1', '1', '4', '5']\n",
            "Yes, there is at least one match!\n"
          ],
          "name": "stdout"
        }
      ]
    },
    {
      "cell_type": "code",
      "metadata": {
        "id": "zLhtjOD-hpxA"
      },
      "source": [
        "[0-5][0-9]\tReturns a match for any two-digit numbers from 00 and 59"
      ],
      "execution_count": null,
      "outputs": []
    },
    {
      "cell_type": "code",
      "metadata": {
        "colab": {
          "base_uri": "https://localhost:8080/"
        },
        "id": "vhA6p1svhqIP",
        "outputId": "cc5deccc-e6e7-42eb-f12a-32089d018fbc"
      },
      "source": [
        "import re\r\n",
        "\r\n",
        "txt = \"8 times before 11:45 AM\"\r\n",
        "\r\n",
        "#Check if the string has any two-digit numbers, from 00 to 59:\r\n",
        "\r\n",
        "x = re.findall(\"[0-5][0-9]\", txt)\r\n",
        "\r\n",
        "print(x)\r\n",
        "\r\n",
        "if x:\r\n",
        "  print(\"Yes, there is at least one match!\")\r\n",
        "else:\r\n",
        "  print(\"No match\")\r\n"
      ],
      "execution_count": 19,
      "outputs": [
        {
          "output_type": "stream",
          "text": [
            "['11', '45']\n",
            "Yes, there is at least one match!\n"
          ],
          "name": "stdout"
        }
      ]
    },
    {
      "cell_type": "code",
      "metadata": {
        "id": "ojzF0tePhvtE"
      },
      "source": [
        "[a-zA-Z]\tReturns a match for any character alphabetically between a and z, lower case OR upper case"
      ],
      "execution_count": null,
      "outputs": []
    },
    {
      "cell_type": "code",
      "metadata": {
        "colab": {
          "base_uri": "https://localhost:8080/"
        },
        "id": "VETD3RdfhwVI",
        "outputId": "e0b2fbb4-9e10-4240-b990-4144ebb3e8a6"
      },
      "source": [
        "import re\r\n",
        "\r\n",
        "txt = \"8 times before 11:45 AM\"\r\n",
        "\r\n",
        "#Check if the string has any characters from a to z lower case, and A to Z upper case:\r\n",
        "\r\n",
        "x = re.findall(\"[a-zA-Z]\", txt)\r\n",
        "\r\n",
        "print(x)\r\n",
        "\r\n",
        "if x:\r\n",
        "  print(\"Yes, there is at least one match!\")\r\n",
        "else:\r\n",
        "  print(\"No match\")"
      ],
      "execution_count": 20,
      "outputs": [
        {
          "output_type": "stream",
          "text": [
            "['t', 'i', 'm', 'e', 's', 'b', 'e', 'f', 'o', 'r', 'e', 'A', 'M']\n",
            "Yes, there is at least one match!\n"
          ],
          "name": "stdout"
        }
      ]
    },
    {
      "cell_type": "code",
      "metadata": {
        "id": "m5c7oPIohwj-"
      },
      "source": [
        "[+]\tIn sets, +, *, ., |, (), $,{} has no special meaning, so [+] means: return a match for any + character in the string"
      ],
      "execution_count": null,
      "outputs": []
    },
    {
      "cell_type": "code",
      "metadata": {
        "colab": {
          "base_uri": "https://localhost:8080/"
        },
        "id": "aGikGj3chw4f",
        "outputId": "9464b3ca-5225-4cf9-d3e2-d81af1000a9d"
      },
      "source": [
        "import re\r\n",
        "\r\n",
        "txt = \"8 times before 11:45 AM\"\r\n",
        "\r\n",
        "#Check if the string has any + characters:\r\n",
        "\r\n",
        "x = re.findall(\"[+]\", txt)\r\n",
        "\r\n",
        "print(x)\r\n",
        "\r\n",
        "if x:\r\n",
        "  print(\"Yes, there is at least one match!\")\r\n",
        "else:\r\n",
        "  print(\"No match\")\r\n"
      ],
      "execution_count": 21,
      "outputs": [
        {
          "output_type": "stream",
          "text": [
            "[]\n",
            "No match\n"
          ],
          "name": "stdout"
        }
      ]
    }
  ]
}