{
  "nbformat": 4,
  "nbformat_minor": 0,
  "metadata": {
    "colab": {
      "name": "B4-Set.ipynb",
      "provenance": [],
      "collapsed_sections": []
    },
    "kernelspec": {
      "name": "python3",
      "display_name": "Python 3"
    }
  },
  "cells": [
    {
      "cell_type": "code",
      "metadata": {
        "id": "oGD5NsbDMg9F"
      },
      "source": [
        "Sets are used to store multiple items in a single variable.\r\n",
        "\r\n",
        "Set is one of 4 built-in data types in Python used to store collections of data, the other 3 are List, Tuple, and Dictionary, all with different qualities and usage.\r\n",
        "\r\n",
        "A set is a collection which is both unordered and unindexed.\r\n",
        "\r\n",
        "Sets are written with curly brackets."
      ],
      "execution_count": null,
      "outputs": []
    },
    {
      "cell_type": "code",
      "metadata": {
        "colab": {
          "base_uri": "https://localhost:8080/"
        },
        "id": "fvgXFsdpy_DX",
        "outputId": "33baf306-fe8d-4c12-eb04-b56fff601df3"
      },
      "source": [
        "#Create a Set:\r\n",
        "\r\n",
        "thisset = {\"apple\", \"banana\", \"cherry\"}\r\n",
        "print(thisset)\r\n",
        "#Sets are unordered, so you cannot be sure in which order the items will appear."
      ],
      "execution_count": 1,
      "outputs": [
        {
          "output_type": "stream",
          "text": [
            "{'cherry', 'apple', 'banana'}\n"
          ],
          "name": "stdout"
        }
      ]
    },
    {
      "cell_type": "code",
      "metadata": {
        "id": "ixPMq4zKzKpM"
      },
      "source": [
        "Set Items\r\n",
        "Set items are unordered, unchangeable, and do not allow duplicate values.\r\n",
        "\r\n",
        "Unordered\r\n",
        "Unordered means that the items in a set do not have a defined order.\r\n",
        "\r\n",
        "Set items can appear in a different order every time you use them, and cannot be referred to by index or key.\r\n",
        "\r\n",
        "Unchangeable\r\n",
        "Sets are unchangeable, meaning that we cannot change the items after the set has been created.\r\n",
        "\r\n",
        "Once a set is created, you cannot change its items, but you can add new items.\r\n",
        "\r\n",
        "Duplicates Not Allowed\r\n",
        "Sets cannot have two items with the same value."
      ],
      "execution_count": null,
      "outputs": []
    },
    {
      "cell_type": "code",
      "metadata": {
        "colab": {
          "base_uri": "https://localhost:8080/"
        },
        "id": "mMy-MqAQzLMh",
        "outputId": "317e0b5c-62e2-4045-958f-d6af9c257ae0"
      },
      "source": [
        "#Duplicate values will be ignored:\r\n",
        "\r\n",
        "thisset = {\"apple\", \"banana\", \"cherry\", \"apple\"}\r\n",
        "\r\n",
        "print(thisset)"
      ],
      "execution_count": 2,
      "outputs": [
        {
          "output_type": "stream",
          "text": [
            "{'cherry', 'apple', 'banana'}\n"
          ],
          "name": "stdout"
        }
      ]
    },
    {
      "cell_type": "code",
      "metadata": {
        "colab": {
          "base_uri": "https://localhost:8080/"
        },
        "id": "jXHKu-GpzjCB",
        "outputId": "22120998-c94d-4e08-950f-48c7c0a8fe99"
      },
      "source": [
        "#Get the Length of a Set\r\n",
        "#To determine how many items a set has, use the len() method\r\n",
        "#Get the number of items in a set:\r\n",
        "\r\n",
        "thisset = {\"apple\", \"banana\", \"cherry\"}\r\n",
        "\r\n",
        "print(len(thisset))"
      ],
      "execution_count": 3,
      "outputs": [
        {
          "output_type": "stream",
          "text": [
            "3\n"
          ],
          "name": "stdout"
        }
      ]
    },
    {
      "cell_type": "code",
      "metadata": {
        "colab": {
          "base_uri": "https://localhost:8080/"
        },
        "id": "v3G3PwpoznxS",
        "outputId": "8749745a-9ea9-43b8-b6e5-60ff039fb1a3"
      },
      "source": [
        "#Set Items - Data Types\r\n",
        "#Set items can be of any data type:\r\n",
        "#String, int and boolean data types:\r\n",
        "\r\n",
        "set1 = {\"apple\", \"banana\", \"cherry\"}\r\n",
        "set2 = {1, 5, 7, 9, 3}\r\n",
        "set3 = {True, False, False}\r\n",
        "\r\n",
        "print(set1)\r\n",
        "print(set2)\r\n",
        "print(set3)"
      ],
      "execution_count": 4,
      "outputs": [
        {
          "output_type": "stream",
          "text": [
            "{'cherry', 'apple', 'banana'}\n",
            "{1, 3, 5, 7, 9}\n",
            "{False, True}\n"
          ],
          "name": "stdout"
        }
      ]
    },
    {
      "cell_type": "code",
      "metadata": {
        "colab": {
          "base_uri": "https://localhost:8080/"
        },
        "id": "gzgcjhrpzn9J",
        "outputId": "b109a2d8-7d49-4260-dfd4-1bb9d527cb3d"
      },
      "source": [
        "#A set can contain different data types\r\n",
        "#A set with strings, integers and boolean values:\r\n",
        "\r\n",
        "set1 = {\"abc\", 34, True, 40, \"male\"}\r\n",
        "print(set1)"
      ],
      "execution_count": 5,
      "outputs": [
        {
          "output_type": "stream",
          "text": [
            "{True, 34, 40, 'male', 'abc'}\n"
          ],
          "name": "stdout"
        }
      ]
    },
    {
      "cell_type": "code",
      "metadata": {
        "colab": {
          "base_uri": "https://localhost:8080/"
        },
        "id": "bFX220yvzoIC",
        "outputId": "7a95e8f3-05d6-42c8-f662-d5f4cc95cc6b"
      },
      "source": [
        "#type()\r\n",
        "#From Python's perspective, sets are defined as objects with the data type 'set'\r\n",
        "myset = {\"apple\", \"banana\", \"cherry\"}\r\n",
        "print(type(myset))"
      ],
      "execution_count": 6,
      "outputs": [
        {
          "output_type": "stream",
          "text": [
            "<class 'set'>\n"
          ],
          "name": "stdout"
        }
      ]
    },
    {
      "cell_type": "code",
      "metadata": {
        "colab": {
          "base_uri": "https://localhost:8080/"
        },
        "id": "dT9HNBOzzoSZ",
        "outputId": "89b4c139-180f-4627-fec1-4d76b2a4d4e4"
      },
      "source": [
        "#The set() Constructor\r\n",
        "#It is also possible to use the set() constructor to make a set\r\n",
        "#Using the set() constructor to make a set:\r\n",
        "\r\n",
        "thisset = set((\"apple\", \"banana\", \"cherry\")) # note the double round-brackets\r\n",
        "print(thisset)"
      ],
      "execution_count": 7,
      "outputs": [
        {
          "output_type": "stream",
          "text": [
            "{'cherry', 'apple', 'banana'}\n"
          ],
          "name": "stdout"
        }
      ]
    },
    {
      "cell_type": "code",
      "metadata": {
        "colab": {
          "base_uri": "https://localhost:8080/"
        },
        "id": "Vkuhnw8EzocM",
        "outputId": "45a7bf04-0f85-44de-b318-9fd07290a57d"
      },
      "source": [
        "#Access Set Items\r\n",
        "#You cannot access items in a set by referring to an index or a key.\r\n",
        "\r\n",
        "#But you can loop through the set items using a for loop, or ask if a specified value is present in a set, by using the in keyword.\r\n",
        "#Loop through the set, and print the values:\r\n",
        "\r\n",
        "thisset = {\"apple\", \"banana\", \"cherry\"}\r\n",
        "\r\n",
        "for x in thisset:\r\n",
        "  print(x)"
      ],
      "execution_count": 8,
      "outputs": [
        {
          "output_type": "stream",
          "text": [
            "cherry\n",
            "apple\n",
            "banana\n"
          ],
          "name": "stdout"
        }
      ]
    },
    {
      "cell_type": "code",
      "metadata": {
        "colab": {
          "base_uri": "https://localhost:8080/"
        },
        "id": "Vu8lyHB41M0d",
        "outputId": "88b698c7-dcfe-4c73-f2dc-fd402f78d992"
      },
      "source": [
        "#Check if \"banana\" is present in the set:\r\n",
        "\r\n",
        "thisset = {\"apple\", \"banana\", \"cherry\"}\r\n",
        "\r\n",
        "print(\"banana\" in thisset)"
      ],
      "execution_count": 9,
      "outputs": [
        {
          "output_type": "stream",
          "text": [
            "True\n"
          ],
          "name": "stdout"
        }
      ]
    },
    {
      "cell_type": "code",
      "metadata": {
        "id": "7Yke4gtS1QVq"
      },
      "source": [
        "Change Items\r\n",
        "Once a set is created, you cannot change its items, but you can add new items."
      ],
      "execution_count": null,
      "outputs": []
    },
    {
      "cell_type": "code",
      "metadata": {
        "colab": {
          "base_uri": "https://localhost:8080/"
        },
        "id": "N_FG8tUl1Qwn",
        "outputId": "6f42b779-244a-4a81-c316-34a6e5d24e4d"
      },
      "source": [
        "#Add Set Items\r\n",
        "#Once a set is created, you cannot change its items, but you can add new items.\r\n",
        "\r\n",
        "#To add one item to a set use the add() method.\r\n",
        "#Add an item to a set, using the add() method:\r\n",
        "\r\n",
        "thisset = {\"apple\", \"banana\", \"cherry\"}\r\n",
        "\r\n",
        "thisset.add(\"orange\")\r\n",
        "\r\n",
        "print(thisset)"
      ],
      "execution_count": 10,
      "outputs": [
        {
          "output_type": "stream",
          "text": [
            "{'cherry', 'apple', 'banana', 'orange'}\n"
          ],
          "name": "stdout"
        }
      ]
    },
    {
      "cell_type": "code",
      "metadata": {
        "colab": {
          "base_uri": "https://localhost:8080/"
        },
        "id": "A0ff3uJnE8Kj",
        "outputId": "b31e1d67-b344-4cfa-e2a9-143678818127"
      },
      "source": [
        "#Add an element to the fruits set:\r\n",
        "\r\n",
        "fruits = {\"apple\", \"banana\", \"cherry\"}\r\n",
        "\r\n",
        "fruits.add(\"orange\")\r\n",
        "\r\n",
        "print(fruits)"
      ],
      "execution_count": 26,
      "outputs": [
        {
          "output_type": "stream",
          "text": [
            "{'cherry', 'apple', 'banana', 'orange'}\n"
          ],
          "name": "stdout"
        }
      ]
    },
    {
      "cell_type": "code",
      "metadata": {
        "colab": {
          "base_uri": "https://localhost:8080/"
        },
        "id": "-rmiUn21FExW",
        "outputId": "8afd1cf2-ca38-46d7-f20c-ede655ac5c5c"
      },
      "source": [
        "#Try to add an element that already exists:\r\n",
        "\r\n",
        "fruits = {\"apple\", \"banana\", \"cherry\"}\r\n",
        "\r\n",
        "fruits.add(\"apple\")\r\n",
        "\r\n",
        "print(fruits)"
      ],
      "execution_count": 27,
      "outputs": [
        {
          "output_type": "stream",
          "text": [
            "{'cherry', 'apple', 'banana'}\n"
          ],
          "name": "stdout"
        }
      ]
    },
    {
      "cell_type": "code",
      "metadata": {
        "colab": {
          "base_uri": "https://localhost:8080/"
        },
        "id": "A_6AYs7p1ta7",
        "outputId": "7127fd38-726f-4e1a-be4f-8624f7b9bfa9"
      },
      "source": [
        "#Add Sets\r\n",
        "#To add items from another set into the current set, use the update() method.\r\n",
        "#Add elements from tropical and thisset into newset:\r\n",
        "\r\n",
        "thisset = {\"apple\", \"banana\", \"cherry\"}\r\n",
        "tropical = {\"pineapple\", \"mango\", \"papaya\"}\r\n",
        "\r\n",
        "thisset.update(tropical)\r\n",
        "\r\n",
        "print(thisset)"
      ],
      "execution_count": 11,
      "outputs": [
        {
          "output_type": "stream",
          "text": [
            "{'papaya', 'cherry', 'apple', 'banana', 'pineapple', 'mango'}\n"
          ],
          "name": "stdout"
        }
      ]
    },
    {
      "cell_type": "code",
      "metadata": {
        "colab": {
          "base_uri": "https://localhost:8080/"
        },
        "id": "mkN6d3A110Kp",
        "outputId": "1cffdb2f-17fa-41ef-afcb-da3f6c425205"
      },
      "source": [
        "#Add Any Iterable\r\n",
        "#The object in the update() method does not have be a set, it can be any iterable object (tuples, lists, dictionaries et,).\r\n",
        "#Add elements of a list to at set:\r\n",
        "\r\n",
        "thisset = {\"apple\", \"banana\", \"cherry\"}\r\n",
        "mylist = [\"kiwi\", \"orange\"]\r\n",
        "\r\n",
        "thisset.update(mylist)\r\n",
        "\r\n",
        "print(thisset)"
      ],
      "execution_count": 13,
      "outputs": [
        {
          "output_type": "stream",
          "text": [
            "{'cherry', 'apple', 'kiwi', 'orange', 'banana'}\n"
          ],
          "name": "stdout"
        }
      ]
    },
    {
      "cell_type": "code",
      "metadata": {
        "colab": {
          "base_uri": "https://localhost:8080/"
        },
        "id": "uJR8F9Zf2wSj",
        "outputId": "36dd4d9c-e5a8-4d5c-f227-74c99cad4815"
      },
      "source": [
        "#Remove Set Items\r\n",
        "#Remove Item\r\n",
        "#To remove an item in a set, use the remove(), or the discard() method.\r\n",
        "\r\n",
        "#Remove \"banana\" by using the remove() method:\r\n",
        "\r\n",
        "thisset = {\"apple\", \"banana\", \"cherry\"}\r\n",
        "\r\n",
        "thisset.remove(\"banana\")\r\n",
        "\r\n",
        "print(thisset)\r\n",
        "#If the item to remove does not exist, remove() will raise an error."
      ],
      "execution_count": 14,
      "outputs": [
        {
          "output_type": "stream",
          "text": [
            "{'cherry', 'apple'}\n"
          ],
          "name": "stdout"
        }
      ]
    },
    {
      "cell_type": "code",
      "metadata": {
        "colab": {
          "base_uri": "https://localhost:8080/"
        },
        "id": "r_2rxy252whs",
        "outputId": "9f59c25b-6c51-4fa8-ba14-f9f2014eb5c4"
      },
      "source": [
        "#Remove \"banana\" by using the discard() method:\r\n",
        "\r\n",
        "thisset = {\"apple\", \"banana\", \"cherry\"}\r\n",
        "\r\n",
        "thisset.discard(\"banana\")\r\n",
        "\r\n",
        "print(thisset)\r\n",
        "# If the item to remove does not exist, discard() will NOT raise an error."
      ],
      "execution_count": 15,
      "outputs": [
        {
          "output_type": "stream",
          "text": [
            "{'cherry', 'apple'}\n"
          ],
          "name": "stdout"
        }
      ]
    },
    {
      "cell_type": "code",
      "metadata": {
        "colab": {
          "base_uri": "https://localhost:8080/"
        },
        "id": "U9HTqVdF2wvC",
        "outputId": "e28b2814-42ad-4dea-cf2f-09786e038185"
      },
      "source": [
        "#You can also use the pop() method to remove an item, but this method will remove the last item.\r\n",
        "#Remove the last item by using the pop() method:\r\n",
        "\r\n",
        "thisset = {\"apple\", \"banana\", \"cherry\"}\r\n",
        "\r\n",
        "x = thisset.pop()\r\n",
        "\r\n",
        "print(x)\r\n",
        "\r\n",
        "print(thisset)"
      ],
      "execution_count": 16,
      "outputs": [
        {
          "output_type": "stream",
          "text": [
            "cherry\n",
            "{'apple', 'banana'}\n"
          ],
          "name": "stdout"
        }
      ]
    },
    {
      "cell_type": "code",
      "metadata": {
        "colab": {
          "base_uri": "https://localhost:8080/"
        },
        "id": "1MKODRC92w76",
        "outputId": "61c649c6-e2d4-4a68-a5bf-21f46f7bc829"
      },
      "source": [
        "#The clear() method empties the set:\r\n",
        "\r\n",
        "thisset = {\"apple\", \"banana\", \"cherry\"}\r\n",
        "\r\n",
        "thisset.clear()\r\n",
        "\r\n",
        "print(thisset)"
      ],
      "execution_count": 17,
      "outputs": [
        {
          "output_type": "stream",
          "text": [
            "set()\n"
          ],
          "name": "stdout"
        }
      ]
    },
    {
      "cell_type": "code",
      "metadata": {
        "colab": {
          "base_uri": "https://localhost:8080/"
        },
        "id": "LTUNhw1kFXoN",
        "outputId": "13cd21e0-7c05-4d62-bc4c-bddccfde5f4f"
      },
      "source": [
        "#Remove all elements from the fruits set:\r\n",
        "\r\n",
        "fruits = {\"apple\", \"banana\", \"cherry\"}\r\n",
        "\r\n",
        "fruits.clear()\r\n",
        "\r\n",
        "print(fruits)"
      ],
      "execution_count": 28,
      "outputs": [
        {
          "output_type": "stream",
          "text": [
            "set()\n"
          ],
          "name": "stdout"
        }
      ]
    },
    {
      "cell_type": "code",
      "metadata": {
        "colab": {
          "base_uri": "https://localhost:8080/",
          "height": 197
        },
        "id": "U7h5SCRJ2xHb",
        "outputId": "46e6f636-7b92-41ad-c873-231af9a16f3e"
      },
      "source": [
        "#The del keyword will delete the set completely:\r\n",
        "\r\n",
        "thisset = {\"apple\", \"banana\", \"cherry\"}\r\n",
        "\r\n",
        "del thisset\r\n",
        "\r\n",
        "print(thisset)"
      ],
      "execution_count": 18,
      "outputs": [
        {
          "output_type": "error",
          "ename": "NameError",
          "evalue": "ignored",
          "traceback": [
            "\u001b[0;31m---------------------------------------------------------------------------\u001b[0m",
            "\u001b[0;31mNameError\u001b[0m                                 Traceback (most recent call last)",
            "\u001b[0;32m<ipython-input-18-3bd3115f2ab0>\u001b[0m in \u001b[0;36m<module>\u001b[0;34m()\u001b[0m\n\u001b[1;32m      5\u001b[0m \u001b[0;32mdel\u001b[0m \u001b[0mthisset\u001b[0m\u001b[0;34m\u001b[0m\u001b[0;34m\u001b[0m\u001b[0m\n\u001b[1;32m      6\u001b[0m \u001b[0;34m\u001b[0m\u001b[0m\n\u001b[0;32m----> 7\u001b[0;31m \u001b[0mprint\u001b[0m\u001b[0;34m(\u001b[0m\u001b[0mthisset\u001b[0m\u001b[0;34m)\u001b[0m\u001b[0;34m\u001b[0m\u001b[0;34m\u001b[0m\u001b[0m\n\u001b[0m",
            "\u001b[0;31mNameError\u001b[0m: name 'thisset' is not defined"
          ]
        }
      ]
    },
    {
      "cell_type": "code",
      "metadata": {
        "colab": {
          "base_uri": "https://localhost:8080/"
        },
        "id": "E3w-KYBL3QoJ",
        "outputId": "8ae2fe60-6743-43b2-9cf8-ba356e323593"
      },
      "source": [
        "#Loop Sets\r\n",
        "#You can loop through the set items by using a for loop\r\n",
        "#Loop through the set, and print the values:\r\n",
        "\r\n",
        "thisset = {\"apple\", \"banana\", \"cherry\"}\r\n",
        "\r\n",
        "for x in thisset:\r\n",
        "  print(x)"
      ],
      "execution_count": 19,
      "outputs": [
        {
          "output_type": "stream",
          "text": [
            "cherry\n",
            "apple\n",
            "banana\n"
          ],
          "name": "stdout"
        }
      ]
    },
    {
      "cell_type": "code",
      "metadata": {
        "colab": {
          "base_uri": "https://localhost:8080/"
        },
        "id": "M0A4uySd3aDp",
        "outputId": "46066712-2a30-470d-aec6-9a59500f1acc"
      },
      "source": [
        "#Join Sets\r\n",
        "#Join Two Sets\r\n",
        "#There are several ways to join two or more sets in Python.\r\n",
        "\r\n",
        "#You can use the union() method that returns a new set containing all items from both sets, or the update() method that inserts all the items from one set into another\r\n",
        "#The union() method returns a new set with all items from both sets:\r\n",
        "\r\n",
        "set1 = {\"a\", \"b\" , \"c\"}\r\n",
        "set2 = {1, 2, 3}\r\n",
        "\r\n",
        "set3 = set1.union(set2)\r\n",
        "print(set3)"
      ],
      "execution_count": 20,
      "outputs": [
        {
          "output_type": "stream",
          "text": [
            "{1, 2, 3, 'b', 'c', 'a'}\n"
          ],
          "name": "stdout"
        }
      ]
    },
    {
      "cell_type": "code",
      "metadata": {
        "colab": {
          "base_uri": "https://localhost:8080/"
        },
        "id": "nKaDJH1J3ksH",
        "outputId": "1a3fb970-40ba-444e-8303-3cfbfd94da20"
      },
      "source": [
        "#The update() method inserts the items in set2 into set1:\r\n",
        "\r\n",
        "set1 = {\"a\", \"b\" , \"c\"}\r\n",
        "set2 = {1, 2, 3}\r\n",
        "\r\n",
        "set1.update(set2)\r\n",
        "print(set1)"
      ],
      "execution_count": 21,
      "outputs": [
        {
          "output_type": "stream",
          "text": [
            "{1, 2, 3, 'b', 'c', 'a'}\n"
          ],
          "name": "stdout"
        }
      ]
    },
    {
      "cell_type": "code",
      "metadata": {
        "id": "7mcapUtt3pd2"
      },
      "source": [
        "Both union() and update() will exclude any duplicate items."
      ],
      "execution_count": null,
      "outputs": []
    },
    {
      "cell_type": "code",
      "metadata": {
        "id": "VaUdfvqg3p0L"
      },
      "source": [
        "Keep ONLY the Duplicates\r\n",
        "The intersection_update() method will keep only the items that are present in both sets\r\n",
        "intersection_update()\tRemoves the items in this set that are not present in other, specified set(s)"
      ],
      "execution_count": null,
      "outputs": []
    },
    {
      "cell_type": "code",
      "metadata": {
        "colab": {
          "base_uri": "https://localhost:8080/"
        },
        "id": "1gEntjHT3sRv",
        "outputId": "135e3394-3100-42d8-fbbe-bc7b05ee3da4"
      },
      "source": [
        "#Keep the items that exist in both set x, and set y:\r\n",
        "\r\n",
        "x = {\"apple\", \"banana\", \"cherry\"}\r\n",
        "y = {\"google\", \"microsoft\", \"apple\"}\r\n",
        "\r\n",
        "x.intersection_update(y)\r\n",
        "\r\n",
        "print(x)"
      ],
      "execution_count": 22,
      "outputs": [
        {
          "output_type": "stream",
          "text": [
            "{'apple'}\n"
          ],
          "name": "stdout"
        }
      ]
    },
    {
      "cell_type": "code",
      "metadata": {
        "colab": {
          "base_uri": "https://localhost:8080/"
        },
        "id": "Fh3MmP7jId0G",
        "outputId": "b67eb0f0-e3cf-4ee9-8c2d-6815960771c4"
      },
      "source": [
        "#Remove the items that is not present in both x and y:\r\n",
        "\r\n",
        "x = {\"apple\", \"banana\", \"cherry\"}\r\n",
        "y = {\"google\", \"microsoft\", \"apple\"}\r\n",
        "\r\n",
        "x.intersection_update(y)\r\n",
        "\r\n",
        "print(x)"
      ],
      "execution_count": 35,
      "outputs": [
        {
          "output_type": "stream",
          "text": [
            "{'apple'}\n"
          ],
          "name": "stdout"
        }
      ]
    },
    {
      "cell_type": "code",
      "metadata": {
        "colab": {
          "base_uri": "https://localhost:8080/"
        },
        "id": "t-S6wkDPIqoE",
        "outputId": "909a6ba9-fb34-4614-a258-68fd928dc6be"
      },
      "source": [
        "#Compare 3 sets, and return a set with items that is present in all 3 sets:\r\n",
        "\r\n",
        "x = {\"a\", \"b\", \"c\"}\r\n",
        "y = {\"c\", \"d\", \"e\"}\r\n",
        "z = {\"f\", \"g\", \"c\"}\r\n",
        "\r\n",
        "x.intersection_update(y, z)\r\n",
        "\r\n",
        "print(x)"
      ],
      "execution_count": 36,
      "outputs": [
        {
          "output_type": "stream",
          "text": [
            "{'c'}\n"
          ],
          "name": "stdout"
        }
      ]
    },
    {
      "cell_type": "code",
      "metadata": {
        "colab": {
          "base_uri": "https://localhost:8080/"
        },
        "id": "o4KbEsdN3wuO",
        "outputId": "8f49913d-33dd-486b-afc7-75816d8715d9"
      },
      "source": [
        "#The intersection() method will return a new set, that only contains the items that are present in both sets.\r\n",
        "#Return a set that contains the items that exist in both set x, and set y:\r\n",
        "\r\n",
        "x = {\"apple\", \"banana\", \"cherry\"}\r\n",
        "y = {\"google\", \"microsoft\", \"apple\"}\r\n",
        "\r\n",
        "z = x.intersection(y)\r\n",
        "\r\n",
        "print(z)"
      ],
      "execution_count": 23,
      "outputs": [
        {
          "output_type": "stream",
          "text": [
            "{'apple'}\n"
          ],
          "name": "stdout"
        }
      ]
    },
    {
      "cell_type": "code",
      "metadata": {
        "colab": {
          "base_uri": "https://localhost:8080/"
        },
        "id": "0Y8zFG0JIROf",
        "outputId": "ec217167-50c5-47a0-b1be-cac5bb2f17d9"
      },
      "source": [
        "#Return a set that contains the items that exist in both set x, and set y:\r\n",
        "\r\n",
        "x = {\"apple\", \"banana\", \"cherry\"}\r\n",
        "y = {\"google\", \"microsoft\", \"apple\"}\r\n",
        "\r\n",
        "z = x.intersection(y)\r\n",
        "\r\n",
        "print(z)"
      ],
      "execution_count": 34,
      "outputs": [
        {
          "output_type": "stream",
          "text": [
            "{'apple'}\n"
          ],
          "name": "stdout"
        }
      ]
    },
    {
      "cell_type": "code",
      "metadata": {
        "colab": {
          "base_uri": "https://localhost:8080/"
        },
        "id": "NDVK09T_32fX",
        "outputId": "cf9a1328-a3a9-4d87-85a5-03d52480eb96"
      },
      "source": [
        "#Keep All, But NOT the Duplicates\r\n",
        "#The symmetric_difference_update() method will keep only the elements that are NOT present in both sets.\r\n",
        "#Keep the items that are not present in both sets:\r\n",
        "\r\n",
        "x = {\"apple\", \"banana\", \"cherry\"}\r\n",
        "y = {\"google\", \"microsoft\", \"apple\"}\r\n",
        "\r\n",
        "x.symmetric_difference_update(y)\r\n",
        "\r\n",
        "print(x)\r\n"
      ],
      "execution_count": 24,
      "outputs": [
        {
          "output_type": "stream",
          "text": [
            "{'cherry', 'google', 'banana', 'microsoft'}\n"
          ],
          "name": "stdout"
        }
      ]
    },
    {
      "cell_type": "code",
      "metadata": {
        "colab": {
          "base_uri": "https://localhost:8080/"
        },
        "id": "cptkvYYz3-Su",
        "outputId": "ad19cd7d-fc64-457a-8eee-681a5f7aca37"
      },
      "source": [
        "#The symmetric_difference() method will return a new set, that contains only the elements that are NOT present in both sets.\r\n",
        "#Return a set that contains all items from both sets, except items that are present in both:\r\n",
        "\r\n",
        "x = {\"apple\", \"banana\", \"cherry\"}\r\n",
        "y = {\"google\", \"microsoft\", \"apple\"}\r\n",
        "\r\n",
        "z = x.symmetric_difference(y)\r\n",
        "\r\n",
        "print(z)"
      ],
      "execution_count": 25,
      "outputs": [
        {
          "output_type": "stream",
          "text": [
            "{'cherry', 'microsoft', 'google', 'banana'}\n"
          ],
          "name": "stdout"
        }
      ]
    },
    {
      "cell_type": "code",
      "metadata": {
        "colab": {
          "base_uri": "https://localhost:8080/"
        },
        "id": "lpj15ckvFkui",
        "outputId": "9722d279-6470-41cf-9573-d6638d66028e"
      },
      "source": [
        "#Copy\r\n",
        "#Copy the fruits set:\r\n",
        "\r\n",
        "fruits = {\"apple\", \"banana\", \"cherry\"}\r\n",
        "\r\n",
        "x = fruits.copy()\r\n",
        "\r\n",
        "print(x)"
      ],
      "execution_count": 29,
      "outputs": [
        {
          "output_type": "stream",
          "text": [
            "{'cherry', 'apple', 'banana'}\n"
          ],
          "name": "stdout"
        }
      ]
    },
    {
      "cell_type": "code",
      "metadata": {
        "colab": {
          "base_uri": "https://localhost:8080/"
        },
        "id": "-dQRUxMlFves",
        "outputId": "b01ad668-21b8-4e48-b3f8-e7e987f23617"
      },
      "source": [
        "#Set difference() Method\r\n",
        "#Return a set that contains the items that only exist in set x, and not in set y:\r\n",
        "\r\n",
        "x = {\"apple\", \"banana\", \"cherry\"}\r\n",
        "y = {\"google\", \"microsoft\", \"apple\"}\r\n",
        "\r\n",
        "z = x.difference(y)\r\n",
        "\r\n",
        "print(z)"
      ],
      "execution_count": 30,
      "outputs": [
        {
          "output_type": "stream",
          "text": [
            "{'cherry', 'banana'}\n"
          ],
          "name": "stdout"
        }
      ]
    },
    {
      "cell_type": "code",
      "metadata": {
        "colab": {
          "base_uri": "https://localhost:8080/"
        },
        "id": "w8pRhdoFGPZG",
        "outputId": "74613700-32d3-40dc-fb64-58705544c3da"
      },
      "source": [
        "#Return a set that contains the items that only exist in set y, and not in set x:\r\n",
        "\r\n",
        "x = {\"apple\", \"banana\", \"cherry\"}\r\n",
        "y = {\"google\", \"microsoft\", \"apple\"}\r\n",
        "\r\n",
        "z = y.difference(x)\r\n",
        "\r\n",
        "print(z)"
      ],
      "execution_count": 31,
      "outputs": [
        {
          "output_type": "stream",
          "text": [
            "{'google', 'microsoft'}\n"
          ],
          "name": "stdout"
        }
      ]
    },
    {
      "cell_type": "code",
      "metadata": {
        "colab": {
          "base_uri": "https://localhost:8080/"
        },
        "id": "yZlhLFhvGfE1",
        "outputId": "f73fe199-8503-4d20-b14f-fea662ffb7fc"
      },
      "source": [
        "#difference_update()\tRemoves the items in this set that are also included in another, specified set\r\n",
        "#Remove the items that exist in both sets:\r\n",
        "\r\n",
        "x = {\"apple\", \"banana\", \"cherry\"}\r\n",
        "y = {\"google\", \"microsoft\", \"apple\"}\r\n",
        "\r\n",
        "x.difference_update(y)\r\n",
        "\r\n",
        "print(x)"
      ],
      "execution_count": 32,
      "outputs": [
        {
          "output_type": "stream",
          "text": [
            "{'cherry', 'banana'}\n"
          ],
          "name": "stdout"
        }
      ]
    },
    {
      "cell_type": "code",
      "metadata": {
        "id": "acv2q53gGfTD"
      },
      "source": [
        "The difference_update() method removes the items that exist in both sets.\r\n",
        "\r\n",
        "The difference_update() method is different from the difference() method, because the difference() method returns a new set,\r\n",
        "without the unwanted items, and the difference_update() method removes the unwanted items from the original set."
      ],
      "execution_count": null,
      "outputs": []
    },
    {
      "cell_type": "code",
      "metadata": {
        "colab": {
          "base_uri": "https://localhost:8080/"
        },
        "id": "p_n9uvw1GfiZ",
        "outputId": "00c8932a-4f8a-4257-9a01-1cbb9eeeb02a"
      },
      "source": [
        "#discard()\tRemove the specified item\r\n",
        "#Remove \"banana\" from the set:\r\n",
        "\r\n",
        "fruits = {\"apple\", \"banana\", \"cherry\"}\r\n",
        "\r\n",
        "fruits.discard(\"banana\")\r\n",
        "\r\n",
        "print(fruits)\r\n",
        "\r\n",
        "#The discard() method removes the specified item from the set.\r\n",
        "\r\n",
        "#This method is different from the remove() method, because the remove() method will raise an error if the specified item does not exist, and the discard() method will not"
      ],
      "execution_count": 33,
      "outputs": [
        {
          "output_type": "stream",
          "text": [
            "{'cherry', 'apple'}\n"
          ],
          "name": "stdout"
        }
      ]
    },
    {
      "cell_type": "code",
      "metadata": {
        "colab": {
          "base_uri": "https://localhost:8080/"
        },
        "id": "PAJzPMVEGfvc",
        "outputId": "c2d7c83e-8639-4707-f115-bda2b50e42f8"
      },
      "source": [
        "#isdisjoint()\tReturns whether two sets have a intersection or not\r\n",
        "#Return True if no items in set x is present in set y:\r\n",
        "\r\n",
        "x = {\"apple\", \"banana\", \"cherry\"}\r\n",
        "y = {\"google\", \"microsoft\", \"facebook\"}\r\n",
        "\r\n",
        "z = x.isdisjoint(y)\r\n",
        "\r\n",
        "print(z)"
      ],
      "execution_count": 38,
      "outputs": [
        {
          "output_type": "stream",
          "text": [
            "True\n"
          ],
          "name": "stdout"
        }
      ]
    },
    {
      "cell_type": "code",
      "metadata": {
        "colab": {
          "base_uri": "https://localhost:8080/"
        },
        "id": "6gGUuBCwJZiM",
        "outputId": "faa38398-8ab0-4cc7-b8c7-f912fd887705"
      },
      "source": [
        "#Return False if one ore more items are present in both sets:\r\n",
        "\r\n",
        "x = {\"apple\", \"banana\", \"cherry\"}\r\n",
        "y = {\"google\", \"microsoft\", \"apple\"}\r\n",
        "\r\n",
        "z = x.isdisjoint(y)\r\n",
        "\r\n",
        "print(z)"
      ],
      "execution_count": 39,
      "outputs": [
        {
          "output_type": "stream",
          "text": [
            "False\n"
          ],
          "name": "stdout"
        }
      ]
    },
    {
      "cell_type": "code",
      "metadata": {
        "colab": {
          "base_uri": "https://localhost:8080/"
        },
        "id": "GbKB_cZ4JvNA",
        "outputId": "916130ed-e47b-463a-b206-5a7b71dea36d"
      },
      "source": [
        "#issubset()\tReturns whether another set contains this set or not\r\n",
        "#Return True if all items set x are present in set y:\r\n",
        "\r\n",
        "x = {\"a\", \"b\", \"c\"}\r\n",
        "y = {\"f\", \"e\", \"d\", \"c\", \"b\", \"a\"}\r\n",
        "\r\n",
        "z = x.issubset(y)\r\n",
        "\r\n",
        "print(z)"
      ],
      "execution_count": 42,
      "outputs": [
        {
          "output_type": "stream",
          "text": [
            "True\n"
          ],
          "name": "stdout"
        }
      ]
    },
    {
      "cell_type": "code",
      "metadata": {
        "colab": {
          "base_uri": "https://localhost:8080/"
        },
        "id": "me2s4aIUJ0bt",
        "outputId": "2ac57ef0-3bd5-419c-bc75-d98a61cbb2b4"
      },
      "source": [
        "#Return False if not all items in set x are present in set y:\r\n",
        "\r\n",
        "x = {\"a\", \"b\", \"c\"}\r\n",
        "y = {\"f\", \"e\", \"d\", \"c\", \"b\"}\r\n",
        "\r\n",
        "z = x.issubset(y)\r\n",
        "\r\n",
        "print(z)"
      ],
      "execution_count": 41,
      "outputs": [
        {
          "output_type": "stream",
          "text": [
            "False\n"
          ],
          "name": "stdout"
        }
      ]
    },
    {
      "cell_type": "code",
      "metadata": {
        "colab": {
          "base_uri": "https://localhost:8080/"
        },
        "id": "P8_eD71PJ0I3",
        "outputId": "a9248e00-be4e-4040-b4a6-d9e77e24b47c"
      },
      "source": [
        "#issuperset()\tReturns whether this set contains another set or not\r\n",
        "#Return True if all items set y are present in set x:\r\n",
        "\r\n",
        "x = {\"f\", \"e\", \"d\", \"c\", \"b\", \"a\"}\r\n",
        "y = {\"a\", \"b\", \"c\"}\r\n",
        "\r\n",
        "z = x.issuperset(y)\r\n",
        "\r\n",
        "print(z)"
      ],
      "execution_count": 44,
      "outputs": [
        {
          "output_type": "stream",
          "text": [
            "True\n"
          ],
          "name": "stdout"
        }
      ]
    },
    {
      "cell_type": "code",
      "metadata": {
        "colab": {
          "base_uri": "https://localhost:8080/"
        },
        "id": "Aaj_8vCZKTem",
        "outputId": "38dffd34-de12-4deb-f780-a1a7cb77276e"
      },
      "source": [
        "#Return False if not all items in set y are present in set x:\r\n",
        "\r\n",
        "x = {\"f\", \"e\", \"d\", \"c\", \"b\"}\r\n",
        "y = {\"a\", \"b\", \"c\"}\r\n",
        "\r\n",
        "z = x.issuperset(y)\r\n",
        "\r\n",
        "print(z)"
      ],
      "execution_count": 45,
      "outputs": [
        {
          "output_type": "stream",
          "text": [
            "False\n"
          ],
          "name": "stdout"
        }
      ]
    },
    {
      "cell_type": "code",
      "metadata": {
        "colab": {
          "base_uri": "https://localhost:8080/"
        },
        "id": "1FDaBT2dJz9C",
        "outputId": "e0c1817f-ae6a-4307-8274-a847789314f2"
      },
      "source": [
        "#pop()\tRemoves an element from the set\r\n",
        "#Remove a random item from the set:\r\n",
        "\r\n",
        "fruits = {\"apple\", \"banana\", \"cherry\"}\r\n",
        "\r\n",
        "fruits.pop()\r\n",
        "\r\n",
        "print(fruits)"
      ],
      "execution_count": 46,
      "outputs": [
        {
          "output_type": "stream",
          "text": [
            "{'apple', 'banana'}\n"
          ],
          "name": "stdout"
        }
      ]
    },
    {
      "cell_type": "code",
      "metadata": {
        "colab": {
          "base_uri": "https://localhost:8080/"
        },
        "id": "FhI2K3NtKgbY",
        "outputId": "98f29572-db05-476f-9ff6-5008572dd405"
      },
      "source": [
        "#Return the removed element:\r\n",
        "\r\n",
        "fruits = {\"apple\", \"banana\", \"cherry\"}\r\n",
        "\r\n",
        "x = fruits.pop()\r\n",
        "\r\n",
        "print(x)"
      ],
      "execution_count": 47,
      "outputs": [
        {
          "output_type": "stream",
          "text": [
            "cherry\n"
          ],
          "name": "stdout"
        }
      ]
    },
    {
      "cell_type": "code",
      "metadata": {
        "colab": {
          "base_uri": "https://localhost:8080/"
        },
        "id": "-LMyomQ_Jzze",
        "outputId": "c4cab7fc-cf2a-443e-d114-cb2212382bfc"
      },
      "source": [
        "#remove()\tRemoves the specified element\r\n",
        "#Remove \"banana\" from the set:\r\n",
        "\r\n",
        "fruits = {\"apple\", \"banana\", \"cherry\"}\r\n",
        "\r\n",
        "fruits.remove(\"banana\")\r\n",
        "\r\n",
        "print(fruits)\r\n",
        "The remove() method removes the specified element from the set.\r\n",
        "\r\n",
        "This method is different from the discard() method, because the remove() method will raise an error if the specified item does not exist, and the discard() method will not."
      ],
      "execution_count": 48,
      "outputs": [
        {
          "output_type": "stream",
          "text": [
            "{'cherry', 'apple'}\n"
          ],
          "name": "stdout"
        }
      ]
    },
    {
      "cell_type": "code",
      "metadata": {
        "id": "KwL8WgL8Jzog"
      },
      "source": [
        "#symmetric_difference()\tReturns a set with the symmetric differences of two sets"
      ],
      "execution_count": null,
      "outputs": []
    },
    {
      "cell_type": "code",
      "metadata": {
        "id": "Mym6mCphJzgO"
      },
      "source": [
        "#symmetric_difference_update()\tinserts the symmetric differences from this set and another"
      ],
      "execution_count": null,
      "outputs": []
    },
    {
      "cell_type": "code",
      "metadata": {
        "colab": {
          "base_uri": "https://localhost:8080/"
        },
        "id": "jFctdh0zJza0",
        "outputId": "b59a145d-7099-47be-b151-055349167572"
      },
      "source": [
        "#union()\tReturn a set containing the union of sets\r\n",
        "#Return a set that contains all items from both sets, duplicates are excluded:\r\n",
        "\r\n",
        "x = {\"apple\", \"banana\", \"cherry\"}\r\n",
        "y = {\"google\", \"microsoft\", \"apple\"}\r\n",
        "\r\n",
        "z = x.union(y)\r\n",
        "\r\n",
        "print(z)"
      ],
      "execution_count": 50,
      "outputs": [
        {
          "output_type": "stream",
          "text": [
            "{'cherry', 'apple', 'banana', 'microsoft', 'google'}\n"
          ],
          "name": "stdout"
        }
      ]
    },
    {
      "cell_type": "code",
      "metadata": {
        "colab": {
          "base_uri": "https://localhost:8080/"
        },
        "id": "OeTzxRLHLLFU",
        "outputId": "a1da0b60-dfd8-480e-90f0-7e059cef6215"
      },
      "source": [
        "#Unify more than 2 sets:\r\n",
        "\r\n",
        "x = {\"a\", \"b\", \"c\"}\r\n",
        "y = {\"f\", \"d\", \"a\"}\r\n",
        "z = {\"c\", \"d\", \"e\"}\r\n",
        "\r\n",
        "result = x.union(y, z)\r\n",
        "\r\n",
        "print(result)"
      ],
      "execution_count": 51,
      "outputs": [
        {
          "output_type": "stream",
          "text": [
            "{'d', 'b', 'f', 'c', 'a', 'e'}\n"
          ],
          "name": "stdout"
        }
      ]
    },
    {
      "cell_type": "code",
      "metadata": {
        "colab": {
          "base_uri": "https://localhost:8080/"
        },
        "id": "2Fwe-OIQJzEa",
        "outputId": "863aafe6-e825-4fda-ac73-bc0588b0beb1"
      },
      "source": [
        "#update()\tUpdate the set with the union of this set and others\r\n",
        "#Insert the items from set y into set x:\r\n",
        "\r\n",
        "x = {\"apple\", \"banana\", \"cherry\"}\r\n",
        "y = {\"google\", \"microsoft\", \"apple\"}\r\n",
        "\r\n",
        "x.update(y)\r\n",
        "\r\n",
        "print(x)"
      ],
      "execution_count": 49,
      "outputs": [
        {
          "output_type": "stream",
          "text": [
            "{'cherry', 'apple', 'banana', 'microsoft', 'google'}\n"
          ],
          "name": "stdout"
        }
      ]
    },
    {
      "cell_type": "code",
      "metadata": {
        "colab": {
          "base_uri": "https://localhost:8080/"
        },
        "id": "nrVtyfluLTCJ",
        "outputId": "7235a77f-a0d6-4a40-8697-cbe3b3fdd0a5"
      },
      "source": [
        "#symmetric_difference_update()\r\n",
        "#symmetric_difference()\tReturns a set with the symmetric differences of two sets\r\n",
        "#Remove the items that are present in both sets, AND insert the items that is not present in both sets:\r\n",
        "\r\n",
        "x = {\"apple\", \"banana\", \"cherry\"}\r\n",
        "y = {\"google\", \"microsoft\", \"apple\"}\r\n",
        "\r\n",
        "x.symmetric_difference_update(y)\r\n",
        "\r\n",
        "print(x)"
      ],
      "execution_count": 52,
      "outputs": [
        {
          "output_type": "stream",
          "text": [
            "{'cherry', 'google', 'banana', 'microsoft'}\n"
          ],
          "name": "stdout"
        }
      ]
    },
    {
      "cell_type": "code",
      "metadata": {
        "colab": {
          "base_uri": "https://localhost:8080/"
        },
        "id": "diBqK6BRLvuj",
        "outputId": "7e21e469-b454-40ce-e9b9-7cee60aa006a"
      },
      "source": [
        "#symmetric_difference()\tReturns a set with the symmetric differences of two sets\r\n",
        "\r\n",
        "#Return a set that contains all items from both sets, except items that are present in both sets:\r\n",
        "\r\n",
        "x = {\"apple\", \"banana\", \"cherry\"}\r\n",
        "y = {\"google\", \"microsoft\", \"apple\"}\r\n",
        "\r\n",
        "z = x.symmetric_difference(y)\r\n",
        "\r\n",
        "print(z)"
      ],
      "execution_count": 53,
      "outputs": [
        {
          "output_type": "stream",
          "text": [
            "{'cherry', 'microsoft', 'google', 'banana'}\n"
          ],
          "name": "stdout"
        }
      ]
    }
  ]
}