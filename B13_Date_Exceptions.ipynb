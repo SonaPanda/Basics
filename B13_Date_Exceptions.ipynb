{
  "nbformat": 4,
  "nbformat_minor": 0,
  "metadata": {
    "colab": {
      "name": "B13_Date/Exceptions.ipynb",
      "provenance": [],
      "collapsed_sections": []
    },
    "kernelspec": {
      "name": "python3",
      "display_name": "Python 3"
    }
  },
  "cells": [
    {
      "cell_type": "code",
      "metadata": {
        "id": "ptskgYyQ1-Wu"
      },
      "source": [
        "Python Dates\r\n",
        "A date in Python is not a data type of its own, but we can import a module named datetime to work with dates as date objects."
      ],
      "execution_count": null,
      "outputs": []
    },
    {
      "cell_type": "code",
      "metadata": {
        "colab": {
          "base_uri": "https://localhost:8080/"
        },
        "id": "FS3tk6BBs_cp",
        "outputId": "f546044c-8362-4696-846c-10834fbd74f9"
      },
      "source": [
        "#Import the datetime module and display the current date:\r\n",
        "\r\n",
        "import datetime\r\n",
        "\r\n",
        "x = datetime.datetime.now()\r\n",
        "print(x)"
      ],
      "execution_count": 1,
      "outputs": [
        {
          "output_type": "stream",
          "text": [
            "2021-02-12 05:26:16.636474\n"
          ],
          "name": "stdout"
        }
      ]
    },
    {
      "cell_type": "code",
      "metadata": {
        "id": "wZuSegJctLL8"
      },
      "source": [
        "Date Output\r\n",
        "When we execute the code from the example above the result will be:\r\n",
        "\r\n",
        "2021-02-12 10:52:44.347057\r\n",
        "The date contains year, month, day, hour, minute, second, and microsecond.\r\n",
        "\r\n",
        "The datetime module has many methods to return information about the date object."
      ],
      "execution_count": null,
      "outputs": []
    },
    {
      "cell_type": "code",
      "metadata": {
        "colab": {
          "base_uri": "https://localhost:8080/"
        },
        "id": "j_IhPj_mtLmw",
        "outputId": "00464abb-c7da-4ce5-8b88-8575c8e311f4"
      },
      "source": [
        "#Return the year and name of weekday:\r\n",
        "\r\n",
        "import datetime\r\n",
        "\r\n",
        "x = datetime.datetime.now()\r\n",
        "\r\n",
        "print(x.year)\r\n",
        "print(x.strftime(\"%A\"))"
      ],
      "execution_count": 2,
      "outputs": [
        {
          "output_type": "stream",
          "text": [
            "2021\n",
            "Friday\n"
          ],
          "name": "stdout"
        }
      ]
    },
    {
      "cell_type": "code",
      "metadata": {
        "id": "j5gpDNlUtUQT"
      },
      "source": [
        "Creating Date Objects\r\n",
        "To create a date, we can use the datetime() class (constructor) of the datetime module.\r\n",
        "\r\n",
        "The datetime() class requires three parameters to create a date: year, month, day."
      ],
      "execution_count": null,
      "outputs": []
    },
    {
      "cell_type": "code",
      "metadata": {
        "colab": {
          "base_uri": "https://localhost:8080/"
        },
        "id": "q082ljPHtUjI",
        "outputId": "ab1eaa6e-eaee-40ea-aaf9-735c8226437f"
      },
      "source": [
        "#Create a date object:\r\n",
        "\r\n",
        "import datetime\r\n",
        "\r\n",
        "x = datetime.datetime(2020, 5, 17)\r\n",
        "\r\n",
        "print(x)\r\n",
        "#The datetime() class also takes parameters for time and timezone (hour, minute, second, microsecond, tzone), but they are optional, and has a default value of 0, (None for timezone)"
      ],
      "execution_count": 3,
      "outputs": [
        {
          "output_type": "stream",
          "text": [
            "2020-05-17 00:00:00\n"
          ],
          "name": "stdout"
        }
      ]
    },
    {
      "cell_type": "code",
      "metadata": {
        "id": "4Jr6DMoWtYmr"
      },
      "source": [
        "The strftime() Method\r\n",
        "The datetime object has a method for formatting date objects into readable strings.\r\n",
        "\r\n",
        "The method is called strftime(), and takes one parameter, format, to specify the format of the returned string"
      ],
      "execution_count": null,
      "outputs": []
    },
    {
      "cell_type": "code",
      "metadata": {
        "colab": {
          "base_uri": "https://localhost:8080/"
        },
        "id": "_48TOG8-tz_N",
        "outputId": "198b83ca-5be6-4424-f6bd-fd48be5f52b3"
      },
      "source": [
        "#Display the name of the month:\r\n",
        "\r\n",
        "import datetime\r\n",
        "\r\n",
        "x = datetime.datetime(2018, 6, 1)\r\n",
        "\r\n",
        "print(x.strftime(\"%B\"))"
      ],
      "execution_count": 4,
      "outputs": [
        {
          "output_type": "stream",
          "text": [
            "June\n"
          ],
          "name": "stdout"
        }
      ]
    },
    {
      "cell_type": "code",
      "metadata": {
        "colab": {
          "base_uri": "https://localhost:8080/"
        },
        "id": "qltxhIBgunTX",
        "outputId": "8e7d1b6e-8511-4905-8f7b-b009383b10d4"
      },
      "source": [
        "#%a\tWeekday, short version\tWed\r\n",
        "import datetime\r\n",
        "\r\n",
        "x = datetime.datetime.now()\r\n",
        "\r\n",
        "print(x.strftime(\"%a\"))"
      ],
      "execution_count": 5,
      "outputs": [
        {
          "output_type": "stream",
          "text": [
            "Fri\n"
          ],
          "name": "stdout"
        }
      ]
    },
    {
      "cell_type": "code",
      "metadata": {
        "colab": {
          "base_uri": "https://localhost:8080/"
        },
        "id": "W2Kd1_a4uuNt",
        "outputId": "9eb07b11-2e19-4b26-d6e4-a7f269bb579a"
      },
      "source": [
        "#%A\tWeekday, full version\tWednesday\r\n",
        "import datetime\r\n",
        "\r\n",
        "x = datetime.datetime.now()\r\n",
        "\r\n",
        "print(x.strftime(\"%A\"))"
      ],
      "execution_count": 6,
      "outputs": [
        {
          "output_type": "stream",
          "text": [
            "Friday\n"
          ],
          "name": "stdout"
        }
      ]
    },
    {
      "cell_type": "code",
      "metadata": {
        "colab": {
          "base_uri": "https://localhost:8080/"
        },
        "id": "MIGq8em_v9es",
        "outputId": "b3ea4b5a-5096-498e-babd-2fa09ea845df"
      },
      "source": [
        "#%w\tWeekday as a number 0-6, 0 is Sunday\t3\r\n",
        "import datetime\r\n",
        "\r\n",
        "x = datetime.datetime.now()\r\n",
        "\r\n",
        "print(x.strftime(\"%w\"))"
      ],
      "execution_count": 7,
      "outputs": [
        {
          "output_type": "stream",
          "text": [
            "5\n"
          ],
          "name": "stdout"
        }
      ]
    },
    {
      "cell_type": "code",
      "metadata": {
        "colab": {
          "base_uri": "https://localhost:8080/"
        },
        "id": "NNqsjOVLwEDT",
        "outputId": "094730fb-f1ad-4cf6-b909-003464fd5a16"
      },
      "source": [
        "#%d\tDay of month 01-31\t31\r\n",
        "import datetime\r\n",
        "\r\n",
        "x = datetime.datetime.now()\r\n",
        "\r\n",
        "print(x.strftime(\"%d\"))"
      ],
      "execution_count": 8,
      "outputs": [
        {
          "output_type": "stream",
          "text": [
            "12\n"
          ],
          "name": "stdout"
        }
      ]
    },
    {
      "cell_type": "code",
      "metadata": {
        "id": "p7Hw9SkqwKc3"
      },
      "source": [
        "#%b\tMonth name, short version\tDec"
      ],
      "execution_count": null,
      "outputs": []
    },
    {
      "cell_type": "code",
      "metadata": {
        "colab": {
          "base_uri": "https://localhost:8080/"
        },
        "id": "cqgStguwwjAk",
        "outputId": "f5d5b655-64f5-4e25-b950-34d6758ec983"
      },
      "source": [
        "import datetime\r\n",
        "\r\n",
        "x = datetime.datetime.now()\r\n",
        "\r\n",
        "print(x.strftime(\"%b\"))"
      ],
      "execution_count": 9,
      "outputs": [
        {
          "output_type": "stream",
          "text": [
            "Feb\n"
          ],
          "name": "stdout"
        }
      ]
    },
    {
      "cell_type": "code",
      "metadata": {
        "id": "6jjlCZhtwKqe"
      },
      "source": [
        "#%B\tMonth name, full version\tDecember"
      ],
      "execution_count": null,
      "outputs": []
    },
    {
      "cell_type": "code",
      "metadata": {
        "colab": {
          "base_uri": "https://localhost:8080/"
        },
        "id": "-s-vuxoUwoN3",
        "outputId": "5c7078e4-6219-4c1d-b11c-a035812c545f"
      },
      "source": [
        "import datetime\r\n",
        "\r\n",
        "x = datetime.datetime.now()\r\n",
        "\r\n",
        "print(x.strftime(\"%B\"))"
      ],
      "execution_count": 10,
      "outputs": [
        {
          "output_type": "stream",
          "text": [
            "February\n"
          ],
          "name": "stdout"
        }
      ]
    },
    {
      "cell_type": "code",
      "metadata": {
        "id": "wxJpkEUUwK3d"
      },
      "source": [
        "#%m\tMonth as a number 01-12\t12"
      ],
      "execution_count": null,
      "outputs": []
    },
    {
      "cell_type": "code",
      "metadata": {
        "colab": {
          "base_uri": "https://localhost:8080/"
        },
        "id": "18QT0OSrwLFK",
        "outputId": "d8f8d58b-f816-42d1-ed53-c1750e64ba54"
      },
      "source": [
        "import datetime\r\n",
        "\r\n",
        "x = datetime.datetime.now()\r\n",
        "\r\n",
        "print(x.strftime(\"%m\"))"
      ],
      "execution_count": 11,
      "outputs": [
        {
          "output_type": "stream",
          "text": [
            "02\n"
          ],
          "name": "stdout"
        }
      ]
    },
    {
      "cell_type": "code",
      "metadata": {
        "id": "EwbITwZzwsNO"
      },
      "source": [
        "#%y\tYear, short version, without century\t18"
      ],
      "execution_count": null,
      "outputs": []
    },
    {
      "cell_type": "code",
      "metadata": {
        "colab": {
          "base_uri": "https://localhost:8080/"
        },
        "id": "Ev8f0lPfxPDP",
        "outputId": "fae0ecda-5932-4569-aea7-f19ea150b243"
      },
      "source": [
        "import datetime\r\n",
        "\r\n",
        "x = datetime.datetime.now()\r\n",
        "\r\n",
        "print(x.strftime(\"%y\"))"
      ],
      "execution_count": 12,
      "outputs": [
        {
          "output_type": "stream",
          "text": [
            "21\n"
          ],
          "name": "stdout"
        }
      ]
    },
    {
      "cell_type": "code",
      "metadata": {
        "id": "xngFzJbYwsZk"
      },
      "source": [
        "#%Y\tYear, full version\t2018"
      ],
      "execution_count": null,
      "outputs": []
    },
    {
      "cell_type": "code",
      "metadata": {
        "colab": {
          "base_uri": "https://localhost:8080/"
        },
        "id": "TGWpBaF4wsm2",
        "outputId": "fb3ceed5-75cc-4707-fa4c-9ccc8d34131c"
      },
      "source": [
        "import datetime\r\n",
        "\r\n",
        "x = datetime.datetime.now()\r\n",
        "\r\n",
        "print(x.strftime(\"%Y\"))"
      ],
      "execution_count": 13,
      "outputs": [
        {
          "output_type": "stream",
          "text": [
            "2021\n"
          ],
          "name": "stdout"
        }
      ]
    },
    {
      "cell_type": "code",
      "metadata": {
        "colab": {
          "base_uri": "https://localhost:8080/"
        },
        "id": "84USnSPDxfMB",
        "outputId": "d520272b-7fe9-40f3-c6cc-89526fdaa453"
      },
      "source": [
        "#%H\tHour 00-23\t17\r\n",
        "import datetime\r\n",
        "\r\n",
        "x = datetime.datetime.now()\r\n",
        "\r\n",
        "print(x.strftime(\"%H\"))"
      ],
      "execution_count": 14,
      "outputs": [
        {
          "output_type": "stream",
          "text": [
            "05\n"
          ],
          "name": "stdout"
        }
      ]
    },
    {
      "cell_type": "code",
      "metadata": {
        "colab": {
          "base_uri": "https://localhost:8080/"
        },
        "id": "oj5lsf7jxfY2",
        "outputId": "9c1f2503-c838-4d52-fdad-08242cf6483f"
      },
      "source": [
        "#%I\tHour 00-12\t05\r\n",
        "import datetime\r\n",
        "\r\n",
        "x = datetime.datetime.now()\r\n",
        "\r\n",
        "print(x.strftime(\"%I\"))"
      ],
      "execution_count": 15,
      "outputs": [
        {
          "output_type": "stream",
          "text": [
            "05\n"
          ],
          "name": "stdout"
        }
      ]
    },
    {
      "cell_type": "code",
      "metadata": {
        "colab": {
          "base_uri": "https://localhost:8080/"
        },
        "id": "L_JAEJblxfnR",
        "outputId": "1dc50258-4fa6-41c6-e5be-1052603a76c1"
      },
      "source": [
        "#%p\tAM/PM\tPM\r\n",
        "import datetime\r\n",
        "\r\n",
        "x = datetime.datetime.now()\r\n",
        "\r\n",
        "print(x.strftime(\"%p\"))"
      ],
      "execution_count": 16,
      "outputs": [
        {
          "output_type": "stream",
          "text": [
            "AM\n"
          ],
          "name": "stdout"
        }
      ]
    },
    {
      "cell_type": "code",
      "metadata": {
        "id": "mnK03mfCxfxo"
      },
      "source": [
        "#%M\tMinute 00-59\t41"
      ],
      "execution_count": null,
      "outputs": []
    },
    {
      "cell_type": "code",
      "metadata": {
        "colab": {
          "base_uri": "https://localhost:8080/"
        },
        "id": "-C4oOk15yOxc",
        "outputId": "a12b6ea7-34ff-406c-b86f-1e7594e46952"
      },
      "source": [
        "import datetime\r\n",
        "\r\n",
        "x = datetime.datetime.now()\r\n",
        "\r\n",
        "print(x.strftime(\"%M\"))"
      ],
      "execution_count": 17,
      "outputs": [
        {
          "output_type": "stream",
          "text": [
            "49\n"
          ],
          "name": "stdout"
        }
      ]
    },
    {
      "cell_type": "code",
      "metadata": {
        "colab": {
          "base_uri": "https://localhost:8080/"
        },
        "id": "MIxRk-C7yN6_",
        "outputId": "6d428279-6ebf-4df1-909f-d68466ca3420"
      },
      "source": [
        "#%S\tSecond 00-59\t08\r\n",
        "import datetime\r\n",
        "\r\n",
        "x = datetime.datetime.now()\r\n",
        "\r\n",
        "print(x.strftime(\"%S\"))"
      ],
      "execution_count": 18,
      "outputs": [
        {
          "output_type": "stream",
          "text": [
            "24\n"
          ],
          "name": "stdout"
        }
      ]
    },
    {
      "cell_type": "code",
      "metadata": {
        "colab": {
          "base_uri": "https://localhost:8080/"
        },
        "id": "kKla2na7ypbW",
        "outputId": "a2877ad5-17f5-4b20-d369-851f75a8b933"
      },
      "source": [
        "#%f\tMicrosecond 000000-999999\t548513\r\n",
        "import datetime\r\n",
        "\r\n",
        "x = datetime.datetime.now()\r\n",
        "\r\n",
        "print(x.strftime(\"%f\"))"
      ],
      "execution_count": 19,
      "outputs": [
        {
          "output_type": "stream",
          "text": [
            "783932\n"
          ],
          "name": "stdout"
        }
      ]
    },
    {
      "cell_type": "code",
      "metadata": {
        "id": "L3-WnnoQypry"
      },
      "source": [
        "%z\tUTC offset\t+0100\t\r\n",
        "%Z\tTimezone\tCST"
      ],
      "execution_count": null,
      "outputs": []
    },
    {
      "cell_type": "code",
      "metadata": {
        "colab": {
          "base_uri": "https://localhost:8080/"
        },
        "id": "BTprS_2sy8-A",
        "outputId": "dd5d7120-4a74-4cfb-c993-c678bfb10510"
      },
      "source": [
        "#%j\tDay number of year 001-366\t365\r\n",
        "import datetime\r\n",
        "\r\n",
        "x = datetime.datetime.now()\r\n",
        "\r\n",
        "print(x.strftime(\"%j\"))\r\n"
      ],
      "execution_count": 20,
      "outputs": [
        {
          "output_type": "stream",
          "text": [
            "043\n"
          ],
          "name": "stdout"
        }
      ]
    },
    {
      "cell_type": "code",
      "metadata": {
        "colab": {
          "base_uri": "https://localhost:8080/"
        },
        "id": "GAu_oyZ1zLh-",
        "outputId": "87b01cd7-93aa-4395-e3e9-f896fb70474e"
      },
      "source": [
        "#%U\tWeek number of year, Sunday as the first day of week, 00-53\t52\r\n",
        "import datetime\r\n",
        "\r\n",
        "x = datetime.datetime.now()\r\n",
        "\r\n",
        "print(x.strftime(\"%U\"))"
      ],
      "execution_count": 21,
      "outputs": [
        {
          "output_type": "stream",
          "text": [
            "06\n"
          ],
          "name": "stdout"
        }
      ]
    },
    {
      "cell_type": "code",
      "metadata": {
        "colab": {
          "base_uri": "https://localhost:8080/"
        },
        "id": "nhgvEumezRZG",
        "outputId": "f60abe15-09b0-4c62-8dcb-371f76f428eb"
      },
      "source": [
        "#%W\tWeek number of year, Monday as the first day of week, 00-53\t52\r\n",
        "import datetime\r\n",
        "\r\n",
        "x = datetime.datetime(2018, 5, 31)\r\n",
        "\r\n",
        "print(x.strftime(\"%W\"))"
      ],
      "execution_count": 22,
      "outputs": [
        {
          "output_type": "stream",
          "text": [
            "22\n"
          ],
          "name": "stdout"
        }
      ]
    },
    {
      "cell_type": "code",
      "metadata": {
        "colab": {
          "base_uri": "https://localhost:8080/"
        },
        "id": "NvVQoRGAzzsG",
        "outputId": "74189279-bf33-47a5-e232-70a6cd32e78f"
      },
      "source": [
        "#%c\tLocal version of date and time\tMon Dec 31 17:41:00 2018\r\n",
        "import datetime\r\n",
        "\r\n",
        "x = datetime.datetime.now()\r\n",
        "\r\n",
        "print(x.strftime(\"%c\"))"
      ],
      "execution_count": 23,
      "outputs": [
        {
          "output_type": "stream",
          "text": [
            "Fri Feb 12 05:56:40 2021\n"
          ],
          "name": "stdout"
        }
      ]
    },
    {
      "cell_type": "code",
      "metadata": {
        "colab": {
          "base_uri": "https://localhost:8080/"
        },
        "id": "iXwXtAf_zz6J",
        "outputId": "5f7d05ac-4f2e-4717-833f-92cd6a2132b9"
      },
      "source": [
        "#%x\tLocal version of date\t12/31/18\r\n",
        "import datetime\r\n",
        "\r\n",
        "x = datetime.datetime.now()\r\n",
        "\r\n",
        "print(x.strftime(\"%x\"))"
      ],
      "execution_count": 24,
      "outputs": [
        {
          "output_type": "stream",
          "text": [
            "02/12/21\n"
          ],
          "name": "stdout"
        }
      ]
    },
    {
      "cell_type": "code",
      "metadata": {
        "colab": {
          "base_uri": "https://localhost:8080/"
        },
        "id": "7M3lWPML0Ka7",
        "outputId": "c20aae84-8f49-48f2-e9f7-f7d8647b53d5"
      },
      "source": [
        "#%X\tLocal version of time\t17:41:00\r\n",
        "import datetime\r\n",
        "\r\n",
        "x = datetime.datetime.now()\r\n",
        "\r\n",
        "print(x.strftime(\"%X\"))"
      ],
      "execution_count": 25,
      "outputs": [
        {
          "output_type": "stream",
          "text": [
            "05:57:28\n"
          ],
          "name": "stdout"
        }
      ]
    },
    {
      "cell_type": "code",
      "metadata": {
        "colab": {
          "base_uri": "https://localhost:8080/"
        },
        "id": "RxVRSz1n0Py1",
        "outputId": "88385983-5908-41b1-cec9-97f00809fe21"
      },
      "source": [
        "#%%\tA % character\t%\r\n",
        "import datetime\r\n",
        "\r\n",
        "x = datetime.datetime.now()\r\n",
        "\r\n",
        "print(x.strftime(\"%%\"))"
      ],
      "execution_count": 26,
      "outputs": [
        {
          "output_type": "stream",
          "text": [
            "%\n"
          ],
          "name": "stdout"
        }
      ]
    },
    {
      "cell_type": "code",
      "metadata": {
        "id": "5T6Csnpa0a2F"
      },
      "source": [
        "#%G\tISO 8601 year\t2018"
      ],
      "execution_count": null,
      "outputs": []
    },
    {
      "cell_type": "code",
      "metadata": {
        "colab": {
          "base_uri": "https://localhost:8080/"
        },
        "id": "sCxXDmkh0f1t",
        "outputId": "cb46e90e-71ee-491a-b7a9-aa3aea44a128"
      },
      "source": [
        "import datetime\r\n",
        "\r\n",
        "x = datetime.datetime.now()\r\n",
        "\r\n",
        "print(x.strftime(\"%G\"))"
      ],
      "execution_count": 27,
      "outputs": [
        {
          "output_type": "stream",
          "text": [
            "2021\n"
          ],
          "name": "stdout"
        }
      ]
    },
    {
      "cell_type": "code",
      "metadata": {
        "id": "RbRxAVQR0bOM"
      },
      "source": [
        "#%u\tISO 8601 weekday (1-7)\t1"
      ],
      "execution_count": null,
      "outputs": []
    },
    {
      "cell_type": "code",
      "metadata": {
        "colab": {
          "base_uri": "https://localhost:8080/"
        },
        "id": "rJ__98sE0gjY",
        "outputId": "a6b4ed74-e592-446e-fb5f-8c8e1f6526cf"
      },
      "source": [
        "import datetime\r\n",
        "\r\n",
        "x = datetime.datetime.now()\r\n",
        "\r\n",
        "print(x.strftime(\"%u\"))"
      ],
      "execution_count": 28,
      "outputs": [
        {
          "output_type": "stream",
          "text": [
            "5\n"
          ],
          "name": "stdout"
        }
      ]
    },
    {
      "cell_type": "code",
      "metadata": {
        "id": "cVO0gzab0ds1"
      },
      "source": [
        "#%V\tISO 8601 weeknumber (01-53)\t01"
      ],
      "execution_count": null,
      "outputs": []
    },
    {
      "cell_type": "code",
      "metadata": {
        "colab": {
          "base_uri": "https://localhost:8080/"
        },
        "id": "GOJJniCc0hWo",
        "outputId": "85c4aa89-aba6-4050-ca24-e2d55595a807"
      },
      "source": [
        "import datetime\r\n",
        "\r\n",
        "x = datetime.datetime.now()\r\n",
        "\r\n",
        "print(x.strftime(\"%V\"))"
      ],
      "execution_count": 29,
      "outputs": [
        {
          "output_type": "stream",
          "text": [
            "06\n"
          ],
          "name": "stdout"
        }
      ]
    },
    {
      "cell_type": "code",
      "metadata": {
        "id": "bkmqfDv22vjk"
      },
      "source": [
        "Python Built-in Exceptions"
      ],
      "execution_count": null,
      "outputs": []
    },
    {
      "cell_type": "code",
      "metadata": {
        "id": "G0kYihPk2wrr"
      },
      "source": [
        "Exception\tDescription\r\n",
        "ArithmeticError\tRaised when an error occurs in numeric calculations\r\n",
        "AssertionError\tRaised when an assert statement fails\r\n",
        "AttributeError\tRaised when attribute reference or assignment fails\r\n",
        "Exception\tBase class for all exceptions\r\n",
        "EOFError\tRaised when the input() method hits an \"end of file\" condition (EOF)\r\n",
        "FloatingPointError\tRaised when a floating point calculation fails\r\n",
        "GeneratorExit\tRaised when a generator is closed (with the close() method)\r\n",
        "ImportError\tRaised when an imported module does not exist\r\n",
        "IndentationError\tRaised when indendation is not correct\r\n",
        "IndexError\tRaised when an index of a sequence does not exist\r\n",
        "KeyError\tRaised when a key does not exist in a dictionary\r\n",
        "KeyboardInterrupt\tRaised when the user presses Ctrl+c, Ctrl+z or Delete\r\n",
        "LookupError\tRaised when errors raised cant be found\r\n",
        "MemoryError\tRaised when a program runs out of memory\r\n",
        "NameError\tRaised when a variable does not exist\r\n",
        "NotImplementedError\tRaised when an abstract method requires an inherited class to override the method\r\n",
        "OSError\tRaised when a system related operation causes an error\r\n",
        "OverflowError\tRaised when the result of a numeric calculation is too large\r\n",
        "ReferenceError\tRaised when a weak reference object does not exist\r\n",
        "RuntimeError\tRaised when an error occurs that do not belong to any specific expections\r\n",
        "StopIteration\tRaised when the next() method of an iterator has no further values\r\n",
        "SyntaxError\tRaised when a syntax error occurs\r\n",
        "TabError\tRaised when indentation consists of tabs or spaces\r\n",
        "SystemError\tRaised when a system error occurs\r\n",
        "SystemExit\tRaised when the sys.exit() function is called\r\n",
        "TypeError\tRaised when two different types are combined\r\n",
        "UnboundLocalError\tRaised when a local variable is referenced before assignment\r\n",
        "UnicodeError\tRaised when a unicode problem occurs\r\n",
        "UnicodeEncodeError\tRaised when a unicode encoding problem occurs\r\n",
        "UnicodeDecodeError\tRaised when a unicode decoding problem occurs\r\n",
        "UnicodeTranslateError\tRaised when a unicode translation problem occurs\r\n",
        "ValueError\tRaised when there is a wrong value in a specified data type\r\n",
        "ZeroDivisionError\tRaised when the second operator in a division is zero"
      ],
      "execution_count": null,
      "outputs": []
    }
  ]
}