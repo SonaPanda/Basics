{
  "nbformat": 4,
  "nbformat_minor": 0,
  "metadata": {
    "colab": {
      "name": "Pandas2.ipynb",
      "provenance": [],
      "collapsed_sections": []
    },
    "kernelspec": {
      "name": "python3",
      "display_name": "Python 3"
    }
  },
  "cells": [
    {
      "cell_type": "code",
      "metadata": {
        "id": "usEY8nX-sL65"
      },
      "source": [
        "import pandas as pd\r\n",
        "import numpy as np\r\n",
        "import random as rn\r\n",
        "import functools\r\n",
        "import re"
      ],
      "execution_count": null,
      "outputs": []
    },
    {
      "cell_type": "markdown",
      "metadata": {
        "id": "eySyOsW3GR26"
      },
      "source": [
        "**Find any matching value**"
      ]
    },
    {
      "cell_type": "code",
      "metadata": {
        "id": "bkNDkg90sekP",
        "colab": {
          "base_uri": "https://localhost:8080/"
        },
        "outputId": "efe25b82-16a9-4e36-b710-64f871738353"
      },
      "source": [
        "users = pd.DataFrame({\r\n",
        "    \"name\": ['kevin', 'james', 'kumar', 'kevin', 'kevin', 'james'], \r\n",
        "    \"city\": ['Toronto', 'Montreal', 'Calgary', 'Montreal', 'Montreal', 'Ottawa']\r\n",
        "}) \r\n",
        "print(users)\r\n",
        "print('\\nFinding Montreal in any cell :')\r\n",
        "print(users[users.eq('Montreal').any(1)])"
      ],
      "execution_count": null,
      "outputs": [
        {
          "output_type": "stream",
          "text": [
            "    name      city\n",
            "0  kevin   Toronto\n",
            "1  james  Montreal\n",
            "2  kumar   Calgary\n",
            "3  kevin  Montreal\n",
            "4  kevin  Montreal\n",
            "5  james    Ottawa\n",
            "\n",
            "Finding Montreal in any cell :\n",
            "    name      city\n",
            "1  james  Montreal\n",
            "3  kevin  Montreal\n",
            "4  kevin  Montreal\n"
          ],
          "name": "stdout"
        }
      ]
    },
    {
      "cell_type": "markdown",
      "metadata": {
        "id": "V_RMrWnzGW3X"
      },
      "source": [
        "**Clean URL in Pandas String (remove string after specific item)**"
      ]
    },
    {
      "cell_type": "code",
      "metadata": {
        "colab": {
          "base_uri": "https://localhost:8080/"
        },
        "id": "fv8e1D6SF3YN",
        "outputId": "9c1250d3-1a77-4eca-8b9b-851c346e0bd2"
      },
      "source": [
        "df = pd.DataFrame({\r\n",
        "    'url': ['https://www.abc.com/page/2/unit234', 'https://www.abc.com/page/3/unit34', 'https://www.abc.com/page/4/unit89']\r\n",
        "})\r\n",
        "print(df)\r\n",
        "df['url'] = df['url'].str.replace('\\/unit.*', '/', regex=True)\r\n",
        "print('\\nAfer removing unit and future chars:')\r\n",
        "print(df)"
      ],
      "execution_count": null,
      "outputs": [
        {
          "output_type": "stream",
          "text": [
            "                                  url\n",
            "0  https://www.abc.com/page/2/unit234\n",
            "1   https://www.abc.com/page/3/unit34\n",
            "2   https://www.abc.com/page/4/unit89\n",
            "\n",
            "Afer removing unit and future chars:\n",
            "                           url\n",
            "0  https://www.abc.com/page/2/\n",
            "1  https://www.abc.com/page/3/\n",
            "2  https://www.abc.com/page/4/\n"
          ],
          "name": "stdout"
        }
      ]
    },
    {
      "cell_type": "markdown",
      "metadata": {
        "id": "Wdndx3C2M6xv"
      },
      "source": [
        "**Cumulative sum with group by with multiple values**"
      ]
    },
    {
      "cell_type": "code",
      "metadata": {
        "colab": {
          "base_uri": "https://localhost:8080/"
        },
        "id": "gAJiqX8UF3yv",
        "outputId": "e4ae41ff-4f5e-4555-a2f1-892a1dc29fc4"
      },
      "source": [
        "df = pd.DataFrame({\r\n",
        "    'City': ['Toronto', 'Toronto', 'Toronto', 'Montreal', 'Montreal', 'Montreal', 'New York', 'Toronto', 'New York', 'New York'], \r\n",
        "    'Year': [2020, 2020, 2018, 2018, 2018, 2012, 2012, 2012, 2016, 2018], \r\n",
        "    'Points': [1000, 2000, 3000, 3000, 2000, 1500, 1500, 500, 500, 300]\r\n",
        "})\r\n",
        "print(df)\r\n",
        "df.sort_values(['City', 'Year'], inplace=True)\r\n",
        "print('\\nAfter Sorting:')\r\n",
        "print(df)\r\n",
        "\r\n",
        "df['Points_cum'] = df.groupby(['City', 'Year'])['Points'].cumsum()\r\n",
        "print('\\nAfter Cumulative Sum:')\r\n",
        "print(df)"
      ],
      "execution_count": null,
      "outputs": [
        {
          "output_type": "stream",
          "text": [
            "       City  Year  Points\n",
            "0   Toronto  2020    1000\n",
            "1   Toronto  2020    2000\n",
            "2   Toronto  2018    3000\n",
            "3  Montreal  2018    3000\n",
            "4  Montreal  2018    2000\n",
            "5  Montreal  2012    1500\n",
            "6  New York  2012    1500\n",
            "7   Toronto  2012     500\n",
            "8  New York  2016     500\n",
            "9  New York  2018     300\n",
            "\n",
            "After Sorting:\n",
            "       City  Year  Points\n",
            "5  Montreal  2012    1500\n",
            "3  Montreal  2018    3000\n",
            "4  Montreal  2018    2000\n",
            "6  New York  2012    1500\n",
            "8  New York  2016     500\n",
            "9  New York  2018     300\n",
            "7   Toronto  2012     500\n",
            "2   Toronto  2018    3000\n",
            "0   Toronto  2020    1000\n",
            "1   Toronto  2020    2000\n",
            "\n",
            "After Cumulative Sum:\n",
            "       City  Year  Points  Points_cum\n",
            "5  Montreal  2012    1500        1500\n",
            "3  Montreal  2018    3000        3000\n",
            "4  Montreal  2018    2000        5000\n",
            "6  New York  2012    1500        1500\n",
            "8  New York  2016     500         500\n",
            "9  New York  2018     300         300\n",
            "7   Toronto  2012     500         500\n",
            "2   Toronto  2018    3000        3000\n",
            "0   Toronto  2020    1000        1000\n",
            "1   Toronto  2020    2000        3000\n"
          ],
          "name": "stdout"
        }
      ]
    },
    {
      "cell_type": "markdown",
      "metadata": {
        "id": "DqnXblp9Nk2Z"
      },
      "source": [
        "**Append series to existing Dataframe**"
      ]
    },
    {
      "cell_type": "code",
      "metadata": {
        "colab": {
          "base_uri": "https://localhost:8080/"
        },
        "id": "IzCbX2HwNYOK",
        "outputId": "7befd026-882a-4f89-e1ed-6b9c3fb95d67"
      },
      "source": [
        "df = pd.DataFrame([1, 3, 4, 5], columns=[\"id\"])\r\n",
        "df.set_index(\"id\")\r\n",
        "print(df)\r\n",
        "\r\n",
        "marks = pd.Series([79, 20, 45, 99])\r\n",
        "df[\"marks\"] = marks\r\n",
        "print('\\nAfter:')\r\n",
        "print(df)"
      ],
      "execution_count": null,
      "outputs": [
        {
          "output_type": "stream",
          "text": [
            "   id\n",
            "0   1\n",
            "1   3\n",
            "2   4\n",
            "3   5\n",
            "\n",
            "After:\n",
            "   id  marks\n",
            "0   1     79\n",
            "1   3     20\n",
            "2   4     45\n",
            "3   5     99\n"
          ],
          "name": "stdout"
        }
      ]
    },
    {
      "cell_type": "markdown",
      "metadata": {
        "id": "_rO0xo9mPADJ"
      },
      "source": [
        "**Compare two dataframes**"
      ]
    },
    {
      "cell_type": "code",
      "metadata": {
        "colab": {
          "base_uri": "https://localhost:8080/"
        },
        "id": "-Y3VyoKzNYfn",
        "outputId": "5356041c-b297-4c08-9a07-12117ba1b871"
      },
      "source": [
        "df1 = pd.DataFrame({\r\n",
        "    'a' : [1,2,3], \r\n",
        "    'b' : [9,8,7]\r\n",
        "})\r\n",
        "\r\n",
        "df2 = pd.DataFrame({\r\n",
        "    'a' : [1,1,3], \r\n",
        "    'b' : [12,8,12]\r\n",
        "})\r\n",
        "\r\n",
        "print(df1.compare(df2))"
      ],
      "execution_count": null,
      "outputs": [
        {
          "output_type": "stream",
          "text": [
            "     a          b      \n",
            "  self other self other\n",
            "0  NaN   NaN  9.0  12.0\n",
            "1  2.0   1.0  NaN   NaN\n",
            "2  NaN   NaN  7.0  12.0\n"
          ],
          "name": "stdout"
        }
      ]
    },
    {
      "cell_type": "markdown",
      "metadata": {
        "id": "OsOiAu_OPfJX"
      },
      "source": [
        "**Difference between datetime by only seconds or dates**"
      ]
    },
    {
      "cell_type": "code",
      "metadata": {
        "id": "GXqFiExDse4W",
        "colab": {
          "base_uri": "https://localhost:8080/"
        },
        "outputId": "4031ea38-53b7-441e-8025-c7dc782187c7"
      },
      "source": [
        "df1 = pd.to_datetime('2020-10-14 14:52:21')\r\n",
        "df2 = pd.to_datetime('2020-10-18 15:58:10')\r\n",
        "\r\n",
        "delta = (df2 - df1)\r\n",
        "\r\n",
        "print('days   : ', delta.days)\r\n",
        "print('seconds: ', delta.seconds)"
      ],
      "execution_count": null,
      "outputs": [
        {
          "output_type": "stream",
          "text": [
            "days   :  4\n",
            "seconds:  3949\n"
          ],
          "name": "stdout"
        }
      ]
    },
    {
      "cell_type": "markdown",
      "metadata": {
        "id": "0Aaycd2GPu9A"
      },
      "source": [
        "**Get dates and delta days in Dataframe**"
      ]
    },
    {
      "cell_type": "code",
      "metadata": {
        "id": "16OWIof-sfJ0",
        "colab": {
          "base_uri": "https://localhost:8080/"
        },
        "outputId": "0adb6f69-e23f-46b0-b2ec-c3dcb6bc5654"
      },
      "source": [
        "entries_count = 6\r\n",
        "date_series = pd.Series(pd.date_range('2020-09-01', periods = entries_count, freq = 'D'))\r\n",
        "df = pd.DataFrame({'entry_date': date_series})\r\n",
        "print(df)"
      ],
      "execution_count": null,
      "outputs": [
        {
          "output_type": "stream",
          "text": [
            "  entry_date\n",
            "0 2020-09-01\n",
            "1 2020-09-02\n",
            "2 2020-09-03\n",
            "3 2020-09-04\n",
            "4 2020-09-05\n",
            "5 2020-09-06\n"
          ],
          "name": "stdout"
        }
      ]
    },
    {
      "cell_type": "markdown",
      "metadata": {
        "id": "TXWkX9LVQWBm"
      },
      "source": [
        "**Get dates and delta days in Dataframe**"
      ]
    },
    {
      "cell_type": "code",
      "metadata": {
        "colab": {
          "base_uri": "https://localhost:8080/"
        },
        "id": "-8-Tw54YQW8Z",
        "outputId": "133f310c-4d1c-4cc4-9224-e93d2f04ca1c"
      },
      "source": [
        "entries_count = 5\r\n",
        "\r\n",
        "date_series = pd.Series(pd.date_range('2020-09-01', periods = entries_count, freq = 'D'))\r\n",
        "\r\n",
        "time_delta_series = pd.Series([pd.Timedelta(days = i) for i in range(entries_count)])\r\n",
        "\r\n",
        "df = pd.DataFrame({'entry_date': date_series, 'delta_days': time_delta_series})\r\n",
        "\r\n",
        "print(df)"
      ],
      "execution_count": null,
      "outputs": [
        {
          "output_type": "stream",
          "text": [
            "  entry_date delta_days\n",
            "0 2020-09-01     0 days\n",
            "1 2020-09-02     1 days\n",
            "2 2020-09-03     2 days\n",
            "3 2020-09-04     3 days\n",
            "4 2020-09-05     4 days\n"
          ],
          "name": "stdout"
        }
      ]
    },
    {
      "cell_type": "markdown",
      "metadata": {
        "id": "Q88OfQ4mQaxi"
      },
      "source": [
        "**Date addition with time delta**"
      ]
    },
    {
      "cell_type": "code",
      "metadata": {
        "colab": {
          "base_uri": "https://localhost:8080/"
        },
        "id": "RKW8EJBaQjHM",
        "outputId": "c7b7867b-cadf-4616-d75c-52e6daf1e544"
      },
      "source": [
        "date_series = pd.Series(pd.date_range('2020-09-01', periods = entries_count, freq = 'D'))\r\n",
        "time_delta_series = pd.Series([pd.Timedelta(days = i) for i in range(entries_count)])\r\n",
        "df = pd.DataFrame({'entry_date': date_series, 'delta_days': time_delta_series})\r\n",
        "print('\\nBefore:')\r\n",
        "print(df)\r\n",
        "\r\n",
        "df['new_entry_date'] = df['entry_date'] + df['delta_days']\r\n",
        "print('\\nAfter:')\r\n",
        "print(df)\r\n",
        "\r\n",
        "\r\n",
        "print('\\nData types:')\r\n",
        "print(df.dtypes)"
      ],
      "execution_count": null,
      "outputs": [
        {
          "output_type": "stream",
          "text": [
            "\n",
            "Before:\n",
            "  entry_date delta_days\n",
            "0 2020-09-01     0 days\n",
            "1 2020-09-02     1 days\n",
            "2 2020-09-03     2 days\n",
            "3 2020-09-04     3 days\n",
            "4 2020-09-05     4 days\n",
            "\n",
            "After:\n",
            "  entry_date delta_days new_entry_date\n",
            "0 2020-09-01     0 days     2020-09-01\n",
            "1 2020-09-02     1 days     2020-09-03\n",
            "2 2020-09-03     2 days     2020-09-05\n",
            "3 2020-09-04     3 days     2020-09-07\n",
            "4 2020-09-05     4 days     2020-09-09\n",
            "\n",
            "Data types:\n",
            "entry_date         datetime64[ns]\n",
            "delta_days        timedelta64[ns]\n",
            "new_entry_date     datetime64[ns]\n",
            "dtype: object\n"
          ],
          "name": "stdout"
        }
      ]
    },
    {
      "cell_type": "markdown",
      "metadata": {
        "id": "V79RKsnXRRrm"
      },
      "source": [
        "**Converting Pandas innner list to numpy array without the word `list`**"
      ]
    },
    {
      "cell_type": "code",
      "metadata": {
        "colab": {
          "base_uri": "https://localhost:8080/"
        },
        "id": "_kFUed9ERS0h",
        "outputId": "ce33fac6-22a5-4059-f82b-2d247f388e3c"
      },
      "source": [
        "s = pd.Series([[1, 2, 3], np.array([1, 2, 3])])\r\n",
        "    \r\n",
        "print('Original Series:')\r\n",
        "print(s)  \r\n",
        "\r\n",
        "arr = np.array(s)\r\n",
        "print('\\nSeries to Array:')\r\n",
        "print(arr)\r\n",
        "\r\n",
        "print('\\nAfter converting inner elements to list:')\r\n",
        "x = np.array(s[:].tolist())\r\n",
        "print(x)"
      ],
      "execution_count": null,
      "outputs": [
        {
          "output_type": "stream",
          "text": [
            "Original Series:\n",
            "0    [1, 2, 3]\n",
            "1    [1, 2, 3]\n",
            "dtype: object\n",
            "\n",
            "Series to Array:\n",
            "[list([1, 2, 3]) array([1, 2, 3])]\n",
            "\n",
            "After converting inner elements to list:\n",
            "[[1 2 3]\n",
            " [1 2 3]]\n"
          ],
          "name": "stdout"
        }
      ]
    },
    {
      "cell_type": "markdown",
      "metadata": {
        "id": "uoTBgLlXRph1"
      },
      "source": [
        "**Group by multiple columns**"
      ]
    },
    {
      "cell_type": "code",
      "metadata": {
        "id": "0pbX88RmRrX0"
      },
      "source": [
        "df.groupby(['county', 'first_name']).sum().sample(5)"
      ],
      "execution_count": null,
      "outputs": []
    },
    {
      "cell_type": "markdown",
      "metadata": {
        "id": "ozxd0DBoSBA2"
      },
      "source": [
        "**Convert country in Dataframe**"
      ]
    },
    {
      "cell_type": "code",
      "metadata": {
        "colab": {
          "base_uri": "https://localhost:8080/"
        },
        "id": "opxgGFUoRvEn",
        "outputId": "7c5a3ca2-406d-44d7-8145-f6d4a71c99d2"
      },
      "source": [
        "import country_converter as coco\r\n",
        "import pandas as pd\r\n",
        "\r\n",
        "df = pd.DataFrame({'code': ['IN', 'USA', 'BR', 'CAN']})\r\n",
        "\r\n",
        "print('Before:')\r\n",
        "print(df)\r\n",
        "\r\n",
        "df['country'] = df.code.apply(lambda x: coco.convert(names = x, to = 'name_short', not_found = None))\r\n",
        "\r\n",
        "print('\\nAfter:')\r\n",
        "print(df)"
      ],
      "execution_count": null,
      "outputs": [
        {
          "output_type": "stream",
          "text": [
            "Before:\n",
            "  code\n",
            "0   IN\n",
            "1  USA\n",
            "2   BR\n",
            "3  CAN\n",
            "\n",
            "After:\n",
            "  code        country\n",
            "0   IN          India\n",
            "1  USA  United States\n",
            "2   BR         Brazil\n",
            "3  CAN         Canada\n"
          ],
          "name": "stdout"
        }
      ]
    },
    {
      "cell_type": "code",
      "metadata": {
        "colab": {
          "base_uri": "https://localhost:8080/"
        },
        "id": "FiAvQESYSTWp",
        "outputId": "8a718ced-85b7-4f4e-b32b-8b218e0e927e"
      },
      "source": [
        "!pip install country_converter"
      ],
      "execution_count": null,
      "outputs": [
        {
          "output_type": "stream",
          "text": [
            "Collecting country_converter\n",
            "\u001b[?25l  Downloading https://files.pythonhosted.org/packages/8d/57/359a3d4507c5c517ba8e95933214f59b5a1b1a8f51c9b8c9031cd34959dc/country_converter-0.7.1.tar.gz (47kB)\n",
            "\r\u001b[K     |██████▉                         | 10kB 17.4MB/s eta 0:00:01\r\u001b[K     |█████████████▊                  | 20kB 21.3MB/s eta 0:00:01\r\u001b[K     |████████████████████▋           | 30kB 16.4MB/s eta 0:00:01\r\u001b[K     |███████████████████████████▌    | 40kB 14.1MB/s eta 0:00:01\r\u001b[K     |████████████████████████████████| 51kB 4.3MB/s \n",
            "\u001b[?25hRequirement already satisfied: pandas>=0.17.0 in /usr/local/lib/python3.6/dist-packages (from country_converter) (1.1.5)\n",
            "Requirement already satisfied: python-dateutil>=2.7.3 in /usr/local/lib/python3.6/dist-packages (from pandas>=0.17.0->country_converter) (2.8.1)\n",
            "Requirement already satisfied: pytz>=2017.2 in /usr/local/lib/python3.6/dist-packages (from pandas>=0.17.0->country_converter) (2018.9)\n",
            "Requirement already satisfied: numpy>=1.15.4 in /usr/local/lib/python3.6/dist-packages (from pandas>=0.17.0->country_converter) (1.18.5)\n",
            "Requirement already satisfied: six>=1.5 in /usr/local/lib/python3.6/dist-packages (from python-dateutil>=2.7.3->pandas>=0.17.0->country_converter) (1.15.0)\n",
            "Building wheels for collected packages: country-converter\n",
            "  Building wheel for country-converter (setup.py) ... \u001b[?25l\u001b[?25hdone\n",
            "  Created wheel for country-converter: filename=country_converter-0.7.1-cp36-none-any.whl size=50807 sha256=ae2423126e0cfe50bba40e6040d59d69a6ab0d5a55bd14724e18d114a37c8739\n",
            "  Stored in directory: /root/.cache/pip/wheels/75/be/cb/3c8d07bca8f2c0670e996a174fed372585b32d3aa03f40996a\n",
            "Successfully built country-converter\n",
            "Installing collected packages: country-converter\n",
            "Successfully installed country-converter-0.7.1\n"
          ],
          "name": "stdout"
        }
      ]
    },
    {
      "cell_type": "markdown",
      "metadata": {
        "id": "t_97aj0bScY-"
      },
      "source": [
        "**Get a single value by iat**"
      ]
    },
    {
      "cell_type": "code",
      "metadata": {
        "colab": {
          "base_uri": "https://localhost:8080/"
        },
        "id": "GkVd0JamSdOD",
        "outputId": "5eca1ad6-8112-429f-b071-fb7817f7b11e"
      },
      "source": [
        "df = pd.DataFrame(np.random.randint(0, 100, size = (7, 2)), columns = list('ab'))\r\n",
        "\r\n",
        "print('\\nOriginal Dataframe:')\r\n",
        "print(df)\r\n",
        "\r\n",
        "val = df.iat[3, 1]\r\n",
        "\r\n",
        "print('\\nGetting value at 3rd row and first col:')\r\n",
        "print(val)"
      ],
      "execution_count": null,
      "outputs": [
        {
          "output_type": "stream",
          "text": [
            "\n",
            "Original Dataframe:\n",
            "    a   b\n",
            "0  14  73\n",
            "1  14  58\n",
            "2  49  10\n",
            "3  87  33\n",
            "4  10  82\n",
            "5  66  26\n",
            "6  74  10\n",
            "\n",
            "Getting value at 3rd row and first col:\n",
            "33\n"
          ],
          "name": "stdout"
        }
      ]
    },
    {
      "cell_type": "markdown",
      "metadata": {
        "id": "lgeUa44DUyyL"
      },
      "source": [
        "**Get last n elements**"
      ]
    },
    {
      "cell_type": "code",
      "metadata": {
        "colab": {
          "base_uri": "https://localhost:8080/"
        },
        "id": "NR-V80D0U0ZS",
        "outputId": "8adf5d0d-3046-47ac-e709-e8e41f82d3b5"
      },
      "source": [
        "df = pd.DataFrame(np.random.randint(0, 100, size = (7, 2)), columns = list('ab'))\r\n",
        "\r\n",
        "print('\\nOriginal Dataframe:')\r\n",
        "print(df)\r\n",
        "\r\n",
        "tail_df = df.tail(3)\r\n",
        "\r\n",
        "print('\\nLast 3 rows:')\r\n",
        "print(tail_df)"
      ],
      "execution_count": null,
      "outputs": [
        {
          "output_type": "stream",
          "text": [
            "\n",
            "Original Dataframe:\n",
            "    a   b\n",
            "0   0  51\n",
            "1  52  63\n",
            "2  67  46\n",
            "3   3  34\n",
            "4  20  53\n",
            "5  72  93\n",
            "6  87  69\n",
            "\n",
            "Last 3 rows:\n",
            "    a   b\n",
            "4  20  53\n",
            "5  72  93\n",
            "6  87  69\n"
          ],
          "name": "stdout"
        }
      ]
    },
    {
      "cell_type": "markdown",
      "metadata": {
        "id": "IOOHLf1SVXg0"
      },
      "source": [
        "**Add data one by one by using loc function**"
      ]
    },
    {
      "cell_type": "code",
      "metadata": {
        "colab": {
          "base_uri": "https://localhost:8080/",
          "height": 108
        },
        "id": "_lixauG3VaOS",
        "outputId": "2c5bc18c-2f9c-4b02-d63f-cd8a04200a9b"
      },
      "source": [
        "df = pd.DataFrame(columns = ['rows', 'cols', 'time taken'])\r\n",
        "\r\n",
        "df.loc['Dataset1 - Dask'] = (1000, 20, 10)\r\n",
        "df.loc['Dataset1 - Pandas'] = (1000, 20, 15)\r\n",
        "\r\n",
        "df"
      ],
      "execution_count": null,
      "outputs": [
        {
          "output_type": "execute_result",
          "data": {
            "text/html": [
              "<div>\n",
              "<style scoped>\n",
              "    .dataframe tbody tr th:only-of-type {\n",
              "        vertical-align: middle;\n",
              "    }\n",
              "\n",
              "    .dataframe tbody tr th {\n",
              "        vertical-align: top;\n",
              "    }\n",
              "\n",
              "    .dataframe thead th {\n",
              "        text-align: right;\n",
              "    }\n",
              "</style>\n",
              "<table border=\"1\" class=\"dataframe\">\n",
              "  <thead>\n",
              "    <tr style=\"text-align: right;\">\n",
              "      <th></th>\n",
              "      <th>rows</th>\n",
              "      <th>cols</th>\n",
              "      <th>time taken</th>\n",
              "    </tr>\n",
              "  </thead>\n",
              "  <tbody>\n",
              "    <tr>\n",
              "      <th>Dataset1 - Dask</th>\n",
              "      <td>1000</td>\n",
              "      <td>20</td>\n",
              "      <td>10</td>\n",
              "    </tr>\n",
              "    <tr>\n",
              "      <th>Dataset1 - Pandas</th>\n",
              "      <td>1000</td>\n",
              "      <td>20</td>\n",
              "      <td>15</td>\n",
              "    </tr>\n",
              "  </tbody>\n",
              "</table>\n",
              "</div>"
            ],
            "text/plain": [
              "                   rows cols time taken\n",
              "Dataset1 - Dask    1000   20         10\n",
              "Dataset1 - Pandas  1000   20         15"
            ]
          },
          "metadata": {
            "tags": []
          },
          "execution_count": 19
        }
      ]
    },
    {
      "cell_type": "markdown",
      "metadata": {
        "id": "6kliDUxQVk6v"
      },
      "source": [
        "**read_sql in Pandas**"
      ]
    },
    {
      "cell_type": "code",
      "metadata": {
        "id": "C-k4CW4MVm3n"
      },
      "source": [
        "import sqlite3 as sql\r\n",
        "\r\n",
        "conn = sql.connect('/kaggle/input/rj-sample-datasets/sample.db')\r\n",
        "\r\n",
        "demo_df = pd.read_sql('SELECT ID, NAME FROM DEMO', conn)\r\n",
        "\r\n",
        "print(demo_df)"
      ],
      "execution_count": null,
      "outputs": []
    },
    {
      "cell_type": "markdown",
      "metadata": {
        "id": "1eDXlB4AVwDw"
      },
      "source": [
        "**Pandas and Numpy Repeat**"
      ]
    },
    {
      "cell_type": "code",
      "metadata": {
        "colab": {
          "base_uri": "https://localhost:8080/"
        },
        "id": "51n5vUO5Vxfu",
        "outputId": "f4c9b06c-1705-4065-e465-41f766f78885"
      },
      "source": [
        "df = pd.DataFrame({\r\n",
        "     \"entry\" : np.repeat(3, 7) # Repeat the number for 7 times\r\n",
        "})\r\n",
        "\r\n",
        "print(df)"
      ],
      "execution_count": null,
      "outputs": [
        {
          "output_type": "stream",
          "text": [
            "   entry\n",
            "0      3\n",
            "1      3\n",
            "2      3\n",
            "3      3\n",
            "4      3\n",
            "5      3\n",
            "6      3\n"
          ],
          "name": "stdout"
        }
      ]
    },
    {
      "cell_type": "markdown",
      "metadata": {
        "id": "fbryZqDxV-lk"
      },
      "source": [
        "**Pandas and Date with Range**"
      ]
    },
    {
      "cell_type": "code",
      "metadata": {
        "colab": {
          "base_uri": "https://localhost:8080/"
        },
        "id": "0mQMUAArV_5V",
        "outputId": "b85a7513-3669-47dc-ddf0-e3bbdf0a26d3"
      },
      "source": [
        "import datetime as dt\r\n",
        "\r\n",
        "pd.np.random.seed(0)\r\n",
        "\r\n",
        "df = pd.DataFrame({\r\n",
        "     \"date\" : [dt.date(2012, x, 1) for x in range(1, 11)]\r\n",
        "})\r\n",
        "\r\n",
        "print(df)"
      ],
      "execution_count": null,
      "outputs": [
        {
          "output_type": "stream",
          "text": [
            "         date\n",
            "0  2012-01-01\n",
            "1  2012-02-01\n",
            "2  2012-03-01\n",
            "3  2012-04-01\n",
            "4  2012-05-01\n",
            "5  2012-06-01\n",
            "6  2012-07-01\n",
            "7  2012-08-01\n",
            "8  2012-09-01\n",
            "9  2012-10-01\n"
          ],
          "name": "stdout"
        },
        {
          "output_type": "stream",
          "text": [
            "/usr/local/lib/python3.6/dist-packages/ipykernel_launcher.py:3: FutureWarning: The pandas.np module is deprecated and will be removed from pandas in a future version. Import numpy directly instead\n",
            "  This is separate from the ipykernel package so we can avoid doing imports until\n"
          ],
          "name": "stderr"
        }
      ]
    },
    {
      "cell_type": "markdown",
      "metadata": {
        "id": "RsanVgdbWIg7"
      },
      "source": [
        "**Simple Dataframe with NaN**"
      ]
    },
    {
      "cell_type": "code",
      "metadata": {
        "colab": {
          "base_uri": "https://localhost:8080/"
        },
        "id": "i_Ck1EPrWMKo",
        "outputId": "17f3279d-8737-4bd1-bd22-b44e732de0dd"
      },
      "source": [
        "df = pd.DataFrame([np.nan] * 5)\r\n",
        "print(df)"
      ],
      "execution_count": null,
      "outputs": [
        {
          "output_type": "stream",
          "text": [
            "    0\n",
            "0 NaN\n",
            "1 NaN\n",
            "2 NaN\n",
            "3 NaN\n",
            "4 NaN\n"
          ],
          "name": "stdout"
        }
      ]
    },
    {
      "cell_type": "markdown",
      "metadata": {
        "id": "zRGHnwt0WR6p"
      },
      "source": [
        "**Dataframe with NaN**"
      ]
    },
    {
      "cell_type": "code",
      "metadata": {
        "colab": {
          "base_uri": "https://localhost:8080/"
        },
        "id": "ysxfR56nWTBk",
        "outputId": "aefccacf-a9c1-4d8d-8692-0e907f19095a"
      },
      "source": [
        "df = pd.DataFrame(np.nan, index = [0, 1, 2], columns = ['A', 'B', 'C'])\r\n",
        "print(df)"
      ],
      "execution_count": null,
      "outputs": [
        {
          "output_type": "stream",
          "text": [
            "    A   B   C\n",
            "0 NaN NaN NaN\n",
            "1 NaN NaN NaN\n",
            "2 NaN NaN NaN\n"
          ],
          "name": "stdout"
        }
      ]
    },
    {
      "cell_type": "markdown",
      "metadata": {
        "id": "i0eWPXOsWhMu"
      },
      "source": [
        "**iterrows as tuples**"
      ]
    },
    {
      "cell_type": "code",
      "metadata": {
        "colab": {
          "base_uri": "https://localhost:8080/"
        },
        "id": "337pCqHGWiOj",
        "outputId": "7c98c02c-ccf9-499e-9b84-e2962a5685ba"
      },
      "source": [
        "users = pd.DataFrame({\r\n",
        "    \"id\": [1, 1, 2, 2, 3, 3], \r\n",
        "    \"city\": ['Toronto', 'Montreal', 'Calgary', 'Montreal', 'Montreal', 'Ottawa'],\r\n",
        "    \"count\" : [7, 8, 9, 2, 7, 8] \r\n",
        "    \r\n",
        "}) \r\n",
        "\r\n",
        "print(users)  \r\n",
        "\r\n",
        "print('\\nIterate rows as tuples:')\r\n",
        "for row in users.itertuples():\r\n",
        "    print(row)"
      ],
      "execution_count": null,
      "outputs": [
        {
          "output_type": "stream",
          "text": [
            "   id      city  count\n",
            "0   1   Toronto      7\n",
            "1   1  Montreal      8\n",
            "2   2   Calgary      9\n",
            "3   2  Montreal      2\n",
            "4   3  Montreal      7\n",
            "5   3    Ottawa      8\n",
            "\n",
            "Iterate rows as tuples:\n",
            "Pandas(Index=0, id=1, city='Toronto', count=7)\n",
            "Pandas(Index=1, id=1, city='Montreal', count=8)\n",
            "Pandas(Index=2, id=2, city='Calgary', count=9)\n",
            "Pandas(Index=3, id=2, city='Montreal', count=2)\n",
            "Pandas(Index=4, id=3, city='Montreal', count=7)\n",
            "Pandas(Index=5, id=3, city='Ottawa', count=8)\n"
          ],
          "name": "stdout"
        }
      ]
    },
    {
      "cell_type": "markdown",
      "metadata": {
        "id": "I71jl8GslCGg"
      },
      "source": [
        "**Apply a custom function on multiple columns**"
      ]
    },
    {
      "cell_type": "code",
      "metadata": {
        "colab": {
          "base_uri": "https://localhost:8080/"
        },
        "id": "AUcO4u1-i5u8",
        "outputId": "d23befbf-e0ad-4087-a611-73040a9b5b2b"
      },
      "source": [
        "amounts = pd.DataFrame({\r\n",
        "    \"CIBC\": [200, 4200, 300, 300], \r\n",
        "    \"TD\": [1200, 800, 4000, 2000]\r\n",
        "})\r\n",
        "\r\n",
        "print('Original Dataframe: ')\r\n",
        "print(amounts)\r\n",
        "\r\n",
        "def get_total_amount(x):\r\n",
        "    \r\n",
        "    # if the amount is less than 500, skip it\r\n",
        "    total_amount = 0\r\n",
        "    \r\n",
        "    if(x['CIBC'] > 499):\r\n",
        "        total_amount += x['CIBC']\r\n",
        "        \r\n",
        "    if(x['TD'] > 499):\r\n",
        "        total_amount += x['TD']\r\n",
        "    \r\n",
        "    return total_amount\r\n",
        "\r\n",
        "amounts['Total'] = amounts.apply(get_total_amount, axis = 1)\r\n",
        "\r\n",
        "print('Dataframe after applying the custom function: ')\r\n",
        "print(amounts)"
      ],
      "execution_count": null,
      "outputs": [
        {
          "output_type": "stream",
          "text": [
            "Original Dataframe: \n",
            "   CIBC    TD\n",
            "0   200  1200\n",
            "1  4200   800\n",
            "2   300  4000\n",
            "3   300  2000\n",
            "Dataframe after applying the custom function: \n",
            "   CIBC    TD  Total\n",
            "0   200  1200   1200\n",
            "1  4200   800   5000\n",
            "2   300  4000   4000\n",
            "3   300  2000   2000\n"
          ],
          "name": "stdout"
        }
      ]
    },
    {
      "cell_type": "markdown",
      "metadata": {
        "id": "07osOCcqmM5G"
      },
      "source": [
        "**Exclude specific matching**"
      ]
    },
    {
      "cell_type": "code",
      "metadata": {
        "colab": {
          "base_uri": "https://localhost:8080/"
        },
        "id": "2NAER3Y5mONz",
        "outputId": "8c7dadf8-6524-4668-c22a-65a59b4ae739"
      },
      "source": [
        "users = pd.DataFrame({\r\n",
        "    \"name\": ['kevin', 'james', 'kumar', 'kevin', 'kevin', 'james'], \r\n",
        "    \"city\": ['Toronto', 'Montreal', 'Calgary', 'Montreal', 'Montreal', 'Ottawa']\r\n",
        "}) \r\n",
        "\r\n",
        "print('Original Dataframe: ')\r\n",
        "print(users)\r\n",
        "\r\n",
        "print('\\nExcluding `Montreal` in using isin and stack them: ')\r\n",
        "print(users[~users.isin(['Montreal'])].stack())"
      ],
      "execution_count": null,
      "outputs": [
        {
          "output_type": "stream",
          "text": [
            "Original Dataframe: \n",
            "    name      city\n",
            "0  kevin   Toronto\n",
            "1  james  Montreal\n",
            "2  kumar   Calgary\n",
            "3  kevin  Montreal\n",
            "4  kevin  Montreal\n",
            "5  james    Ottawa\n",
            "\n",
            "Excluding `Montreal` in using isin and stack them: \n",
            "0  name      kevin\n",
            "   city    Toronto\n",
            "1  name      james\n",
            "2  name      kumar\n",
            "   city    Calgary\n",
            "3  name      kevin\n",
            "4  name      kevin\n",
            "5  name      james\n",
            "   city     Ottawa\n",
            "dtype: object\n"
          ],
          "name": "stdout"
        }
      ]
    },
    {
      "cell_type": "markdown",
      "metadata": {
        "id": "B7aCPqJMorZV"
      },
      "source": [
        "**Finding specific items by using `isin` function**"
      ]
    },
    {
      "cell_type": "code",
      "metadata": {
        "colab": {
          "base_uri": "https://localhost:8080/"
        },
        "id": "C9vuwve9otnd",
        "outputId": "487909b6-01c3-4ebe-81ca-ec11ae01d7c2"
      },
      "source": [
        "users = pd.DataFrame({\r\n",
        "    \"name\": ['kevin', 'james', 'kumar', 'kevin', 'kevin', 'james'], \r\n",
        "    \"city\": ['Toronto', 'Montreal', 'Calgary', 'Montreal', 'Montreal', 'Ottawa']\r\n",
        "}) \r\n",
        "\r\n",
        "print('Original Dataframe: ')\r\n",
        "print(users)\r\n",
        "\r\n",
        "print('\\nFinding `Montreal` in using isin and stack them: ')\r\n",
        "print(users[users.isin(['Montreal'])].stack())"
      ],
      "execution_count": null,
      "outputs": [
        {
          "output_type": "stream",
          "text": [
            "Original Dataframe: \n",
            "    name      city\n",
            "0  kevin   Toronto\n",
            "1  james  Montreal\n",
            "2  kumar   Calgary\n",
            "3  kevin  Montreal\n",
            "4  kevin  Montreal\n",
            "5  james    Ottawa\n",
            "\n",
            "Finding `Montreal` in using isin and stack them: \n",
            "1  city    Montreal\n",
            "3  city    Montreal\n",
            "4  city    Montreal\n",
            "dtype: object\n"
          ],
          "name": "stdout"
        }
      ]
    },
    {
      "cell_type": "markdown",
      "metadata": {
        "id": "lOS0zJV5o3PJ"
      },
      "source": [
        "**Match with isin function**"
      ]
    },
    {
      "cell_type": "code",
      "metadata": {
        "colab": {
          "base_uri": "https://localhost:8080/"
        },
        "id": "fo1zx3hHo2hY",
        "outputId": "65b56192-f6fc-4e82-db49-6bfc547f8785"
      },
      "source": [
        "users = pd.DataFrame({\r\n",
        "    \"name\": ['kevin', 'james', 'kumar', 'kevin', 'kevin', 'james'], \r\n",
        "    \"city\": ['Toronto', 'Montreal', 'Calgary', 'Montreal', 'Montreal', 'Ottawa']\r\n",
        "}) \r\n",
        "\r\n",
        "print('Original Dataframe:')\r\n",
        "print(users)\r\n",
        "\r\n",
        "print('\\nFinding `Montreal` in by using isin function :')\r\n",
        "\r\n",
        "users.isin(['Montreal']).any()"
      ],
      "execution_count": null,
      "outputs": [
        {
          "output_type": "stream",
          "text": [
            "Original Dataframe:\n",
            "    name      city\n",
            "0  kevin   Toronto\n",
            "1  james  Montreal\n",
            "2  kumar   Calgary\n",
            "3  kevin  Montreal\n",
            "4  kevin  Montreal\n",
            "5  james    Ottawa\n",
            "\n",
            "Finding `Montreal` in by using isin function :\n"
          ],
          "name": "stdout"
        },
        {
          "output_type": "execute_result",
          "data": {
            "text/plain": [
              "name    False\n",
              "city     True\n",
              "dtype: bool"
            ]
          },
          "metadata": {
            "tags": []
          },
          "execution_count": 28
        }
      ]
    },
    {
      "cell_type": "markdown",
      "metadata": {
        "id": "3dZh-3U8pnSs"
      },
      "source": [
        "**Change columns**"
      ]
    },
    {
      "cell_type": "code",
      "metadata": {
        "colab": {
          "base_uri": "https://localhost:8080/"
        },
        "id": "lLQLgVqVpoem",
        "outputId": "1d2ea68c-af7d-4fac-d2f9-30c3a8f49fc1"
      },
      "source": [
        "users = pd.DataFrame({\r\n",
        "    \"name\": ['kevin', 'james', 'kumar', 'kevin', 'kevin', 'james'], \r\n",
        "    \"city\": ['Toronto', 'Montreal', 'Calgary', 'Montreal', 'Montreal', 'Ottawa']\r\n",
        "}) \r\n",
        "\r\n",
        "print('Before changing columns : ')\r\n",
        "print(users)\r\n",
        "\r\n",
        "# change columns\r\n",
        "users_new = users.rename({'name': 'first_name', 'city': 'current_city'}, axis = 1)\r\n",
        "\r\n",
        "print('\\nAfter changing columns : ')\r\n",
        "print(users_new)"
      ],
      "execution_count": null,
      "outputs": [
        {
          "output_type": "stream",
          "text": [
            "Before changing columns : \n",
            "    name      city\n",
            "0  kevin   Toronto\n",
            "1  james  Montreal\n",
            "2  kumar   Calgary\n",
            "3  kevin  Montreal\n",
            "4  kevin  Montreal\n",
            "5  james    Ottawa\n",
            "\n",
            "After changing columns : \n",
            "  first_name current_city\n",
            "0      kevin      Toronto\n",
            "1      james     Montreal\n",
            "2      kumar      Calgary\n",
            "3      kevin     Montreal\n",
            "4      kevin     Montreal\n",
            "5      james       Ottawa\n"
          ],
          "name": "stdout"
        }
      ]
    },
    {
      "cell_type": "markdown",
      "metadata": {
        "id": "ZyW0p4AlxfSX"
      },
      "source": [
        "**Change the order of columns**"
      ]
    },
    {
      "cell_type": "code",
      "metadata": {
        "colab": {
          "base_uri": "https://localhost:8080/"
        },
        "id": "7gPkymd1vdn1",
        "outputId": "6985142e-a107-486c-d4f1-a94a298c9ba0"
      },
      "source": [
        "users = pd.DataFrame({\r\n",
        "    \"id\": [1, 1, 2, 2, 3, 3], \r\n",
        "    \"city\": ['Toronto', 'Montreal', 'Calgary', 'Montreal', 'Montreal', 'Ottawa'],\r\n",
        "    \"count\" : [7, 8, 9, 2, 7, 8] \r\n",
        "    \r\n",
        "}) \r\n",
        "print(users)\r\n",
        "users2 = users.reindex(columns=['city', 'id', 'count'])\r\n",
        "print(users2)"
      ],
      "execution_count": null,
      "outputs": [
        {
          "output_type": "stream",
          "text": [
            "   id      city  count\n",
            "0   1   Toronto      7\n",
            "1   1  Montreal      8\n",
            "2   2   Calgary      9\n",
            "3   2  Montreal      2\n",
            "4   3  Montreal      7\n",
            "5   3    Ottawa      8\n",
            "       city  id  count\n",
            "0   Toronto   1      7\n",
            "1  Montreal   1      8\n",
            "2   Calgary   2      9\n",
            "3  Montreal   2      2\n",
            "4  Montreal   3      7\n",
            "5    Ottawa   3      8\n"
          ],
          "name": "stdout"
        }
      ]
    },
    {
      "cell_type": "markdown",
      "metadata": {
        "id": "iiyi55iQyphN"
      },
      "source": [
        "**Drop multiple rows**"
      ]
    },
    {
      "cell_type": "code",
      "metadata": {
        "colab": {
          "base_uri": "https://localhost:8080/"
        },
        "id": "KXnlIgUJyqvS",
        "outputId": "d9068bae-c728-4fec-a8cc-4086eca6db30"
      },
      "source": [
        "numbers = pd.DataFrame({\r\n",
        "    \"id\": [1, 2, 3, 4, 5, 6], \r\n",
        "    \"number\": [10, 20, 30, 30, 23, 12]\r\n",
        "    \r\n",
        "})  \r\n",
        "print(numbers)\r\n",
        "numbers.drop(numbers.index[[0, 3, 5]], inplace=True)\r\n",
        "print(numbers)"
      ],
      "execution_count": null,
      "outputs": [
        {
          "output_type": "stream",
          "text": [
            "   id  number\n",
            "0   1      10\n",
            "1   2      20\n",
            "2   3      30\n",
            "3   4      30\n",
            "4   5      23\n",
            "5   6      12\n",
            "   id  number\n",
            "1   2      20\n",
            "2   3      30\n",
            "4   5      23\n"
          ],
          "name": "stdout"
        }
      ]
    },
    {
      "cell_type": "markdown",
      "metadata": {
        "id": "dHyOIl2xyy0k"
      },
      "source": [
        "**Drop multiple rows by row name**"
      ]
    },
    {
      "cell_type": "code",
      "metadata": {
        "colab": {
          "base_uri": "https://localhost:8080/"
        },
        "id": "h3Jf6DMOvd7H",
        "outputId": "5959a1a2-7244-488e-b904-ef1ae6eef3ab"
      },
      "source": [
        "numbers = pd.DataFrame({\r\n",
        "    \"id\": [1, 2, 3, 4, 5, 6], \r\n",
        "    \"number\": [10, 20, 30, 30, 23, 12]\r\n",
        "    \r\n",
        "}, index=['one', 'two', 'three', 'four', 'five', 'six'])  \r\n",
        "print(numbers)\r\n",
        "numbers1 = numbers.drop(['two','six'])\r\n",
        "print(numbers1)\r\n",
        "numbers2 = numbers.drop('two')\r\n",
        "print(numbers2)"
      ],
      "execution_count": null,
      "outputs": [
        {
          "output_type": "stream",
          "text": [
            "       id  number\n",
            "one     1      10\n",
            "two     2      20\n",
            "three   3      30\n",
            "four    4      30\n",
            "five    5      23\n",
            "six     6      12\n",
            "       id  number\n",
            "one     1      10\n",
            "three   3      30\n",
            "four    4      30\n",
            "five    5      23\n",
            "       id  number\n",
            "one     1      10\n",
            "three   3      30\n",
            "four    4      30\n",
            "five    5      23\n",
            "six     6      12\n"
          ],
          "name": "stdout"
        }
      ]
    },
    {
      "cell_type": "markdown",
      "metadata": {
        "id": "LQXGsD9ODkDW"
      },
      "source": [
        "**Get group**"
      ]
    },
    {
      "cell_type": "code",
      "metadata": {
        "id": "Qi3GokzUDlZT"
      },
      "source": [
        "cats = animals_df.groupby(['animal']).get_group('cat')\r\n",
        "print(cats)"
      ],
      "execution_count": null,
      "outputs": []
    },
    {
      "cell_type": "markdown",
      "metadata": {
        "id": "CGUM6pHEEsK0"
      },
      "source": [
        "**Get the the odd row**"
      ]
    },
    {
      "cell_type": "code",
      "metadata": {
        "colab": {
          "base_uri": "https://localhost:8080/"
        },
        "id": "x1eULrujveK0",
        "outputId": "41432348-4f6d-4461-d46c-524b052fb782"
      },
      "source": [
        "import numpy\r\n",
        "x = numpy.array([\r\n",
        "                    [ 1,  2,  3,  4,  5],\r\n",
        "                    [ 6,  7,  8,  9, 10],\r\n",
        "                    [11, 12, 13, 14, 15],\r\n",
        "                    [16, 17, 18, 19, 20]\r\n",
        "                ]\r\n",
        "    )\r\n",
        "print(x)\r\n",
        "print(x[::2])"
      ],
      "execution_count": null,
      "outputs": [
        {
          "output_type": "stream",
          "text": [
            "[[ 1  2  3  4  5]\n",
            " [ 6  7  8  9 10]\n",
            " [11 12 13 14 15]\n",
            " [16 17 18 19 20]]\n",
            "[[ 1  2  3  4  5]\n",
            " [11 12 13 14 15]]\n"
          ],
          "name": "stdout"
        }
      ]
    },
    {
      "cell_type": "markdown",
      "metadata": {
        "id": "wHDol9zVE_U8"
      },
      "source": [
        "**Get the even columns**"
      ]
    },
    {
      "cell_type": "code",
      "metadata": {
        "colab": {
          "base_uri": "https://localhost:8080/"
        },
        "id": "Kkp2RrmAveSy",
        "outputId": "dc2a50c3-a829-4154-8423-c6b0877f90b4"
      },
      "source": [
        "x = numpy.array([\r\n",
        "                    [ 1,  2,  3,  4,  5],\r\n",
        "                    [ 6,  7,  8,  9, 10],\r\n",
        "                    [11, 12, 13, 14, 15],\r\n",
        "                    [16, 17, 18, 19, 20]\r\n",
        "                ]\r\n",
        "    )\r\n",
        "print(x)\r\n",
        "print(x[:, 1::2])"
      ],
      "execution_count": null,
      "outputs": [
        {
          "output_type": "stream",
          "text": [
            "[[ 1  2  3  4  5]\n",
            " [ 6  7  8  9 10]\n",
            " [11 12 13 14 15]\n",
            " [16 17 18 19 20]]\n",
            "[[ 2  4]\n",
            " [ 7  9]\n",
            " [12 14]\n",
            " [17 19]]\n"
          ],
          "name": "stdout"
        }
      ]
    },
    {
      "cell_type": "markdown",
      "metadata": {
        "id": "5sBHnRx6FlIt"
      },
      "source": [
        "**Odd rows and even columns**"
      ]
    },
    {
      "cell_type": "code",
      "metadata": {
        "colab": {
          "base_uri": "https://localhost:8080/"
        },
        "id": "_9dkB2mIvejN",
        "outputId": "dc27bdea-7eb1-4919-ad51-1715ca53d54f"
      },
      "source": [
        "x = numpy.array([\r\n",
        "                    [ 1,  2,  3,  4,  5],\r\n",
        "                    [ 6,  7,  8,  9, 10],\r\n",
        "                    [11, 12, 13, 14, 15],\r\n",
        "                    [16, 17, 18, 19, 20]\r\n",
        "                ]\r\n",
        "    )\r\n",
        "print(x)\r\n",
        "print(x[::2, 1::2])"
      ],
      "execution_count": null,
      "outputs": [
        {
          "output_type": "stream",
          "text": [
            "[[ 1  2  3  4  5]\n",
            " [ 6  7  8  9 10]\n",
            " [11 12 13 14 15]\n",
            " [16 17 18 19 20]]\n",
            "[[ 2  4]\n",
            " [12 14]]\n"
          ],
          "name": "stdout"
        }
      ]
    },
    {
      "cell_type": "markdown",
      "metadata": {
        "id": "N0myNAfdF5_2"
      },
      "source": [
        "**Drop duplicates**"
      ]
    },
    {
      "cell_type": "code",
      "metadata": {
        "colab": {
          "base_uri": "https://localhost:8080/"
        },
        "id": "IpzrAUdXvety",
        "outputId": "b0fa273a-4a39-4d9d-ad90-cd5993320d00"
      },
      "source": [
        "users = pd.DataFrame({\r\n",
        "    \"id\": [1, 1, 2, 2, 3, 3], \r\n",
        "    \"city\": ['Toronto', 'Montreal', 'Calgary', 'Montreal', 'Montreal', 'Ottawa'],\r\n",
        "    \"count\" : [7, 8, 9, 2, 7, 8] \r\n",
        "    \r\n",
        "}) \r\n",
        "print(users)\r\n",
        "users.drop_duplicates('id', inplace=True)\r\n",
        "print(users)"
      ],
      "execution_count": null,
      "outputs": [
        {
          "output_type": "stream",
          "text": [
            "   id      city  count\n",
            "0   1   Toronto      7\n",
            "1   1  Montreal      8\n",
            "2   2   Calgary      9\n",
            "3   2  Montreal      2\n",
            "4   3  Montreal      7\n",
            "5   3    Ottawa      8\n",
            "   id      city  count\n",
            "0   1   Toronto      7\n",
            "2   2   Calgary      9\n",
            "4   3  Montreal      7\n"
          ],
          "name": "stdout"
        }
      ]
    },
    {
      "cell_type": "markdown",
      "metadata": {
        "id": "l3CbZ7JCHAiJ"
      },
      "source": [
        "**Drop all duplicates**"
      ]
    },
    {
      "cell_type": "code",
      "metadata": {
        "colab": {
          "base_uri": "https://localhost:8080/"
        },
        "id": "fWNfBYsiHCTK",
        "outputId": "6b3df1d3-1b9b-4c42-dc60-4f97563bd98e"
      },
      "source": [
        "users = pd.DataFrame({\r\n",
        "    \"name\": ['kevin', 'james', 'kumar', 'kevin', 'kevin', 'james'], \r\n",
        "    \"city\": ['Toronto', 'Montreal', 'Calgary', 'Montreal', 'Montreal', 'Ottawa'],\r\n",
        "    \"count\" : [7, 8, 9, 2, 7, 8] \r\n",
        "    \r\n",
        "}) \r\n",
        "print(users)\r\n",
        "users.drop_duplicates('name', inplace=True, keep='last')\r\n",
        "print(users)\r\n",
        "users1 = users.drop_duplicates('name', keep=False)\r\n",
        "print(users1)"
      ],
      "execution_count": null,
      "outputs": [
        {
          "output_type": "stream",
          "text": [
            "    name      city  count\n",
            "0  kevin   Toronto      7\n",
            "1  james  Montreal      8\n",
            "2  kumar   Calgary      9\n",
            "3  kevin  Montreal      2\n",
            "4  kevin  Montreal      7\n",
            "5  james    Ottawa      8\n",
            "    name      city  count\n",
            "2  kumar   Calgary      9\n",
            "4  kevin  Montreal      7\n",
            "5  james    Ottawa      8\n",
            "    name      city  count\n",
            "2  kumar   Calgary      9\n",
            "4  kevin  Montreal      7\n",
            "5  james    Ottawa      8\n"
          ],
          "name": "stdout"
        }
      ]
    },
    {
      "cell_type": "markdown",
      "metadata": {
        "id": "cXwAjlCEHUze"
      },
      "source": [
        "**Basic group by**"
      ]
    },
    {
      "cell_type": "code",
      "metadata": {
        "id": "3SrnOBd6HgyR"
      },
      "source": [
        "animals_df1 = animals_df.groupby('animal').apply(lambda x: x['size'][x['weight'].idxmax()])\r\n",
        "print(animals_df1)"
      ],
      "execution_count": null,
      "outputs": []
    },
    {
      "cell_type": "markdown",
      "metadata": {
        "id": "xQFWychPIrGT"
      },
      "source": [
        "**Make A'th 3rd coulmn Nan**"
      ]
    },
    {
      "cell_type": "code",
      "metadata": {
        "colab": {
          "base_uri": "https://localhost:8080/"
        },
        "id": "gfW8IfW6IsWK",
        "outputId": "b593c948-cccb-47ef-fea4-9a8c024d5ce4"
      },
      "source": [
        "df = pd.DataFrame(np.random.randn(6,1), index=pd.date_range('2013-08-01', periods=6, freq='B'), columns=list('A'))\r\n",
        "print(df)\r\n",
        "df.loc[df.index[3], 'A'] = np.nan\r\n",
        "print(df)"
      ],
      "execution_count": null,
      "outputs": [
        {
          "output_type": "stream",
          "text": [
            "                   A\n",
            "2013-08-01  1.764052\n",
            "2013-08-02  0.400157\n",
            "2013-08-05  0.978738\n",
            "2013-08-06  2.240893\n",
            "2013-08-07  1.867558\n",
            "2013-08-08 -0.977278\n",
            "                   A\n",
            "2013-08-01  1.764052\n",
            "2013-08-02  0.400157\n",
            "2013-08-05  0.978738\n",
            "2013-08-06       NaN\n",
            "2013-08-07  1.867558\n",
            "2013-08-08 -0.977278\n"
          ],
          "name": "stdout"
        }
      ]
    },
    {
      "cell_type": "markdown",
      "metadata": {
        "id": "zz-w1cyKy9Cu"
      },
      "source": [
        "**Reindex**"
      ]
    },
    {
      "cell_type": "code",
      "metadata": {
        "colab": {
          "base_uri": "https://localhost:8080/"
        },
        "id": "c5OchsruJK6j",
        "outputId": "59eacbd4-ce65-413c-ff93-be3bf0b1f4af"
      },
      "source": [
        "df1 = df.reindex(df.index[::-1]).ffill()\r\n",
        "print(df1)"
      ],
      "execution_count": null,
      "outputs": [
        {
          "output_type": "stream",
          "text": [
            "                   A\n",
            "2013-08-08 -0.977278\n",
            "2013-08-07  1.867558\n",
            "2013-08-06  1.867558\n",
            "2013-08-05  0.978738\n",
            "2013-08-02  0.400157\n",
            "2013-08-01  1.764052\n"
          ],
          "name": "stdout"
        }
      ]
    },
    {
      "cell_type": "markdown",
      "metadata": {
        "id": "MJZIdO0kkk5r"
      },
      "source": [
        "**Pandas to list**"
      ]
    },
    {
      "cell_type": "code",
      "metadata": {
        "id": "PNAYPDamjvv6",
        "colab": {
          "base_uri": "https://localhost:8080/"
        },
        "outputId": "249e9feb-4da0-4ea3-be09-2f599219daf6"
      },
      "source": [
        "employees = pd.DataFrame({\r\n",
        "    \"age\": [17, 50, 24, 45, 65, 18], \r\n",
        "    \"salary\": [75, 33, 90, 175, 134, 78],\r\n",
        "    \"grade\" : [7, 8, 9, 2, 7, 8],\r\n",
        "    \"group\" : [1, 1, 2, 2, 2, 1] \r\n",
        "    \r\n",
        "})  \r\n",
        "print(employees)  \r\n",
        "employees_list1 = list(employees.columns.values) \r\n",
        "employees_list2 = employees.values.tolist()\r\n",
        "#employees_list = list(employees)\r\n",
        "print(employees_list1)\r\n",
        "print(employees_list2)"
      ],
      "execution_count": null,
      "outputs": [
        {
          "output_type": "stream",
          "text": [
            "   age  salary  grade  group\n",
            "0   17      75      7      1\n",
            "1   50      33      8      1\n",
            "2   24      90      9      2\n",
            "3   45     175      2      2\n",
            "4   65     134      7      2\n",
            "5   18      78      8      1\n",
            "['age', 'salary', 'grade', 'group']\n",
            "[[17, 75, 7, 1], [50, 33, 8, 1], [24, 90, 9, 2], [45, 175, 2, 2], [65, 134, 7, 2], [18, 78, 8, 1]]\n"
          ],
          "name": "stdout"
        }
      ]
    },
    {
      "cell_type": "markdown",
      "metadata": {
        "id": "0DAPmLT0k9GV"
      },
      "source": [
        "**Pandas rows to list**"
      ]
    },
    {
      "cell_type": "code",
      "metadata": {
        "id": "OxVz3bGbjwGB",
        "colab": {
          "base_uri": "https://localhost:8080/"
        },
        "outputId": "87311d16-4baa-4473-c75f-5a06799284e2"
      },
      "source": [
        "employees = pd.DataFrame({\r\n",
        "    \"age\": [17, 50, 24, 45, 65, 18], \r\n",
        "    \"salary\": [75, 33, 90, 175, 134, 78],\r\n",
        "    \"grade\" : [7, 8, 9, 2, 7, 8],\r\n",
        "    \"group\" : [1, 1, 2, 2, 2, 1] \r\n",
        "    \r\n",
        "})  \r\n",
        "print(employees)  \r\n",
        "employees_list2 = employees.values.tolist()\r\n",
        "print(employees_list2)\r\n",
        "print(type(employees_list2))\r\n",
        "print(len(employees_list2))"
      ],
      "execution_count": null,
      "outputs": [
        {
          "output_type": "stream",
          "text": [
            "   age  salary  grade  group\n",
            "0   17      75      7      1\n",
            "1   50      33      8      1\n",
            "2   24      90      9      2\n",
            "3   45     175      2      2\n",
            "4   65     134      7      2\n",
            "5   18      78      8      1\n",
            "[[17, 75, 7, 1], [50, 33, 8, 1], [24, 90, 9, 2], [45, 175, 2, 2], [65, 134, 7, 2], [18, 78, 8, 1]]\n",
            "<class 'list'>\n",
            "6\n"
          ],
          "name": "stdout"
        }
      ]
    },
    {
      "cell_type": "markdown",
      "metadata": {
        "id": "OoO_qmA2lf8g"
      },
      "source": [
        "**Pandas rows to array**"
      ]
    },
    {
      "cell_type": "code",
      "metadata": {
        "colab": {
          "base_uri": "https://localhost:8080/"
        },
        "id": "rgoJ7EGylg96",
        "outputId": "2a5fe4c0-4e64-4303-b81d-7e480b0da533"
      },
      "source": [
        "employees = pd.DataFrame({\r\n",
        "    \"age\": [17, 50, 24, 45, 65, 18], \r\n",
        "    \"salary\": [75, 33, 90, 175, 134, 78],\r\n",
        "    \"grade\" : [7, 8, 9, 2, 7, 8],\r\n",
        "    \"group\" : [1, 1, 2, 2, 2, 1] \r\n",
        "    \r\n",
        "})  \r\n",
        "print(employees)  \r\n",
        "employees_list2 = employees.values\r\n",
        "print(employees_list2)\r\n",
        "print(type(employees_list2))\r\n",
        "print(employees_list2.shape)"
      ],
      "execution_count": null,
      "outputs": [
        {
          "output_type": "stream",
          "text": [
            "   age  salary  grade  group\n",
            "0   17      75      7      1\n",
            "1   50      33      8      1\n",
            "2   24      90      9      2\n",
            "3   45     175      2      2\n",
            "4   65     134      7      2\n",
            "5   18      78      8      1\n",
            "[[ 17  75   7   1]\n",
            " [ 50  33   8   1]\n",
            " [ 24  90   9   2]\n",
            " [ 45 175   2   2]\n",
            " [ 65 134   7   2]\n",
            " [ 18  78   8   1]]\n",
            "<class 'numpy.ndarray'>\n",
            "(6, 4)\n"
          ],
          "name": "stdout"
        }
      ]
    },
    {
      "cell_type": "markdown",
      "metadata": {
        "id": "StnG1dGDlwp-"
      },
      "source": [
        "**Pandas rows to map**"
      ]
    },
    {
      "cell_type": "code",
      "metadata": {
        "colab": {
          "base_uri": "https://localhost:8080/"
        },
        "id": "wKeX2rWJlx0H",
        "outputId": "b17e49f4-cbe1-4298-df9c-023f24799750"
      },
      "source": [
        "employees = pd.DataFrame({\r\n",
        "    \"age\": [17, 50, 24, 45, 65, 18], \r\n",
        "    \"salary\": [75, 33, 90, 175, 134, 78],\r\n",
        "    \"grade\" : [7, 8, 9, 2, 7, 8],\r\n",
        "    \"group\" : [1, 1, 2, 2, 2, 1] \r\n",
        "    \r\n",
        "})  \r\n",
        "print(employees)  \r\n",
        "employees_list2 = map(list, employees.values)\r\n",
        "print(employees_list2)\r\n",
        "print(type(employees_list2))"
      ],
      "execution_count": null,
      "outputs": [
        {
          "output_type": "stream",
          "text": [
            "   age  salary  grade  group\n",
            "0   17      75      7      1\n",
            "1   50      33      8      1\n",
            "2   24      90      9      2\n",
            "3   45     175      2      2\n",
            "4   65     134      7      2\n",
            "5   18      78      8      1\n",
            "<map object at 0x7f6b3c69a5c0>\n",
            "<class 'map'>\n"
          ],
          "name": "stdout"
        }
      ]
    },
    {
      "cell_type": "markdown",
      "metadata": {
        "id": "nDMQs_qFmwh3"
      },
      "source": [
        "**Pandas rows to map**"
      ]
    },
    {
      "cell_type": "code",
      "metadata": {
        "id": "lW8tzTedjwPL",
        "colab": {
          "base_uri": "https://localhost:8080/"
        },
        "outputId": "6cb2ddaa-9005-4c19-e45a-8d1abfe76947"
      },
      "source": [
        "employees = pd.DataFrame({\r\n",
        "    \"age\": [17, 50, 24, 45, 65, 18], \r\n",
        "    \"salary\": [75, 33, 90, 175, 134, 78],\r\n",
        "    \"grade\" : [7, 8, 9, 2, 7, 8],\r\n",
        "    \"group\" : [1, 1, 2, 2, 2, 1] \r\n",
        "    \r\n",
        "})  \r\n",
        "print(employees)  \r\n",
        "employees_list2 = list(map(list, employees.values))\r\n",
        "print(employees_list2)\r\n",
        "print(type(employees_list2))"
      ],
      "execution_count": null,
      "outputs": [
        {
          "output_type": "stream",
          "text": [
            "   age  salary  grade  group\n",
            "0   17      75      7      1\n",
            "1   50      33      8      1\n",
            "2   24      90      9      2\n",
            "3   45     175      2      2\n",
            "4   65     134      7      2\n",
            "5   18      78      8      1\n",
            "[[17, 75, 7, 1], [50, 33, 8, 1], [24, 90, 9, 2], [45, 175, 2, 2], [65, 134, 7, 2], [18, 78, 8, 1]]\n",
            "<class 'list'>\n"
          ],
          "name": "stdout"
        }
      ]
    },
    {
      "cell_type": "markdown",
      "metadata": {
        "id": "ZRyLrgvenKpD"
      },
      "source": [
        "**Selecting multiple columns**"
      ]
    },
    {
      "cell_type": "code",
      "metadata": {
        "id": "nba-HtSnjwYz",
        "colab": {
          "base_uri": "https://localhost:8080/"
        },
        "outputId": "a12b4ef1-c8fc-4864-f2c3-459d3159c826"
      },
      "source": [
        "users = pd.DataFrame({\r\n",
        "    \"id\": [1, 1, 2, 2, 3, 3], \r\n",
        "    \"city\": ['Toronto', 'Montreal', 'Calgary', 'Montreal', 'Montreal', 'Ottawa'],\r\n",
        "    \"count\" : [7, 8, 9, 2, 7, 8] \r\n",
        "    \r\n",
        "}) \r\n",
        "print(users)\r\n",
        "users1 = users[['id', 'city']]\r\n",
        "print(users1)"
      ],
      "execution_count": null,
      "outputs": [
        {
          "output_type": "stream",
          "text": [
            "   id      city  count\n",
            "0   1   Toronto      7\n",
            "1   1  Montreal      8\n",
            "2   2   Calgary      9\n",
            "3   2  Montreal      2\n",
            "4   3  Montreal      7\n",
            "5   3    Ottawa      8\n",
            "   id      city\n",
            "0   1   Toronto\n",
            "1   1  Montreal\n",
            "2   2   Calgary\n",
            "3   2  Montreal\n",
            "4   3  Montreal\n",
            "5   3    Ottawa\n"
          ],
          "name": "stdout"
        }
      ]
    },
    {
      "cell_type": "markdown",
      "metadata": {
        "id": "1iOipqA8ne4z"
      },
      "source": [
        "**Selecting multiple columns**"
      ]
    },
    {
      "cell_type": "code",
      "metadata": {
        "colab": {
          "base_uri": "https://localhost:8080/"
        },
        "id": "OYi7GxGonX1T",
        "outputId": "7517ae2e-d57e-43a4-a468-27b2dfe54710"
      },
      "source": [
        "users = pd.DataFrame({\r\n",
        "    \"id\": [1, 1, 2, 2, 3, 3], \r\n",
        "    \"city\": ['Toronto', 'Montreal', 'Calgary', 'Montreal', 'Montreal', 'Ottawa'],\r\n",
        "    \"count\" : [7, 8, 9, 2, 7, 8] \r\n",
        "}) \r\n",
        "print(users)\r\n",
        "columns = ['id', 'count']\r\n",
        "users1 = pd.DataFrame(users, columns=columns)\r\n",
        "print(users1)"
      ],
      "execution_count": null,
      "outputs": [
        {
          "output_type": "stream",
          "text": [
            "   id      city  count\n",
            "0   1   Toronto      7\n",
            "1   1  Montreal      8\n",
            "2   2   Calgary      9\n",
            "3   2  Montreal      2\n",
            "4   3  Montreal      7\n",
            "5   3    Ottawa      8\n",
            "   id  count\n",
            "0   1      7\n",
            "1   1      8\n",
            "2   2      9\n",
            "3   2      2\n",
            "4   3      7\n",
            "5   3      8\n"
          ],
          "name": "stdout"
        }
      ]
    },
    {
      "cell_type": "markdown",
      "metadata": {
        "id": "RhSxqEYNnumw"
      },
      "source": [
        "**Row and Column Slicing**"
      ]
    },
    {
      "cell_type": "code",
      "metadata": {
        "colab": {
          "base_uri": "https://localhost:8080/"
        },
        "id": "HGUrld6onYC4",
        "outputId": "62b6bf9d-2b2f-4f58-bdd1-3f2966d0b640"
      },
      "source": [
        "users = pd.DataFrame({\r\n",
        "    \"id\": [1, 1, 2, 2, 3, 3], \r\n",
        "    \"city\": ['Toronto', 'Montreal', 'Calgary', 'Montreal', 'Montreal', 'Ottawa'],\r\n",
        "    \"count\" : [7, 8, 9, 2, 7, 8] \r\n",
        "    \r\n",
        "}) \r\n",
        "print(users)    \r\n",
        "users1 = users.iloc[0:2, 1:3]\r\n",
        "print(users1)"
      ],
      "execution_count": null,
      "outputs": [
        {
          "output_type": "stream",
          "text": [
            "   id      city  count\n",
            "0   1   Toronto      7\n",
            "1   1  Montreal      8\n",
            "2   2   Calgary      9\n",
            "3   2  Montreal      2\n",
            "4   3  Montreal      7\n",
            "5   3    Ottawa      8\n",
            "       city  count\n",
            "0   Toronto      7\n",
            "1  Montreal      8\n"
          ],
          "name": "stdout"
        }
      ]
    },
    {
      "cell_type": "markdown",
      "metadata": {
        "id": "zUkEZpiZtyIQ"
      },
      "source": [
        "**Iterating rows**"
      ]
    },
    {
      "cell_type": "code",
      "metadata": {
        "colab": {
          "base_uri": "https://localhost:8080/"
        },
        "id": "dLg4zKAJnYPP",
        "outputId": "41b19540-e78e-444f-f460-b02adafab1e7"
      },
      "source": [
        "users = pd.DataFrame({\r\n",
        "    \"id\": [1, 1, 2, 2, 3, 3], \r\n",
        "    \"city\": ['Toronto', 'Montreal', 'Calgary', 'Montreal', 'Montreal', 'Ottawa'],\r\n",
        "    \"count\" : [7, 8, 9, 2, 7, 8] \r\n",
        "    \r\n",
        "}) \r\n",
        "print(users)    \r\n",
        "for index, row in users.iterrows():\r\n",
        "    print(row['city'], \"==>\", row['count'])"
      ],
      "execution_count": null,
      "outputs": [
        {
          "output_type": "stream",
          "text": [
            "   id      city  count\n",
            "0   1   Toronto      7\n",
            "1   1  Montreal      8\n",
            "2   2   Calgary      9\n",
            "3   2  Montreal      2\n",
            "4   3  Montreal      7\n",
            "5   3    Ottawa      8\n",
            "Toronto ==> 7\n",
            "Montreal ==> 8\n",
            "Calgary ==> 9\n",
            "Montreal ==> 2\n",
            "Montreal ==> 7\n",
            "Ottawa ==> 8\n"
          ],
          "name": "stdout"
        }
      ]
    },
    {
      "cell_type": "markdown",
      "metadata": {
        "id": "_QI_lR1huzaj"
      },
      "source": [
        "**Iterating tuples**"
      ]
    },
    {
      "cell_type": "code",
      "metadata": {
        "colab": {
          "base_uri": "https://localhost:8080/"
        },
        "id": "Y0Vzfe0QnYbu",
        "outputId": "34e05227-0d05-4362-d5c3-6950c53c2036"
      },
      "source": [
        "users = pd.DataFrame({\r\n",
        "    \"id\": [1, 1, 2, 2, 3, 3], \r\n",
        "    \"city\": ['Toronto', 'Montreal', 'Calgary', 'Montreal', 'Montreal', 'Ottawa'],\r\n",
        "    \"count\" : [7, 8, 9, 2, 7, 8] \r\n",
        "    \r\n",
        "}) \r\n",
        "print(users)    \r\n",
        "for row in users.itertuples(index=True, name='Pandas'):\r\n",
        "    print(getattr(row, 'city'))\r\n",
        "    \r\n",
        "for row in users.itertuples(index=True, name='Pandas'):\r\n",
        "    print(row.count)"
      ],
      "execution_count": null,
      "outputs": [
        {
          "output_type": "stream",
          "text": [
            "   id      city  count\n",
            "0   1   Toronto      7\n",
            "1   1  Montreal      8\n",
            "2   2   Calgary      9\n",
            "3   2  Montreal      2\n",
            "4   3  Montreal      7\n",
            "5   3    Ottawa      8\n",
            "Toronto\n",
            "Montreal\n",
            "Calgary\n",
            "Montreal\n",
            "Montreal\n",
            "Ottawa\n",
            "7\n",
            "8\n",
            "9\n",
            "2\n",
            "7\n",
            "8\n"
          ],
          "name": "stdout"
        }
      ]
    },
    {
      "cell_type": "markdown",
      "metadata": {
        "id": "1FJiyzfVvCft"
      },
      "source": [
        "**Iterating rows and columns**"
      ]
    },
    {
      "cell_type": "code",
      "metadata": {
        "colab": {
          "base_uri": "https://localhost:8080/"
        },
        "id": "CQ4y-b2pnYj6",
        "outputId": "2c446f71-8415-4caf-f4c3-4032fad7e6d3"
      },
      "source": [
        "users = pd.DataFrame({\r\n",
        "    \"id\": [1, 1, 2, 2, 3, 3], \r\n",
        "    \"city\": ['Toronto', 'Montreal', 'Calgary', 'Montreal', 'Montreal', 'Ottawa'],\r\n",
        "    \"count\" : [7, 8, 9, 2, 7, 8] \r\n",
        "    \r\n",
        "}) \r\n",
        "print(users)    \r\n",
        "for i, row in users.iterrows():\r\n",
        "    for j, col in row.iteritems():    \r\n",
        "        print(col)"
      ],
      "execution_count": null,
      "outputs": [
        {
          "output_type": "stream",
          "text": [
            "   id      city  count\n",
            "0   1   Toronto      7\n",
            "1   1  Montreal      8\n",
            "2   2   Calgary      9\n",
            "3   2  Montreal      2\n",
            "4   3  Montreal      7\n",
            "5   3    Ottawa      8\n",
            "1\n",
            "Toronto\n",
            "7\n",
            "1\n",
            "Montreal\n",
            "8\n",
            "2\n",
            "Calgary\n",
            "9\n",
            "2\n",
            "Montreal\n",
            "2\n",
            "3\n",
            "Montreal\n",
            "7\n",
            "3\n",
            "Ottawa\n",
            "8\n"
          ],
          "name": "stdout"
        }
      ]
    },
    {
      "cell_type": "markdown",
      "metadata": {
        "id": "xaJbHI8pvOit"
      },
      "source": [
        "**List of Dictionary to Dataframe**"
      ]
    },
    {
      "cell_type": "code",
      "metadata": {
        "colab": {
          "base_uri": "https://localhost:8080/"
        },
        "id": "4lRX1frKnYun",
        "outputId": "44fd36f8-85fb-46ee-9c48-36ca4f0e0858"
      },
      "source": [
        "pointlist = [\r\n",
        "                {'points': 50, 'time': '5:00', 'year': 2010}, \r\n",
        "                {'points': 25, 'time': '6:00', 'month': \"february\"}, \r\n",
        "                {'points':90, 'time': '9:00', 'month': 'january'}, \r\n",
        "                {'points_h1':20, 'month': 'june'}\r\n",
        "            ]\r\n",
        "print(pointlist)\r\n",
        "pointDf = pd.DataFrame(pointlist)\r\n",
        "print(pointDf)\r\n",
        "\r\n",
        "pointDf1 = pd.DataFrame.from_dict(pointlist)\r\n",
        "print(pointDf1)"
      ],
      "execution_count": null,
      "outputs": [
        {
          "output_type": "stream",
          "text": [
            "[{'points': 50, 'time': '5:00', 'year': 2010}, {'points': 25, 'time': '6:00', 'month': 'february'}, {'points': 90, 'time': '9:00', 'month': 'january'}, {'points_h1': 20, 'month': 'june'}]\n",
            "   points  time    year     month  points_h1\n",
            "0    50.0  5:00  2010.0       NaN        NaN\n",
            "1    25.0  6:00     NaN  february        NaN\n",
            "2    90.0  9:00     NaN   january        NaN\n",
            "3     NaN   NaN     NaN      june       20.0\n",
            "   points  time    year     month  points_h1\n",
            "0    50.0  5:00  2010.0       NaN        NaN\n",
            "1    25.0  6:00     NaN  february        NaN\n",
            "2    90.0  9:00     NaN   january        NaN\n",
            "3     NaN   NaN     NaN      june       20.0\n"
          ],
          "name": "stdout"
        }
      ]
    },
    {
      "cell_type": "markdown",
      "metadata": {
        "id": "y9FynVxpvzZS"
      },
      "source": [
        "**NaN values**"
      ]
    },
    {
      "cell_type": "code",
      "metadata": {
        "colab": {
          "base_uri": "https://localhost:8080/"
        },
        "id": "qSLSS_ZGnY9Y",
        "outputId": "a6d0ee53-8ac1-4897-df93-2ae430ec5f0d"
      },
      "source": [
        "df = pd.DataFrame(np.random.randn(10,6))\r\n",
        "# Make a few areas have NaN values\r\n",
        "df.iloc[1:3,1] = np.nan\r\n",
        "df.iloc[5,3] = np.nan\r\n",
        "df.iloc[7:9,5] = np.nan\r\n",
        "print(df)\r\n",
        "df1 = df.isnull()\r\n",
        "print(df1)"
      ],
      "execution_count": null,
      "outputs": [
        {
          "output_type": "stream",
          "text": [
            "          0         1         2         3         4         5\n",
            "0  0.217990  0.446116 -0.819062 -1.352324 -0.763532 -0.960236\n",
            "1 -0.922719       NaN -0.334374  1.858551  1.259664 -1.129287\n",
            "2 -0.164548       NaN  1.177197  0.200236  0.901230  0.107576\n",
            "3  1.320939  0.769797  0.108104  0.113736 -0.558491  1.342673\n",
            "4 -0.368223 -0.461297  1.076169 -1.038262 -1.454537  0.339280\n",
            "5  0.293486  0.875644 -0.918129       NaN  0.463781 -0.513731\n",
            "6 -1.635774 -1.416454 -1.262524  0.495890 -1.447153  0.385738\n",
            "7  0.044075  1.086185 -0.888498  0.911366  0.554206       NaN\n",
            "8 -0.455476  0.161883  0.670322 -0.002011  1.131631       NaN\n",
            "9 -0.012585  1.077887 -0.332956  1.145893 -1.885006 -0.370889\n",
            "       0      1      2      3      4      5\n",
            "0  False  False  False  False  False  False\n",
            "1  False   True  False  False  False  False\n",
            "2  False   True  False  False  False  False\n",
            "3  False  False  False  False  False  False\n",
            "4  False  False  False  False  False  False\n",
            "5  False  False  False   True  False  False\n",
            "6  False  False  False  False  False  False\n",
            "7  False  False  False  False  False   True\n",
            "8  False  False  False  False  False   True\n",
            "9  False  False  False  False  False  False\n"
          ],
          "name": "stdout"
        }
      ]
    },
    {
      "cell_type": "markdown",
      "metadata": {
        "id": "8jq_pT1vwF5t"
      },
      "source": [
        "**Sum of all nan**"
      ]
    },
    {
      "cell_type": "code",
      "metadata": {
        "colab": {
          "base_uri": "https://localhost:8080/"
        },
        "id": "sWxCDm5kwHF_",
        "outputId": "03109866-40e5-4524-e1e6-22896f91c002"
      },
      "source": [
        "df = pd.DataFrame(np.random.randn(10,6))\r\n",
        "# Make a few areas have NaN values\r\n",
        "df.iloc[1:3,1] = np.nan\r\n",
        "df.iloc[5,3] = np.nan\r\n",
        "df.iloc[7:9,5] = np.nan\r\n",
        "print(df)\r\n",
        "print(df.isnull().sum())\r\n",
        "print(df.isnull().sum(axis=1))\r\n",
        "print(df.isnull().sum().tolist())"
      ],
      "execution_count": null,
      "outputs": [
        {
          "output_type": "stream",
          "text": [
            "          0         1         2         3         4         5\n",
            "0  2.088563  0.231459 -1.251079  0.704646 -1.166442  0.448813\n",
            "1 -0.171223       NaN  1.734200 -2.025169 -1.147663 -0.680795\n",
            "2 -1.342513       NaN  0.193023 -0.237307 -0.482156 -0.134534\n",
            "3  0.669996 -0.793702 -0.387130  0.392890 -0.788523  0.537616\n",
            "4  1.474900 -0.596172 -0.063693 -1.240504 -1.834939  0.629844\n",
            "5  1.131971 -0.003096 -1.553394       NaN -0.965569 -1.257372\n",
            "6  0.503083  0.092577  0.395931 -1.888212 -0.373666  2.131113\n",
            "7 -0.892120  0.460762 -0.969789  0.007106  1.717064       NaN\n",
            "8  0.362164  1.210222 -2.550062  0.482174  0.342836       NaN\n",
            "9  1.190521  0.848214  0.303314  0.919155  1.578715  1.771569\n",
            "0    0\n",
            "1    2\n",
            "2    0\n",
            "3    1\n",
            "4    0\n",
            "5    2\n",
            "dtype: int64\n",
            "0    0\n",
            "1    1\n",
            "2    1\n",
            "3    0\n",
            "4    0\n",
            "5    1\n",
            "6    0\n",
            "7    1\n",
            "8    1\n",
            "9    0\n",
            "dtype: int64\n",
            "[0, 2, 0, 1, 0, 2]\n"
          ],
          "name": "stdout"
        }
      ]
    },
    {
      "cell_type": "markdown",
      "metadata": {
        "id": "_Ksq3xcywNo7"
      },
      "source": [
        "**Sum of all nan rowwise**"
      ]
    },
    {
      "cell_type": "code",
      "metadata": {
        "colab": {
          "base_uri": "https://localhost:8080/"
        },
        "id": "gZ_Ao-FRwOuR",
        "outputId": "bf099602-7cba-4450-d204-909e4d194790"
      },
      "source": [
        "df = pd.DataFrame(np.random.randn(10,6))\r\n",
        "# Make a few areas have NaN values\r\n",
        "df.iloc[1:3,1] = np.nan\r\n",
        "df.iloc[5,3] = np.nan\r\n",
        "df.iloc[7:9,5] = np.nan\r\n",
        "print(df)\r\n",
        "print(df.isnull().sum(axis=1))"
      ],
      "execution_count": null,
      "outputs": [
        {
          "output_type": "stream",
          "text": [
            "          0         1         2         3         4         5\n",
            "0 -0.440883 -0.157030  0.087852  1.022063  1.114579 -0.038081\n",
            "1 -1.601161       NaN -0.541547  1.507458  0.290414 -2.819083\n",
            "2  0.462185       NaN  1.311486 -0.873955 -0.749647  0.815721\n",
            "3  0.491506  0.088078  0.405965  1.882544 -1.475927 -1.116513\n",
            "4 -1.443477  0.449824 -0.353926  1.321172 -0.160297  0.596804\n",
            "5  0.423406 -0.928333 -2.623462       NaN  0.504588  0.401967\n",
            "6 -0.273848  0.031379  1.992330 -0.849768 -0.464734  0.179325\n",
            "7 -1.375814  1.536620 -0.387260 -1.290004  0.466924       NaN\n",
            "8  0.754603  0.555904  0.189276 -0.426599  0.035094       NaN\n",
            "9 -1.633910  1.409222 -0.423086 -0.302064 -0.912152 -0.871047\n",
            "0    0\n",
            "1    1\n",
            "2    1\n",
            "3    0\n",
            "4    0\n",
            "5    1\n",
            "6    0\n",
            "7    1\n",
            "8    1\n",
            "9    0\n",
            "dtype: int64\n"
          ],
          "name": "stdout"
        }
      ]
    },
    {
      "cell_type": "markdown",
      "metadata": {
        "id": "-93AiIYzwmTW"
      },
      "source": [
        "**Sum of all nan as list**"
      ]
    },
    {
      "cell_type": "code",
      "metadata": {
        "colab": {
          "base_uri": "https://localhost:8080/"
        },
        "id": "0ID7txvcwnqv",
        "outputId": "73d85de3-9886-4b40-b076-12a58a933bc4"
      },
      "source": [
        "df = pd.DataFrame(np.random.randn(10,6))\r\n",
        "# Make a few areas have NaN values\r\n",
        "df.iloc[1:3,1] = np.nan\r\n",
        "df.iloc[5,3] = np.nan\r\n",
        "df.iloc[7:9,5] = np.nan\r\n",
        "print(df)\r\n",
        "print(df.isnull().sum().tolist())"
      ],
      "execution_count": null,
      "outputs": [
        {
          "output_type": "stream",
          "text": [
            "          0         1         2         3         4         5\n",
            "0  1.303152 -0.609694 -0.443278 -0.646600 -0.474094 -0.203608\n",
            "1 -1.751956       NaN  1.571051 -0.155592  0.773396  2.219493\n",
            "2  1.925418       NaN  1.145302 -1.860705 -1.043996  2.652211\n",
            "3 -1.553704 -0.102464  0.669496  0.445226  0.042220 -1.996937\n",
            "4  1.120190  2.681242  1.148746 -0.541898  0.346474  0.805443\n",
            "5  0.053541 -1.086637  1.173338       NaN -0.291910 -0.993342\n",
            "6  1.182458 -1.398676  0.997795 -0.902583 -0.285639 -0.078916\n",
            "7 -0.447757 -0.757681 -2.784148  0.203487  0.523540       NaN\n",
            "8 -1.058292 -1.538603  1.347284 -0.417725  0.288348       NaN\n",
            "9 -0.787049 -0.919619 -0.097892  0.053204  0.921805  1.064299\n",
            "[0, 2, 0, 1, 0, 2]\n"
          ],
          "name": "stdout"
        }
      ]
    },
    {
      "cell_type": "markdown",
      "metadata": {
        "id": "cMp_jNj1w3qW"
      },
      "source": [
        "**Change the order of columns**"
      ]
    },
    {
      "cell_type": "code",
      "metadata": {
        "colab": {
          "base_uri": "https://localhost:8080/"
        },
        "id": "DwbE2BRVw6kY",
        "outputId": "f1f6ecba-d49a-471a-b7d6-287c208c096a"
      },
      "source": [
        "#'.reindex_axis' is deprecated and will be removed in a future version\r\n",
        "users = pd.DataFrame({\r\n",
        "    \"id\": [1, 1, 2, 2, 3, 3], \r\n",
        "    \"city\": ['Toronto', 'Montreal', 'Calgary', 'Montreal', 'Montreal', 'Ottawa'],\r\n",
        "    \"count\" : [7, 8, 9, 2, 7, 8] \r\n",
        "    \r\n",
        "}) \r\n",
        "print(users)\r\n",
        "users2 = users.reindex(columns=['city', 'id', 'count'])\r\n",
        "print(users2)"
      ],
      "execution_count": null,
      "outputs": [
        {
          "output_type": "stream",
          "text": [
            "   id      city  count\n",
            "0   1   Toronto      7\n",
            "1   1  Montreal      8\n",
            "2   2   Calgary      9\n",
            "3   2  Montreal      2\n",
            "4   3  Montreal      7\n",
            "5   3    Ottawa      8\n",
            "       city  id  count\n",
            "0   Toronto   1      7\n",
            "1  Montreal   1      8\n",
            "2   Calgary   2      9\n",
            "3  Montreal   2      2\n",
            "4  Montreal   3      7\n",
            "5    Ottawa   3      8\n"
          ],
          "name": "stdout"
        }
      ]
    },
    {
      "cell_type": "markdown",
      "metadata": {
        "id": "lFuj3Y68xGrU"
      },
      "source": [
        "**Drop multiple rows**"
      ]
    },
    {
      "cell_type": "code",
      "metadata": {
        "colab": {
          "base_uri": "https://localhost:8080/"
        },
        "id": "f2NFL5JUxHm8",
        "outputId": "4187ecaf-f37e-450c-ab26-8dd83f03466b"
      },
      "source": [
        "numbers = pd.DataFrame({\r\n",
        "    \"id\": [1, 2, 3, 4, 5, 6], \r\n",
        "    \"number\": [10, 20, 30, 30, 23, 12]\r\n",
        "    \r\n",
        "})  \r\n",
        "print(numbers)\r\n",
        "numbers.drop(numbers.index[[0, 3, 5]], inplace=True)\r\n",
        "print(numbers)"
      ],
      "execution_count": null,
      "outputs": [
        {
          "output_type": "stream",
          "text": [
            "   id  number\n",
            "0   1      10\n",
            "1   2      20\n",
            "2   3      30\n",
            "3   4      30\n",
            "4   5      23\n",
            "5   6      12\n",
            "   id  number\n",
            "1   2      20\n",
            "2   3      30\n",
            "4   5      23\n"
          ],
          "name": "stdout"
        }
      ]
    },
    {
      "cell_type": "markdown",
      "metadata": {
        "id": "v-unVs2QxhmO"
      },
      "source": [
        "**Drop multiple rows by row name**"
      ]
    },
    {
      "cell_type": "code",
      "metadata": {
        "id": "6KZB0xgcyA62"
      },
      "source": [
        "numbers = pd.DataFrame({\r\n",
        "    \"id\": [1, 2, 3, 4, 5, 6], \r\n",
        "    \"number\": [10, 20, 30, 30, 23, 12]\r\n",
        "    \r\n",
        "}, index=['one', 'two', 'three', 'four', 'five', 'six'])  \r\n",
        "print(numbers)\r\n",
        "numbers1 = numbers.drop(['two','six'])\r\n",
        "print(numbers1)\r\n",
        "numbers2 = numbers.drop('two')\r\n",
        "print(numbers2)"
      ],
      "execution_count": null,
      "outputs": []
    },
    {
      "cell_type": "markdown",
      "metadata": {
        "id": "CNUjYPPM0VCY"
      },
      "source": [
        "**Create Numpy Array Create three columns with Zero values**"
      ]
    },
    {
      "cell_type": "code",
      "metadata": {
        "colab": {
          "base_uri": "https://localhost:8080/"
        },
        "id": "XooVQ_-Y0ZWP",
        "outputId": "79e9442d-9e27-472a-b9f6-796709b53760"
      },
      "source": [
        "dtype = [('Col1','int32'), ('Col2','float32'), ('Col3','float32')]\r\n",
        "values = np.zeros(20, dtype=dtype)\r\n",
        "index = ['Row'+str(i) for i in range(1, len(values)+1)]\r\n",
        "\r\n",
        "df = pd.DataFrame(values, index=index)\r\n",
        "print(df)\r\n",
        "\r\n",
        "df = pd.DataFrame(values)\r\n",
        "print(df)"
      ],
      "execution_count": null,
      "outputs": [
        {
          "output_type": "stream",
          "text": [
            "       Col1  Col2  Col3\n",
            "Row1      0   0.0   0.0\n",
            "Row2      0   0.0   0.0\n",
            "Row3      0   0.0   0.0\n",
            "Row4      0   0.0   0.0\n",
            "Row5      0   0.0   0.0\n",
            "Row6      0   0.0   0.0\n",
            "Row7      0   0.0   0.0\n",
            "Row8      0   0.0   0.0\n",
            "Row9      0   0.0   0.0\n",
            "Row10     0   0.0   0.0\n",
            "Row11     0   0.0   0.0\n",
            "Row12     0   0.0   0.0\n",
            "Row13     0   0.0   0.0\n",
            "Row14     0   0.0   0.0\n",
            "Row15     0   0.0   0.0\n",
            "Row16     0   0.0   0.0\n",
            "Row17     0   0.0   0.0\n",
            "Row18     0   0.0   0.0\n",
            "Row19     0   0.0   0.0\n",
            "Row20     0   0.0   0.0\n",
            "    Col1  Col2  Col3\n",
            "0      0   0.0   0.0\n",
            "1      0   0.0   0.0\n",
            "2      0   0.0   0.0\n",
            "3      0   0.0   0.0\n",
            "4      0   0.0   0.0\n",
            "5      0   0.0   0.0\n",
            "6      0   0.0   0.0\n",
            "7      0   0.0   0.0\n",
            "8      0   0.0   0.0\n",
            "9      0   0.0   0.0\n",
            "10     0   0.0   0.0\n",
            "11     0   0.0   0.0\n",
            "12     0   0.0   0.0\n",
            "13     0   0.0   0.0\n",
            "14     0   0.0   0.0\n",
            "15     0   0.0   0.0\n",
            "16     0   0.0   0.0\n",
            "17     0   0.0   0.0\n",
            "18     0   0.0   0.0\n",
            "19     0   0.0   0.0\n"
          ],
          "name": "stdout"
        }
      ]
    },
    {
      "cell_type": "markdown",
      "metadata": {
        "id": "f6V-SbrN0zct"
      },
      "source": [
        "**iLoc in Pandas|Print first five rows**"
      ]
    },
    {
      "cell_type": "code",
      "metadata": {
        "id": "nRyzgnqU02tq"
      },
      "source": [
        "print(df.iloc[:4]) "
      ],
      "execution_count": null,
      "outputs": []
    },
    {
      "cell_type": "markdown",
      "metadata": {
        "id": "sbPA3lAc08LB"
      },
      "source": [
        "**Create Random integer between 2 to 10 with 4 items**"
      ]
    },
    {
      "cell_type": "code",
      "metadata": {
        "colab": {
          "base_uri": "https://localhost:8080/"
        },
        "id": "QtmrRlCe0-rM",
        "outputId": "1b7be901-bb7f-4c21-e7d0-73bdc6f47035"
      },
      "source": [
        "values = np.random.randint(2, 10, size=4)\r\n",
        "print(values)"
      ],
      "execution_count": null,
      "outputs": [
        {
          "output_type": "stream",
          "text": [
            "[3 7 9 8]\n"
          ],
          "name": "stdout"
        }
      ]
    },
    {
      "cell_type": "markdown",
      "metadata": {
        "id": "Spd8FS2v1DSS"
      },
      "source": [
        "**Create Random integer between 0 to 100**"
      ]
    },
    {
      "cell_type": "code",
      "metadata": {
        "colab": {
          "base_uri": "https://localhost:8080/"
        },
        "id": "2k4sR6cE1FVA",
        "outputId": "23198b45-dfa8-4315-cddf-ed2e70b02dd8"
      },
      "source": [
        "df = pd.DataFrame(np.random.randint(0, 100, size=(3, 2)), columns=list('xy'))\r\n",
        "print(df)"
      ],
      "execution_count": null,
      "outputs": [
        {
          "output_type": "stream",
          "text": [
            "    x   y\n",
            "0   8  29\n",
            "1  71  64\n",
            "2  78  30\n"
          ],
          "name": "stdout"
        }
      ]
    },
    {
      "cell_type": "markdown",
      "metadata": {
        "id": "Gs1jcn341apg"
      },
      "source": [
        "**Create Random integer between 2 to 10 with 4 columns**"
      ]
    },
    {
      "cell_type": "code",
      "metadata": {
        "colab": {
          "base_uri": "https://localhost:8080/"
        },
        "id": "DBnfvNkt1b2K",
        "outputId": "c9925413-f18c-4b08-ef76-296f128c3e4e"
      },
      "source": [
        "df = pd.DataFrame(np.random.randint(0, 100, size=(2, 4)), columns=['A', 'B', 'C', 'D'])\r\n",
        "print(df)"
      ],
      "execution_count": null,
      "outputs": [
        {
          "output_type": "stream",
          "text": [
            "    A   B   C   D\n",
            "0  12   3  36  36\n",
            "1  35  24  50  79\n"
          ],
          "name": "stdout"
        }
      ]
    },
    {
      "cell_type": "markdown",
      "metadata": {
        "id": "DFIS3qqL1lym"
      },
      "source": [
        "**2D array with random between 0 and 5**"
      ]
    },
    {
      "cell_type": "code",
      "metadata": {
        "colab": {
          "base_uri": "https://localhost:8080/"
        },
        "id": "WPxff_Gj1m8A",
        "outputId": "6d6fb0ad-f1c1-45a5-e726-bf207936019b"
      },
      "source": [
        "values = np.random.randint(5, size=(2, 4))\r\n",
        "print(values)\r\n",
        "print(type(values))"
      ],
      "execution_count": null,
      "outputs": [
        {
          "output_type": "stream",
          "text": [
            "[[2 4 4 3]\n",
            " [3 4 0 3]]\n",
            "<class 'numpy.ndarray'>\n"
          ],
          "name": "stdout"
        }
      ]
    },
    {
      "cell_type": "markdown",
      "metadata": {
        "id": "DIwga0w01sQJ"
      },
      "source": [
        "**Create Random integer between 0 to 100 with 10 itmes (2 rows, 5 columns)**"
      ]
    },
    {
      "cell_type": "code",
      "metadata": {
        "colab": {
          "base_uri": "https://localhost:8080/"
        },
        "id": "QmLFnsU71tka",
        "outputId": "2ad7ba4e-1061-40cf-bb3f-b4ab6a21f38d"
      },
      "source": [
        "df = pd.DataFrame(np.random.randint(0, 100, size=(3, 5)), columns=['Toronto', 'Ottawa', 'Calgary', 'Montreal', 'Quebec'])\r\n",
        "print(df)"
      ],
      "execution_count": null,
      "outputs": [
        {
          "output_type": "stream",
          "text": [
            "   Toronto  Ottawa  Calgary  Montreal  Quebec\n",
            "0       69      65       58        85      83\n",
            "1       33      83        8        84      12\n",
            "2       42      69       37        35       3\n"
          ],
          "name": "stdout"
        }
      ]
    },
    {
      "cell_type": "markdown",
      "metadata": {
        "id": "IkDte05jMQsx"
      },
      "source": [
        "**First 4 rows and 2 columns of CSV**"
      ]
    },
    {
      "cell_type": "code",
      "metadata": {
        "id": "R0Pk16l_MSVu"
      },
      "source": [
        "print(df.iloc[0:4,0:2])"
      ],
      "execution_count": null,
      "outputs": []
    },
    {
      "cell_type": "markdown",
      "metadata": {
        "id": "E6osO5GuMrru"
      },
      "source": [
        "**Show even rows and first three columns**"
      ]
    },
    {
      "cell_type": "code",
      "metadata": {
        "id": "A3vyyz2sMtAV"
      },
      "source": [
        "print(df.iloc[::2, 0:3])  "
      ],
      "execution_count": null,
      "outputs": []
    },
    {
      "cell_type": "markdown",
      "metadata": {
        "id": "efAQSFpaMzY4"
      },
      "source": [
        "**New columns as sum of all**"
      ]
    },
    {
      "cell_type": "code",
      "metadata": {
        "id": "TvW5ojnTM0v4"
      },
      "source": [
        "df['total'] = df.sum(axis=1)"
      ],
      "execution_count": null,
      "outputs": []
    },
    {
      "cell_type": "markdown",
      "metadata": {
        "id": "XNUlQ1LNM_6D"
      },
      "source": [
        "**Delete Rows of one column where the value is less than 50**"
      ]
    },
    {
      "cell_type": "code",
      "metadata": {
        "id": "qxjcEw9INBfc"
      },
      "source": [
        "df = df[df.science > 50]"
      ],
      "execution_count": null,
      "outputs": []
    },
    {
      "cell_type": "markdown",
      "metadata": {
        "id": "4Xw8cW61NIgs"
      },
      "source": [
        "**Delete with Query**"
      ]
    },
    {
      "cell_type": "code",
      "metadata": {
        "id": "d0SzTw8PNKfp"
      },
      "source": [
        "df = df.query('science > 45')"
      ],
      "execution_count": null,
      "outputs": []
    },
    {
      "cell_type": "markdown",
      "metadata": {
        "id": "iPwZ1Du_NkEp"
      },
      "source": [
        "**Skip single row**"
      ]
    },
    {
      "cell_type": "code",
      "metadata": {
        "id": "vTNOC3ChNlTM"
      },
      "source": [
        "df = pandas.read_csv('/kaggle/input/datasets-for-pandas/abc.csv', sep=',', encoding = \"utf-8\", skiprows=[5])"
      ],
      "execution_count": null,
      "outputs": []
    },
    {
      "cell_type": "markdown",
      "metadata": {
        "id": "DR7WZVZHNntE"
      },
      "source": [
        "**Skip multiple rows**"
      ]
    },
    {
      "cell_type": "code",
      "metadata": {
        "id": "ffyjiacENrff"
      },
      "source": [
        "df = pandas.read_csv('/kaggle/input/datasets-for-pandas/abc.csv', sep=',', encoding = \"utf-8\", skiprows=[1, 5, 7])"
      ],
      "execution_count": null,
      "outputs": []
    },
    {
      "cell_type": "markdown",
      "metadata": {
        "id": "K_GmpglkN4WM"
      },
      "source": [
        "**Select Column by Index**"
      ]
    },
    {
      "cell_type": "code",
      "metadata": {
        "id": "U1RZXCKaN5ib"
      },
      "source": [
        "df = pandas.read_csv('/kaggle/input/datasets-for-pandas/abc.csv', sep=',', encoding = \"utf-8\")\r\n",
        "#df = df[int(df.columns[2]) > 45]\r\n",
        "print(df)\r\n",
        "print(type(df.columns[2]))"
      ],
      "execution_count": null,
      "outputs": []
    },
    {
      "cell_type": "markdown",
      "metadata": {
        "id": "eWXBKxNLOjzA"
      },
      "source": [
        "**Skip rows**"
      ]
    },
    {
      "cell_type": "code",
      "metadata": {
        "id": "NMw8Q6f8OmZT"
      },
      "source": [
        "df = pandas.read_csv('/kaggle/input/datasets-for-pandas/abc.csv', sep=',', encoding = \"utf-8\", skiprows=[0])\r\n",
        "#df = df[int(df.columns[2]) > 45]\r\n",
        "#print(df)\r\n",
        "print(df.columns[2])"
      ],
      "execution_count": null,
      "outputs": []
    },
    {
      "cell_type": "markdown",
      "metadata": {
        "id": "jTh6iWAqOsKd"
      },
      "source": [
        "**String to Dataframe**"
      ]
    },
    {
      "cell_type": "code",
      "metadata": {
        "colab": {
          "base_uri": "https://localhost:8080/"
        },
        "id": "5uN6SjGiOtJE",
        "outputId": "c6c45ef1-5a53-41e9-e75e-7e7761518474"
      },
      "source": [
        "print('Task 22:')\r\n",
        "from io import StringIO\r\n",
        "\r\n",
        "s = \"\"\"\r\n",
        "        1, 2\r\n",
        "        3, 4\r\n",
        "        5, 6\r\n",
        "    \"\"\"\r\n",
        "\r\n",
        "df = pd.read_csv(StringIO(s), header=None)\r\n",
        "\r\n",
        "print(df.shape)\r\n",
        "print(df)"
      ],
      "execution_count": null,
      "outputs": [
        {
          "output_type": "stream",
          "text": [
            "Task 22:\n",
            "(3, 2)\n",
            "   0  1\n",
            "0  1  2\n",
            "1  3  4\n",
            "2  5  6\n"
          ],
          "name": "stdout"
        }
      ]
    },
    {
      "cell_type": "markdown",
      "metadata": {
        "id": "voOan1HYO3Ty"
      },
      "source": [
        "**New columns as max of other columns**"
      ]
    },
    {
      "cell_type": "code",
      "metadata": {
        "id": "TL_jN58KO4eE"
      },
      "source": [
        "df = pandas.read_csv('/kaggle/input/datasets-for-pandas/abc.csv', sep=',', encoding = \"utf-8\")\r\n",
        "print(df.shape)\r\n",
        "df['sum'] = df.sum(axis=1)\r\n",
        "df['max'] = df.max(axis=1)\r\n",
        "df['min'] = df.min(axis=1)\r\n",
        "df['average'] = df.mean(axis=1).astype(int)\r\n",
        "print(df)"
      ],
      "execution_count": null,
      "outputs": []
    },
    {
      "cell_type": "code",
      "metadata": {
        "id": "NWQNJ5xbP8Bb"
      },
      "source": [
        "def apply_math_special(row):\r\n",
        "    return (row.maths * 2 + row.language / 2 + row.history / 3 + row.science) / 4                \r\n",
        "\r\n",
        "print('Task 24:') \r\n",
        "df = pandas.read_csv('/kaggle/input/datasets-for-pandas/abc.csv', sep=',', encoding = \"utf-8\")\r\n",
        "print(df.shape)\r\n",
        "df['sum'] = df.sum(axis=1)\r\n",
        "df['max'] = df.max(axis=1)\r\n",
        "df['min'] = df.min(axis=1)\r\n",
        "df['average'] = df.mean(axis=1).astype(int)\r\n",
        "df['math_special'] = df.apply(apply_math_special, axis=1).astype(int)\r\n",
        "print(df)"
      ],
      "execution_count": null,
      "outputs": []
    },
    {
      "cell_type": "code",
      "metadata": {
        "id": "JB7Qf6zGP9of"
      },
      "source": [
        "#New columns as max of other columns\r\n",
        "#35 marks considered as pass\r\n",
        "#If the student fails in math, consider fail\r\n",
        "#If the student passes in language and science, consider as pass\r\n",
        "\r\n",
        "def pass_one_subject(row):\r\n",
        "    if(row.maths > 34):\r\n",
        "        return 'Pass'\r\n",
        "    if(row.language > 34 and row.science > 34):\r\n",
        "        return 'Pass'\r\n",
        "    \r\n",
        "    return 'Fail'                \r\n",
        "\r\n",
        "df = pandas.read_csv('/kaggle/input/datasets-for-pandas/abc.csv', sep=',', encoding = \"utf-8\")\r\n",
        "print(df.shape)   \r\n",
        "\r\n",
        "df['pass_one'] = df.apply(pass_one_subject, axis=1)\r\n",
        "print(df)"
      ],
      "execution_count": null,
      "outputs": []
    },
    {
      "cell_type": "markdown",
      "metadata": {
        "id": "Rr5WiQWqQSis"
      },
      "source": [
        "**Fill with average**"
      ]
    },
    {
      "cell_type": "code",
      "metadata": {
        "id": "iVUJekOCQUQH"
      },
      "source": [
        "df.fillna(df.mean(), inplace=True)"
      ],
      "execution_count": null,
      "outputs": []
    },
    {
      "cell_type": "markdown",
      "metadata": {
        "id": "Ly8fE_V-QdED"
      },
      "source": [
        "**New columns as sum of all**"
      ]
    },
    {
      "cell_type": "code",
      "metadata": {
        "colab": {
          "base_uri": "https://localhost:8080/"
        },
        "id": "GhikFOvnQfDT",
        "outputId": "abec2dcf-126d-4beb-f203-6f4395d8270f"
      },
      "source": [
        "df = pd.DataFrame(np.random.rand(10, 5))\r\n",
        "df.iloc[0:3, 0:4] = np.nan # throw in some na values\r\n",
        "print(df)\r\n",
        "df.loc[:, 'test'] = df.iloc[:, 2:].sum(axis=1)\r\n",
        "print(df)"
      ],
      "execution_count": null,
      "outputs": [
        {
          "output_type": "stream",
          "text": [
            "          0         1         2         3         4\n",
            "0       NaN       NaN       NaN       NaN  0.088910\n",
            "1       NaN       NaN       NaN       NaN  0.381285\n",
            "2       NaN       NaN       NaN       NaN  0.930471\n",
            "3  0.636566  0.640584  0.673207  0.507055  0.788924\n",
            "4  0.723285  0.217202  0.789462  0.046728  0.915531\n",
            "5  0.414056  0.427601  0.313134  0.823060  0.529835\n",
            "6  0.383649  0.041548  0.312690  0.057411  0.066345\n",
            "7  0.933612  0.862219  0.158193  0.575282  0.104705\n",
            "8  0.909829  0.543992  0.205456  0.142440  0.864909\n",
            "9  0.180093  0.568493  0.516203  0.551560  0.651241\n",
            "          0         1         2         3         4      test\n",
            "0       NaN       NaN       NaN       NaN  0.088910  0.088910\n",
            "1       NaN       NaN       NaN       NaN  0.381285  0.381285\n",
            "2       NaN       NaN       NaN       NaN  0.930471  0.930471\n",
            "3  0.636566  0.640584  0.673207  0.507055  0.788924  1.969187\n",
            "4  0.723285  0.217202  0.789462  0.046728  0.915531  1.751721\n",
            "5  0.414056  0.427601  0.313134  0.823060  0.529835  1.666029\n",
            "6  0.383649  0.041548  0.312690  0.057411  0.066345  0.436447\n",
            "7  0.933612  0.862219  0.158193  0.575282  0.104705  0.838180\n",
            "8  0.909829  0.543992  0.205456  0.142440  0.864909  1.212805\n",
            "9  0.180093  0.568493  0.516203  0.551560  0.651241  1.719003\n"
          ],
          "name": "stdout"
        }
      ]
    },
    {
      "cell_type": "markdown",
      "metadata": {
        "id": "gZ1KFsIpQ4-W"
      },
      "source": [
        "**Last 4 rows**"
      ]
    },
    {
      "cell_type": "code",
      "metadata": {
        "id": "_0tiA75QQ59H"
      },
      "source": [
        "print(df[-4:])"
      ],
      "execution_count": null,
      "outputs": []
    },
    {
      "cell_type": "markdown",
      "metadata": {
        "id": "TOxRqk_zyCaN"
      },
      "source": [
        "**Expanding Apply**"
      ]
    },
    {
      "cell_type": "code",
      "metadata": {
        "colab": {
          "base_uri": "https://localhost:8080/"
        },
        "id": "QTmKOee5yE-i",
        "outputId": "1e1349bf-ad6d-4da0-edca-e2186f4eb0d7"
      },
      "source": [
        "series1 = pd.Series([i / 100.0 for i in range(1,6)])\r\n",
        "print(series1)\r\n",
        "def CumRet(x,y):\r\n",
        "    return x * (1 + y)\r\n",
        "def Red(x):\r\n",
        "    return functools.reduce(CumRet,x,1.0)\r\n",
        "s2 = series1.expanding().apply(Red)\r\n",
        "# s2 = series1.expanding().apply(Red, raw=True) # is not working\r\n",
        "print(s2)"
      ],
      "execution_count": null,
      "outputs": [
        {
          "output_type": "stream",
          "text": [
            "0    0.01\n",
            "1    0.02\n",
            "2    0.03\n",
            "3    0.04\n",
            "4    0.05\n",
            "dtype: float64\n",
            "0    1.010000\n",
            "1    1.030200\n",
            "2    1.061106\n",
            "3    1.103550\n",
            "4    1.158728\n",
            "dtype: float64\n"
          ],
          "name": "stdout"
        }
      ]
    },
    {
      "cell_type": "markdown",
      "metadata": {
        "id": "RxGJ95gfybP7"
      },
      "source": [
        "**Get 3 and 4th row**"
      ]
    },
    {
      "cell_type": "code",
      "metadata": {
        "id": "ztwDg9SVycvn"
      },
      "source": [
        "print(df[2:4])"
      ],
      "execution_count": null,
      "outputs": []
    },
    {
      "cell_type": "markdown",
      "metadata": {
        "id": "HY1B_5q6yhsD"
      },
      "source": [
        "**Last 4th to 1st**"
      ]
    },
    {
      "cell_type": "code",
      "metadata": {
        "id": "mORfqKLWyjIy"
      },
      "source": [
        "print(df[-4:-1])"
      ],
      "execution_count": null,
      "outputs": []
    },
    {
      "cell_type": "markdown",
      "metadata": {
        "id": "P-MaCslQyoDW"
      },
      "source": [
        "**iloc position slice**"
      ]
    },
    {
      "cell_type": "code",
      "metadata": {
        "id": "nFKcOgZRypVH"
      },
      "source": [
        "print(df.iloc[1:9])"
      ],
      "execution_count": null,
      "outputs": []
    },
    {
      "cell_type": "markdown",
      "metadata": {
        "id": "fg43Xgukz1XA"
      },
      "source": [
        "**Filter with the value comparison**"
      ]
    },
    {
      "cell_type": "code",
      "metadata": {
        "id": "_cKstqOBz6BH"
      },
      "source": [
        "below_20 = data[data['rnd_1'] < 20] \r\n",
        "ten_to_20 = data[(data['rnd_1'] >= 5) & (data['rnd_1'] < 10)]\r\n",
        "ten_to_20 = data[(data['rnd_1'] >= 15) & (data['rnd_1'] < 20)]\r\n",
        "ten_to_20 = data[(data['rnd_1 '] >= 15) & (data['rnd_1'] < 33)]"
      ],
      "execution_count": null,
      "outputs": []
    },
    {
      "cell_type": "markdown",
      "metadata": {
        "id": "q_FS7k_Z7wlE"
      },
      "source": [
        "**Custom method and xrnage on dataframe**"
      ]
    },
    {
      "cell_type": "code",
      "metadata": {
        "id": "ykf2dyvk_exI"
      },
      "source": [
        "filter_loc = data.loc[ 2 : 4 ,  [ 'rnd_2' ,  'date' ]]\r\n",
        "print(filter_loc)"
      ],
      "execution_count": null,
      "outputs": []
    },
    {
      "cell_type": "markdown",
      "metadata": {
        "id": "HeKH-9GQB2dx"
      },
      "source": [
        "**Set index with date column**"
      ]
    },
    {
      "cell_type": "code",
      "metadata": {
        "id": "_HHEMBYfB31z"
      },
      "source": [
        "date_date = data.set_index( 'date' ) "
      ],
      "execution_count": null,
      "outputs": []
    },
    {
      "cell_type": "markdown",
      "metadata": {
        "id": "Lfc8k5IuCGG5"
      },
      "source": [
        "**Change columns based on other columns**"
      ]
    },
    {
      "cell_type": "code",
      "metadata": {
        "colab": {
          "base_uri": "https://localhost:8080/"
        },
        "id": "g8XBIj-NCHt3",
        "outputId": "ba38f7e6-bf6b-4dff-f66a-a199d8f15752"
      },
      "source": [
        "df = pd.DataFrame({\r\n",
        "    'a' : [1,2,3,4], \r\n",
        "    'b' : [9,8,7,6],\r\n",
        "    'c' : [11,12,13,14]\r\n",
        "})\r\n",
        "print(df) \r\n",
        "\r\n",
        "print('changing on one column')\r\n",
        "# Change columns\r\n",
        "df.loc[df.a >= 2,'b'] = 9\r\n",
        "print(df)"
      ],
      "execution_count": null,
      "outputs": [
        {
          "output_type": "stream",
          "text": [
            "   a  b   c\n",
            "0  1  9  11\n",
            "1  2  8  12\n",
            "2  3  7  13\n",
            "3  4  6  14\n",
            "changing on one column\n",
            "   a  b   c\n",
            "0  1  9  11\n",
            "1  2  9  12\n",
            "2  3  9  13\n",
            "3  4  9  14\n"
          ],
          "name": "stdout"
        }
      ]
    },
    {
      "cell_type": "markdown",
      "metadata": {
        "id": "XYHZdq7qHM0e"
      },
      "source": [
        "**Change multiple columns based on one column values**"
      ]
    },
    {
      "cell_type": "code",
      "metadata": {
        "colab": {
          "base_uri": "https://localhost:8080/"
        },
        "id": "BBoGFB-iHOo4",
        "outputId": "6fe5763f-b4c2-4071-eaff-b3cbba0c2030"
      },
      "source": [
        "print('changing on multipe columns')\r\n",
        "df.loc[df.a > 2,['b', 'c']] = 45\r\n",
        "print(df)"
      ],
      "execution_count": null,
      "outputs": [
        {
          "output_type": "stream",
          "text": [
            "changing on multipe columns\n",
            "   a   b   c\n",
            "0  1   9  11\n",
            "1  2   9  12\n",
            "2  3  45  45\n",
            "3  4  45  45\n"
          ],
          "name": "stdout"
        }
      ]
    },
    {
      "cell_type": "markdown",
      "metadata": {
        "id": "xI9aDayQLPGG"
      },
      "source": [
        "**Pandas Mask**"
      ]
    },
    {
      "cell_type": "code",
      "metadata": {
        "colab": {
          "base_uri": "https://localhost:8080/"
        },
        "id": "9ucjOvvJLR54",
        "outputId": "993f5e3d-d489-4345-b74e-40069fda30f7"
      },
      "source": [
        "print(df)\r\n",
        "df_mask = pd.DataFrame({\r\n",
        "    'a' : [True] * 4, \r\n",
        "    'b' : [False] * 4,\r\n",
        "    'c' : [True, False] * 2\r\n",
        "})\r\n",
        "print(df.where(df_mask,-1000))"
      ],
      "execution_count": null,
      "outputs": [
        {
          "output_type": "stream",
          "text": [
            "   a   b   c\n",
            "0  1   9  11\n",
            "1  2   9  12\n",
            "2  3  45  45\n",
            "3  4  45  45\n",
            "   a     b     c\n",
            "0  1 -1000    11\n",
            "1  2 -1000 -1000\n",
            "2  3 -1000    45\n",
            "3  4 -1000 -1000\n"
          ],
          "name": "stdout"
        }
      ]
    },
    {
      "cell_type": "markdown",
      "metadata": {
        "id": "gTNoEbOlNHnv"
      },
      "source": [
        "**Check high or low comparing the column against 5**"
      ]
    },
    {
      "cell_type": "code",
      "metadata": {
        "id": "qnpGY7nQNJTn"
      },
      "source": [
        "df['logic'] = np.where(df['a'] > 5, 'high', 'low')"
      ],
      "execution_count": null,
      "outputs": []
    },
    {
      "cell_type": "markdown",
      "metadata": {
        "id": "MoxxeSsnPbHP"
      },
      "source": [
        "**iloc with positional slicing**"
      ]
    },
    {
      "cell_type": "code",
      "metadata": {
        "id": "XflLOIHQPcj0"
      },
      "source": [
        "print(stars_df.iloc[1:3])"
      ],
      "execution_count": null,
      "outputs": []
    },
    {
      "cell_type": "markdown",
      "metadata": {
        "id": "24_DjQjVQ5NI"
      },
      "source": [
        "**Label between numbers**"
      ]
    },
    {
      "cell_type": "code",
      "metadata": {
        "id": "U8Nr1xA-BC_f"
      },
      "source": [
        "numbers = pd.DataFrame({\r\n",
        "        'one' : [10, 50, 80, 40],\r\n",
        "        'two' : [2, 6, 56, 45]\r\n",
        "    },\r\n",
        "    index = [12, 14, 16, 18])\r\n",
        "print(numbers)\r\n",
        "\r\n",
        "print('label between 12 and 16')\r\n",
        "print(numbers.loc[12:16])\r\n",
        "\r\n",
        "print('index between 1 and 3')\r\n",
        "print(numbers.iloc[1:3])"
      ],
      "execution_count": null,
      "outputs": []
    },
    {
      "cell_type": "markdown",
      "metadata": {
        "id": "zVUWhp7bSLyz"
      },
      "source": [
        "**Inverse opeartor!( above one.45 and below two.50 )**"
      ]
    },
    {
      "cell_type": "code",
      "metadata": {
        "id": "5v9OGphTSO0T"
      },
      "source": [
        "print(numbers[~( (numbers.one > 45) & (numbers.two < 50) )])"
      ],
      "execution_count": null,
      "outputs": []
    },
    {
      "cell_type": "markdown",
      "metadata": {
        "id": "OxUBSblrS806"
      },
      "source": [
        "**Delete by pop function**"
      ]
    },
    {
      "cell_type": "code",
      "metadata": {
        "colab": {
          "base_uri": "https://localhost:8080/"
        },
        "id": "o1huQgo6S-B3",
        "outputId": "c6580359-703a-4d1b-dd99-9075f71f5fc7"
      },
      "source": [
        "import pandas as pd\r\n",
        "employees = pd.DataFrame({\r\n",
        "    \"age\": [17, 50, 24, 45, 65, 18], \r\n",
        "    \"salary\": [75, 33, 90, 175, 134, 78],\r\n",
        "    \"grade\" : [7, 8, 9, 2, 7, 8],\r\n",
        "    \"group\" : [1, 1, 2, 2, 2, 1] \r\n",
        "    \r\n",
        "})  \r\n",
        "print(employees)\r\n",
        "group = employees.pop('group')\r\n",
        "print(employees)\r\n",
        "print(group)"
      ],
      "execution_count": 2,
      "outputs": [
        {
          "output_type": "stream",
          "text": [
            "   age  salary  grade  group\n",
            "0   17      75      7      1\n",
            "1   50      33      8      1\n",
            "2   24      90      9      2\n",
            "3   45     175      2      2\n",
            "4   65     134      7      2\n",
            "5   18      78      8      1\n",
            "   age  salary  grade\n",
            "0   17      75      7\n",
            "1   50      33      8\n",
            "2   24      90      9\n",
            "3   45     175      2\n",
            "4   65     134      7\n",
            "5   18      78      8\n",
            "0    1\n",
            "1    1\n",
            "2    2\n",
            "3    2\n",
            "4    2\n",
            "5    1\n",
            "Name: group, dtype: int64\n"
          ],
          "name": "stdout"
        }
      ]
    },
    {
      "cell_type": "markdown",
      "metadata": {
        "id": "ATxOMxyvTOsF"
      },
      "source": [
        "**Drop first and last column**"
      ]
    },
    {
      "cell_type": "code",
      "metadata": {
        "colab": {
          "base_uri": "https://localhost:8080/"
        },
        "id": "qHfv5oZLTQFG",
        "outputId": "69a5638a-2303-466c-ec7f-01612c847ad9"
      },
      "source": [
        "employees = pd.DataFrame({\r\n",
        "    \"age\": [17, 50, 24, 45, 65, 18], \r\n",
        "    \"salary\": [75, 33, 90, 175, 134, 78],\r\n",
        "    \"grade\" : [7, 8, 9, 2, 7, 8],\r\n",
        "    \"group\" : [1, 1, 2, 2, 2, 1] \r\n",
        "    \r\n",
        "})  \r\n",
        "print(employees)\r\n",
        "employees.drop(employees.columns[[0, len(employees.columns)-1]], axis=1, inplace = True)\r\n",
        "print(employees)"
      ],
      "execution_count": 3,
      "outputs": [
        {
          "output_type": "stream",
          "text": [
            "   age  salary  grade  group\n",
            "0   17      75      7      1\n",
            "1   50      33      8      1\n",
            "2   24      90      9      2\n",
            "3   45     175      2      2\n",
            "4   65     134      7      2\n",
            "5   18      78      8      1\n",
            "   salary  grade\n",
            "0      75      7\n",
            "1      33      8\n",
            "2      90      9\n",
            "3     175      2\n",
            "4     134      7\n",
            "5      78      8\n"
          ],
          "name": "stdout"
        }
      ]
    },
    {
      "cell_type": "markdown",
      "metadata": {
        "id": "5997q28RT1-i"
      },
      "source": [
        "**Drop multiple columns**"
      ]
    },
    {
      "cell_type": "code",
      "metadata": {
        "colab": {
          "base_uri": "https://localhost:8080/"
        },
        "id": "HPtQsWUPT3Kf",
        "outputId": "ed8fb674-0703-4d0a-f6a1-7c231b482b54"
      },
      "source": [
        "import numpy as np\r\n",
        "employees = pd.DataFrame({\r\n",
        "    \"age\": [17, 50, 24, 45, 65, 18], \r\n",
        "    \"salary\": [75, 33, 90, 175, 134, 78],\r\n",
        "    \"grade\" : [7, 8, 9, 2, 7, 8] \r\n",
        "})  \r\n",
        "print(employees)\r\n",
        "employees['group'] = pd.Series(np.random.randn(len(employees)))\r\n",
        "print(employees)\r\n",
        "employees.drop(employees.columns[[1, 2]], axis=1, inplace = True)\r\n",
        "print(employees)"
      ],
      "execution_count": 5,
      "outputs": [
        {
          "output_type": "stream",
          "text": [
            "   age  salary  grade\n",
            "0   17      75      7\n",
            "1   50      33      8\n",
            "2   24      90      9\n",
            "3   45     175      2\n",
            "4   65     134      7\n",
            "5   18      78      8\n",
            "   age  salary  grade     group\n",
            "0   17      75      7 -0.009268\n",
            "1   50      33      8 -1.215387\n",
            "2   24      90      9  0.272814\n",
            "3   45     175      2  0.771399\n",
            "4   65     134      7  0.058326\n",
            "5   18      78      8  0.583762\n",
            "   age     group\n",
            "0   17 -0.009268\n",
            "1   50 -1.215387\n",
            "2   24  0.272814\n",
            "3   45  0.771399\n",
            "4   65  0.058326\n",
            "5   18  0.583762\n"
          ],
          "name": "stdout"
        }
      ]
    },
    {
      "cell_type": "markdown",
      "metadata": {
        "id": "6jgpFGhMUXGz"
      },
      "source": [
        "**Drop a column**"
      ]
    },
    {
      "cell_type": "code",
      "metadata": {
        "colab": {
          "base_uri": "https://localhost:8080/"
        },
        "id": "X3TBFIqcUjG-",
        "outputId": "029d4c14-15f4-4ee8-fa74-ccc837d773e2"
      },
      "source": [
        "employees = pd.DataFrame({\r\n",
        "    \"age\": [17, 50, 24, 45, 65, 18], \r\n",
        "    \"salary\": [75, 33, 90, 175, 134, 78],\r\n",
        "    \"grade\" : [7, 8, 9, 2, 7, 8] \r\n",
        "})  \r\n",
        "print(employees)\r\n",
        "employees['group'] = pd.Series(np.random.randn(len(employees)))\r\n",
        "print(employees)\r\n",
        "employees.drop(employees.columns[[0]], axis=1, inplace = True)\r\n",
        "print(employees)"
      ],
      "execution_count": 6,
      "outputs": [
        {
          "output_type": "stream",
          "text": [
            "   age  salary  grade\n",
            "0   17      75      7\n",
            "1   50      33      8\n",
            "2   24      90      9\n",
            "3   45     175      2\n",
            "4   65     134      7\n",
            "5   18      78      8\n",
            "   age  salary  grade     group\n",
            "0   17      75      7  0.858804\n",
            "1   50      33      8 -0.761004\n",
            "2   24      90      9 -1.240335\n",
            "3   45     175      2 -2.557449\n",
            "4   65     134      7 -0.422497\n",
            "5   18      78      8  0.903855\n",
            "   salary  grade     group\n",
            "0      75      7  0.858804\n",
            "1      33      8 -0.761004\n",
            "2      90      9 -1.240335\n",
            "3     175      2 -2.557449\n",
            "4     134      7 -0.422497\n",
            "5      78      8  0.903855\n"
          ],
          "name": "stdout"
        }
      ]
    },
    {
      "cell_type": "markdown",
      "metadata": {
        "id": "BVkQeQM1U4yj"
      },
      "source": [
        "**Add a new column**"
      ]
    },
    {
      "cell_type": "code",
      "metadata": {
        "colab": {
          "base_uri": "https://localhost:8080/"
        },
        "id": "ursZle37U5_C",
        "outputId": "934f74ea-4785-4125-cc70-37e4b2312b6c"
      },
      "source": [
        "employees = pd.DataFrame({\r\n",
        "    \"age\": [17, 50, 24, 45, 65, 18], \r\n",
        "    \"salary\": [75, 33, 90, 175, 134, 78],\r\n",
        "    \"grade\" : [7, 8, 9, 2, 7, 8] \r\n",
        "})  \r\n",
        "print(employees)\r\n",
        "employees['group'] = pd.Series(np.random.randn(len(employees)))\r\n",
        "print(employees)"
      ],
      "execution_count": 7,
      "outputs": [
        {
          "output_type": "stream",
          "text": [
            "   age  salary  grade\n",
            "0   17      75      7\n",
            "1   50      33      8\n",
            "2   24      90      9\n",
            "3   45     175      2\n",
            "4   65     134      7\n",
            "5   18      78      8\n",
            "   age  salary  grade     group\n",
            "0   17      75      7 -2.132891\n",
            "1   50      33      8  0.939560\n",
            "2   24      90      9  1.568289\n",
            "3   45     175      2 -0.113816\n",
            "4   65     134      7 -0.996404\n",
            "5   18      78      8 -0.016030\n"
          ],
          "name": "stdout"
        }
      ]
    },
    {
      "cell_type": "markdown",
      "metadata": {
        "id": "WaAzzCfpVPcc"
      },
      "source": [
        "**Rename columns**"
      ]
    },
    {
      "cell_type": "code",
      "metadata": {
        "colab": {
          "base_uri": "https://localhost:8080/"
        },
        "id": "KJEHdx3AVUSV",
        "outputId": "96c45e34-5e52-43cb-c549-bd1a8a5a8331"
      },
      "source": [
        "employees = pd.DataFrame({\r\n",
        "    \"age\": [17, 50, 24, 45, 65, 18], \r\n",
        "    \"salary\": [75, 33, 90, 175, 134, 78],\r\n",
        "    \"grade\" : [7, 8, 9, 2, 7, 8] \r\n",
        "})  \r\n",
        "print(employees)\r\n",
        "employees.rename(columns={'age': 'User Age', 'salary': 'Salary 2018'}, inplace=True)\r\n",
        "print(employees)"
      ],
      "execution_count": 8,
      "outputs": [
        {
          "output_type": "stream",
          "text": [
            "   age  salary  grade\n",
            "0   17      75      7\n",
            "1   50      33      8\n",
            "2   24      90      9\n",
            "3   45     175      2\n",
            "4   65     134      7\n",
            "5   18      78      8\n",
            "   User Age  Salary 2018  grade\n",
            "0        17           75      7\n",
            "1        50           33      8\n",
            "2        24           90      9\n",
            "3        45          175      2\n",
            "4        65          134      7\n",
            "5        18           78      8\n"
          ],
          "name": "stdout"
        }
      ]
    }
  ]
}