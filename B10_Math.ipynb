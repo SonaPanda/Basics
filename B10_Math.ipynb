{
  "nbformat": 4,
  "nbformat_minor": 0,
  "metadata": {
    "colab": {
      "name": "B10_Math.ipynb",
      "provenance": [],
      "collapsed_sections": []
    },
    "kernelspec": {
      "name": "python3",
      "display_name": "Python 3"
    }
  },
  "cells": [
    {
      "cell_type": "code",
      "metadata": {
        "id": "Fm5Irsbg1nhI"
      },
      "source": [
        "Python has a set of built-in math functions, including an extensive math module, that allows you to perform mathematical tasks on numbers."
      ],
      "execution_count": null,
      "outputs": []
    },
    {
      "cell_type": "code",
      "metadata": {
        "colab": {
          "base_uri": "https://localhost:8080/"
        },
        "id": "BYuhVmxl2-Wh",
        "outputId": "2ce538bb-a133-4bd9-ffc9-50e94e608500"
      },
      "source": [
        "#Built-in Math Functions\r\n",
        "#The min() and max() functions can be used to find the lowest or highest value in an iterable\r\n",
        "x = min(5, 10, 25)\r\n",
        "y = max(5, 10, 25)\r\n",
        "\r\n",
        "print(x)\r\n",
        "print(y)"
      ],
      "execution_count": 1,
      "outputs": [
        {
          "output_type": "stream",
          "text": [
            "5\n",
            "25\n"
          ],
          "name": "stdout"
        }
      ]
    },
    {
      "cell_type": "code",
      "metadata": {
        "colab": {
          "base_uri": "https://localhost:8080/"
        },
        "id": "6to8ozC33GIZ",
        "outputId": "8a55ccf3-0b22-4573-85cb-6c8fa2a0fa34"
      },
      "source": [
        "#The abs() function returns the absolute (positive) value of the specified number\r\n",
        "x = abs(-7.25)\r\n",
        "print(x)"
      ],
      "execution_count": 2,
      "outputs": [
        {
          "output_type": "stream",
          "text": [
            "7.25\n"
          ],
          "name": "stdout"
        }
      ]
    },
    {
      "cell_type": "code",
      "metadata": {
        "colab": {
          "base_uri": "https://localhost:8080/"
        },
        "id": "qzKl-TGV3L7E",
        "outputId": "9162c068-1bbb-4aad-afed-40a685a49ad1"
      },
      "source": [
        "#The pow(x, y) function returns the value of x to the power of y (xy)\r\n",
        "x = pow(4, 3)\r\n",
        "print(x)"
      ],
      "execution_count": 3,
      "outputs": [
        {
          "output_type": "stream",
          "text": [
            "64\n"
          ],
          "name": "stdout"
        }
      ]
    },
    {
      "cell_type": "code",
      "metadata": {
        "id": "IdOyxoX03SZ8"
      },
      "source": [
        "The Math Module\r\n",
        "Python has also a built-in module called math, which extends the list of mathematical functions.\r\n",
        "\r\n",
        "To use it, you must import the math module"
      ],
      "execution_count": null,
      "outputs": []
    },
    {
      "cell_type": "code",
      "metadata": {
        "id": "xwsLrh7k3X_2"
      },
      "source": [
        "import math\r\n",
        "When you have imported the math module, you can start using methods and constants of the module."
      ],
      "execution_count": 4,
      "outputs": []
    },
    {
      "cell_type": "code",
      "metadata": {
        "colab": {
          "base_uri": "https://localhost:8080/"
        },
        "id": "LYVDvFUA3d1G",
        "outputId": "8fe7bce2-d85e-41ff-a767-ac873f02771c"
      },
      "source": [
        "#The math.sqrt() method for example, returns the square root of a number\r\n",
        "import math\r\n",
        "x=math.sqrt(64)\r\n",
        "print(x)"
      ],
      "execution_count": 5,
      "outputs": [
        {
          "output_type": "stream",
          "text": [
            "8.0\n"
          ],
          "name": "stdout"
        }
      ]
    },
    {
      "cell_type": "code",
      "metadata": {
        "id": "wyQgT7sh3qWg"
      },
      "source": [
        "The math.ceil() method rounds a number upwards to its nearest integer, and the math.floor() method rounds a number downwards to its nearest integer, and returns the result"
      ],
      "execution_count": null,
      "outputs": []
    },
    {
      "cell_type": "code",
      "metadata": {
        "colab": {
          "base_uri": "https://localhost:8080/"
        },
        "id": "OSsMR_LD3rkA",
        "outputId": "63572f0b-47e5-43eb-d56d-a5cc65faf57a"
      },
      "source": [
        "import math\r\n",
        "\r\n",
        "x = math.ceil(1.4)\r\n",
        "y = math.floor(1.4)\r\n",
        "\r\n",
        "print(x) # returns 2\r\n",
        "print(y) # returns 1"
      ],
      "execution_count": 6,
      "outputs": [
        {
          "output_type": "stream",
          "text": [
            "2\n",
            "1\n"
          ],
          "name": "stdout"
        }
      ]
    },
    {
      "cell_type": "code",
      "metadata": {
        "colab": {
          "base_uri": "https://localhost:8080/"
        },
        "id": "JZNfJnud34H3",
        "outputId": "bcae60d4-d215-4e71-8e91-1782291dcb62"
      },
      "source": [
        "#The math.pi constant, returns the value of PI (3.14...)\r\n",
        "import math\r\n",
        "\r\n",
        "x = math.pi\r\n",
        "\r\n",
        "print(x)"
      ],
      "execution_count": 7,
      "outputs": [
        {
          "output_type": "stream",
          "text": [
            "3.141592653589793\n"
          ],
          "name": "stdout"
        }
      ]
    },
    {
      "cell_type": "code",
      "metadata": {
        "colab": {
          "base_uri": "https://localhost:8080/"
        },
        "id": "AX8uECk646CP",
        "outputId": "749386e9-7fea-4d6f-a92d-dc5a8aab1e0d"
      },
      "source": [
        "#math.trunc()\tReturns the truncated integer parts of a number\r\n",
        "# Import math Library\r\n",
        "import math\r\n",
        "\r\n",
        "# Return the truncated integer parts of different numbers\r\n",
        "print(math.trunc(2.77))\r\n",
        "print(math.trunc(8.32))\r\n",
        "print(math.trunc(-99.29))"
      ],
      "execution_count": 8,
      "outputs": [
        {
          "output_type": "stream",
          "text": [
            "2\n",
            "8\n",
            "-99\n"
          ],
          "name": "stdout"
        }
      ]
    },
    {
      "cell_type": "code",
      "metadata": {
        "id": "gclVJvP75qcK"
      },
      "source": [
        "# Import math Library\r\n",
        "import math\r\n",
        "\r\n",
        "sequence = (2, 2, 2)\r\n",
        "\r\n",
        "#Return the product of the elements\r\n",
        "print(math.prod(sequence))"
      ],
      "execution_count": null,
      "outputs": []
    },
    {
      "cell_type": "code",
      "metadata": {
        "colab": {
          "base_uri": "https://localhost:8080/"
        },
        "id": "o2YfShH65-pg",
        "outputId": "51754ac8-9539-4df3-ff5c-0f848656cc9b"
      },
      "source": [
        "#math.log2()\tReturns the base-2 logarithm of x\r\n",
        "# Import math Library\r\n",
        "import math\r\n",
        "\r\n",
        "# Return the base-2 logarithm of different numbers\r\n",
        "print(math.log2(2.7183))\r\n",
        "print(math.log2(2))\r\n",
        "print(math.log2(1))"
      ],
      "execution_count": 12,
      "outputs": [
        {
          "output_type": "stream",
          "text": [
            "1.4427046851812222\n",
            "1.0\n",
            "0.0\n"
          ],
          "name": "stdout"
        }
      ]
    },
    {
      "cell_type": "code",
      "metadata": {
        "colab": {
          "base_uri": "https://localhost:8080/"
        },
        "id": "4koohOaM6P2q",
        "outputId": "b79f1d6d-2cf8-4c03-a461-f76fa729b81c"
      },
      "source": [
        "#math.log1p()\tReturns the natural logarithm of 1+x\r\n",
        "# Import math Library\r\n",
        "import math\r\n",
        "\r\n",
        "# Return the log(1+number) for different numbers\r\n",
        "print(math.log1p(2.7183))\r\n",
        "print(math.log1p(2))\r\n",
        "print(math.log1p(1))"
      ],
      "execution_count": 13,
      "outputs": [
        {
          "output_type": "stream",
          "text": [
            "1.3132665745863341\n",
            "1.0986122886681096\n",
            "0.6931471805599453\n"
          ],
          "name": "stdout"
        }
      ]
    },
    {
      "cell_type": "code",
      "metadata": {
        "colab": {
          "base_uri": "https://localhost:8080/"
        },
        "id": "0whHUU-g6Yfh",
        "outputId": "900e257a-29f7-46eb-e9b1-c1c32ff1b342"
      },
      "source": [
        "#math.log10()\tReturns the base-10 logarithm of x\r\n",
        "# Import math Library\r\n",
        "import math\r\n",
        "\r\n",
        "# Return the base-10 logarithm of different numbers\r\n",
        "print(math.log10(2.7183))\r\n",
        "print(math.log10(2))\r\n",
        "print(math.log10(1))"
      ],
      "execution_count": 14,
      "outputs": [
        {
          "output_type": "stream",
          "text": [
            "0.43429738512450866\n",
            "0.3010299956639812\n",
            "0.0\n"
          ],
          "name": "stdout"
        }
      ]
    },
    {
      "cell_type": "code",
      "metadata": {
        "colab": {
          "base_uri": "https://localhost:8080/"
        },
        "id": "ZH1D2da966c7",
        "outputId": "51e84735-f6ab-4f3b-874b-f47e84a1c36a"
      },
      "source": [
        "#math.log()\tReturns the natural logarithm of a number, or the logarithm of number to base\r\n",
        "import math\r\n",
        "\r\n",
        "# Return the natural logarithm of different numbers\r\n",
        "print(math.log(2.7183))\r\n",
        "print(math.log(2))\r\n",
        "print(math.log(1))"
      ],
      "execution_count": 15,
      "outputs": [
        {
          "output_type": "stream",
          "text": [
            "1.0000066849139877\n",
            "0.6931471805599453\n",
            "0.0\n"
          ],
          "name": "stdout"
        }
      ]
    },
    {
      "cell_type": "code",
      "metadata": {
        "colab": {
          "base_uri": "https://localhost:8080/"
        },
        "id": "XpDFEvVK9tTY",
        "outputId": "1e2dd050-9eb3-4226-c310-1ad358aacbae"
      },
      "source": [
        "#math.isnan()\tChecks whether a value is NaN (not a number) or not\r\n",
        "# Import math Library\r\n",
        "import math\r\n",
        "\r\n",
        "# Check whether some values are NaN or not\r\n",
        "print (math.isnan (56))\r\n",
        "print (math.isnan (-45.34))\r\n",
        "print (math.isnan (+45.34))\r\n",
        "print (math.isnan (math.inf))\r\n",
        "print (math.isnan (float(\"nan\")))\r\n",
        "print (math.isnan (float(\"inf\")))\r\n",
        "print (math.isnan (float(\"-inf\")))\r\n",
        "print (math.isnan (math.nan))"
      ],
      "execution_count": 16,
      "outputs": [
        {
          "output_type": "stream",
          "text": [
            "False\n",
            "False\n",
            "False\n",
            "False\n",
            "True\n",
            "False\n",
            "False\n",
            "True\n"
          ],
          "name": "stdout"
        }
      ]
    },
    {
      "cell_type": "code",
      "metadata": {
        "colab": {
          "base_uri": "https://localhost:8080/"
        },
        "id": "gxP-Hmuf90Ft",
        "outputId": "3a3053c5-f7f4-4322-e519-c3d32680aea3"
      },
      "source": [
        "#math.isinf()\tChecks whether a number is infinite or not\r\n",
        "# Import math Library\r\n",
        "import math\r\n",
        "\r\n",
        "# Check whether the values are infinite or not\r\n",
        "print(math.isinf(56))\r\n",
        "print(math.isinf(-45.34))\r\n",
        "print(math.isinf(+45.34))\r\n",
        "print(math.isinf(math.inf))\r\n",
        "print(math.isinf(float(\"nan\")))\r\n",
        "print(math.isinf(float(\"inf\")))\r\n",
        "print(math.isinf(float(\"-inf\")))\r\n",
        "print(math.isinf(-math.inf))"
      ],
      "execution_count": 17,
      "outputs": [
        {
          "output_type": "stream",
          "text": [
            "False\n",
            "False\n",
            "False\n",
            "True\n",
            "False\n",
            "True\n",
            "True\n",
            "True\n"
          ],
          "name": "stdout"
        }
      ]
    },
    {
      "cell_type": "code",
      "metadata": {
        "colab": {
          "base_uri": "https://localhost:8080/"
        },
        "id": "EY3unYZ_97mM",
        "outputId": "d63da716-54ad-4e6e-daeb-0c789e7c7d18"
      },
      "source": [
        "#math.isfinite()\tChecks whether a number is finite or not\r\n",
        "# Import math Library\r\n",
        "import math\r\n",
        "\r\n",
        "# Check whether the values are finite or not\r\n",
        "print(math.isfinite(2000))\r\n",
        "print(math.isfinite(-45.34))\r\n",
        "print(math.isfinite(+45.34))\r\n",
        "print(math.isfinite(math.inf))\r\n",
        "print(math.isfinite(float(\"nan\")))\r\n",
        "print(math.isfinite(float(\"inf\")))\r\n",
        "print(math.isfinite(float(\"-inf\")))\r\n",
        "print(math.isfinite(-math.inf))\r\n",
        "print(math.isfinite(0.0))"
      ],
      "execution_count": 18,
      "outputs": [
        {
          "output_type": "stream",
          "text": [
            "True\n",
            "True\n",
            "True\n",
            "False\n",
            "False\n",
            "False\n",
            "False\n",
            "False\n",
            "True\n"
          ],
          "name": "stdout"
        }
      ]
    },
    {
      "cell_type": "code",
      "metadata": {
        "colab": {
          "base_uri": "https://localhost:8080/"
        },
        "id": "aMxW2DjO-Ho-",
        "outputId": "b60c0c46-36db-4345-e86c-ce6dfff7596b"
      },
      "source": [
        "#math.exp()\tReturns E raised to the power of x\r\n",
        "#Import math Library\r\n",
        "import math\r\n",
        "\r\n",
        "#find the exponential of the specified value\r\n",
        "print(math.exp(65))\r\n",
        "print(math.exp(-6.89))"
      ],
      "execution_count": 19,
      "outputs": [
        {
          "output_type": "stream",
          "text": [
            "1.6948892444103338e+28\n",
            "0.0010179138409954387\n"
          ],
          "name": "stdout"
        }
      ]
    }
  ]
}