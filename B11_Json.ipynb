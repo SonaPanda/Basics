{
  "nbformat": 4,
  "nbformat_minor": 0,
  "metadata": {
    "colab": {
      "name": "B11_Json.ipynb",
      "provenance": [],
      "collapsed_sections": []
    },
    "kernelspec": {
      "name": "python3",
      "display_name": "Python 3"
    }
  },
  "cells": [
    {
      "cell_type": "code",
      "metadata": {
        "id": "dnP0f7TB1yYf"
      },
      "source": [
        "JSON is a syntax for storing and exchanging data.\r\n",
        "\r\n",
        "JSON is text, written with JavaScript object notation."
      ],
      "execution_count": null,
      "outputs": []
    },
    {
      "cell_type": "code",
      "metadata": {
        "id": "QAb9hChR_hHX"
      },
      "source": [
        "JSON in Python\r\n",
        "Python has a built-in package called json, which can be used to work with JSON data."
      ],
      "execution_count": null,
      "outputs": []
    },
    {
      "cell_type": "code",
      "metadata": {
        "id": "oan9Da04_jwN"
      },
      "source": [
        "Import the json module:\r\n",
        "\r\n",
        "import json"
      ],
      "execution_count": null,
      "outputs": []
    },
    {
      "cell_type": "code",
      "metadata": {
        "id": "Ff88xhQUEcK3"
      },
      "source": [
        "#Convert from JSON to Python\r\n",
        "#If you have a JSON string, you can parse it by using the json.loads() method."
      ],
      "execution_count": null,
      "outputs": []
    },
    {
      "cell_type": "code",
      "metadata": {
        "id": "ds9CDNg7EnOL",
        "colab": {
          "base_uri": "https://localhost:8080/"
        },
        "outputId": "6e3b21ed-d241-40c9-bc12-d7c91b79cdaf"
      },
      "source": [
        "import json\r\n",
        "\r\n",
        "# some JSON:\r\n",
        "x =  '{ \"name\":\"John\", \"age\":30, \"city\":\"New York\"}'\r\n",
        "\r\n",
        "# parse x:\r\n",
        "y = json.loads(x)\r\n",
        "\r\n",
        "# the result is a Python dictionary:\r\n",
        "print(y[\"age\"])"
      ],
      "execution_count": 1,
      "outputs": [
        {
          "output_type": "stream",
          "text": [
            "30\n"
          ],
          "name": "stdout"
        }
      ]
    },
    {
      "cell_type": "code",
      "metadata": {
        "colab": {
          "base_uri": "https://localhost:8080/"
        },
        "id": "oNDkscbjm4QH",
        "outputId": "ef6939dd-4011-421f-dc47-ce08938c57e4"
      },
      "source": [
        "#Convert from Python to JSON\r\n",
        "#If you have a Python object, you can convert it into a JSON string by using the json.dumps() method.\r\n",
        "#Convert from Python to JSON:\r\n",
        "\r\n",
        "import json\r\n",
        "\r\n",
        "# a Python object (dict):\r\n",
        "x = {\r\n",
        "  \"name\": \"John\",\r\n",
        "  \"age\": 30,\r\n",
        "  \"city\": \"New York\"\r\n",
        "}\r\n",
        "\r\n",
        "# convert into JSON:\r\n",
        "y = json.dumps(x)\r\n",
        "\r\n",
        "# the result is a JSON string:\r\n",
        "print(y)"
      ],
      "execution_count": 3,
      "outputs": [
        {
          "output_type": "stream",
          "text": [
            "{\"name\": \"John\", \"age\": 30, \"city\": \"New York\"}\n"
          ],
          "name": "stdout"
        }
      ]
    },
    {
      "cell_type": "code",
      "metadata": {
        "id": "h9_k5Wt3nDx9"
      },
      "source": [
        "You can convert Python objects of the following types, into JSON strings:\r\n",
        "\r\n",
        "dict\r\n",
        "list\r\n",
        "tuple\r\n",
        "string\r\n",
        "int\r\n",
        "float\r\n",
        "True\r\n",
        "False\r\n",
        "None"
      ],
      "execution_count": null,
      "outputs": []
    },
    {
      "cell_type": "code",
      "metadata": {
        "colab": {
          "base_uri": "https://localhost:8080/"
        },
        "id": "wnsV0AC9nEaG",
        "outputId": "b7c2d39f-8dd0-4256-9365-6df5563ef739"
      },
      "source": [
        "#Convert Python objects into JSON strings, and print the values:\r\n",
        "\r\n",
        "import json\r\n",
        "\r\n",
        "print(json.dumps({\"name\": \"John\", \"age\": 30}))\r\n",
        "print(json.dumps([\"apple\", \"bananas\"]))\r\n",
        "print(json.dumps((\"apple\", \"bananas\")))\r\n",
        "print(json.dumps(\"hello\"))\r\n",
        "print(json.dumps(42))\r\n",
        "print(json.dumps(31.76))\r\n",
        "print(json.dumps(True))\r\n",
        "print(json.dumps(False))\r\n",
        "print(json.dumps(None))"
      ],
      "execution_count": 4,
      "outputs": [
        {
          "output_type": "stream",
          "text": [
            "{\"name\": \"John\", \"age\": 30}\n",
            "[\"apple\", \"bananas\"]\n",
            "[\"apple\", \"bananas\"]\n",
            "\"hello\"\n",
            "42\n",
            "31.76\n",
            "true\n",
            "false\n",
            "null\n"
          ],
          "name": "stdout"
        }
      ]
    },
    {
      "cell_type": "code",
      "metadata": {
        "id": "womUAYzDnOiu"
      },
      "source": [
        "When you convert from Python to JSON, Python objects are converted into the JSON (JavaScript) equivalent:\r\n",
        "\r\n",
        "Python\tJSON\r\n",
        "dict\tObject\r\n",
        "list\tArray\r\n",
        "tuple\tArray\r\n",
        "str\tString\r\n",
        "int\tNumber\r\n",
        "float\tNumber\r\n",
        "True\ttrue\r\n",
        "False\tfalse\r\n",
        "None\tnull"
      ],
      "execution_count": null,
      "outputs": []
    },
    {
      "cell_type": "code",
      "metadata": {
        "colab": {
          "base_uri": "https://localhost:8080/"
        },
        "id": "CjjvpqRRnPUA",
        "outputId": "a2b13e6d-3969-4ba3-fad3-502410a01e3b"
      },
      "source": [
        "#Convert a Python object containing all the legal data types:\r\n",
        "\r\n",
        "import json\r\n",
        "\r\n",
        "x = {\r\n",
        "  \"name\": \"John\",\r\n",
        "  \"age\": 30,\r\n",
        "  \"married\": True,\r\n",
        "  \"divorced\": False,\r\n",
        "  \"children\": (\"Ann\",\"Billy\"),\r\n",
        "  \"pets\": None,\r\n",
        "  \"cars\": [\r\n",
        "    {\"model\": \"BMW 230\", \"mpg\": 27.5},\r\n",
        "    {\"model\": \"Ford Edge\", \"mpg\": 24.1}\r\n",
        "  ]\r\n",
        "}\r\n",
        "\r\n",
        "print(json.dumps(x))"
      ],
      "execution_count": 5,
      "outputs": [
        {
          "output_type": "stream",
          "text": [
            "{\"name\": \"John\", \"age\": 30, \"married\": true, \"divorced\": false, \"children\": [\"Ann\", \"Billy\"], \"pets\": null, \"cars\": [{\"model\": \"BMW 230\", \"mpg\": 27.5}, {\"model\": \"Ford Edge\", \"mpg\": 24.1}]}\n"
          ],
          "name": "stdout"
        }
      ]
    },
    {
      "cell_type": "code",
      "metadata": {
        "id": "tXM48o0BnP-V"
      },
      "source": [
        "Format the Result\r\n",
        "The example above prints a JSON string, but it is not very easy to read, with no indentations and line breaks.\r\n",
        "\r\n",
        "The json.dumps() method has parameters to make it easier to read the result:"
      ],
      "execution_count": null,
      "outputs": []
    },
    {
      "cell_type": "code",
      "metadata": {
        "colab": {
          "base_uri": "https://localhost:8080/"
        },
        "id": "BX4M2weDoDze",
        "outputId": "851c92e0-d930-4338-af4f-860d43521b17"
      },
      "source": [
        "#Use the indent parameter to define the numbers of indents\r\n",
        "import json\r\n",
        "\r\n",
        "x = {\r\n",
        "  \"name\": \"John\",\r\n",
        "  \"age\": 30,\r\n",
        "  \"married\": True,\r\n",
        "  \"divorced\": False,\r\n",
        "  \"children\": (\"Ann\",\"Billy\"),\r\n",
        "  \"pets\": None,\r\n",
        "  \"cars\": [\r\n",
        "    {\"model\": \"BMW 230\", \"mpg\": 27.5},\r\n",
        "    {\"model\": \"Ford Edge\", \"mpg\": 24.1}\r\n",
        "  ]\r\n",
        "}\r\n",
        "\r\n",
        "# use four indents to make it easier to read the result:\r\n",
        "print(json.dumps(x, indent=4))\r\n"
      ],
      "execution_count": 6,
      "outputs": [
        {
          "output_type": "stream",
          "text": [
            "{\n",
            "    \"name\": \"John\",\n",
            "    \"age\": 30,\n",
            "    \"married\": true,\n",
            "    \"divorced\": false,\n",
            "    \"children\": [\n",
            "        \"Ann\",\n",
            "        \"Billy\"\n",
            "    ],\n",
            "    \"pets\": null,\n",
            "    \"cars\": [\n",
            "        {\n",
            "            \"model\": \"BMW 230\",\n",
            "            \"mpg\": 27.5\n",
            "        },\n",
            "        {\n",
            "            \"model\": \"Ford Edge\",\n",
            "            \"mpg\": 24.1\n",
            "        }\n",
            "    ]\n",
            "}\n"
          ],
          "name": "stdout"
        }
      ]
    },
    {
      "cell_type": "code",
      "metadata": {
        "id": "D9ZBgrUZoR6G"
      },
      "source": [
        "You can also define the separators, default value is (\", \", \": \"), which means using a comma and a space to separate each object, and a colon and a space to separate keys from values"
      ],
      "execution_count": null,
      "outputs": []
    },
    {
      "cell_type": "code",
      "metadata": {
        "colab": {
          "base_uri": "https://localhost:8080/"
        },
        "id": "t0GGIAD2oSel",
        "outputId": "714db239-85a9-4828-c1d9-247ab23ed2d6"
      },
      "source": [
        "#Use the separators parameter to change the default separator\r\n",
        "import json\r\n",
        "\r\n",
        "x = {\r\n",
        "  \"name\": \"John\",\r\n",
        "  \"age\": 30,\r\n",
        "  \"married\": True,\r\n",
        "  \"divorced\": False,\r\n",
        "  \"children\": (\"Ann\",\"Billy\"),\r\n",
        "  \"pets\": None,\r\n",
        "  \"cars\": [\r\n",
        "    {\"model\": \"BMW 230\", \"mpg\": 27.5},\r\n",
        "    {\"model\": \"Ford Edge\", \"mpg\": 24.1}\r\n",
        "  ]\r\n",
        "}\r\n",
        "\r\n",
        "# use . and a space to separate objects, and a space, a = and a space to separate keys from their values:\r\n",
        "print(json.dumps(x, indent=4, separators=(\". \", \" = \")))"
      ],
      "execution_count": 7,
      "outputs": [
        {
          "output_type": "stream",
          "text": [
            "{\n",
            "    \"name\" = \"John\". \n",
            "    \"age\" = 30. \n",
            "    \"married\" = true. \n",
            "    \"divorced\" = false. \n",
            "    \"children\" = [\n",
            "        \"Ann\". \n",
            "        \"Billy\"\n",
            "    ]. \n",
            "    \"pets\" = null. \n",
            "    \"cars\" = [\n",
            "        {\n",
            "            \"model\" = \"BMW 230\". \n",
            "            \"mpg\" = 27.5\n",
            "        }. \n",
            "        {\n",
            "            \"model\" = \"Ford Edge\". \n",
            "            \"mpg\" = 24.1\n",
            "        }\n",
            "    ]\n",
            "}\n"
          ],
          "name": "stdout"
        }
      ]
    },
    {
      "cell_type": "code",
      "metadata": {
        "id": "pV4Pey-FoeEu"
      },
      "source": [
        "Order the Result\r\n",
        "The json.dumps() method has parameters to order the keys in the result"
      ],
      "execution_count": null,
      "outputs": []
    },
    {
      "cell_type": "code",
      "metadata": {
        "colab": {
          "base_uri": "https://localhost:8080/"
        },
        "id": "g5YsC6Qhoe3U",
        "outputId": "afb5c683-a41c-4522-a391-c7ad1b1881eb"
      },
      "source": [
        "import json\r\n",
        "\r\n",
        "x = {\r\n",
        "  \"name\": \"John\",\r\n",
        "  \"age\": 30,\r\n",
        "  \"married\": True,\r\n",
        "  \"divorced\": False,\r\n",
        "  \"children\": (\"Ann\",\"Billy\"),\r\n",
        "  \"pets\": None,\r\n",
        "  \"cars\": [\r\n",
        "    {\"model\": \"BMW 230\", \"mpg\": 27.5},\r\n",
        "    {\"model\": \"Ford Edge\", \"mpg\": 24.1}\r\n",
        "  ]\r\n",
        "}\r\n",
        "\r\n",
        "# sort the result alphabetically by keys:\r\n",
        "print(json.dumps(x, indent=4, sort_keys=True))"
      ],
      "execution_count": 8,
      "outputs": [
        {
          "output_type": "stream",
          "text": [
            "{\n",
            "    \"age\": 30,\n",
            "    \"cars\": [\n",
            "        {\n",
            "            \"model\": \"BMW 230\",\n",
            "            \"mpg\": 27.5\n",
            "        },\n",
            "        {\n",
            "            \"model\": \"Ford Edge\",\n",
            "            \"mpg\": 24.1\n",
            "        }\n",
            "    ],\n",
            "    \"children\": [\n",
            "        \"Ann\",\n",
            "        \"Billy\"\n",
            "    ],\n",
            "    \"divorced\": false,\n",
            "    \"married\": true,\n",
            "    \"name\": \"John\",\n",
            "    \"pets\": null\n",
            "}\n"
          ],
          "name": "stdout"
        }
      ]
    }
  ]
}