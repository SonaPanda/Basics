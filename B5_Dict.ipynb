{
  "nbformat": 4,
  "nbformat_minor": 0,
  "metadata": {
    "colab": {
      "name": "B5-Dict.ipynb",
      "provenance": [],
      "collapsed_sections": []
    },
    "kernelspec": {
      "name": "python3",
      "display_name": "Python 3"
    }
  },
  "cells": [
    {
      "cell_type": "code",
      "metadata": {
        "id": "WlE5POWaMmNe"
      },
      "source": [
        "Dictionary\r\n",
        "Dictionaries are used to store data values in key:value pairs.\r\n",
        "\r\n",
        "A dictionary is a collection which is ordered*, changeable and does not allow duplicates.\r\n",
        "Dictionaries are written with curly brackets, and have keys and values"
      ],
      "execution_count": null,
      "outputs": []
    },
    {
      "cell_type": "code",
      "metadata": {
        "colab": {
          "base_uri": "https://localhost:8080/"
        },
        "id": "6oaXpJsnP4zh",
        "outputId": "d75508f4-d235-44d9-996f-d38d12afaa48"
      },
      "source": [
        "#Create and print a dictionary\r\n",
        "\r\n",
        "thisdict = {\r\n",
        "  \"brand\": \"Ford\",\r\n",
        "  \"model\": \"Mustang\",\r\n",
        "  \"year\": 1964\r\n",
        "}\r\n",
        "print(thisdict)"
      ],
      "execution_count": null,
      "outputs": [
        {
          "output_type": "stream",
          "text": [
            "{'brand': 'Ford', 'model': 'Mustang', 'year': 1964}\n"
          ],
          "name": "stdout"
        }
      ]
    },
    {
      "cell_type": "code",
      "metadata": {
        "id": "0RPt8ZR7QGii"
      },
      "source": [
        "Dictionary Items\r\n",
        "Dictionary items are ordered, changeable, and does not allow duplicates.\r\n",
        "\r\n",
        "Dictionary items are presented in key:value pairs, and can be referred to by using the key name."
      ],
      "execution_count": null,
      "outputs": []
    },
    {
      "cell_type": "code",
      "metadata": {
        "colab": {
          "base_uri": "https://localhost:8080/"
        },
        "id": "nNZ0bFv0QGz4",
        "outputId": "3959d70a-737b-414c-fd57-837e1f38ee96"
      },
      "source": [
        "#Print the \"brand\" value of the dictionary:\r\n",
        "\r\n",
        "thisdict = {\r\n",
        "  \"brand\": \"Ford\",\r\n",
        "  \"model\": \"Mustang\",\r\n",
        "  \"year\": 1964\r\n",
        "}\r\n",
        "print(thisdict[\"brand\"])"
      ],
      "execution_count": null,
      "outputs": [
        {
          "output_type": "stream",
          "text": [
            "Ford\n"
          ],
          "name": "stdout"
        }
      ]
    },
    {
      "cell_type": "code",
      "metadata": {
        "id": "sRmOW_mJQNk0"
      },
      "source": [
        "Ordered or Unordered?\r\n",
        "When we say that tuples are ordered, it means that the items have a defined order, and that order will not change.\r\n",
        "\r\n",
        "Unordered means that the items does not have a defined order, you cannot refer to an item by using an index.\r\n",
        "\r\n",
        "\r\n",
        "Changeable\r\n",
        "Dictionaries are changeable, meaning that we can change, add or remove items after the dictionary has been created.\r\n",
        "\r\n",
        "Duplicates Not Allowed\r\n",
        "Dictionaries cannot have two items with the same key"
      ],
      "execution_count": null,
      "outputs": []
    },
    {
      "cell_type": "code",
      "metadata": {
        "colab": {
          "base_uri": "https://localhost:8080/"
        },
        "id": "JVzoqkY-QYXB",
        "outputId": "1154eb70-898a-48ed-a4c3-226085c59386"
      },
      "source": [
        "#Duplicate values will overwrite existing values:\r\n",
        "\r\n",
        "thisdict = {\r\n",
        "  \"brand\": \"Ford\",\r\n",
        "  \"model\": \"Mustang\",\r\n",
        "  \"year\": 1964,\r\n",
        "  \"year\": 2020\r\n",
        "}\r\n",
        "print(thisdict)"
      ],
      "execution_count": null,
      "outputs": [
        {
          "output_type": "stream",
          "text": [
            "{'brand': 'Ford', 'model': 'Mustang', 'year': 2020}\n"
          ],
          "name": "stdout"
        }
      ]
    },
    {
      "cell_type": "code",
      "metadata": {
        "colab": {
          "base_uri": "https://localhost:8080/"
        },
        "id": "IWLhYY-wQYL9",
        "outputId": "749091b3-731e-402b-f8cc-265aacbbfd28"
      },
      "source": [
        "#Dictionary Length\r\n",
        "#To determine how many items a dictionary has, use the len() function\r\n",
        "#Print the number of items in the dictionary:\r\n",
        "\r\n",
        "print(len(thisdict))"
      ],
      "execution_count": null,
      "outputs": [
        {
          "output_type": "stream",
          "text": [
            "3\n"
          ],
          "name": "stdout"
        }
      ]
    },
    {
      "cell_type": "code",
      "metadata": {
        "colab": {
          "base_uri": "https://localhost:8080/"
        },
        "id": "cnwrXguRQYA9",
        "outputId": "a6247aa6-87b9-4a63-dca6-c01348eb744c"
      },
      "source": [
        "#Dictionary Items - Data Types\r\n",
        "#The values in dictionary items can be of any data type\r\n",
        "\r\n",
        "#String, int, boolean, and list data types:\r\n",
        "\r\n",
        "thisdict = {\r\n",
        "  \"brand\": \"Ford\",\r\n",
        "  \"electric\": False,\r\n",
        "  \"year\": 1964,\r\n",
        "  \"colors\": [\"red\", \"white\", \"blue\"]\r\n",
        "}\r\n",
        "print(thisdict)"
      ],
      "execution_count": null,
      "outputs": [
        {
          "output_type": "stream",
          "text": [
            "{'brand': 'Ford', 'electric': False, 'year': 1964, 'colors': ['red', 'white', 'blue']}\n"
          ],
          "name": "stdout"
        }
      ]
    },
    {
      "cell_type": "code",
      "metadata": {
        "colab": {
          "base_uri": "https://localhost:8080/"
        },
        "id": "JCKlPS4BQX15",
        "outputId": "bfa1dd3f-b378-46aa-a2bd-846286b1fdd7"
      },
      "source": [
        "#type()\r\n",
        "#From Python's perspective, dictionaries are defined as objects with the data type 'dict'\r\n",
        "#Print the data type of a dictionary:\r\n",
        "\r\n",
        "thisdict = {\r\n",
        "  \"brand\": \"Ford\",\r\n",
        "  \"model\": \"Mustang\",\r\n",
        "  \"year\": 1964\r\n",
        "}\r\n",
        "print(type(thisdict))"
      ],
      "execution_count": null,
      "outputs": [
        {
          "output_type": "stream",
          "text": [
            "<class 'dict'>\n"
          ],
          "name": "stdout"
        }
      ]
    },
    {
      "cell_type": "code",
      "metadata": {
        "id": "z_mZ0YHaQWzQ",
        "colab": {
          "base_uri": "https://localhost:8080/"
        },
        "outputId": "2bb522ce-ab1e-4e71-f324-119d79fc6dd9"
      },
      "source": [
        "#Access Dictionary Items\r\n",
        "#Accessing Items\r\n",
        "#You can access the items of a dictionary by referring to its key name, inside square brackets\r\n",
        "#Get the value of the \"model\" key:\r\n",
        "\r\n",
        "thisdict = {\r\n",
        "  \"brand\": \"Ford\",\r\n",
        "  \"model\": \"Mustang\",\r\n",
        "  \"year\": 1964\r\n",
        "}\r\n",
        "x = thisdict[\"model\"]\r\n",
        "print(x)"
      ],
      "execution_count": 2,
      "outputs": [
        {
          "output_type": "stream",
          "text": [
            "Mustang\n"
          ],
          "name": "stdout"
        }
      ]
    },
    {
      "cell_type": "code",
      "metadata": {
        "id": "jMZL_2I2QXFH",
        "colab": {
          "base_uri": "https://localhost:8080/"
        },
        "outputId": "37f758b0-2f02-405d-dc4d-d040d2a3dbcf"
      },
      "source": [
        "#There is also a method called get() that will give you the same result\r\n",
        "#Get the value of the \"model\" key:\r\n",
        "\r\n",
        "x = thisdict.get(\"model\")\r\n",
        "print(x)"
      ],
      "execution_count": 4,
      "outputs": [
        {
          "output_type": "stream",
          "text": [
            "Mustang\n"
          ],
          "name": "stdout"
        }
      ]
    },
    {
      "cell_type": "code",
      "metadata": {
        "colab": {
          "base_uri": "https://localhost:8080/"
        },
        "id": "2X70vhSpdEFC",
        "outputId": "2cfdae25-10a4-4119-c326-c5eacb5887b6"
      },
      "source": [
        "#Get the value of the \"model\" item:\r\n",
        "\r\n",
        "car = {\r\n",
        "  \"brand\": \"Ford\",\r\n",
        "  \"model\": \"Mustang\",\r\n",
        "  \"year\": 1964\r\n",
        "}\r\n",
        "\r\n",
        "x = car.get(\"model\")\r\n",
        "\r\n",
        "print(x)"
      ],
      "execution_count": 40,
      "outputs": [
        {
          "output_type": "stream",
          "text": [
            "Mustang\n"
          ],
          "name": "stdout"
        }
      ]
    },
    {
      "cell_type": "code",
      "metadata": {
        "colab": {
          "base_uri": "https://localhost:8080/"
        },
        "id": "EJvdFHrgdId9",
        "outputId": "c5873975-1fbd-4b39-fad4-d135c18963a8"
      },
      "source": [
        "#Try to return the value of an item that do not exist:\r\n",
        "\r\n",
        "car = {\r\n",
        "  \"brand\": \"Ford\",\r\n",
        "  \"model\": \"Mustang\",\r\n",
        "  \"year\": 1964\r\n",
        "}\r\n",
        "\r\n",
        "x = car.get(\"price\", 15000)\r\n",
        "\r\n",
        "print(x)"
      ],
      "execution_count": 41,
      "outputs": [
        {
          "output_type": "stream",
          "text": [
            "15000\n"
          ],
          "name": "stdout"
        }
      ]
    },
    {
      "cell_type": "code",
      "metadata": {
        "colab": {
          "base_uri": "https://localhost:8080/"
        },
        "id": "zLkGvcgtS3dF",
        "outputId": "3bb1168d-9c08-4963-ff72-aa081fe6aec3"
      },
      "source": [
        "#Get Keys\r\n",
        "#The keys() method will return a list of all the keys in the dictionary.\r\n",
        "#Get a list of the keys:\r\n",
        "\r\n",
        "x = thisdict.keys()\r\n",
        "print(x)\r\n",
        "#The list of the keys is a view of the dictionary, meaning that any changes done to the dictionary will be reflected in the keys list."
      ],
      "execution_count": 6,
      "outputs": [
        {
          "output_type": "stream",
          "text": [
            "dict_keys(['brand', 'model', 'year'])\n"
          ],
          "name": "stdout"
        }
      ]
    },
    {
      "cell_type": "code",
      "metadata": {
        "colab": {
          "base_uri": "https://localhost:8080/"
        },
        "id": "dFPB7ZORTG7T",
        "outputId": "a0d1b9c5-657d-4305-e2a9-523f259342b6"
      },
      "source": [
        "#Add a new item to the original dictionary, and see that the value list gets updated as well:\r\n",
        "\r\n",
        "car = {\r\n",
        "\"brand\": \"Ford\",\r\n",
        "\"model\": \"Mustang\",\r\n",
        "\"year\": 1964\r\n",
        "}\r\n",
        "\r\n",
        "x = car.keys()\r\n",
        "\r\n",
        "print(x) #before the change\r\n",
        "\r\n",
        "car[\"color\"] = \"white\"\r\n",
        "\r\n",
        "print(x) #after the change"
      ],
      "execution_count": 7,
      "outputs": [
        {
          "output_type": "stream",
          "text": [
            "dict_keys(['brand', 'model', 'year'])\n",
            "dict_keys(['brand', 'model', 'year', 'color'])\n"
          ],
          "name": "stdout"
        }
      ]
    },
    {
      "cell_type": "code",
      "metadata": {
        "colab": {
          "base_uri": "https://localhost:8080/"
        },
        "id": "scbBz5XETR1l",
        "outputId": "8c6c4376-178e-44fc-b604-4398fc9e465f"
      },
      "source": [
        "#Get Values\r\n",
        "#The values() method will return a list of all the values in the dictionary.\r\n",
        "#Get a list of the values:\r\n",
        "\r\n",
        "x = thisdict.values()\r\n",
        "print(x)\r\n",
        "#The list of the values is a view of the dictionary, meaning that any changes done to the dictionary will be reflected in the values list."
      ],
      "execution_count": 8,
      "outputs": [
        {
          "output_type": "stream",
          "text": [
            "dict_values(['Ford', 'Mustang', 1964])\n"
          ],
          "name": "stdout"
        }
      ]
    },
    {
      "cell_type": "code",
      "metadata": {
        "colab": {
          "base_uri": "https://localhost:8080/"
        },
        "id": "X_51pMM4TabE",
        "outputId": "7b192089-c6d5-461e-c6b6-ba1003053d43"
      },
      "source": [
        "#Add a new item to the original dictionary, and see that the keys list gets updated as well:\r\n",
        "\r\n",
        "car = {\r\n",
        "\"brand\": \"Ford\",\r\n",
        "\"model\": \"Mustang\",\r\n",
        "\"year\": 1964\r\n",
        "}\r\n",
        "\r\n",
        "x = car.values()\r\n",
        "\r\n",
        "print(x) #before the change\r\n",
        "\r\n",
        "car[\"year\"] = 2020\r\n",
        "\r\n",
        "print(x) #after the change"
      ],
      "execution_count": 9,
      "outputs": [
        {
          "output_type": "stream",
          "text": [
            "dict_values(['Ford', 'Mustang', 1964])\n",
            "dict_values(['Ford', 'Mustang', 2020])\n"
          ],
          "name": "stdout"
        }
      ]
    },
    {
      "cell_type": "code",
      "metadata": {
        "colab": {
          "base_uri": "https://localhost:8080/"
        },
        "id": "G1SFK_eBTaTz",
        "outputId": "641dfb4d-04f0-42b3-9910-6fb20a433bad"
      },
      "source": [
        "#Get Items\r\n",
        "#The items() method will return each item in a dictionary, as tuples in a list.\r\n",
        "#Get a list of the key:value pairs\r\n",
        "\r\n",
        "x = thisdict.items()\r\n",
        "print(x)\r\n",
        "#The returned list is a view of the items of the dictionary, meaning that any changes done to the dictionary will be reflected in the items list."
      ],
      "execution_count": 10,
      "outputs": [
        {
          "output_type": "stream",
          "text": [
            "dict_items([('brand', 'Ford'), ('model', 'Mustang'), ('year', 1964)])\n"
          ],
          "name": "stdout"
        }
      ]
    },
    {
      "cell_type": "code",
      "metadata": {
        "colab": {
          "base_uri": "https://localhost:8080/"
        },
        "id": "OXL0qMCETaLt",
        "outputId": "542e30f9-648c-46b2-dcb7-dbf31970b627"
      },
      "source": [
        "#Add a new item to the original dictionary, and see that the items list gets updated as well:\r\n",
        "\r\n",
        "car = {\r\n",
        "\"brand\": \"Ford\",\r\n",
        "\"model\": \"Mustang\",\r\n",
        "\"year\": 1964\r\n",
        "}\r\n",
        "\r\n",
        "x = car.items()\r\n",
        "\r\n",
        "print(x) #before the change\r\n",
        "\r\n",
        "car[\"year\"] = 2020\r\n",
        "\r\n",
        "print(x) #after the change"
      ],
      "execution_count": 11,
      "outputs": [
        {
          "output_type": "stream",
          "text": [
            "dict_items([('brand', 'Ford'), ('model', 'Mustang'), ('year', 1964)])\n",
            "dict_items([('brand', 'Ford'), ('model', 'Mustang'), ('year', 2020)])\n"
          ],
          "name": "stdout"
        }
      ]
    },
    {
      "cell_type": "code",
      "metadata": {
        "colab": {
          "base_uri": "https://localhost:8080/"
        },
        "id": "Tv6DAMyPdbs2",
        "outputId": "46b7c626-6f0d-4144-9441-3910aaf4c998"
      },
      "source": [
        "#Return the dictionary's key-value pairs:\r\n",
        "\r\n",
        "car = {\r\n",
        "  \"brand\": \"Ford\",\r\n",
        "  \"model\": \"Mustang\",\r\n",
        "  \"year\": 1964\r\n",
        "}\r\n",
        "\r\n",
        "x = car.items()\r\n",
        "\r\n",
        "print(x)"
      ],
      "execution_count": 42,
      "outputs": [
        {
          "output_type": "stream",
          "text": [
            "dict_items([('brand', 'Ford'), ('model', 'Mustang'), ('year', 1964)])\n"
          ],
          "name": "stdout"
        }
      ]
    },
    {
      "cell_type": "code",
      "metadata": {
        "colab": {
          "base_uri": "https://localhost:8080/"
        },
        "id": "FI7YdEEXdke2",
        "outputId": "bdc6baf1-7c37-4a66-dbf0-c48c636caaaf"
      },
      "source": [
        "#When an item in the dictionary changes value, the view object also gets updated:\r\n",
        "\r\n",
        "car = {\r\n",
        "  \"brand\": \"Ford\",\r\n",
        "  \"model\": \"Mustang\",\r\n",
        "  \"year\": 1964\r\n",
        "}\r\n",
        "\r\n",
        "x = car.items()\r\n",
        "\r\n",
        "car[\"year\"] = 2018\r\n",
        "\r\n",
        "print(x)"
      ],
      "execution_count": 43,
      "outputs": [
        {
          "output_type": "stream",
          "text": [
            "dict_items([('brand', 'Ford'), ('model', 'Mustang'), ('year', 2018)])\n"
          ],
          "name": "stdout"
        }
      ]
    },
    {
      "cell_type": "code",
      "metadata": {
        "colab": {
          "base_uri": "https://localhost:8080/"
        },
        "id": "N-sznZU2TaDH",
        "outputId": "53bfd3b9-7a57-41f1-c1b4-15f79e39c01e"
      },
      "source": [
        "#Check if Key Exists\r\n",
        "#To determine if a specified key is present in a dictionary use the in keyword\r\n",
        "#Check if \"model\" is present in the dictionary:\r\n",
        "\r\n",
        "thisdict = {\r\n",
        "  \"brand\": \"Ford\",\r\n",
        "  \"model\": \"Mustang\",\r\n",
        "  \"year\": 1964\r\n",
        "}\r\n",
        "if \"model\" in thisdict:\r\n",
        "  print(\"Yes, 'model' is one of the keys in the thisdict dictionary\")"
      ],
      "execution_count": 12,
      "outputs": [
        {
          "output_type": "stream",
          "text": [
            "Yes, 'model' is one of the keys in the thisdict dictionary\n"
          ],
          "name": "stdout"
        }
      ]
    },
    {
      "cell_type": "code",
      "metadata": {
        "colab": {
          "base_uri": "https://localhost:8080/"
        },
        "id": "Y5i_mN4cTZ4A",
        "outputId": "9d1cf90e-b9e1-43b2-feb0-ae08e6fbe6c2"
      },
      "source": [
        "#Change Dictionary Items\r\n",
        "\r\n",
        "#Change Values\r\n",
        "#You can change the value of a specific item by referring to its key name\r\n",
        "\r\n",
        "#Change the \"year\" to 2018:\r\n",
        "\r\n",
        "thisdict = {\r\n",
        "  \"brand\": \"Ford\",\r\n",
        "  \"model\": \"Mustang\",\r\n",
        "  \"year\": 1964\r\n",
        "}\r\n",
        "thisdict[\"year\"] = 2018\r\n",
        "print(thisdict)"
      ],
      "execution_count": 13,
      "outputs": [
        {
          "output_type": "stream",
          "text": [
            "{'brand': 'Ford', 'model': 'Mustang', 'year': 2018}\n"
          ],
          "name": "stdout"
        }
      ]
    },
    {
      "cell_type": "code",
      "metadata": {
        "colab": {
          "base_uri": "https://localhost:8080/"
        },
        "id": "YUftSS6rTZI4",
        "outputId": "5800109f-2a07-4964-8c69-e30e34a553dd"
      },
      "source": [
        "#Update Dictionary\r\n",
        "#The update() method will update the dictionary with the items from the given argument.\r\n",
        "\r\n",
        "#The argument must be a dictionary, or an iterable object with key:value pairs.\r\n",
        "\r\n",
        "#Update the \"year\" of the car by using the update() method:\r\n",
        "\r\n",
        "thisdict = {\r\n",
        "  \"brand\": \"Ford\",\r\n",
        "  \"model\": \"Mustang\",\r\n",
        "  \"year\": 1964\r\n",
        "}\r\n",
        "thisdict.update({\"year\": 2020})\r\n",
        "print(thisdict)"
      ],
      "execution_count": 15,
      "outputs": [
        {
          "output_type": "stream",
          "text": [
            "{'brand': 'Ford', 'model': 'Mustang', 'year': 2020}\n"
          ],
          "name": "stdout"
        }
      ]
    },
    {
      "cell_type": "code",
      "metadata": {
        "colab": {
          "base_uri": "https://localhost:8080/"
        },
        "id": "uLo5FUkEejyg",
        "outputId": "aaae8885-8e89-4711-a7e3-7829a5eb2ff3"
      },
      "source": [
        "#Insert an item to the dictionary:\r\n",
        "\r\n",
        "car = {\r\n",
        "  \"brand\": \"Ford\",\r\n",
        "  \"model\": \"Mustang\",\r\n",
        "  \"year\": 1964\r\n",
        "}\r\n",
        "\r\n",
        "car.update({\"color\": \"White\"})\r\n",
        "\r\n",
        "print(car)"
      ],
      "execution_count": 52,
      "outputs": [
        {
          "output_type": "stream",
          "text": [
            "{'brand': 'Ford', 'model': 'Mustang', 'year': 1964, 'color': 'White'}\n"
          ],
          "name": "stdout"
        }
      ]
    },
    {
      "cell_type": "code",
      "metadata": {
        "colab": {
          "base_uri": "https://localhost:8080/"
        },
        "id": "4SapjvGcTZZO",
        "outputId": "3f9fae42-5178-43b6-ab42-858db636fdd1"
      },
      "source": [
        "#Add Dictionary Items\r\n",
        "#Adding Items\r\n",
        "#Adding an item to the dictionary is done by using a new index key and assigning a value to it\r\n",
        "thisdict = {\r\n",
        "  \"brand\": \"Ford\",\r\n",
        "  \"model\": \"Mustang\",\r\n",
        "  \"year\": 1964\r\n",
        "}\r\n",
        "thisdict[\"color\"] = \"red\"\r\n",
        "print(thisdict)"
      ],
      "execution_count": 16,
      "outputs": [
        {
          "output_type": "stream",
          "text": [
            "{'brand': 'Ford', 'model': 'Mustang', 'year': 1964, 'color': 'red'}\n"
          ],
          "name": "stdout"
        }
      ]
    },
    {
      "cell_type": "code",
      "metadata": {
        "colab": {
          "base_uri": "https://localhost:8080/"
        },
        "id": "uSnLscKFWZKZ",
        "outputId": "ad576e2d-ac81-4306-f966-c3c264201300"
      },
      "source": [
        "#Update Dictionary\r\n",
        "#The update() method will update the dictionary with the items from a given argument. If the item does not exist, the item will be added.\r\n",
        "\r\n",
        "#The argument must be a dictionary, or an iterable object with key:value pairs.\r\n",
        "#Add a color item to the dictionary by using the update() method:\r\n",
        "\r\n",
        "thisdict = {\r\n",
        "  \"brand\": \"Ford\",\r\n",
        "  \"model\": \"Mustang\",\r\n",
        "  \"year\": 1964\r\n",
        "}\r\n",
        "thisdict.update({\"color\": \"red\"})\r\n",
        "print(thisdict)"
      ],
      "execution_count": 19,
      "outputs": [
        {
          "output_type": "stream",
          "text": [
            "{'brand': 'Ford', 'model': 'Mustang', 'year': 1964, 'color': 'red'}\n"
          ],
          "name": "stdout"
        }
      ]
    },
    {
      "cell_type": "code",
      "metadata": {
        "colab": {
          "base_uri": "https://localhost:8080/"
        },
        "id": "LTrOH5_nXp8j",
        "outputId": "6b0ff59e-dae8-4f14-f33c-f30e38e8bbcc"
      },
      "source": [
        "#Remove Dictionary Items\r\n",
        "#Removing Items\r\n",
        "#There are several methods to remove items from a dictionary\r\n",
        "\r\n",
        "#The pop() method removes the item with the specified key name:\r\n",
        "\r\n",
        "thisdict = {\r\n",
        "  \"brand\": \"Ford\",\r\n",
        "  \"model\": \"Mustang\",\r\n",
        "  \"year\": 1964\r\n",
        "}\r\n",
        "thisdict.pop(\"model\")\r\n",
        "print(thisdict)"
      ],
      "execution_count": 20,
      "outputs": [
        {
          "output_type": "stream",
          "text": [
            "{'brand': 'Ford', 'year': 1964}\n"
          ],
          "name": "stdout"
        }
      ]
    },
    {
      "cell_type": "code",
      "metadata": {
        "colab": {
          "base_uri": "https://localhost:8080/"
        },
        "id": "1a9cbfXjd3MG",
        "outputId": "d74bb313-5685-4a1c-b706-ca3a46467e64"
      },
      "source": [
        "#Remove \"model\" from the dictionary:\r\n",
        "\r\n",
        "car = {\r\n",
        "  \"brand\": \"Ford\",\r\n",
        "  \"model\": \"Mustang\",\r\n",
        "  \"year\": 1964\r\n",
        "}\r\n",
        "\r\n",
        "car.pop(\"model\")\r\n",
        "\r\n",
        "print(car)"
      ],
      "execution_count": 46,
      "outputs": [
        {
          "output_type": "stream",
          "text": [
            "{'brand': 'Ford', 'year': 1964}\n"
          ],
          "name": "stdout"
        }
      ]
    },
    {
      "cell_type": "code",
      "metadata": {
        "colab": {
          "base_uri": "https://localhost:8080/"
        },
        "id": "clxrB5H4d9f6",
        "outputId": "380d594f-8bb1-4da5-9df5-918d2333ba39"
      },
      "source": [
        "#The value of the removed item is the return value of the pop() method:\r\n",
        "\r\n",
        "car = {\r\n",
        "  \"brand\": \"Ford\",\r\n",
        "  \"model\": \"Mustang\",\r\n",
        "  \"year\": 1964\r\n",
        "}\r\n",
        "\r\n",
        "x = car.pop(\"model\")\r\n",
        "\r\n",
        "print(x)"
      ],
      "execution_count": 47,
      "outputs": [
        {
          "output_type": "stream",
          "text": [
            "Mustang\n"
          ],
          "name": "stdout"
        }
      ]
    },
    {
      "cell_type": "code",
      "metadata": {
        "colab": {
          "base_uri": "https://localhost:8080/"
        },
        "id": "ZlYbf9A4XqLR",
        "outputId": "d9b16250-939f-4342-b450-9f2546f774db"
      },
      "source": [
        "#The popitem() method removes the last inserted item (in versions before 3.7, a random item is removed instead):\r\n",
        "\r\n",
        "thisdict = {\r\n",
        "  \"brand\": \"Ford\",\r\n",
        "  \"model\": \"Mustang\",\r\n",
        "  \"year\": 1964\r\n",
        "}\r\n",
        "thisdict.popitem()\r\n",
        "print(thisdict)"
      ],
      "execution_count": 21,
      "outputs": [
        {
          "output_type": "stream",
          "text": [
            "{'brand': 'Ford', 'model': 'Mustang'}\n"
          ],
          "name": "stdout"
        }
      ]
    },
    {
      "cell_type": "code",
      "metadata": {
        "colab": {
          "base_uri": "https://localhost:8080/"
        },
        "id": "16LLSX89eCqS",
        "outputId": "94bab4f2-97ce-4a8d-defc-002ed7175edd"
      },
      "source": [
        "#Remove the last item from the dictionary:\r\n",
        "\r\n",
        "car = {\r\n",
        "  \"brand\": \"Ford\",\r\n",
        "  \"model\": \"Mustang\",\r\n",
        "  \"year\": 1964\r\n",
        "}\r\n",
        "\r\n",
        "car.popitem()\r\n",
        "\r\n",
        "print(car)"
      ],
      "execution_count": 48,
      "outputs": [
        {
          "output_type": "stream",
          "text": [
            "{'brand': 'Ford', 'model': 'Mustang'}\n"
          ],
          "name": "stdout"
        }
      ]
    },
    {
      "cell_type": "code",
      "metadata": {
        "colab": {
          "base_uri": "https://localhost:8080/"
        },
        "id": "WA8bEaFJeHZd",
        "outputId": "385f6b89-565f-4e62-9930-36953a93da03"
      },
      "source": [
        "#The removed item is the return value of the pop() method:\r\n",
        "\r\n",
        "car = {\r\n",
        "  \"brand\": \"Ford\",\r\n",
        "  \"model\": \"Mustang\",\r\n",
        "  \"year\": 1964\r\n",
        "}\r\n",
        "\r\n",
        "x = car.popitem()\r\n",
        "\r\n",
        "print(x)"
      ],
      "execution_count": 49,
      "outputs": [
        {
          "output_type": "stream",
          "text": [
            "('year', 1964)\n"
          ],
          "name": "stdout"
        }
      ]
    },
    {
      "cell_type": "code",
      "metadata": {
        "colab": {
          "base_uri": "https://localhost:8080/"
        },
        "id": "g1EeBvS1XqXx",
        "outputId": "296d650a-3051-4475-fa60-b9f129d1875a"
      },
      "source": [
        "#The del keyword removes the item with the specified key name:\r\n",
        "\r\n",
        "thisdict = {\r\n",
        "  \"brand\": \"Ford\",\r\n",
        "  \"model\": \"Mustang\",\r\n",
        "  \"year\": 1964\r\n",
        "}\r\n",
        "del thisdict[\"model\"]\r\n",
        "print(thisdict)"
      ],
      "execution_count": 22,
      "outputs": [
        {
          "output_type": "stream",
          "text": [
            "{'brand': 'Ford', 'year': 1964}\n"
          ],
          "name": "stdout"
        }
      ]
    },
    {
      "cell_type": "code",
      "metadata": {
        "colab": {
          "base_uri": "https://localhost:8080/",
          "height": 197
        },
        "id": "BPBSljPVXqh2",
        "outputId": "72825a01-ac3e-433f-853d-4d191a005360"
      },
      "source": [
        "#The del keyword can also delete the dictionary completely:\r\n",
        "\r\n",
        "thisdict = {\r\n",
        "  \"brand\": \"Ford\",\r\n",
        "  \"model\": \"Mustang\",\r\n",
        "  \"year\": 1964\r\n",
        "}\r\n",
        "del thisdict\r\n",
        "print(thisdict) #this will cause an error because \"thisdict\" no longer exists."
      ],
      "execution_count": 23,
      "outputs": [
        {
          "output_type": "error",
          "ename": "NameError",
          "evalue": "ignored",
          "traceback": [
            "\u001b[0;31m---------------------------------------------------------------------------\u001b[0m",
            "\u001b[0;31mNameError\u001b[0m                                 Traceback (most recent call last)",
            "\u001b[0;32m<ipython-input-23-2eb50f488869>\u001b[0m in \u001b[0;36m<module>\u001b[0;34m()\u001b[0m\n\u001b[1;32m      7\u001b[0m }\n\u001b[1;32m      8\u001b[0m \u001b[0;32mdel\u001b[0m \u001b[0mthisdict\u001b[0m\u001b[0;34m\u001b[0m\u001b[0;34m\u001b[0m\u001b[0m\n\u001b[0;32m----> 9\u001b[0;31m \u001b[0mprint\u001b[0m\u001b[0;34m(\u001b[0m\u001b[0mthisdict\u001b[0m\u001b[0;34m)\u001b[0m \u001b[0;31m#this will cause an error because \"thisdict\" no longer exists.\u001b[0m\u001b[0;34m\u001b[0m\u001b[0;34m\u001b[0m\u001b[0m\n\u001b[0m",
            "\u001b[0;31mNameError\u001b[0m: name 'thisdict' is not defined"
          ]
        }
      ]
    },
    {
      "cell_type": "code",
      "metadata": {
        "colab": {
          "base_uri": "https://localhost:8080/"
        },
        "id": "4ngZpw1NXqs6",
        "outputId": "f2bb5f46-acf2-4c7e-b16c-f9dc85e4b23b"
      },
      "source": [
        "#The clear() method empties the dictionary:\r\n",
        "\r\n",
        "thisdict = {\r\n",
        "  \"brand\": \"Ford\",\r\n",
        "  \"model\": \"Mustang\",\r\n",
        "  \"year\": 1964\r\n",
        "}\r\n",
        "thisdict.clear()\r\n",
        "print(thisdict)"
      ],
      "execution_count": 24,
      "outputs": [
        {
          "output_type": "stream",
          "text": [
            "{}\n"
          ],
          "name": "stdout"
        }
      ]
    },
    {
      "cell_type": "code",
      "metadata": {
        "colab": {
          "base_uri": "https://localhost:8080/"
        },
        "id": "Qv5UKYbocY6_",
        "outputId": "228519d3-54f4-47d6-cee3-9ad8f211fab7"
      },
      "source": [
        "#clear()\tRemoves all the elements from the dictionary\r\n",
        "#Remove all elements from the car list:\r\n",
        "\r\n",
        "car = {\r\n",
        "  \"brand\": \"Ford\",\r\n",
        "  \"model\": \"Mustang\",\r\n",
        "  \"year\": 1964\r\n",
        "}\r\n",
        "\r\n",
        "car.clear()\r\n",
        "\r\n",
        "print(car)"
      ],
      "execution_count": 36,
      "outputs": [
        {
          "output_type": "stream",
          "text": [
            "{}\n"
          ],
          "name": "stdout"
        }
      ]
    },
    {
      "cell_type": "code",
      "metadata": {
        "id": "LbfAXiwaXq3W"
      },
      "source": [
        "#Loop Dictionaries\r\n",
        "#Loop Through a Dictionary\r\n",
        "#You can loop through a dictionary by using a for loop.\r\n",
        "\r\n",
        "#When looping through a dictionary, the return value are the keys of the dictionary, but there are methods to return the values as well.\r\n",
        "\r\n",
        "#Print all key names in the dictionary, one by one:\r\n",
        "\r\n",
        "for x in thisdict:\r\n",
        "  print(x)"
      ],
      "execution_count": 25,
      "outputs": []
    },
    {
      "cell_type": "code",
      "metadata": {
        "colab": {
          "base_uri": "https://localhost:8080/"
        },
        "id": "GPQGUssEY_RZ",
        "outputId": "2781052e-1e5e-47e1-d3d6-0776f957fbfc"
      },
      "source": [
        "#Print all values in the dictionary, one by one:\r\n",
        "\r\n",
        "thisdict =\t{\r\n",
        "  \"brand\": \"Ford\",\r\n",
        "  \"model\": \"Mustang\",\r\n",
        "  \"year\": 1964\r\n",
        "}\r\n",
        "for x in thisdict:\r\n",
        "  print(x)\r\n",
        "\r\n",
        "\r\n",
        "#for x in thisdict:\r\n",
        "#  print(thisdict[x])"
      ],
      "execution_count": 26,
      "outputs": [
        {
          "output_type": "stream",
          "text": [
            "brand\n",
            "model\n",
            "year\n"
          ],
          "name": "stdout"
        }
      ]
    },
    {
      "cell_type": "code",
      "metadata": {
        "colab": {
          "base_uri": "https://localhost:8080/"
        },
        "id": "uteJOkliXrB5",
        "outputId": "6eaf5f21-40b3-42bf-dd5c-1015605a8156"
      },
      "source": [
        "#Print all values in the dictionary, one by one:\r\n",
        "\r\n",
        "#for x in thisdict:\r\n",
        " # print(thisdict[x])\r\n",
        "\r\n",
        "thisdict =\t{\r\n",
        "  \"brand\": \"Ford\",\r\n",
        "  \"model\": \"Mustang\",\r\n",
        "  \"year\": 1964\r\n",
        "}\r\n",
        "for x in thisdict:\r\n",
        "  print(thisdict[x])"
      ],
      "execution_count": 27,
      "outputs": [
        {
          "output_type": "stream",
          "text": [
            "Ford\n",
            "Mustang\n",
            "1964\n"
          ],
          "name": "stdout"
        }
      ]
    },
    {
      "cell_type": "code",
      "metadata": {
        "colab": {
          "base_uri": "https://localhost:8080/"
        },
        "id": "OAxj2oWQZjkj",
        "outputId": "e5056201-ba5b-41c1-c139-0b03cd0fbe32"
      },
      "source": [
        "#You can also use the values() method to return values of a dictionary:\r\n",
        "\r\n",
        "#for x in thisdict.values():\r\n",
        "#  print(x)\r\n",
        "\r\n",
        "thisdict =\t{\r\n",
        "  \"brand\": \"Ford\",\r\n",
        "  \"model\": \"Mustang\",\r\n",
        "  \"year\": 1964\r\n",
        "}\r\n",
        "for x in thisdict.values():\r\n",
        "  print(x)"
      ],
      "execution_count": 28,
      "outputs": [
        {
          "output_type": "stream",
          "text": [
            "Ford\n",
            "Mustang\n",
            "1964\n"
          ],
          "name": "stdout"
        }
      ]
    },
    {
      "cell_type": "code",
      "metadata": {
        "colab": {
          "base_uri": "https://localhost:8080/"
        },
        "id": "CsaF6m1LZ2HC",
        "outputId": "6467a232-fd0b-44ba-a1cf-65b7f74e115d"
      },
      "source": [
        "#You can use the keys() method to return the keys of a dictionary:\r\n",
        "\r\n",
        "#for x in thisdict.keys():\r\n",
        "#  print(x)\r\n",
        "\r\n",
        "thisdict =\t{\r\n",
        "  \"brand\": \"Ford\",\r\n",
        "  \"model\": \"Mustang\",\r\n",
        "  \"year\": 1964\r\n",
        "}\r\n",
        "for x in thisdict.keys():\r\n",
        "  print(x)\r\n"
      ],
      "execution_count": 29,
      "outputs": [
        {
          "output_type": "stream",
          "text": [
            "brand\n",
            "model\n",
            "year\n"
          ],
          "name": "stdout"
        }
      ]
    },
    {
      "cell_type": "code",
      "metadata": {
        "colab": {
          "base_uri": "https://localhost:8080/"
        },
        "id": "DqECCFyldqY1",
        "outputId": "78d607a4-dfd3-4331-be9b-a20ec7e881ac"
      },
      "source": [
        "#Return the keys:\r\n",
        "\r\n",
        "car = {\r\n",
        "  \"brand\": \"Ford\",\r\n",
        "  \"model\": \"Mustang\",\r\n",
        "  \"year\": 1964\r\n",
        "}\r\n",
        "\r\n",
        "x = car.keys()\r\n",
        "\r\n",
        "print(x)"
      ],
      "execution_count": 44,
      "outputs": [
        {
          "output_type": "stream",
          "text": [
            "dict_keys(['brand', 'model', 'year'])\n"
          ],
          "name": "stdout"
        }
      ]
    },
    {
      "cell_type": "code",
      "metadata": {
        "colab": {
          "base_uri": "https://localhost:8080/"
        },
        "id": "iwhRJc1HdxbT",
        "outputId": "dfeec148-ebac-4c57-f16f-dfff9d9ec3b8"
      },
      "source": [
        "#When an item is added in the dictionary, the view object also gets updated:\r\n",
        "\r\n",
        "car = {\r\n",
        "  \"brand\": \"Ford\",\r\n",
        "  \"model\": \"Mustang\",\r\n",
        "  \"year\": 1964\r\n",
        "}\r\n",
        "\r\n",
        "x = car.keys()\r\n",
        "\r\n",
        "car[\"color\"] = \"white\"\r\n",
        "\r\n",
        "print(x)"
      ],
      "execution_count": 45,
      "outputs": [
        {
          "output_type": "stream",
          "text": [
            "dict_keys(['brand', 'model', 'year', 'color'])\n"
          ],
          "name": "stdout"
        }
      ]
    },
    {
      "cell_type": "code",
      "metadata": {
        "colab": {
          "base_uri": "https://localhost:8080/"
        },
        "id": "mj4BCq6BaAIg",
        "outputId": "3e95afc9-8313-4390-b72c-01c94f9f6303"
      },
      "source": [
        "#Loop through both keys and values, by using the items() method:\r\n",
        "\r\n",
        "#for x, y in thisdict.items():\r\n",
        "#  print(x, y)\r\n",
        "\r\n",
        "thisdict =\t{\r\n",
        "  \"brand\": \"Ford\",\r\n",
        "  \"model\": \"Mustang\",\r\n",
        "  \"year\": 1964\r\n",
        "}\r\n",
        "for x, y in thisdict.items():\r\n",
        "  print(x, y)\r\n"
      ],
      "execution_count": 30,
      "outputs": [
        {
          "output_type": "stream",
          "text": [
            "brand Ford\n",
            "model Mustang\n",
            "year 1964\n"
          ],
          "name": "stdout"
        }
      ]
    },
    {
      "cell_type": "code",
      "metadata": {
        "id": "HGiX0qVia52T"
      },
      "source": [
        "# Copy Dictionaries\r\n",
        "You cannot copy a dictionary simply by typing dict2 = dict1, because: dict2 will only be a reference to dict1, and changes made in dict1 will automatically also be made in dict2.\r\n",
        "\r\n",
        "There are ways to make a copy, one way is to use the built-in Dictionary method copy()"
      ],
      "execution_count": null,
      "outputs": []
    },
    {
      "cell_type": "code",
      "metadata": {
        "colab": {
          "base_uri": "https://localhost:8080/"
        },
        "id": "jI_S9syLa5t3",
        "outputId": "d3c111a0-1349-4941-c5b9-6e4579c5293f"
      },
      "source": [
        "#Make a copy of a dictionary with the copy() method:\r\n",
        "\r\n",
        "thisdict = {\r\n",
        "  \"brand\": \"Ford\",\r\n",
        "  \"model\": \"Mustang\",\r\n",
        "  \"year\": 1964\r\n",
        "}\r\n",
        "mydict = thisdict.copy()\r\n",
        "print(mydict)"
      ],
      "execution_count": 31,
      "outputs": [
        {
          "output_type": "stream",
          "text": [
            "{'brand': 'Ford', 'model': 'Mustang', 'year': 1964}\n"
          ],
          "name": "stdout"
        }
      ]
    },
    {
      "cell_type": "code",
      "metadata": {
        "colab": {
          "base_uri": "https://localhost:8080/"
        },
        "id": "_uJLOOiLcoSM",
        "outputId": "ca33943d-baeb-4780-e5e0-3009f4e27675"
      },
      "source": [
        "#Copy the car dictionary:\r\n",
        "\r\n",
        "car = {\r\n",
        "  \"brand\": \"Ford\",\r\n",
        "  \"model\": \"Mustang\",\r\n",
        "  \"year\": 1964\r\n",
        "}\r\n",
        "\r\n",
        "x = car.copy()\r\n",
        "\r\n",
        "print(x)"
      ],
      "execution_count": 37,
      "outputs": [
        {
          "output_type": "stream",
          "text": [
            "{'brand': 'Ford', 'model': 'Mustang', 'year': 1964}\n"
          ],
          "name": "stdout"
        }
      ]
    },
    {
      "cell_type": "code",
      "metadata": {
        "colab": {
          "base_uri": "https://localhost:8080/"
        },
        "id": "p1UDmfKMa5ma",
        "outputId": "a295202d-8860-497f-e987-4f0bede36146"
      },
      "source": [
        "#Make a copy of a dictionary with the dict() function:\r\n",
        "\r\n",
        "thisdict = {\r\n",
        "  \"brand\": \"Ford\",\r\n",
        "  \"model\": \"Mustang\",\r\n",
        "  \"year\": 1964\r\n",
        "}\r\n",
        "mydict = dict(thisdict)\r\n",
        "print(mydict)"
      ],
      "execution_count": 32,
      "outputs": [
        {
          "output_type": "stream",
          "text": [
            "{'brand': 'Ford', 'model': 'Mustang', 'year': 1964}\n"
          ],
          "name": "stdout"
        }
      ]
    },
    {
      "cell_type": "code",
      "metadata": {
        "colab": {
          "base_uri": "https://localhost:8080/"
        },
        "id": "cRsmDKUha5e4",
        "outputId": "6e2b808a-1105-403f-cc63-d5c89548b945"
      },
      "source": [
        "#Nested Dictionaries\r\n",
        "#A dictionary can contain dictionaries, this is called nested dictionaries.\r\n",
        "#Create a dictionary that contain three dictionaries:\r\n",
        "\r\n",
        "myfamily = {\r\n",
        "  \"child1\" : {\r\n",
        "    \"name\" : \"Emil\",\r\n",
        "    \"year\" : 2004\r\n",
        "  },\r\n",
        "  \"child2\" : {\r\n",
        "    \"name\" : \"Tobias\",\r\n",
        "    \"year\" : 2007\r\n",
        "  },\r\n",
        "  \"child3\" : {\r\n",
        "    \"name\" : \"Linus\",\r\n",
        "    \"year\" : 2011\r\n",
        "  }\r\n",
        "}\r\n",
        "\r\n",
        "print(myfamily)"
      ],
      "execution_count": 34,
      "outputs": [
        {
          "output_type": "stream",
          "text": [
            "{'child1': {'name': 'Emil', 'year': 2004}, 'child2': {'name': 'Tobias', 'year': 2007}, 'child3': {'name': 'Linus', 'year': 2011}}\n"
          ],
          "name": "stdout"
        }
      ]
    },
    {
      "cell_type": "code",
      "metadata": {
        "colab": {
          "base_uri": "https://localhost:8080/"
        },
        "id": "RCN1oj2da5Um",
        "outputId": "b9bb368b-1999-4a58-dffb-1200776cb538"
      },
      "source": [
        "#Create three dictionaries, then create one dictionary that will contain the other three dictionaries\r\n",
        "child1 = {\r\n",
        "  \"name\" : \"Emil\",\r\n",
        "  \"year\" : 2004\r\n",
        "}\r\n",
        "child2 = {\r\n",
        "  \"name\" : \"Tobias\",\r\n",
        "  \"year\" : 2007\r\n",
        "}\r\n",
        "child3 = {\r\n",
        "  \"name\" : \"Linus\",\r\n",
        "  \"year\" : 2011\r\n",
        "}\r\n",
        "\r\n",
        "myfamily = {\r\n",
        "  \"child1\" : child1,\r\n",
        "  \"child2\" : child2,\r\n",
        "  \"child3\" : child3\r\n",
        "}\r\n",
        "\r\n",
        "print(myfamily)"
      ],
      "execution_count": 35,
      "outputs": [
        {
          "output_type": "stream",
          "text": [
            "{'child1': {'name': 'Emil', 'year': 2004}, 'child2': {'name': 'Tobias', 'year': 2007}, 'child3': {'name': 'Linus', 'year': 2011}}\n"
          ],
          "name": "stdout"
        }
      ]
    },
    {
      "cell_type": "code",
      "metadata": {
        "colab": {
          "base_uri": "https://localhost:8080/"
        },
        "id": "C8JrUctma4VG",
        "outputId": "73a0afba-c586-4ae4-e077-2927fca581aa"
      },
      "source": [
        "#fromkeys() Method\r\n",
        "#Create a dictionary with 3 keys, all with the value 0:\r\n",
        "\r\n",
        "x = ('key1', 'key2', 'key3')\r\n",
        "y = 0\r\n",
        "\r\n",
        "thisdict = dict.fromkeys(x, y)\r\n",
        "\r\n",
        "print(thisdict)"
      ],
      "execution_count": 38,
      "outputs": [
        {
          "output_type": "stream",
          "text": [
            "{'key1': 0, 'key2': 0, 'key3': 0}\n"
          ],
          "name": "stdout"
        }
      ]
    },
    {
      "cell_type": "code",
      "metadata": {
        "colab": {
          "base_uri": "https://localhost:8080/"
        },
        "id": "fFqhlWzac_j5",
        "outputId": "ca907715-03ec-42d3-92bd-ee39a110d1cf"
      },
      "source": [
        "x = ('key1', 'key2', 'key3')\r\n",
        "\r\n",
        "thisdict = dict.fromkeys(x)\r\n",
        "\r\n",
        "print(thisdict)\r\n"
      ],
      "execution_count": 39,
      "outputs": [
        {
          "output_type": "stream",
          "text": [
            "{'key1': None, 'key2': None, 'key3': None}\n"
          ],
          "name": "stdout"
        }
      ]
    },
    {
      "cell_type": "code",
      "metadata": {
        "colab": {
          "base_uri": "https://localhost:8080/"
        },
        "id": "Z7j9JsqteNl8",
        "outputId": "6ec5e16f-aa90-4be3-c9dd-9eb7733ed377"
      },
      "source": [
        "#setdefault() Method\r\n",
        "#Get the value of the \"model\" item:\r\n",
        "\r\n",
        "car = {\r\n",
        "  \"brand\": \"Ford\",\r\n",
        "  \"model\": \"Mustang\",\r\n",
        "  \"year\": 1964\r\n",
        "}\r\n",
        "\r\n",
        "x = car.setdefault(\"model\", \"Bronco\")\r\n",
        "\r\n",
        "print(x)"
      ],
      "execution_count": 50,
      "outputs": [
        {
          "output_type": "stream",
          "text": [
            "Mustang\n"
          ],
          "name": "stdout"
        }
      ]
    },
    {
      "cell_type": "code",
      "metadata": {
        "colab": {
          "base_uri": "https://localhost:8080/"
        },
        "id": "zwDKQkMPeOCl",
        "outputId": "4b7146de-b11e-4d04-f3af-4a0410273b8d"
      },
      "source": [
        "#Get the value of the \"color\" item, if the \"color\" item does not exist, insert \"color\" with the value \"white\":\r\n",
        "\r\n",
        "car = {\r\n",
        "  \"brand\": \"Ford\",\r\n",
        "  \"model\": \"Mustang\",\r\n",
        "  \"year\": 1964\r\n",
        "}\r\n",
        "\r\n",
        "x = car.setdefault(\"color\", \"white\")\r\n",
        "\r\n",
        "print(x)"
      ],
      "execution_count": 51,
      "outputs": [
        {
          "output_type": "stream",
          "text": [
            "white\n"
          ],
          "name": "stdout"
        }
      ]
    },
    {
      "cell_type": "code",
      "metadata": {
        "colab": {
          "base_uri": "https://localhost:8080/"
        },
        "id": "DCuWV6nOew3z",
        "outputId": "67e56116-cbe8-4fd4-ddd2-594bf5638ca2"
      },
      "source": [
        "#values() Method\r\n",
        "#Return the values:\r\n",
        "\r\n",
        "car = {\r\n",
        "  \"brand\": \"Ford\",\r\n",
        "  \"model\": \"Mustang\",\r\n",
        "  \"year\": 1964\r\n",
        "}\r\n",
        "\r\n",
        "x = car.values()\r\n",
        "\r\n",
        "print(x)"
      ],
      "execution_count": 53,
      "outputs": [
        {
          "output_type": "stream",
          "text": [
            "dict_values(['Ford', 'Mustang', 1964])\n"
          ],
          "name": "stdout"
        }
      ]
    },
    {
      "cell_type": "code",
      "metadata": {
        "colab": {
          "base_uri": "https://localhost:8080/"
        },
        "id": "PSjbRE-qe3kw",
        "outputId": "0de1780b-0b9b-4493-87bf-15a2641a204f"
      },
      "source": [
        "#When a values is changed in the dictionary, the view object also gets updated:\r\n",
        "\r\n",
        "car = {\r\n",
        "  \"brand\": \"Ford\",\r\n",
        "  \"model\": \"Mustang\",\r\n",
        "  \"year\": 1964\r\n",
        "}\r\n",
        "\r\n",
        "x = car.values()\r\n",
        "\r\n",
        "car[\"year\"] = 2018\r\n",
        "\r\n",
        "print(x)"
      ],
      "execution_count": 54,
      "outputs": [
        {
          "output_type": "stream",
          "text": [
            "dict_values(['Ford', 'Mustang', 2018])\n"
          ],
          "name": "stdout"
        }
      ]
    }
  ]
}